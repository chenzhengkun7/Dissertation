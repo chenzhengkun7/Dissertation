{
 "cells": [
  {
   "cell_type": "markdown",
   "metadata": {},
   "source": [
    "# Machine Monitoring Approaches"
   ]
  },
  {
   "cell_type": "markdown",
   "metadata": {},
   "source": [
    "Although a significant amount of work in Industrial IoT has been applied to equipment monitoring, the bulk of the research on equipment monitoring has been performed without consideration for data transmission in a modern framework. For this reason, it is important to discuss the broad history of machine health monitoring and the methods used to perform the necessary analytics. Specifically, this review will focus on the application of machine health monitoring to vibrating systems such as rolling element bearings. Due to their ubiquity in manufacturing equipment and their importance in transmitting rotational mechanical energy, bearing analysis has been and will continue to be a significant focal point in the context of machine health monitoring research.\n"
   ]
  },
  {
   "cell_type": "markdown",
   "metadata": {},
   "source": [
    "# Time-Domain Signal Processing\n",
    "\n",
    "NOTES:\n",
    "\n",
    "- Potentially use a dataset such as NASA to demonstrate the use of these metrics for analysis\n",
    "- "
   ]
  },
  {
   "cell_type": "markdown",
   "metadata": {},
   "source": [
    "\n",
    "Historically, vibration analytics have been performed through signal processing methods~\\cite{tandon_review_1999,rai_review_2016}. Typically, a vibration measurement device such as an accelerometer or acoustic emission sensor is placed on the housing of a rotating piece of machinery for data acquisition. Analytics on the resulting signal tend to reveal possible defects and end-of-life indicators. A number of these analysis tools are performed on time-domain data.\n",
    "\n",
    "When analyzing time-series vibration data, meaningful statistical features must be chosen to properly detect damage progression. Statistical moments represent an important class of such features. The $k^{th}$ raw moment of a discretely valued sample is given by\n",
    "\n",
    "\\begin{equation}\n",
    "\\label{eq:statistical_moment}\n",
    "M^{k} = \\frac{1}{n} \\sum\\limits_{i=1}^n X_i^k,\n",
    "\\end{equation}\n",
    "\n",
    "where the first raw moment is simply the sample mean, $\\bar{X}$. Similarly, the second central moment,\n",
    "\n",
    "\\begin{equation}\n",
    "\\label{eq:variance_definition}\n",
    "\\sigma^2 = \\frac{1}{(n-1)} \\sum\\limits_{i=1}^n (X_i-\\bar{X})^2,\n",
    "\\end{equation}\n",
    "\n",
    "yields the sample variance. \n",
    "\n",
    "Increasing orders of moments are often represented in their standardized form. For instance, the third standardized moment,\n",
    "\n",
    "\\begin{equation}\n",
    "\\label{eq:skewness}\n",
    "\\mathrm{Skew} = \\frac{M^{3}}{\\sigma^3},\n",
    "\\end{equation}\n",
    "\n",
    "is known as skewness. This metric can be used to identify whether a signal favors one side of the distribution or another. Lastly, the fourth standardized moment,\n",
    "\n",
    "\\begin{equation}\n",
    "\\label{eq:kurtosis_definition}\n",
    "\\mathrm{Kurtosis} = \\frac{M^{4}}{\\sigma^4},\n",
    "\\end{equation}\n",
    "\n",
    "is called kurtosis. This measurement provides insight into the ``tailedness'' of a sample. A higher kurtosis value is indicative of a sample with a tendency towards more extreme values.\n",
    "\n",
    "Of the statistical moments, kurtosis has been shown to be a robust indicator of bearing damage, although time-to-failure cannot be discerned from this statistic \\cite{dyer_detection_1978}. Later work combined kurtosis with Root Mean Square (RMS) in a Bayesian approach to model bearing degradation~\\cite{li_improved_2015}.\n"
   ]
  },
  {
   "cell_type": "markdown",
   "metadata": {},
   "source": [
    "# Frequency-Domain Signal Processing"
   ]
  },
  {
   "cell_type": "markdown",
   "metadata": {},
   "source": [
    "\n",
    "For rotating machinery, the relative steady-state nature of vibration signals can be used to extract frequency-domain information. In many cases, specific frequencies can be associated with different failure modes or health metrics. By evaluating the relative prominence of these frequencies in a vibration signal, it is possible to determine the health status of such vibrating equipment. \n",
    "\n",
    "The Fourier transform is a vital tool in frequency-domain analysis. For a discrete-time signal, the Fourier transform can be defined by\n",
    "\n",
    "\\begin{equation}\n",
    "\\label{eq:fourier_transform}\n",
    "X(\\omega) = \\sum_{n=-\\infty}^{\\infty} x_n e^{-i \\omega n},\n",
    "\\end{equation}\n",
    "\n",
    "where $X(\\omega)$ is a function of frequency that has been extracted from the \n",
    "\n",
    "Alternatively, due to the nature of rolling element bearings, frequency-domain analysis can be used to determine their health state \\cite{randall_rolling_2011}. Depending on bearing geometry, defects tend to occur at predictable frequencies \\cite{white_glenn_introduction_1997}:\n",
    "\n",
    "\\begin{align}\n",
    "\\label{eq:bpfi}\n",
    "f_{bpi} &= n \\frac{S}{2} \\left ( 1 + \\frac{D}{d_p} \\cos{\\alpha} \\right ),\\\\\n",
    "\\label{eq:bpfo}\n",
    "f_{bpo} &= n \\frac{S}{2} \\left ( 1 - \\frac{D}{d_p} \\cos{\\alpha} \\right ),\\\\\n",
    "\\label{eq:bsf}\n",
    "f_{bs} &= \\frac{S d_p}{2D} \\left [ 1 - \\left ( \\frac{D}{d_p} \\cos{\\alpha} \\right )^2 \\right ],\\\\\n",
    "\\label{eq:ftf}\n",
    "f_{ft} &= \\frac{S}{2} \\left ( 1 - \\frac{D}{d_p} \\cos{\\alpha}\\right ),\n",
    "\\end{align}\n",
    "\n",
    "where $f_{bpi}$ is the inner race ball pass frequency, $f_{bpo}$ is the outer race ball pass frequency, $f_{bs}$ is the ball spin frequency, and $f_{ft}$ is the fundamental train frequency. The parameters in \\eqref{eq:pbfi}-\\eqref{eq:ftf} are: number of rolling elements in the bearing, $n$; fundamental rotational frequency, $S$; rolling element diameter, $D$; pitch diameter, $d_p$; and taper angle, $\\alpha$. "
   ]
  },
  {
   "cell_type": "markdown",
   "metadata": {},
   "source": [
    "# Time-Frequency Domain Methods"
   ]
  },
  {
   "cell_type": "markdown",
   "metadata": {},
   "source": []
  },
  {
   "cell_type": "markdown",
   "metadata": {},
   "source": [
    "# Control Charts"
   ]
  },
  {
   "cell_type": "code",
   "execution_count": null,
   "metadata": {},
   "outputs": [],
   "source": []
  }
 ],
 "metadata": {
  "kernelspec": {
   "display_name": "tf-gpu",
   "language": "python",
   "name": "tf-gpu"
  },
  "language_info": {
   "codemirror_mode": {
    "name": "ipython",
    "version": 3
   },
   "file_extension": ".py",
   "mimetype": "text/x-python",
   "name": "python",
   "nbconvert_exporter": "python",
   "pygments_lexer": "ipython3",
   "version": "3.6.8"
  }
 },
 "nbformat": 4,
 "nbformat_minor": 4
}
