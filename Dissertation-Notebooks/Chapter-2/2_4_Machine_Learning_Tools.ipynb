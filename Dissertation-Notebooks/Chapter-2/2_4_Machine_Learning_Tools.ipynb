{
 "cells": [
  {
   "cell_type": "markdown",
   "metadata": {},
   "source": [
    "A wide variety of statistical and machine learning methods have been employed to address the multitude of health and process monitoring applications in the modern manufacturing industry. Each approach has its merits in certain applications and it is important to understand the use cases for different types of machine learning tools. Generally speaking, these fall under one of two categories: supervised or unsupervised learning. In supervised learning, data must be __labeled__, as shown in Figure~\\ref{fig:labeled_data_example}. \n",
    "\n",
    "-- Figure of Labeled MNIST data or similar (probably low dimensional like men vs women) --\n",
    "\n",
    "In contrast, unsupervised learning attempts to extract statistical similarities from data without any __a priori__ information on the structure or nature of the outcomes.\n",
    "\n",
    "-- Figure of unlabeled version of the previous example --\n",
    "\n",
    "\n",
    "Recently, a variety of machine learning methods have been used to characterize bearing health \\cite{cerrada_review_2018}. To support this effort, it is typically necessary to perform `feature extraction' --- that is, determine the quantitative *features* from a data set which are believed to be informative towards developing the desired predictive model. For example, time-domain statistical features may be extracted to train Support Vector Machines (SVM), Artificial Neural Networks (ANN), and Self-Organizing Maps (SOM) to characterize various bearing faults \\cite{kankar_fault_2011}. Empirical mode decomposition has been used to extract features for ANNs to predict bearing failure modes \\cite{ben_ali_application_2015}. \n",
    "\n",
    "A more abstract machine learning paradigm, called deep learning, relies on complex model architectures to automatically perform feature extraction steps, thereby limiting the need for manual data modification \\cite{lecun_deep_2015}. Deep learning has revolutionized the fields of machine vision, gaming, and language processing through high-level abstraction and shows promise as a tool for health monitoring applications in the future \\cite{zhao_deep_2019}. In an IoT architecture, deep learning in the cloud may induce excessive latency due to bandwidth and storage constraints. For this reason, edge computing has been suggested as a means of streamlining data flow and protecting user privacy \\cite{li_learning_2018}. Additionally, deep learning models are `black boxes' in the sense that their predictions are often difficult or impossible to delineate from a human perspective. This lack of transparency can be problematic when attempting to make predictions in fields where human safety is at stake \\cite{samek_explainable_2017}. "
   ]
  },
  {
   "cell_type": "markdown",
   "metadata": {},
   "source": [
    "\n"
   ]
  },
  {
   "cell_type": "markdown",
   "metadata": {},
   "source": [
    "# Classification"
   ]
  },
  {
   "cell_type": "code",
   "execution_count": null,
   "metadata": {},
   "outputs": [],
   "source": []
  },
  {
   "cell_type": "markdown",
   "metadata": {},
   "source": [
    "# Dimensionality Reduction and Latent Representation"
   ]
  },
  {
   "cell_type": "code",
   "execution_count": null,
   "metadata": {},
   "outputs": [],
   "source": []
  },
  {
   "cell_type": "markdown",
   "metadata": {},
   "source": [
    "# Clustering"
   ]
  },
  {
   "cell_type": "markdown",
   "metadata": {},
   "source": [
    "# Modern Bayesian Methods"
   ]
  },
  {
   "cell_type": "markdown",
   "metadata": {},
   "source": []
  }
 ],
 "metadata": {
  "kernelspec": {
   "display_name": "tf-gpu",
   "language": "python",
   "name": "tf-gpu"
  },
  "language_info": {
   "codemirror_mode": {
    "name": "ipython",
    "version": 3
   },
   "file_extension": ".py",
   "mimetype": "text/x-python",
   "name": "python",
   "nbconvert_exporter": "python",
   "pygments_lexer": "ipython3",
   "version": "3.6.8"
  }
 },
 "nbformat": 4,
 "nbformat_minor": 4
}
