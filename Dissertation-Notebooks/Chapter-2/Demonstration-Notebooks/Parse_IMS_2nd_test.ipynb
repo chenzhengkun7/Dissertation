{
 "cells": [
  {
   "cell_type": "code",
   "execution_count": 1,
   "metadata": {},
   "outputs": [],
   "source": [
    "# import libraries\n",
    "import os\n",
    "import pandas as pd\n",
    "import numpy as np\n",
    "np.set_printoptions(threshold=np.inf)\n",
    "\n",
    "import glob\n",
    "from datetime import datetime\n",
    "\n",
    "\n",
    "import seaborn as sns\n",
    "\n",
    "from matplotlib import pyplot as plt\n",
    "%matplotlib inline\n",
    "\n",
    "# from crawlab_toolbox.freq_tools import welch_stat\n",
    "from scipy.signal import welch\n",
    "from scipy.stats import describe\n",
    "\n",
    "from DBInserter import DBInserter\n",
    "\n",
    "\n",
    "plt.rcParams['figure.figsize'] = (15, 4)\n"
   ]
  },
  {
   "cell_type": "code",
   "execution_count": 2,
   "metadata": {},
   "outputs": [],
   "source": [
    "assetId = ['IMS2_Bearing1','IMS2_Bearing2','IMS2_Bearing3','IMS2_Bearing4']\n",
    "sensorId = ['sensor1','sensor1','sensor1','sensor1']"
   ]
  },
  {
   "cell_type": "markdown",
   "metadata": {},
   "source": [
    "Set No. 2:\n",
    "Recording Duration: February 12, 2004 10:32:39 to February 19, 2004 06:22:39\n",
    "\n",
    "No. of Files:984\n",
    "\n",
    "No. of Channels: 4\n",
    "\n",
    "Channel Arrangement: \n",
    "\n",
    "Bearing 1 –Ch 1; \n",
    "Bearing2 –Ch 2; \n",
    "Bearing3 –Ch3; \n",
    "Bearing 4 –Ch 4.\n",
    "\n",
    "File Recording Interval: Every 10 minutes\n",
    "File Format: ASCII\n",
    "Description: At  the  end  of  the  test-to-failure  experiment,  outer  race  failure  occurred  in bearing 1.\n",
    "\n",
    "AssetId = Bearing1-Set1\n",
    "SensorId = Channel1"
   ]
  },
  {
   "cell_type": "code",
   "execution_count": 3,
   "metadata": {},
   "outputs": [],
   "source": [
    "# load, average and merge sensor samples\n",
    "data_dir = '../../../../Data/Bearings/IMS/2nd_test/'\n"
   ]
  },
  {
   "cell_type": "code",
   "execution_count": 4,
   "metadata": {},
   "outputs": [
    {
     "ename": "FileNotFoundError",
     "evalue": "[Errno 2] No such file or directory: '../../../../Data/Bearings/IMS/2nd_test/'",
     "output_type": "error",
     "traceback": [
      "\u001b[0;31m---------------------------------------------------------------------------\u001b[0m",
      "\u001b[0;31mFileNotFoundError\u001b[0m                         Traceback (most recent call last)",
      "\u001b[0;32m<ipython-input-4-7a12ef70dd15>\u001b[0m in \u001b[0;36m<module>\u001b[0;34m\u001b[0m\n\u001b[0;32m----> 1\u001b[0;31m \u001b[0mfileNames\u001b[0m \u001b[0;34m=\u001b[0m \u001b[0mos\u001b[0m\u001b[0;34m.\u001b[0m\u001b[0mlistdir\u001b[0m\u001b[0;34m(\u001b[0m\u001b[0mdata_dir\u001b[0m\u001b[0;34m)\u001b[0m\u001b[0;34m\u001b[0m\u001b[0;34m\u001b[0m\u001b[0m\n\u001b[0m\u001b[1;32m      2\u001b[0m \u001b[0mfiles\u001b[0m \u001b[0;34m=\u001b[0m \u001b[0;34m[\u001b[0m\u001b[0mf\u001b[0m \u001b[0;32mfor\u001b[0m \u001b[0mf\u001b[0m \u001b[0;32min\u001b[0m \u001b[0mglob\u001b[0m\u001b[0;34m.\u001b[0m\u001b[0mglob\u001b[0m\u001b[0;34m(\u001b[0m\u001b[0mdata_dir\u001b[0m \u001b[0;34m+\u001b[0m \u001b[0;34m'/2004*'\u001b[0m\u001b[0;34m,\u001b[0m \u001b[0mrecursive\u001b[0m\u001b[0;34m=\u001b[0m\u001b[0;32mTrue\u001b[0m\u001b[0;34m)\u001b[0m\u001b[0;34m]\u001b[0m\u001b[0;34m\u001b[0m\u001b[0;34m\u001b[0m\u001b[0m\n\u001b[1;32m      3\u001b[0m \u001b[0;34m\u001b[0m\u001b[0m\n\u001b[1;32m      4\u001b[0m \u001b[0;34m\u001b[0m\u001b[0m\n\u001b[1;32m      5\u001b[0m \u001b[0msamplingRate\u001b[0m \u001b[0;34m=\u001b[0m \u001b[0mint\u001b[0m\u001b[0;34m(\u001b[0m\u001b[0;36m20e3\u001b[0m\u001b[0;34m)\u001b[0m\u001b[0;34m\u001b[0m\u001b[0;34m\u001b[0m\u001b[0m\n",
      "\u001b[0;31mFileNotFoundError\u001b[0m: [Errno 2] No such file or directory: '../../../../Data/Bearings/IMS/2nd_test/'"
     ]
    }
   ],
   "source": [
    "fileNames = os.listdir(data_dir)\n",
    "files = [f for f in glob.glob(data_dir + '/2004*', recursive=True)]\n",
    "\n",
    "\n",
    "samplingRate = int(20e3)\n",
    "fftPoints = 8192\n"
   ]
  },
  {
   "cell_type": "code",
   "execution_count": 49,
   "metadata": {},
   "outputs": [],
   "source": [
    "def parse_file(filename,inserter):\n",
    "\n",
    "    dataset = pd.read_csv(filename, sep='\\t')\n",
    "    \n",
    "    data = dataset.values\n",
    "    \n",
    "    datetime_object = datetime.strptime(filename.split('/')[-1], '%Y.%m.%d.%H.%M.%S')\n",
    "    datetime_string = datetime_object.strftime('%Y-%m-%d %H:%M:%S.%f')\n",
    " \n",
    "    freqs,amps = welch(dataset.values.T,fs=samplingRate,nperseg=fftPoints,average='mean')\n",
    "    \n",
    "    this_rms = np.sqrt(1 / np.array(data).shape[0] * np.sum(np.array(data)**2,axis=0))\n",
    "    \n",
    "    _,minmax,mean,variance,skewness,kurtosis = describe(data)\n",
    "\n",
    "    NyquistFrequency = 0.5 * samplingRate\n",
    "\n",
    "    frequencyInterval = freqs[1] - freqs[0]\n",
    "\n",
    "    sampleRMS = np.sqrt(1 / data.shape[0] * np.sum(data**2,axis=0))\n",
    "    \n",
    "    for i in range(len(assetId)):\n",
    "        inserter.insert_value('RMS',\n",
    "                              datetime_string,\n",
    "                              assetId[i],\n",
    "                              sensorId[i],\n",
    "                              np.round(sampleRMS[i],5))\n",
    "        inserter.insert_value('VibrationMean',\n",
    "                              datetime_string,\n",
    "                              assetId[i],\n",
    "                              sensorId[i],\n",
    "                              np.round(mean[i],5))\n",
    "        inserter.insert_value('VibrationKurtosis',\n",
    "                              datetime_string,\n",
    "                              assetId[i],\n",
    "                              sensorId[i],\n",
    "                              np.round(kurtosis[i],5))\n",
    "        inserter.insert_value('VibrationSkewness',\n",
    "                              datetime_string,\n",
    "                              assetId[i],\n",
    "                              sensorId[i],\n",
    "                              np.round(skewness[i],5))\n",
    "        inserter.insert_value('VibrationVariance',\n",
    "                              datetime_string,\n",
    "                              assetId[i],\n",
    "                              sensorId[i],\n",
    "                              np.round(variance[i],5))\n",
    "\n",
    "        inserter.insert_fft(datetime_string,\n",
    "                              assetId[i],\n",
    "                              sensorId[i],\n",
    "                              np.array2string(amps[i,:].flatten(),precision=5,separator=','),\n",
    "                              frequencyInterval)\n",
    "#         inserter.insert_fft_std(datetime_string,\n",
    "#                                 assetId[i],\n",
    "#                                 sensorId[i],\n",
    "#                                 np.array2string(stdevs[i,:].flatten(),precision=5,separator=','),\n",
    "#                                 frequencyInterval)\n",
    "        \n",
    "    \n",
    "    return freqs, amps\n",
    "\n"
   ]
  },
  {
   "cell_type": "code",
   "execution_count": 50,
   "metadata": {},
   "outputs": [],
   "source": [
    "inserter = DBInserter('dbt1')\n",
    "for j in range(len(files)):\n",
    "    parse_file(files[j],inserter)"
   ]
  },
  {
   "cell_type": "code",
   "execution_count": 45,
   "metadata": {},
   "outputs": [],
   "source": [
    "dataset = pd.read_csv(files[0], sep='\\t')\n",
    "data = dataset.values\n",
    "freqs,amps = welch(dataset.values.T,fs=samplingRate,nperseg=fftPoints,average='mean')\n",
    "# amps.shape[2]"
   ]
  },
  {
   "cell_type": "code",
   "execution_count": 46,
   "metadata": {},
   "outputs": [
    {
     "data": {
      "text/plain": [
       "(4, 4097)"
      ]
     },
     "execution_count": 46,
     "metadata": {},
     "output_type": "execute_result"
    }
   ],
   "source": [
    "amps.shape"
   ]
  },
  {
   "cell_type": "code",
   "execution_count": 38,
   "metadata": {},
   "outputs": [
    {
     "name": "stdout",
     "output_type": "stream",
     "text": [
      "(4, 4097)\n"
     ]
    },
    {
     "data": {
      "image/png": "[encoded data removed]",
      "text/plain": [
       "<Figure size 1080x288 with 1 Axes>"
      ]
     },
     "metadata": {
      "needs_background": "light"
     },
     "output_type": "display_data"
    }
   ],
   "source": [
    "print(amps.shape)\n",
    "# print(stdevs.shape)\n",
    "# plt.plot(stdevs.T)\n",
    "# plt.show()\n",
    "\n",
    "plt.plot(freqs,amps.T)\n",
    "plt.show()"
   ]
  },
  {
   "cell_type": "code",
   "execution_count": null,
   "metadata": {},
   "outputs": [],
   "source": [
    "\n",
    "this_rms = np.sqrt(1 / np.array(dataset).shape[0] * np.sum(np.array(dataset)**2,axis=0))\n",
    "\n",
    "_,minmax,mean,variance,skewness,kurtosis = describe(data)\n",
    "\n",
    "NyquistFrequency = 0.5 / samplingInterval\n",
    "\n",
    "freqs,amps = signal.welch(data, fs=1 / samplingInterval, nperseg=fftPoints)\n",
    "\n",
    "frequencyInterval = freqs[1] - freqs[0]\n",
    "\n",
    "sampleRMS = np.sqrt(1 / data.shape[0] * np.sum(data**2))"
   ]
  }
 ],
 "metadata": {
  "kernelspec": {
   "display_name": "Python 3",
   "language": "python",
   "name": "python3"
  },
  "language_info": {
   "codemirror_mode": {
    "name": "ipython",
    "version": 3
   },
   "file_extension": ".py",
   "mimetype": "text/x-python",
   "name": "python",
   "nbconvert_exporter": "python",
   "pygments_lexer": "ipython3",
   "version": "3.7.4"
  }
 },
 "nbformat": 4,
 "nbformat_minor": 4
}
