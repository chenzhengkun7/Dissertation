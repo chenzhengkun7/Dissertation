{
 "cells": [
  {
   "cell_type": "code",
   "execution_count": 16,
   "metadata": {},
   "outputs": [],
   "source": [
    "import numpy as np\n",
    "from scipy import signal\n",
    "from scipy import fftpack\n",
    "from matplotlib import pyplot as plt\n",
    "from crawlab_toolbox import plotting\n",
    "import pandas as pd\n",
    "import os"
   ]
  },
  {
   "cell_type": "code",
   "execution_count": 23,
   "metadata": {},
   "outputs": [],
   "source": [
    "sklearn = pd.read_csv('Scikit_learn_citations.csv')\n",
    "tensorflow = pd.read_csv('Tensorflow_citations.csv')"
   ]
  },
  {
   "cell_type": "code",
   "execution_count": 21,
   "metadata": {},
   "outputs": [],
   "source": [
    "def bar_plot(X,Y,xlabel,ylabel,\n",
    "                ymax = 0.1, \n",
    "                ymin = 0.1,\n",
    "                tick_increment = None,\n",
    "                showplot = False,\n",
    "                save_plot = False,\n",
    "                transparent = False,\n",
    "                grid = False, \n",
    "                folder = None,\n",
    "                filename = 'Plot',\n",
    "                num_col = 2,\n",
    "                legend_loc = 'upper right',\n",
    "                experimental_args = None,\n",
    "                xlabelpad = 5,       \n",
    "                hide_origin = False,  \n",
    "                for_notebook=False,\n",
    "                template='publication',\n",
    "                file_type='pdf'):\n",
    "    \n",
    "    if template.lower() == 'large':\n",
    "        plt.figure(figsize=(10,6.67))\n",
    "    elif template.lower() == 'wide':\n",
    "        plt.figure(figsize=(12,4))\n",
    "    else:\n",
    "        plt.figure()\n",
    "\n",
    "    # Customize the axes\n",
    "    ax = plt.gca()\n",
    "    \n",
    "    plt.bar([str(value) for value in X],Y)\n",
    "    \n",
    "    ax.spines['right'].set_color('none')\n",
    "    ax.spines['top'].set_color('none')\n",
    "    ax.xaxis.set_ticks_position('bottom')\n",
    "    ax.yaxis.set_ticks_position('left')\n",
    "    \n",
    "    # Show the grid, if desired\n",
    "    ax.grid(grid)\n",
    "    ax.set_axisbelow(True)\n",
    "\n",
    "    # Create the axis labels\n",
    "    plt.xlabel(r'\\textbf{' + xlabel + '}', labelpad=xlabelpad)\n",
    "    plt.ylabel(r'\\textbf{' + ylabel + '}', labelpad=5)\n",
    "\n",
    "    # Adjust the page layout filling the page using the new tight_layout command\n",
    "    plt.tight_layout(pad=1.2) \n",
    "\n",
    "    if save_plot:\n",
    "        if folder is not None:\n",
    "            # Ensure that the folder we want to save to exists\n",
    "            if not os.path.exists(folder):\n",
    "                os.makedirs(folder)\n",
    "\n",
    "            filename = folder + '/' + filename\n",
    "\n",
    "        # Save the pdf of the plot    \n",
    "        if file_type == 'png':\n",
    "            plt.savefig('{}.png'\\\n",
    "                    .format(filename),transparent=transparent)             \n",
    "        elif file_type == 'pdf':\n",
    "            plt.savefig('{}.pdf'\\\n",
    "                    .format(filename))    \n",
    "        elif file_type == 'svg':\n",
    "            plt.savefig('{}.svg'\\\n",
    "                    .format(filename)) \n",
    "\n",
    "    if showplot:\n",
    "        plt.show()\n",
    "\n",
    "    # Clear the axes and figure\n",
    "    plt.clf()\n",
    "    plt.cla()\n",
    "    plt.close()\n"
   ]
  },
  {
   "cell_type": "code",
   "execution_count": 24,
   "metadata": {},
   "outputs": [
    {
     "data": {
      "image/png": "[encoded data removed]",
      "text/plain": [
       "<Figure size 864x288 with 1 Axes>"
      ]
     },
     "metadata": {
      "needs_background": "light"
     },
     "output_type": "display_data"
    },
    {
     "data": {
      "image/png": "[encoded data removed]",
      "text/plain": [
       "<Figure size 864x288 with 1 Axes>"
      ]
     },
     "metadata": {
      "needs_background": "light"
     },
     "output_type": "display_data"
    }
   ],
   "source": [
    "bar_plot(sklearn.Year.values,\n",
    "         sklearn.Citations.values,\n",
    "         'Year','Citations',\n",
    "         showplot=True,\n",
    "         save_plot=True,\n",
    "         folder='figures',\n",
    "         filename='ScikitLearnCitations',\n",
    "         template='wide',\n",
    "         file_type='png',\n",
    "         transparent=True)\n",
    "\n",
    "bar_plot(tensorflow.Year.values,\n",
    "         tensorflow.Citations.values,\n",
    "         'Year','Citations',\n",
    "         showplot=True,\n",
    "         save_plot=True,\n",
    "         folder='figures',\n",
    "         filename='TensorflowCitations',\n",
    "         template='wide',\n",
    "         file_type='png',\n",
    "         transparent=True)"
   ]
  },
  {
   "cell_type": "code",
   "execution_count": 17,
   "metadata": {},
   "outputs": [
    {
     "data": {
      "image/png": "[encoded data removed]",
      "text/plain": [
       "<Figure size 864x288 with 1 Axes>"
      ]
     },
     "metadata": {
      "needs_background": "light"
     },
     "output_type": "display_data"
    }
   ],
   "source": [
    "xlabel = 'Year'\n",
    "ylabel = 'Citations'\n",
    "xlabelpad = 5\n",
    "\n",
    "if not os.path.exists('figures'):\n",
    "    os.makedirs('figures')\n",
    "\n",
    "plt.figure(figsize=(12,4))\n",
    "ax = plt.gca()\n",
    "plt.bar([str(value) for value in sklearn.Year.values],sklearn.Citations.values)\n",
    "\n",
    "\n",
    "ax.spines['right'].set_color('none')\n",
    "ax.spines['top'].set_color('none')\n",
    "ax.xaxis.set_ticks_position('bottom')\n",
    "ax.yaxis.set_ticks_position('left')\n",
    "\n",
    "# Create the axis labels\n",
    "plt.xlabel(r'\\textbf{' + xlabel + '}', labelpad=xlabelpad)\n",
    "plt.ylabel(r'\\textbf{' + ylabel + '}', labelpad=5)\n",
    "\n",
    "# Adjust the page layout filling the page using the new tight_layout command\n",
    "plt.tight_layout(pad=1.2) \n",
    "\n",
    "plt.savefig('figures/ScikitLearnCitations.png',transparent=True)\n",
    "\n",
    "plt.show()"
   ]
  },
  {
   "cell_type": "code",
   "execution_count": null,
   "metadata": {},
   "outputs": [],
   "source": [
    "sklearn = pd.read_csv('Scikit_learn_citations.csv')"
   ]
  }
 ],
 "metadata": {
  "kernelspec": {
   "display_name": "Python 3",
   "language": "python",
   "name": "python3"
  },
  "language_info": {
   "codemirror_mode": {
    "name": "ipython",
    "version": 3
   },
   "file_extension": ".py",
   "mimetype": "text/x-python",
   "name": "python",
   "nbconvert_exporter": "python",
   "pygments_lexer": "ipython3",
   "version": "3.6.9"
  }
 },
 "nbformat": 4,
 "nbformat_minor": 4
}
