{
 "cells": [
  {
   "cell_type": "code",
   "execution_count": 146,
   "metadata": {},
   "outputs": [],
   "source": [
    "\n",
    "import os\n",
    "import pandas as pd\n",
    "from sklearn.model_selection import train_test_split\n",
    "from sklearn.decomposition import PCA\n",
    "from sklearn.decomposition import KernelPCA\n",
    "import numpy as np\n",
    "\n",
    "from matplotlib import pyplot as plt\n",
    "from crawlab_toolbox import plotting as genplt\n",
    "from sklearn.pipeline import Pipeline\n",
    "\n",
    "import tensorflow.keras as keras\n",
    "import tensorflow as tf\n",
    "\n",
    "from sklearn.mixture import GaussianMixture\n",
    "\n",
    "from sklearn.preprocessing import OrdinalEncoder\n",
    "from sklearn.neural_network import MLPClassifier\n",
    "from sklearn.svm import OneClassSVM\n",
    "from sklearn.naive_bayes import GaussianNB\n",
    "from sklearn.metrics import confusion_matrix\n",
    "\n",
    "from scipy.stats import probplot\n",
    "from scipy.stats import normaltest\n",
    "\n",
    "\n",
    "from joblib import dump, load\n",
    "\n",
    "from ML_Train.Vanilla_AE import create_vanilla_ae\n",
    "from ML_Train.Variational_AE import create_autoencoder as create_conv_vae\n",
    "from ML_Train.Convolutional_AE import create_autoencoder as create_conv_ae\n",
    "from ML_Train.Variational_Vanilla_AE import create_autoencoder as create_vanilla_vae\n",
    "from ML_Train.CNN_Classifier import create_autoencoder as create_hybrid_cnn_ae\n",
    "from ML_Train.CNN_Classifier import  build_classifier_from_vae, create_vae, create_classifier\n",
    "# mse = keras.metrics.mean_squared_error(all_outputs,input_data)"
   ]
  },
  {
   "cell_type": "code",
   "execution_count": 147,
   "metadata": {},
   "outputs": [],
   "source": [
    "keras.backend.clear_session()\n",
    "gpus= tf.config.experimental.list_physical_devices('GPU')\n",
    "tf.config.experimental.set_memory_growth(gpus[0], True)\n"
   ]
  },
  {
   "cell_type": "code",
   "execution_count": 179,
   "metadata": {},
   "outputs": [],
   "source": [
    "train_featuresDF = pd.read_csv('data/featuresDF_train.csv')\n",
    "train_stats = pd.read_csv('data/stats_train.csv')\n",
    "train_vibState = pd.read_csv('data/vibState_train.csv')\n",
    "\n",
    "valid_featuresDF = pd.read_csv('data/featuresDF_valid.csv')\n",
    "valid_stats = pd.read_csv('data/stats_valid.csv')\n",
    "valid_vibState = pd.read_csv('data/vibState_valid.csv')\n"
   ]
  },
  {
   "cell_type": "code",
   "execution_count": 186,
   "metadata": {},
   "outputs": [],
   "source": [
    "enc = OrdinalEncoder()\n",
    "X_train = train_featuresDF.values[:,1:1025].astype(np.float32)\n",
    "Y_train = enc.fit_transform(train_vibState.values[:,1][...,np.newaxis])\n",
    "\n",
    "X_valid = valid_featuresDF.values[:,1:1025].astype(np.float32)\n",
    "Y_valid = enc.transform(valid_vibState.values[:,1][...,np.newaxis])\n",
    "\n",
    "X_train_healthy = X_train[np.argwhere(Y_train.flatten()==0).flatten(),:]\n",
    "Y_train_healthy = Y_train[np.argwhere(Y_train.flatten()==0).flatten()]\n",
    "X_train_unhealthy = X_train[np.argwhere(Y_train.flatten()==1).flatten(),:]\n",
    "Y_train_unhealthy = Y_train[np.argwhere(Y_train.flatten()==1).flatten()]\n",
    "\n",
    "X_valid_healthy = X_valid[np.argwhere(Y_valid.flatten()==0).flatten(),:]\n",
    "Y_valid_healthy = Y_valid[np.argwhere(Y_valid.flatten()==0).flatten()]\n",
    "X_valid_unhealthy = X_valid[np.argwhere(Y_valid.flatten()==1).flatten(),:]\n",
    "Y_valid_unhealthy = Y_valid[np.argwhere(Y_valid.flatten()==1).flatten()]\n",
    "\n",
    "XY_train_healthy = np.hstack((X_train_healthy,Y_train_healthy))\n",
    "XY_valid_healthy = np.hstack((X_valid_healthy,Y_valid_healthy))\n",
    "XY_train_unhealthy = np.hstack((X_train_unhealthy,Y_train_unhealthy))\n",
    "XY_valid_unhealthy = np.hstack((X_valid_unhealthy,Y_valid_unhealthy))\n",
    "\n",
    "XY_train = np.vstack((XY_train_healthy,XY_train_unhealthy))\n",
    "XY_valid = np.vstack((XY_valid_healthy,XY_valid_unhealthy))\n",
    "\n",
    "np.random.shuffle(XY_train)\n",
    "np.random.shuffle(XY_valid)\n",
    "\n",
    "X_train = XY_train[:,:-1]\n",
    "Y_train = XY_train[:,-1]\n",
    "\n",
    "X_valid = XY_valid[:,:-1]\n",
    "Y_valid = XY_valid[:,-1]\n",
    "\n",
    "num_samples = np.array([X_train.shape[0],\n",
    "          X_valid.shape[0]])\n",
    "\n",
    "max_samples = np.amax(num_samples)"
   ]
  },
  {
   "cell_type": "code",
   "execution_count": 206,
   "metadata": {},
   "outputs": [
    {
     "data": {
      "text/plain": [
       "array([['Healthy']], dtype=object)"
      ]
     },
     "execution_count": 206,
     "metadata": {},
     "output_type": "execute_result"
    }
   ],
   "source": [
    "enc.inverse_transform(np.array([[0]]))"
   ]
  },
  {
   "cell_type": "code",
   "execution_count": 205,
   "metadata": {},
   "outputs": [
    {
     "name": "stdout",
     "output_type": "stream",
     "text": [
      "[[269 431]\n",
      " [ 84 616]]\n",
      "0.6321428571428571\n",
      "[[627  73]\n",
      " [ 12 688]]\n",
      "0.9392857142857143\n"
     ]
    },
    {
     "data": {
      "text/plain": [
       "['data/pca_gnb.joblib']"
      ]
     },
     "execution_count": 205,
     "metadata": {},
     "output_type": "execute_result"
    }
   ],
   "source": [
    "estimators = [('reduce_dim', PCA(n_components=32)), ('gnb', GaussianNB())]\n",
    "# estimators = [('reduce_dim', KernelPCA(n_components=32,kernel='rbf')), ('gmm', GaussianMixture())]\n",
    "\n",
    "pipe = Pipeline(estimators)\n",
    "pipe.fit(X_train,Y_train)\n",
    "\n",
    "Y_valid_pred = pipe.predict(X_valid)\n",
    "conf_matrix_valid = confusion_matrix(Y_valid, Y_valid_pred)\n",
    "accuracy_valid = np.sum(np.diagonal(conf_matrix_valid)) / np.sum(conf_matrix_valid)\n",
    "print(conf_matrix_valid)\n",
    "print(accuracy_valid)\n",
    "\n",
    "Y_train_pred = pipe.predict(X_train)\n",
    "conf_matrix_train = confusion_matrix(Y_train, Y_train_pred)\n",
    "accuracy_train = np.sum(np.diagonal(conf_matrix_train)) / np.sum(conf_matrix_train)\n",
    "print(conf_matrix_train)\n",
    "print(accuracy_train)\n",
    "\n",
    "dump(pipe, 'data/pca_gnb.joblib') "
   ]
  },
  {
   "cell_type": "code",
   "execution_count": 208,
   "metadata": {},
   "outputs": [
    {
     "data": {
      "text/plain": [
       "0.0"
      ]
     },
     "execution_count": 208,
     "metadata": {},
     "output_type": "execute_result"
    }
   ],
   "source": [
    "Y_valid[0]"
   ]
  },
  {
   "cell_type": "code",
   "execution_count": 191,
   "metadata": {},
   "outputs": [
    {
     "data": {
      "text/plain": [
       "0.026603911413457394"
      ]
     },
     "execution_count": 191,
     "metadata": {},
     "output_type": "execute_result"
    }
   ],
   "source": [
    "pipe.predict_proba(X_valid[0,:][np.newaxis,...]).flatten()[0]"
   ]
  },
  {
   "cell_type": "code",
   "execution_count": 192,
   "metadata": {},
   "outputs": [],
   "source": [
    "def normalize_scores(scores,log_prob=False):\n",
    "    \n",
    "    if log_prob:\n",
    "        scores = np.log(np.abs(scores - 1.1 * np.amax(scores)))\n",
    "    \n",
    "    norm_mean = np.mean(scores[:,0])\n",
    "    norm_std = np.std(scores[:,0])\n",
    "    \n",
    "    scores = (scores - norm_mean) / norm_std\n",
    "    \n",
    "    [print(normaltest(scores[:,i])) for i in range(scores.shape[1])]\n",
    "    [print(np.std(scores[:,i]), np.mean(scores[:,i])) for i in range(scores.shape[1])]\n",
    "    \n",
    "    return scores"
   ]
  },
  {
   "cell_type": "code",
   "execution_count": 193,
   "metadata": {},
   "outputs": [],
   "source": [
    "import numpy as np\n",
    "import tensorflow as tf\n",
    "\n",
    "from tensorflow.keras import backend as K\n",
    "import tensorflow.keras as keras\n",
    "from tensorflow.keras.layers import Dense, Conv1D, UpSampling1D, MaxPooling1D, AveragePooling1D\n",
    "from tensorflow.keras.layers import Input, Dense, Reshape, Flatten, Dropout, concatenate\n",
    "from tensorflow.keras.layers import BatchNormalization\n",
    "from tensorflow.keras.models import Sequential, Model\n",
    "\n",
    "from ML_Train.Custom_Layers import Dropout_Live, Sampling\n",
    "\n",
    "def build_classifier(\n",
    "                   filters, \n",
    "                   kernels, \n",
    "                   strides,\n",
    "                   dilation_rates,\n",
    "                   input_shape,\n",
    "                   dense_nodes,\n",
    "                   classes,\n",
    "                   ):\n",
    "    inputs = Input(shape=input_shape)\n",
    "    x = inputs\n",
    "    \n",
    "    for i in range(len(filters)):\n",
    "        x = Conv1D(filters=filters[i], \n",
    "                           kernel_size=kernels[i], \n",
    "                           strides=strides[i], \n",
    "                           activation='relu', \n",
    "                           padding='same',\n",
    "                           dilation_rate=dilation_rates[i])(x)\n",
    "        x = BatchNormalization()(x)\n",
    "        x = Dropout(0.5)(x)\n",
    "        x = MaxPooling1D(2)(x)\n",
    "    \n",
    "    x = Flatten()(x)\n",
    "    \n",
    "    for i in range(len(dense_nodes)):\n",
    "        x = Dense(dense_nodes[i],activation='relu')(x)\n",
    "        \n",
    "    x = Dense(classes,activation='softmax')(x)\n",
    "    \n",
    "    cnn_classifier = Model(\n",
    "                            inputs=[inputs],\n",
    "                            outputs=[x])\n",
    "    \n",
    "    return cnn_classifier\n",
    "\n",
    "def create_classifier(param_dict):\n",
    "    filters = param_dict[\"filters\"]\n",
    "    kernels = param_dict[\"kernels\"]\n",
    "    strides = param_dict[\"strides\"]\n",
    "    dilation_rates = param_dict[\"dilation_rates\"]\n",
    "    input_shape = tuple(param_dict[\"input_shape\"])\n",
    "    dense_nodes = param_dict[\"dense_nodes\"]\n",
    "    classes = param_dict[\"classes\"]\n",
    "    \n",
    "    classifier = build_classifier(filters,kernels,strides,dilation_rates,input_shape,dense_nodes,classes)\n",
    " \n",
    "    return classifier\n",
    "        "
   ]
  },
  {
   "cell_type": "code",
   "execution_count": 194,
   "metadata": {},
   "outputs": [
    {
     "data": {
      "text/plain": [
       "(1400, 1024, 1)"
      ]
     },
     "execution_count": 194,
     "metadata": {},
     "output_type": "execute_result"
    }
   ],
   "source": [
    "X_train[...,np.newaxis].shape"
   ]
  },
  {
   "cell_type": "code",
   "execution_count": 195,
   "metadata": {},
   "outputs": [
    {
     "name": "stdout",
     "output_type": "stream",
     "text": [
      "(1400, 1)\n",
      "(1400, 1)\n"
     ]
    }
   ],
   "source": [
    "print(Y_train[...,np.newaxis].shape)\n",
    "print(Y_valid[...,np.newaxis].shape)"
   ]
  },
  {
   "cell_type": "code",
   "execution_count": null,
   "metadata": {},
   "outputs": [],
   "source": []
  },
  {
   "cell_type": "code",
   "execution_count": 218,
   "metadata": {},
   "outputs": [
    {
     "name": "stdout",
     "output_type": "stream",
     "text": [
      "Train on 1120 samples, validate on 280 samples\n",
      "Epoch 1/5\n",
      "1120/1120 [==============================] - 1s 1ms/sample - loss: 0.3610 - accuracy: 0.9018 - val_loss: 0.9787 - val_accuracy: 0.5536\n",
      "Epoch 2/5\n",
      "1120/1120 [==============================] - 1s 446us/sample - loss: 0.0195 - accuracy: 0.9955 - val_loss: 0.8470 - val_accuracy: 0.5821\n",
      "Epoch 3/5\n",
      "1120/1120 [==============================] - 0s 443us/sample - loss: 0.0970 - accuracy: 0.9768 - val_loss: 0.6973 - val_accuracy: 0.7107\n",
      "Epoch 4/5\n",
      "1120/1120 [==============================] - 0s 440us/sample - loss: 0.0284 - accuracy: 0.9893 - val_loss: 0.1400 - val_accuracy: 0.9500\n",
      "Epoch 5/5\n",
      "1120/1120 [==============================] - 0s 433us/sample - loss: 0.0113 - accuracy: 0.9964 - val_loss: 0.0455 - val_accuracy: 0.9857\n"
     ]
    }
   ],
   "source": [
    "if os.path.isfile('data/CNN-MLP.h5'):\n",
    "    from tensorflow.keras.models import load_model\n",
    "    model = load_model('data/CNN-MLP.h5')\n",
    "    print(model.summary())\n",
    "else:\n",
    "\n",
    "    filters=[16,32]\n",
    "    kernels = [3,5]\n",
    "    strides=[1,1,1,1,1]\n",
    "    dilation_rates=[1,1,1,1,1]\n",
    "    input_shape = [1024,1]\n",
    "    dense_nodes = [512,64]\n",
    "    codings_size = 2\n",
    "\n",
    "    param_dict = {\n",
    "        \"filters\":filters,\n",
    "        \"kernels\":kernels,\n",
    "        \"strides\":strides,\n",
    "        \"dilation_rates\":dilation_rates,\n",
    "        \"input_shape\":input_shape,\n",
    "        \"dense_nodes\":dense_nodes,\n",
    "        \"classes\":2\n",
    "    }\n",
    "    # model,encoder,decoder = create_vae(param_dict)\n",
    "    # model = create_classifier(param_dict)\n",
    "    num_classes = 2\n",
    "    model = create_classifier(param_dict)\n",
    "    model.compile(loss='categorical_crossentropy', \n",
    "              optimizer='adam',metrics=['accuracy'])\n",
    "    loss = model.fit(\n",
    "                X_train[...,np.newaxis],np.hstack((Y_train[...,np.newaxis],np.abs(Y_train[...,np.newaxis] - 1))),\n",
    "                validation_split=0.2,\n",
    "    #             validation_data=(X_valid[...,np.newaxis],np.hstack((Y_valid[...,np.newaxis],np.abs(Y_valid[...,np.newaxis] - 1)))),\n",
    "                epochs=5,\n",
    "                batch_size=8,\n",
    "                verbose=1)\n",
    "    \n",
    "    model.save('data/CNN-MLP.h5',save_format='tf')\n",
    "\n",
    "converter = tf.lite.TFLiteConverter.from_keras_model(model)\n",
    "tflite_model = converter.convert()\n",
    "\n",
    "open(os.path.join('data', 'CNN-MLP.tflite',),\n",
    "     \"wb\").write(tflite_model)\n",
    "\n",
    "Y_cnn_valid_pred = model.predict(X_valid[...,np.newaxis])\n",
    "Y_cnn_train_pred = model.predict(X_train[...,np.newaxis])\n",
    "\n",
    "Y_cnn_train_pred = np.argmin(Y_cnn_train_pred,axis=1)\n",
    "Y_cnn_valid_pred = np.argmin(Y_cnn_valid_pred,axis=1)"
   ]
  },
  {
   "cell_type": "code",
   "execution_count": 219,
   "metadata": {},
   "outputs": [
    {
     "name": "stdout",
     "output_type": "stream",
     "text": [
      "[[419 281]\n",
      " [206 494]]\n",
      "0.6521428571428571\n",
      "[[693   7]\n",
      " [  0 700]]\n",
      "0.995\n"
     ]
    }
   ],
   "source": [
    "\n",
    "conf_matrix_cnn_valid = confusion_matrix(Y_valid, Y_cnn_valid_pred)\n",
    "accuracy_cnn_valid = np.sum(np.diagonal(conf_matrix_cnn_valid)) / np.sum(conf_matrix_cnn_valid)\n",
    "print(conf_matrix_cnn_valid)\n",
    "print(accuracy_cnn_valid)\n",
    "\n",
    "conf_matrix_cnn_train = confusion_matrix(Y_train, Y_cnn_train_pred)\n",
    "accuracy_cnn_train = np.sum(np.diagonal(conf_matrix_cnn_train)) / np.sum(conf_matrix_cnn_train)\n",
    "print(conf_matrix_cnn_train)\n",
    "print(accuracy_cnn_train)"
   ]
  },
  {
   "cell_type": "code",
   "execution_count": 198,
   "metadata": {},
   "outputs": [
    {
     "data": {
      "image/png": "[encoded data removed]",
      "text/plain": [
       "<Figure size 432x288 with 1 Axes>"
      ]
     },
     "metadata": {
      "needs_background": "light"
     },
     "output_type": "display_data"
    }
   ],
   "source": [
    "\n",
    "\n",
    "num_col = 2\n",
    "legend_loc = 'upper right'\n",
    "transparent = False\n",
    "\n",
    "plt.figure(figsize=(6,4))\n",
    "ax = plt.gca()\n",
    "# the histogram of the data\n",
    "# n, bins, patches = plt.hist(proba_test[:int(np.argwhere(y_true_test == 0)[-1]),0], 25, density=True, facecolor='b', alpha=0.50,label='Nominal')\n",
    "# n, bins, patches = plt.hist(predict_mean[:int(np.argwhere(y_true_test == 0)[-1]),0], 25, density=True, facecolor='r', alpha=0.50,label='Nominal')\n",
    "\n",
    "n, bins, patches = plt.hist(model.predict(X_valid[...,np.newaxis])[np.argwhere(Y_valid == 0),0], 25, density=True, facecolor='b', alpha=0.50,label='Anomalous')\n",
    "# n, bins, patches = plt.hist(predict_mean[int(np.argwhere(y_true_test == 0)[-1]):,0], 25, density=True, facecolor='r', alpha=0.50,label='Anomalous')\n",
    "\n",
    "# n, bins, patches = plt.hist(proba_test[int(np.argwhere(y_true_test == 0)[-1]):,1], 10, density=True, facecolor='r', alpha=0.50,label='Anominal')\n",
    "\n",
    "ax.spines['right'].set_color('none')\n",
    "ax.spines['top'].set_color('none')\n",
    "ax.xaxis.set_ticks_position('bottom')\n",
    "ax.yaxis.set_ticks_position('left')\n",
    "\n",
    "plt.xlabel(r'\\textbf{Vibration RMS}')\n",
    "plt.ylabel(r'\\textbf{Probability}')\n",
    "ax.legend(ncol=num_col,loc=legend_loc,framealpha=float(not transparent)).get_frame().set_edgecolor('k')\n",
    "# plt.title('Histogram of IQ')\n",
    "# plt.text(60, .025, r'$\\mu=100,\\ \\sigma=15$')\n",
    "# plt.axis([40, 160, 0, 0.03])\n",
    "plt.grid(False)\n",
    "# plt.savefig('Figures/RMS_Anomalous_Compare.png',transparent=True)  \n",
    "plt.show()\n"
   ]
  },
  {
   "cell_type": "code",
   "execution_count": 209,
   "metadata": {},
   "outputs": [],
   "source": [
    "import numpy as np\n",
    "\n",
    "import tensorflow as tf\n",
    "\n",
    "import tensorflow.keras as keras\n",
    "from tensorflow.keras.layers import Dense, Conv1D, UpSampling1D, MaxPooling1D, AveragePooling1D\n",
    "from tensorflow.keras.layers import Input, Dense, Reshape, Flatten, Dropout\n",
    "from tensorflow.keras.models import Sequential, Model\n",
    "\n",
    "from ML_Train.Custom_Layers import Dropout_Live\n",
    "\n",
    "def create_mlp_classifier(\n",
    "                   hidden_nodes,\n",
    "                   input_shape,\n",
    "                   classes,\n",
    "                   ):\n",
    "    \n",
    "    mlp = Sequential()\n",
    "    mlp.add(Input(shape=input_shape))\n",
    "    mlp.add(Flatten())\n",
    "    \n",
    "    for i in range(len(hidden_nodes)):\n",
    "        if i == 0:\n",
    "            mlp.add(Dense(hidden_nodes[i], \n",
    "                              activation='selu'))\n",
    "        else:\n",
    "            mlp.add(Dense(hidden_nodes[i], activation='selu'))\n",
    "            \n",
    "    mlp.add(Dense(classes,activation='softmax'))\n",
    "        \n",
    "    return mlp"
   ]
  },
  {
   "cell_type": "code",
   "execution_count": 210,
   "metadata": {},
   "outputs": [],
   "source": [
    "if os.path.isfile('data/MLP.h5'):\n",
    "    from tensorflow.keras.models import load_model\n",
    "    model = load_model('data/MLP.h5')\n",
    "    print(model.summary())\n",
    "else:\n",
    "    input_shape = [1024]\n",
    "    dense_nodes = [512,16]\n",
    "\n",
    "    # model,encoder,decoder = create_vae(param_dict)\n",
    "    # model = create_classifier(param_dict)\n",
    "    num_classes = 2\n",
    "\n",
    "    model = create_mlp_classifier(dense_nodes,input_shape,num_classes)\n",
    "\n",
    "\n",
    "    model.compile(loss='categorical_crossentropy', \n",
    "              optimizer='adam',metrics=['accuracy'])\n",
    "    loss = model.fit(\n",
    "                X_train,np.hstack((Y_train[...,np.newaxis],np.abs(Y_train[...,np.newaxis] - 1))),\n",
    "                validation_split=0.2,\n",
    "    #             validation_data=(X_valid[...,np.newaxis],np.hstack((Y_valid[...,np.newaxis],np.abs(Y_valid[...,np.newaxis] - 1)))),\n",
    "                epochs=10,\n",
    "                batch_size=16,\n",
    "                verbose=0)\n",
    "\n",
    "    model.save('data/MLP.h5',save_format='tf')\n",
    "\n",
    "\n",
    "    \n",
    "Y_mlp_valid_pred = model.predict(X_valid)\n",
    "Y_mlp_train_pred = model.predict(X_train)\n",
    "\n",
    "Y_mlp_train_pred = np.argmin(Y_mlp_train_pred,axis=1)\n",
    "Y_mlp_valid_pred = np.argmin(Y_mlp_valid_pred,axis=1)"
   ]
  },
  {
   "cell_type": "code",
   "execution_count": 211,
   "metadata": {},
   "outputs": [
    {
     "data": {
      "text/plain": [
       "array([[0.8711518 , 0.12884818],\n",
       "       [0.9697277 , 0.03027232],\n",
       "       [0.03558971, 0.96441036],\n",
       "       ...,\n",
       "       [0.9530926 , 0.04690747],\n",
       "       [0.83031785, 0.16968213],\n",
       "       [0.9673866 , 0.03261336]], dtype=float32)"
      ]
     },
     "execution_count": 211,
     "metadata": {},
     "output_type": "execute_result"
    }
   ],
   "source": [
    "model.predict(X_valid)"
   ]
  },
  {
   "cell_type": "code",
   "execution_count": 212,
   "metadata": {},
   "outputs": [
    {
     "data": {
      "image/png": "[encoded data removed]",
      "text/plain": [
       "<Figure size 432x288 with 1 Axes>"
      ]
     },
     "metadata": {
      "needs_background": "light"
     },
     "output_type": "display_data"
    },
    {
     "data": {
      "image/png": "[encoded data removed]",
      "text/plain": [
       "<Figure size 432x288 with 1 Axes>"
      ]
     },
     "metadata": {
      "needs_background": "light"
     },
     "output_type": "display_data"
    }
   ],
   "source": [
    "model.predict(X_valid)[np.argwhere(Y_valid == 0),0]\n",
    "plt.hist(Y_mlp_valid_pred, 25, density=True, facecolor='b', alpha=0.50,label='Anomalous')\n",
    "plt.show()\n",
    "\n",
    "plt.hist(model.predict(X_valid)[np.argwhere(Y_valid == 0),0], 25, density=True, facecolor='b', alpha=0.50,label='Anomalous')\n",
    "plt.show()"
   ]
  },
  {
   "cell_type": "code",
   "execution_count": 213,
   "metadata": {},
   "outputs": [
    {
     "name": "stdout",
     "output_type": "stream",
     "text": [
      "[[206 494]\n",
      " [ 69 631]]\n",
      "0.5978571428571429\n",
      "[[681  19]\n",
      " [ 53 647]]\n",
      "0.9485714285714286\n"
     ]
    }
   ],
   "source": [
    "\n",
    "conf_matrix_mlp_valid = confusion_matrix(Y_valid, Y_mlp_valid_pred)\n",
    "accuracy_mlp_valid = np.sum(np.diagonal(conf_matrix_mlp_valid)) / np.sum(conf_matrix_mlp_valid)\n",
    "print(conf_matrix_mlp_valid)\n",
    "print(accuracy_mlp_valid)\n",
    "\n",
    "conf_matrix_mlp_train = confusion_matrix(Y_train, Y_mlp_train_pred)\n",
    "accuracy_mlp_train = np.sum(np.diagonal(conf_matrix_mlp_train)) / np.sum(conf_matrix_mlp_train)\n",
    "print(conf_matrix_mlp_train)\n",
    "print(accuracy_mlp_train)"
   ]
  },
  {
   "cell_type": "code",
   "execution_count": 214,
   "metadata": {},
   "outputs": [
    {
     "data": {
      "image/png": "[encoded data removed]",
      "text/plain": [
       "<Figure size 432x288 with 1 Axes>"
      ]
     },
     "metadata": {
      "needs_background": "light"
     },
     "output_type": "display_data"
    }
   ],
   "source": [
    "\n",
    "\n",
    "num_col = 2\n",
    "legend_loc = 'upper right'\n",
    "transparent = False\n",
    "\n",
    "plt.figure(figsize=(6,4))\n",
    "ax = plt.gca()\n",
    "# the histogram of the data\n",
    "# n, bins, patches = plt.hist(proba_test[:int(np.argwhere(y_true_test == 0)[-1]),0], 25, density=True, facecolor='b', alpha=0.50,label='Nominal')\n",
    "# n, bins, patches = plt.hist(predict_mean[:int(np.argwhere(y_true_test == 0)[-1]),0], 25, density=True, facecolor='r', alpha=0.50,label='Nominal')\n",
    "\n",
    "n, bins, patches = plt.hist(model.predict(X_valid)[np.argwhere(Y_valid == 0),0], 25, density=True, facecolor='b', alpha=0.50,label='Anomalous')\n",
    "# n, bins, patches = plt.hist(predict_mean[int(np.argwhere(y_true_test == 0)[-1]):,0], 25, density=True, facecolor='r', alpha=0.50,label='Anomalous')\n",
    "\n",
    "# n, bins, patches = plt.hist(proba_test[int(np.argwhere(y_true_test == 0)[-1]):,1], 10, density=True, facecolor='r', alpha=0.50,label='Anominal')\n",
    "\n",
    "ax.spines['right'].set_color('none')\n",
    "ax.spines['top'].set_color('none')\n",
    "ax.xaxis.set_ticks_position('bottom')\n",
    "ax.yaxis.set_ticks_position('left')\n",
    "\n",
    "plt.xlabel(r'\\textbf{Vibration RMS}')\n",
    "plt.ylabel(r'\\textbf{Probability}')\n",
    "ax.legend(ncol=num_col,loc=legend_loc,framealpha=float(not transparent)).get_frame().set_edgecolor('k')\n",
    "# plt.title('Histogram of IQ')\n",
    "# plt.text(60, .025, r'$\\mu=100,\\ \\sigma=15$')\n",
    "# plt.axis([40, 160, 0, 0.03])\n",
    "plt.grid(False)\n",
    "# plt.savefig('Figures/RMS_Anomalous_Compare.png',transparent=True)  \n",
    "plt.show()"
   ]
  },
  {
   "cell_type": "code",
   "execution_count": 215,
   "metadata": {},
   "outputs": [],
   "source": [
    "import tflite_runtime.interpreter as tflite\n",
    "# Load TFLite model and allocate tensors.\n",
    "interpreter = tflite.Interpreter(model_path='data/CNN-MLP.tflite')\n",
    "\n",
    "def tflite_inference(data,tflite_interpreter):\n",
    "    interpreter.allocate_tensors()\n",
    "\n",
    "    # Get input and output tensors.\n",
    "    input_details = interpreter.get_input_details()\n",
    "    output_details = interpreter.get_output_details()\n",
    "    \n",
    "    # Test model on random input data.\n",
    "    input_shape = input_details[0]['shape']\n",
    "    # input_data = np.array(np.random.random_sample(input_shape), dtype=np.float32)\n",
    "    input_data = data[:,np.newaxis,:,np.newaxis].astype(np.float32)\n",
    "\n",
    "    output_shape = output_details[0]['shape']\n",
    "    num_samples = input_data.shape[0]\n",
    "    all_outputs = np.zeros((num_samples,output_shape[1]))\n",
    "\n",
    "    for i in range(num_samples):\n",
    "\n",
    "        interpreter.set_tensor(input_details[0]['index'], input_data[i,...])\n",
    "        interpreter.invoke()\n",
    "\n",
    "        # The function `get_tensor()` returns a copy of the tensor data.\n",
    "        # Use `tensor()` in order to get a pointer to the tensor.\n",
    "        output_data = interpreter.get_tensor(output_details[0]['index']).flatten()\n",
    "\n",
    "        all_outputs[i,:] = output_data\n",
    "        \n",
    "    return all_outputs\n",
    "\n"
   ]
  },
  {
   "cell_type": "code",
   "execution_count": 216,
   "metadata": {},
   "outputs": [],
   "source": [
    "Y_cnn_lite_train_pred = tflite_inference(X_train,interpreter)\n",
    "Y_cnn_lite_valid_pred = tflite_inference(X_valid,interpreter)\n",
    "\n",
    "Y_cnn_lite_train_pred = np.argmin(Y_cnn_lite_train_pred,axis=1)\n",
    "Y_cnn_lite_valid_pred = np.argmin(Y_cnn_lite_valid_pred,axis=1)"
   ]
  },
  {
   "cell_type": "code",
   "execution_count": 217,
   "metadata": {},
   "outputs": [
    {
     "name": "stdout",
     "output_type": "stream",
     "text": [
      "[[448 252]\n",
      " [202 498]]\n",
      "0.6757142857142857\n",
      "[[700   0]\n",
      " [  0 700]]\n",
      "1.0\n"
     ]
    }
   ],
   "source": [
    "conf_matrix_cnn_lite_valid = confusion_matrix(Y_valid, Y_cnn_lite_valid_pred)\n",
    "accuracy_cnn_lite_valid = np.sum(np.diagonal(conf_matrix_cnn_lite_valid)) / np.sum(conf_matrix_cnn_lite_valid)\n",
    "print(conf_matrix_cnn_lite_valid)\n",
    "print(accuracy_cnn_lite_valid)\n",
    "\n",
    "conf_matrix_cnn_lite_train = confusion_matrix(Y_train, Y_cnn_lite_train_pred)\n",
    "accuracy_cnn_lite_train = np.sum(np.diagonal(conf_matrix_cnn_lite_train)) / np.sum(conf_matrix_cnn_lite_train)\n",
    "print(conf_matrix_cnn_lite_train)\n",
    "print(accuracy_cnn_lite_train)"
   ]
  },
  {
   "cell_type": "code",
   "execution_count": null,
   "metadata": {},
   "outputs": [],
   "source": []
  }
 ],
 "metadata": {
  "kernelspec": {
   "display_name": "Python 3",
   "language": "python",
   "name": "python3"
  },
  "language_info": {
   "codemirror_mode": {
    "name": "ipython",
    "version": 3
   },
   "file_extension": ".py",
   "mimetype": "text/x-python",
   "name": "python",
   "nbconvert_exporter": "python",
   "pygments_lexer": "ipython3",
   "version": "3.6.9"
  }
 },
 "nbformat": 4,
 "nbformat_minor": 4
}
