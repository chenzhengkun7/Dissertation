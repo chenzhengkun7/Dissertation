{
 "cells": [
  {
   "cell_type": "code",
   "execution_count": 1,
   "metadata": {},
   "outputs": [
    {
     "name": "stderr",
     "output_type": "stream",
     "text": [
      "Using TensorFlow backend.\n"
     ]
    }
   ],
   "source": [
    "\n",
    "import os\n",
    "import pandas as pd\n",
    "from sklearn.model_selection import train_test_split\n",
    "from sklearn.decomposition import PCA\n",
    "from sklearn.decomposition import KernelPCA\n",
    "import numpy as np\n",
    "\n",
    "from matplotlib import pyplot as plt\n",
    "from crawlab_toolbox import plotting as genplt\n",
    "from sklearn.pipeline import Pipeline\n",
    "\n",
    "import tensorflow.keras as keras\n",
    "import tensorflow as tf\n",
    "\n",
    "from sklearn.mixture import GaussianMixture\n",
    "\n",
    "from sklearn.preprocessing import OrdinalEncoder\n",
    "from sklearn.neural_network import MLPClassifier\n",
    "from sklearn.svm import OneClassSVM\n",
    "from sklearn.naive_bayes import GaussianNB\n",
    "from sklearn.metrics import confusion_matrix\n",
    "\n",
    "from scipy.stats import probplot\n",
    "from scipy.stats import normaltest\n",
    "\n",
    "\n",
    "from joblib import dump, load\n",
    "\n",
    "from ML_Train.Vanilla_AE import create_vanilla_ae\n",
    "from ML_Train.Variational_AE import create_autoencoder as create_conv_vae\n",
    "from ML_Train.Convolutional_AE import create_autoencoder as create_conv_ae\n",
    "from ML_Train.Variational_Vanilla_AE import create_autoencoder as create_vanilla_vae\n",
    "from ML_Train.CNN_Classifier import create_autoencoder as create_hybrid_cnn_ae\n",
    "from ML_Train.CNN_Classifier import  build_classifier_from_vae, create_vae, create_classifier\n",
    "# mse = keras.metrics.mean_squared_error(all_outputs,input_data)"
   ]
  },
  {
   "cell_type": "code",
   "execution_count": null,
   "metadata": {},
   "outputs": [],
   "source": [
    "keras.backend.clear_session()\n",
    "gpus= tf.config.experimental.list_physical_devices('GPU')\n",
    "tf.config.experimental.set_memory_growth(gpus[0], True)\n"
   ]
  },
  {
   "cell_type": "code",
   "execution_count": null,
   "metadata": {},
   "outputs": [],
   "source": [
    "train_featuresDF = pd.read_csv('data/featuresDF_train.csv')\n",
    "train_stats = pd.read_csv('data/stats_train.csv')\n",
    "train_vibState = pd.read_csv('data/vibState_train.csv')\n",
    "\n",
    "valid_featuresDF = pd.read_csv('data/featuresDF_valid.csv')\n",
    "valid_stats = pd.read_csv('data/stats_valid.csv')\n",
    "valid_vibState = pd.read_csv('data/vibState_valid.csv')\n"
   ]
  },
  {
   "cell_type": "code",
   "execution_count": null,
   "metadata": {},
   "outputs": [],
   "source": [
    "enc = OrdinalEncoder()\n",
    "X_train = train_featuresDF.values[:,1:1025].astype(np.float32)\n",
    "Y_train = enc.fit_transform(train_vibState.values[:,1][...,np.newaxis])\n",
    "\n",
    "X_valid = valid_featuresDF.values[:,1:1025].astype(np.float32)\n",
    "Y_valid = enc.transform(valid_vibState.values[:,1][...,np.newaxis])\n",
    "\n",
    "X_train_healthy = X_train[np.argwhere(Y_train.flatten()==0).flatten(),:]\n",
    "Y_train_healthy = Y_train[np.argwhere(Y_train.flatten()==0).flatten()]\n",
    "X_train_unhealthy = X_train[np.argwhere(Y_train.flatten()==1).flatten(),:]\n",
    "Y_train_unhealthy = Y_train[np.argwhere(Y_train.flatten()==1).flatten()]\n",
    "\n",
    "X_valid_healthy = X_valid[np.argwhere(Y_valid.flatten()==0).flatten(),:]\n",
    "Y_valid_healthy = Y_valid[np.argwhere(Y_valid.flatten()==0).flatten()]\n",
    "X_valid_unhealthy = X_valid[np.argwhere(Y_valid.flatten()==1).flatten(),:]\n",
    "Y_valid_unhealthy = Y_valid[np.argwhere(Y_valid.flatten()==1).flatten()]\n",
    "\n",
    "XY_train_healthy = np.hstack((X_train_healthy,Y_train_healthy))\n",
    "XY_valid_healthy = np.hstack((X_valid_healthy,Y_valid_healthy))\n",
    "XY_train_unhealthy = np.hstack((X_train_unhealthy,Y_train_unhealthy))\n",
    "XY_valid_unhealthy = np.hstack((X_valid_unhealthy,Y_valid_unhealthy))\n",
    "\n",
    "XY_train = np.vstack((XY_train_healthy,XY_train_unhealthy))\n",
    "XY_valid = np.vstack((XY_valid_healthy,XY_valid_unhealthy))\n",
    "\n",
    "np.random.shuffle(XY_train)\n",
    "np.random.shuffle(XY_valid)\n",
    "\n",
    "X_train = XY_train[:,:-1]\n",
    "Y_train = XY_train[:,-1]\n",
    "\n",
    "X_valid = XY_valid[:,:-1]\n",
    "Y_valid = XY_valid[:,-1]\n",
    "\n",
    "num_samples = np.array([X_train.shape[0],\n",
    "          X_valid.shape[0]])\n",
    "\n",
    "max_samples = np.amax(num_samples)"
   ]
  },
  {
   "cell_type": "code",
   "execution_count": 5,
   "metadata": {},
   "outputs": [
    {
     "data": {
      "text/plain": [
       "array([['Healthy']], dtype=object)"
      ]
     },
     "execution_count": 5,
     "metadata": {},
     "output_type": "execute_result"
    }
   ],
   "source": [
    "def plot_confusion_matrix(y_true,y_pred,\n",
    "                          labels,\n",
    "                          filename='confusion_matrix'):\n",
    "    \n",
    "    predict_label = labels\n",
    "    true_label = labels.copy()\n",
    "    \n",
    "    \n",
    "    predict_label.insert(0, '')\n",
    "\n",
    "    conf_matrix = np.round(confusion_matrix(y_true, y_pred) / y_pred.shape[0],2)\n",
    "\n",
    "    fig = plt.figure()\n",
    "    ax = plt.gca()\n",
    "    im = ax.matshow(conf_matrix,cmap='RdBu')\n",
    "\n",
    "    # We want to show all ticks...\n",
    "    ax.set_xticks(np.arange(len(true_label)))\n",
    "    # ... and label them with the respective list entries\n",
    "    ax.set_xticklabels(true_label)\n",
    "    ax.set_yticklabels(predict_label)\n",
    "\n",
    "    ax.xaxis.tick_top()\n",
    "    ax.xaxis.set_label_position('top') \n",
    "    xlabel = 'Actual State'\n",
    "    ylabel = 'Predicted State'\n",
    "    xlabelpad = 5\n",
    "\n",
    "    plt.xlabel(r'\\textbf{' + xlabel + '}', labelpad=xlabelpad)\n",
    "    plt.ylabel(r'\\textbf{' + ylabel + '}', labelpad=5)\n",
    "\n",
    "    # Loop over data dimensions and create text annotations.\n",
    "    for i in range(len(predict_label)-1):\n",
    "        for j in range(len(true_label)):\n",
    "            text = ax.text(j, i, conf_matrix[i, j],fontsize=22,\n",
    "                           ha=\"center\", va=\"center\", color=\"w\")\n",
    "\n",
    "    plt.colorbar(im)\n",
    "    plt.tight_layout()\n",
    "    plt.savefig('Figures/' + filename + '.png',transparent=True)  \n",
    "    plt.show()"
   ]
  },
  {
   "cell_type": "code",
   "execution_count": 10,
   "metadata": {},
   "outputs": [
    {
     "name": "stdout",
     "output_type": "stream",
     "text": [
      "[[271 429]\n",
      " [ 89 611]]\n",
      "0.63\n",
      "[[627  73]\n",
      " [ 12 688]]\n",
      "0.9392857142857143\n"
     ]
    },
    {
     "data": {
      "text/plain": [
       "['data/pca_gnb.joblib']"
      ]
     },
     "execution_count": 10,
     "metadata": {},
     "output_type": "execute_result"
    }
   ],
   "source": [
    "estimators = [('reduce_dim', PCA(n_components=32)), ('gnb', GaussianNB())]\n",
    "# estimators = [('reduce_dim', KernelPCA(n_components=32,kernel='rbf')), ('gmm', GaussianMixture())]\n",
    "\n",
    "pipe = Pipeline(estimators)\n",
    "pipe.fit(X_train,Y_train)\n",
    "\n",
    "Y_valid_pred = pipe.predict(X_valid)\n",
    "conf_matrix_valid = confusion_matrix(Y_valid, Y_valid_pred)\n",
    "accuracy_valid = np.sum(np.diagonal(conf_matrix_valid)) / np.sum(conf_matrix_valid)\n",
    "print(conf_matrix_valid)\n",
    "print(accuracy_valid)\n",
    "\n",
    "Y_train_pred = pipe.predict(X_train)\n",
    "conf_matrix_train = confusion_matrix(Y_train, Y_train_pred)\n",
    "accuracy_train = np.sum(np.diagonal(conf_matrix_train)) / np.sum(conf_matrix_train)\n",
    "print(conf_matrix_train)\n",
    "print(accuracy_train)\n",
    "\n",
    "dump(pipe, 'data/pca_gnb.joblib') "
   ]
  },
  {
   "cell_type": "code",
   "execution_count": 11,
   "metadata": {},
   "outputs": [
    {
     "data": {
      "image/png": "[encoded data removed]",
      "text/plain": [
       "<Figure size 432x288 with 1 Axes>"
      ]
     },
     "metadata": {
      "needs_background": "light"
     },
     "output_type": "display_data"
    }
   ],
   "source": [
    "from sklearn.metrics import precision_recall_curve\n",
    "from sklearn.metrics import plot_precision_recall_curve\n",
    "import matplotlib.pyplot as plt\n",
    "\n",
    "\n",
    "disp = plot_precision_recall_curve(pipe, X_valid, Y_valid)\n",
    "disp.ax_.spines['right'].set_color('none')\n",
    "disp.ax_.spines['top'].set_color('none')\n",
    "disp.ax_.xaxis.set_ticks_position('bottom')\n",
    "disp.ax_.yaxis.set_ticks_position('left')"
   ]
  },
  {
   "cell_type": "code",
   "execution_count": 12,
   "metadata": {},
   "outputs": [
    {
     "data": {
      "text/plain": [
       "(1400, 1024)"
      ]
     },
     "execution_count": 12,
     "metadata": {},
     "output_type": "execute_result"
    }
   ],
   "source": [
    "X_valid.shape"
   ]
  },
  {
   "cell_type": "code",
   "execution_count": 19,
   "metadata": {},
   "outputs": [
    {
     "name": "stderr",
     "output_type": "stream",
     "text": [
      "No handles with labels found to put in legend.\n"
     ]
    },
    {
     "data": {
      "image/png": "[encoded data removed]",
      "text/plain": [
       "<Figure size 432x288 with 1 Axes>"
      ]
     },
     "metadata": {
      "needs_background": "light"
     },
     "output_type": "display_data"
    }
   ],
   "source": [
    "pipe.predict_proba(X_train_healthy)[:,0]\n",
    "\n",
    "responses= np.vstack((\n",
    "                       pipe.predict_proba(X_valid_healthy)[:,0]))\n",
    "genplt.plot_histogram(responses,[''],\n",
    "               'Healthy Classification Probability',\n",
    "               'Probability',\n",
    "               'pca_gnb_classifier_predict',\n",
    "               template='publication',\n",
    "               legend_loc='upper left',\n",
    "               ymax=0.0,\n",
    "               num_col=1,\n",
    "               nbins=50)"
   ]
  },
  {
   "cell_type": "code",
   "execution_count": 192,
   "metadata": {},
   "outputs": [],
   "source": [
    "def normalize_scores(scores,log_prob=False):\n",
    "    \n",
    "    if log_prob:\n",
    "        scores = np.log(np.abs(scores - 1.1 * np.amax(scores)))\n",
    "    \n",
    "    norm_mean = np.mean(scores[:,0])\n",
    "    norm_std = np.std(scores[:,0])\n",
    "    \n",
    "    scores = (scores - norm_mean) / norm_std\n",
    "    \n",
    "    [print(normaltest(scores[:,i])) for i in range(scores.shape[1])]\n",
    "    [print(np.std(scores[:,i]), np.mean(scores[:,i])) for i in range(scores.shape[1])]\n",
    "    \n",
    "    return scores"
   ]
  },
  {
   "cell_type": "code",
   "execution_count": 22,
   "metadata": {},
   "outputs": [],
   "source": [
    "import numpy as np\n",
    "import tensorflow as tf\n",
    "\n",
    "from tensorflow.keras import backend as K\n",
    "import tensorflow.keras as keras\n",
    "from tensorflow.keras.layers import Dense, Conv1D, UpSampling1D, MaxPooling1D, AveragePooling1D\n",
    "from tensorflow.keras.layers import Input, Dense, Reshape, Flatten, Dropout, concatenate\n",
    "from tensorflow.keras.layers import BatchNormalization\n",
    "from tensorflow.keras.models import Sequential, Model\n",
    "\n",
    "from ML_Train.Custom_Layers import Dropout_Live, Sampling\n",
    "\n",
    "def build_classifier(\n",
    "                   filters, \n",
    "                   kernels, \n",
    "                   strides,\n",
    "                   dilation_rates,\n",
    "                   input_shape,\n",
    "                   dense_nodes,\n",
    "                   classes,\n",
    "                   ):\n",
    "    inputs = Input(shape=input_shape)\n",
    "    x = inputs\n",
    "    \n",
    "    for i in range(len(filters)):\n",
    "        x = Conv1D(filters=filters[i], \n",
    "                           kernel_size=kernels[i], \n",
    "                           strides=strides[i], \n",
    "                           activation='relu', \n",
    "                           padding='same',\n",
    "                           dilation_rate=dilation_rates[i])(x)\n",
    "        x = BatchNormalization()(x)\n",
    "        x = Dropout(0.5)(x)\n",
    "        x = MaxPooling1D(2)(x)\n",
    "    \n",
    "    x = Flatten()(x)\n",
    "    \n",
    "    for i in range(len(dense_nodes)):\n",
    "        x = Dense(dense_nodes[i],activation='relu')(x)\n",
    "        \n",
    "    x = Dense(classes,activation='softmax')(x)\n",
    "    \n",
    "    cnn_classifier = Model(\n",
    "                            inputs=[inputs],\n",
    "                            outputs=[x])\n",
    "    \n",
    "    return cnn_classifier\n",
    "\n",
    "def create_classifier(param_dict):\n",
    "    filters = param_dict[\"filters\"]\n",
    "    kernels = param_dict[\"kernels\"]\n",
    "    strides = param_dict[\"strides\"]\n",
    "    dilation_rates = param_dict[\"dilation_rates\"]\n",
    "    input_shape = tuple(param_dict[\"input_shape\"])\n",
    "    dense_nodes = param_dict[\"dense_nodes\"]\n",
    "    classes = param_dict[\"classes\"]\n",
    "    \n",
    "    classifier = build_classifier(filters,kernels,strides,dilation_rates,input_shape,dense_nodes,classes)\n",
    " \n",
    "    return classifier\n",
    "        "
   ]
  },
  {
   "cell_type": "code",
   "execution_count": 23,
   "metadata": {},
   "outputs": [
    {
     "data": {
      "text/plain": [
       "(1400, 1024, 1)"
      ]
     },
     "execution_count": 23,
     "metadata": {},
     "output_type": "execute_result"
    }
   ],
   "source": [
    "X_train[...,np.newaxis].shape"
   ]
  },
  {
   "cell_type": "code",
   "execution_count": 24,
   "metadata": {},
   "outputs": [
    {
     "name": "stdout",
     "output_type": "stream",
     "text": [
      "(1400, 1)\n",
      "(1400, 1)\n"
     ]
    }
   ],
   "source": [
    "print(Y_train[...,np.newaxis].shape)\n",
    "print(Y_valid[...,np.newaxis].shape)"
   ]
  },
  {
   "cell_type": "code",
   "execution_count": null,
   "metadata": {},
   "outputs": [],
   "source": []
  },
  {
   "cell_type": "code",
   "execution_count": 51,
   "metadata": {},
   "outputs": [
    {
     "name": "stdout",
     "output_type": "stream",
     "text": [
      "Train on 1400 samples, validate on 1400 samples\n",
      "Epoch 1/10\n",
      "1400/1400 [==============================] - 2s 1ms/sample - loss: 0.4405 - accuracy: 0.8064 - val_loss: 0.7371 - val_accuracy: 0.5000\n",
      "Epoch 2/10\n",
      "1400/1400 [==============================] - 1s 657us/sample - loss: 0.1617 - accuracy: 0.9400 - val_loss: 0.7446 - val_accuracy: 0.5000\n",
      "Epoch 3/10\n",
      "1400/1400 [==============================] - 1s 663us/sample - loss: 0.0688 - accuracy: 0.9743 - val_loss: 0.7297 - val_accuracy: 0.6593\n",
      "Epoch 4/10\n",
      "1400/1400 [==============================] - 1s 629us/sample - loss: 0.0758 - accuracy: 0.9743 - val_loss: 0.3936 - val_accuracy: 0.7907\n",
      "Epoch 5/10\n",
      "1400/1400 [==============================] - 1s 652us/sample - loss: 0.0472 - accuracy: 0.9857 - val_loss: 0.3870 - val_accuracy: 0.8586\n",
      "Epoch 6/10\n",
      "1400/1400 [==============================] - 1s 661us/sample - loss: 0.0333 - accuracy: 0.9879 - val_loss: 0.4307 - val_accuracy: 0.8364\n",
      "Epoch 7/10\n",
      "1400/1400 [==============================] - 1s 649us/sample - loss: 0.0355 - accuracy: 0.9864 - val_loss: 0.3860 - val_accuracy: 0.8643\n",
      "Epoch 8/10\n",
      "1400/1400 [==============================] - 1s 662us/sample - loss: 0.0231 - accuracy: 0.9907 - val_loss: 0.3879 - val_accuracy: 0.8793\n",
      "Epoch 9/10\n",
      "1400/1400 [==============================] - 1s 636us/sample - loss: 0.0140 - accuracy: 0.9929 - val_loss: 0.4600 - val_accuracy: 0.8471\n",
      "Epoch 10/10\n",
      "1400/1400 [==============================] - 1s 638us/sample - loss: 0.0293 - accuracy: 0.9907 - val_loss: 0.4435 - val_accuracy: 0.8836\n"
     ]
    }
   ],
   "source": [
    "if os.path.isfile('data/CNN-MLP.h5'):\n",
    "    from tensorflow.keras.models import load_model\n",
    "    model = load_model('data/CNN-MLP.h5')\n",
    "    print(model.summary())\n",
    "else:\n",
    "\n",
    "    filters=[8,16,32]\n",
    "    kernels = [3,3,3]\n",
    "    strides=[1,1,1,1,1]\n",
    "    dilation_rates=[1,1,1,1,1]\n",
    "    input_shape = [1024,1]\n",
    "    dense_nodes = [128,64]\n",
    "    codings_size = 2\n",
    "\n",
    "    param_dict = {\n",
    "        \"filters\":filters,\n",
    "        \"kernels\":kernels,\n",
    "        \"strides\":strides,\n",
    "        \"dilation_rates\":dilation_rates,\n",
    "        \"input_shape\":input_shape,\n",
    "        \"dense_nodes\":dense_nodes,\n",
    "        \"classes\":2\n",
    "    }\n",
    "    # model,encoder,decoder = create_vae(param_dict)\n",
    "    # model = create_classifier(param_dict)\n",
    "    num_classes = 2\n",
    "    model = create_classifier(param_dict)\n",
    "    model.compile(loss='categorical_crossentropy', \n",
    "              optimizer='adam',metrics=['accuracy'])\n",
    "    loss = model.fit(\n",
    "                X_train[...,np.newaxis],np.hstack((Y_train[...,np.newaxis],np.abs(Y_train[...,np.newaxis] - 1))),\n",
    "#                 validation_split=0.2,\n",
    "                validation_data=(X_valid[...,np.newaxis],np.hstack((Y_valid[...,np.newaxis],np.abs(Y_valid[...,np.newaxis] - 1)))),\n",
    "                epochs=10,\n",
    "                batch_size=8,\n",
    "                verbose=1)\n",
    "    \n",
    "#     model.save('data/CNN-MLP.h5',save_format='tf')\n",
    "\n",
    "converter = tf.lite.TFLiteConverter.from_keras_model(model)\n",
    "tflite_model = converter.convert()\n",
    "\n",
    "open(os.path.join('data', 'CNN-MLP.tflite',),\n",
    "     \"wb\").write(tflite_model)\n",
    "\n",
    "Y_cnn_valid_pred = model.predict(X_valid[...,np.newaxis])\n",
    "Y_cnn_train_pred = model.predict(X_train[...,np.newaxis])\n",
    "\n",
    "Y_cnn_train_pred = np.argmin(Y_cnn_train_pred,axis=1)\n",
    "Y_cnn_valid_pred = np.argmin(Y_cnn_valid_pred,axis=1)"
   ]
  },
  {
   "cell_type": "code",
   "execution_count": 52,
   "metadata": {},
   "outputs": [
    {
     "name": "stdout",
     "output_type": "stream",
     "text": [
      "Model: \"model_10\"\n",
      "_________________________________________________________________\n",
      "Layer (type)                 Output Shape              Param #   \n",
      "=================================================================\n",
      "input_16 (InputLayer)        [(None, 1024, 1)]         0         \n",
      "_________________________________________________________________\n",
      "conv1d_26 (Conv1D)           (None, 1024, 8)           32        \n",
      "_________________________________________________________________\n",
      "batch_normalization_26 (Batc (None, 1024, 8)           32        \n",
      "_________________________________________________________________\n",
      "dropout_26 (Dropout)         (None, 1024, 8)           0         \n",
      "_________________________________________________________________\n",
      "max_pooling1d_26 (MaxPooling (None, 512, 8)            0         \n",
      "_________________________________________________________________\n",
      "conv1d_27 (Conv1D)           (None, 512, 16)           400       \n",
      "_________________________________________________________________\n",
      "batch_normalization_27 (Batc (None, 512, 16)           64        \n",
      "_________________________________________________________________\n",
      "dropout_27 (Dropout)         (None, 512, 16)           0         \n",
      "_________________________________________________________________\n",
      "max_pooling1d_27 (MaxPooling (None, 256, 16)           0         \n",
      "_________________________________________________________________\n",
      "conv1d_28 (Conv1D)           (None, 256, 32)           1568      \n",
      "_________________________________________________________________\n",
      "batch_normalization_28 (Batc (None, 256, 32)           128       \n",
      "_________________________________________________________________\n",
      "dropout_28 (Dropout)         (None, 256, 32)           0         \n",
      "_________________________________________________________________\n",
      "max_pooling1d_28 (MaxPooling (None, 128, 32)           0         \n",
      "_________________________________________________________________\n",
      "flatten_15 (Flatten)         (None, 4096)              0         \n",
      "_________________________________________________________________\n",
      "dense_45 (Dense)             (None, 128)               524416    \n",
      "_________________________________________________________________\n",
      "dense_46 (Dense)             (None, 64)                8256      \n",
      "_________________________________________________________________\n",
      "dense_47 (Dense)             (None, 2)                 130       \n",
      "=================================================================\n",
      "Total params: 535,026\n",
      "Trainable params: 534,914\n",
      "Non-trainable params: 112\n",
      "_________________________________________________________________\n"
     ]
    }
   ],
   "source": [
    "model.summary()"
   ]
  },
  {
   "cell_type": "code",
   "execution_count": 53,
   "metadata": {},
   "outputs": [
    {
     "name": "stdout",
     "output_type": "stream",
     "text": [
      "[[552 148]\n",
      " [ 15 685]]\n",
      "0.8835714285714286\n",
      "[[700   0]\n",
      " [  0 700]]\n",
      "1.0\n"
     ]
    }
   ],
   "source": [
    "\n",
    "conf_matrix_cnn_valid = confusion_matrix(Y_valid, Y_cnn_valid_pred)\n",
    "accuracy_cnn_valid = np.sum(np.diagonal(conf_matrix_cnn_valid)) / np.sum(conf_matrix_cnn_valid)\n",
    "print(conf_matrix_cnn_valid)\n",
    "print(accuracy_cnn_valid)\n",
    "\n",
    "conf_matrix_cnn_train = confusion_matrix(Y_train, Y_cnn_train_pred)\n",
    "accuracy_cnn_train = np.sum(np.diagonal(conf_matrix_cnn_train)) / np.sum(conf_matrix_cnn_train)\n",
    "print(conf_matrix_cnn_train)\n",
    "print(accuracy_cnn_train)"
   ]
  },
  {
   "cell_type": "code",
   "execution_count": 54,
   "metadata": {},
   "outputs": [
    {
     "name": "stderr",
     "output_type": "stream",
     "text": [
      "No handles with labels found to put in legend.\n"
     ]
    },
    {
     "data": {
      "image/png": "[encoded data removed]",
      "text/plain": [
       "<Figure size 432x288 with 1 Axes>"
      ]
     },
     "metadata": {
      "needs_background": "light"
     },
     "output_type": "display_data"
    }
   ],
   "source": [
    "genplt.plot_histogram(model.predict(X_valid[...,np.newaxis])[np.argwhere(Y_valid == 0),0],[''],\n",
    "               'Predicted Value',\n",
    "               'Probability',\n",
    "               'cnn_mlp_classifier_predict',\n",
    "               template='publication',\n",
    "               legend_loc='upper right',\n",
    "               ymax=0.0,\n",
    "               num_col=1)"
   ]
  },
  {
   "cell_type": "code",
   "execution_count": 36,
   "metadata": {},
   "outputs": [],
   "source": [
    "import numpy as np\n",
    "\n",
    "import tensorflow as tf\n",
    "\n",
    "import tensorflow.keras as keras\n",
    "from tensorflow.keras.layers import Dense, Conv1D, UpSampling1D, MaxPooling1D, AveragePooling1D\n",
    "from tensorflow.keras.layers import Input, Dense, Reshape, Flatten, Dropout\n",
    "from tensorflow.keras.models import Sequential, Model\n",
    "\n",
    "from ML_Train.Custom_Layers import Dropout_Live\n",
    "\n",
    "def create_mlp_classifier(\n",
    "                   hidden_nodes,\n",
    "                   input_shape,\n",
    "                   classes,\n",
    "                   ):\n",
    "    \n",
    "    mlp = Sequential()\n",
    "    mlp.add(Input(shape=input_shape))\n",
    "    mlp.add(Flatten())\n",
    "    \n",
    "    for i in range(len(hidden_nodes)):\n",
    "        if i == 0:\n",
    "            mlp.add(Dense(hidden_nodes[i], \n",
    "                              activation='selu'))\n",
    "        else:\n",
    "            mlp.add(Dense(hidden_nodes[i], activation='selu'))\n",
    "            \n",
    "    mlp.add(Dense(classes,activation='softmax'))\n",
    "        \n",
    "    return mlp"
   ]
  },
  {
   "cell_type": "code",
   "execution_count": 41,
   "metadata": {},
   "outputs": [
    {
     "name": "stdout",
     "output_type": "stream",
     "text": [
      "Train on 1400 samples, validate on 1400 samples\n",
      "Epoch 1/20\n",
      "1400/1400 [==============================] - 1s 444us/sample - loss: 0.8370 - accuracy: 0.5293 - val_loss: 0.7044 - val_accuracy: 0.5000\n",
      "Epoch 2/20\n",
      "1400/1400 [==============================] - 0s 311us/sample - loss: 0.6364 - accuracy: 0.6171 - val_loss: 0.6933 - val_accuracy: 0.4879\n",
      "Epoch 3/20\n",
      "1400/1400 [==============================] - 0s 314us/sample - loss: 0.4818 - accuracy: 0.7629 - val_loss: 0.8807 - val_accuracy: 0.5871\n",
      "Epoch 4/20\n",
      "1400/1400 [==============================] - 0s 330us/sample - loss: 0.3842 - accuracy: 0.8086 - val_loss: 0.8618 - val_accuracy: 0.6157\n",
      "Epoch 5/20\n",
      "1400/1400 [==============================] - 0s 322us/sample - loss: 0.3273 - accuracy: 0.8636 - val_loss: 0.9870 - val_accuracy: 0.5900\n",
      "Epoch 6/20\n",
      "1400/1400 [==============================] - 0s 307us/sample - loss: 0.2174 - accuracy: 0.9114 - val_loss: 1.7468 - val_accuracy: 0.5500\n",
      "Epoch 7/20\n",
      "1400/1400 [==============================] - 0s 316us/sample - loss: 0.2006 - accuracy: 0.9214 - val_loss: 2.8937 - val_accuracy: 0.5300\n",
      "Epoch 8/20\n",
      "1400/1400 [==============================] - 0s 332us/sample - loss: 0.2305 - accuracy: 0.9014 - val_loss: 1.8347 - val_accuracy: 0.5721\n",
      "Epoch 9/20\n",
      "1400/1400 [==============================] - 0s 313us/sample - loss: 0.2145 - accuracy: 0.9121 - val_loss: 2.3643 - val_accuracy: 0.5471\n",
      "Epoch 10/20\n",
      "1400/1400 [==============================] - 0s 308us/sample - loss: 0.1560 - accuracy: 0.9429 - val_loss: 2.8725 - val_accuracy: 0.5357\n",
      "Epoch 11/20\n",
      "1400/1400 [==============================] - 0s 309us/sample - loss: 0.1402 - accuracy: 0.9400 - val_loss: 2.1555 - val_accuracy: 0.5693\n",
      "Epoch 12/20\n",
      "1400/1400 [==============================] - 0s 309us/sample - loss: 0.1668 - accuracy: 0.9293 - val_loss: 2.3793 - val_accuracy: 0.5550\n",
      "Epoch 13/20\n",
      "1400/1400 [==============================] - 0s 303us/sample - loss: 0.1854 - accuracy: 0.9243 - val_loss: 1.7368 - val_accuracy: 0.5729\n",
      "Epoch 14/20\n",
      "1400/1400 [==============================] - 0s 310us/sample - loss: 0.1715 - accuracy: 0.9300 - val_loss: 1.3071 - val_accuracy: 0.5721\n",
      "Epoch 15/20\n",
      "1400/1400 [==============================] - 0s 313us/sample - loss: 0.1052 - accuracy: 0.9636 - val_loss: 2.0990 - val_accuracy: 0.5850\n",
      "Epoch 16/20\n",
      "1400/1400 [==============================] - 0s 319us/sample - loss: 0.1312 - accuracy: 0.9429 - val_loss: 2.3359 - val_accuracy: 0.5536\n",
      "Epoch 17/20\n",
      "1400/1400 [==============================] - 0s 316us/sample - loss: 0.1312 - accuracy: 0.9407 - val_loss: 1.9755 - val_accuracy: 0.5729\n",
      "Epoch 18/20\n",
      "1400/1400 [==============================] - 0s 305us/sample - loss: 0.1206 - accuracy: 0.9571 - val_loss: 4.2958 - val_accuracy: 0.5314\n",
      "Epoch 19/20\n",
      "1400/1400 [==============================] - 0s 312us/sample - loss: 0.0880 - accuracy: 0.9643 - val_loss: 3.1248 - val_accuracy: 0.5464\n",
      "Epoch 20/20\n",
      "1400/1400 [==============================] - 0s 312us/sample - loss: 0.1300 - accuracy: 0.9536 - val_loss: 3.3981 - val_accuracy: 0.5421\n"
     ]
    }
   ],
   "source": [
    "if os.path.isfile('data/MLP.h5'):\n",
    "    from tensorflow.keras.models import load_model\n",
    "    model = load_model('data/MLP.h5')\n",
    "    print(model.summary())\n",
    "else:\n",
    "    input_shape = [1024]\n",
    "    dense_nodes = [512,64]\n",
    "\n",
    "    # model,encoder,decoder = create_vae(param_dict)\n",
    "    # model = create_classifier(param_dict)\n",
    "    num_classes = 2\n",
    "\n",
    "    model = create_mlp_classifier(dense_nodes,input_shape,num_classes)\n",
    "\n",
    "\n",
    "    model.compile(loss='categorical_crossentropy', \n",
    "              optimizer='adam',metrics=['accuracy'])\n",
    "    loss = model.fit(\n",
    "                X_train,np.hstack((Y_train[...,np.newaxis],np.abs(Y_train[...,np.newaxis] - 1))),\n",
    "#                 validation_split=0.2,\n",
    "                validation_data=(X_valid,np.hstack((Y_valid[...,np.newaxis],np.abs(Y_valid[...,np.newaxis] - 1)))),\n",
    "                epochs=20,\n",
    "                batch_size=8,\n",
    "                verbose=1)\n",
    "\n",
    "#     model.save('data/MLP.h5',save_format='tf')\n",
    "\n",
    "\n",
    "    \n",
    "Y_mlp_valid_pred = model.predict(X_valid)\n",
    "Y_mlp_train_pred = model.predict(X_train)\n",
    "\n",
    "Y_mlp_train_pred = np.argmin(Y_mlp_train_pred,axis=1)\n",
    "Y_mlp_valid_pred = np.argmin(Y_mlp_valid_pred,axis=1)"
   ]
  },
  {
   "cell_type": "code",
   "execution_count": 42,
   "metadata": {},
   "outputs": [
    {
     "name": "stdout",
     "output_type": "stream",
     "text": [
      "Model: \"sequential_4\"\n",
      "_________________________________________________________________\n",
      "Layer (type)                 Output Shape              Param #   \n",
      "=================================================================\n",
      "flatten_12 (Flatten)         (None, 1024)              0         \n",
      "_________________________________________________________________\n",
      "dense_36 (Dense)             (None, 512)               524800    \n",
      "_________________________________________________________________\n",
      "dense_37 (Dense)             (None, 64)                32832     \n",
      "_________________________________________________________________\n",
      "dense_38 (Dense)             (None, 2)                 130       \n",
      "=================================================================\n",
      "Total params: 557,762\n",
      "Trainable params: 557,762\n",
      "Non-trainable params: 0\n",
      "_________________________________________________________________\n"
     ]
    }
   ],
   "source": [
    "model.summary()"
   ]
  },
  {
   "cell_type": "code",
   "execution_count": 211,
   "metadata": {},
   "outputs": [
    {
     "data": {
      "text/plain": [
       "array([[0.8711518 , 0.12884818],\n",
       "       [0.9697277 , 0.03027232],\n",
       "       [0.03558971, 0.96441036],\n",
       "       ...,\n",
       "       [0.9530926 , 0.04690747],\n",
       "       [0.83031785, 0.16968213],\n",
       "       [0.9673866 , 0.03261336]], dtype=float32)"
      ]
     },
     "execution_count": 211,
     "metadata": {},
     "output_type": "execute_result"
    }
   ],
   "source": [
    "model.predict(X_valid)"
   ]
  },
  {
   "cell_type": "code",
   "execution_count": 212,
   "metadata": {},
   "outputs": [
    {
     "data": {
      "image/png": "[encoded data removed]",
      "text/plain": [
       "<Figure size 432x288 with 1 Axes>"
      ]
     },
     "metadata": {
      "needs_background": "light"
     },
     "output_type": "display_data"
    },
    {
     "data": {
      "image/png": "[encoded data removed]",
      "text/plain": [
       "<Figure size 432x288 with 1 Axes>"
      ]
     },
     "metadata": {
      "needs_background": "light"
     },
     "output_type": "display_data"
    }
   ],
   "source": [
    "model.predict(X_valid)[np.argwhere(Y_valid == 0),0]\n",
    "plt.hist(Y_mlp_valid_pred, 25, density=True, facecolor='b', alpha=0.50,label='Anomalous')\n",
    "plt.show()\n",
    "\n",
    "plt.hist(model.predict(X_valid)[np.argwhere(Y_valid == 0),0], 25, density=True, facecolor='b', alpha=0.50,label='Anomalous')\n",
    "plt.show()"
   ]
  },
  {
   "cell_type": "code",
   "execution_count": 213,
   "metadata": {},
   "outputs": [
    {
     "name": "stdout",
     "output_type": "stream",
     "text": [
      "[[206 494]\n",
      " [ 69 631]]\n",
      "0.5978571428571429\n",
      "[[681  19]\n",
      " [ 53 647]]\n",
      "0.9485714285714286\n"
     ]
    }
   ],
   "source": [
    "\n",
    "conf_matrix_mlp_valid = confusion_matrix(Y_valid, Y_mlp_valid_pred)\n",
    "accuracy_mlp_valid = np.sum(np.diagonal(conf_matrix_mlp_valid)) / np.sum(conf_matrix_mlp_valid)\n",
    "print(conf_matrix_mlp_valid)\n",
    "print(accuracy_mlp_valid)\n",
    "\n",
    "conf_matrix_mlp_train = confusion_matrix(Y_train, Y_mlp_train_pred)\n",
    "accuracy_mlp_train = np.sum(np.diagonal(conf_matrix_mlp_train)) / np.sum(conf_matrix_mlp_train)\n",
    "print(conf_matrix_mlp_train)\n",
    "print(accuracy_mlp_train)"
   ]
  },
  {
   "cell_type": "code",
   "execution_count": 214,
   "metadata": {},
   "outputs": [
    {
     "data": {
      "image/png": "[encoded data removed]",
      "text/plain": [
       "<Figure size 432x288 with 1 Axes>"
      ]
     },
     "metadata": {
      "needs_background": "light"
     },
     "output_type": "display_data"
    }
   ],
   "source": [
    "\n",
    "\n",
    "num_col = 2\n",
    "legend_loc = 'upper right'\n",
    "transparent = False\n",
    "\n",
    "plt.figure(figsize=(6,4))\n",
    "ax = plt.gca()\n",
    "# the histogram of the data\n",
    "# n, bins, patches = plt.hist(proba_test[:int(np.argwhere(y_true_test == 0)[-1]),0], 25, density=True, facecolor='b', alpha=0.50,label='Nominal')\n",
    "# n, bins, patches = plt.hist(predict_mean[:int(np.argwhere(y_true_test == 0)[-1]),0], 25, density=True, facecolor='r', alpha=0.50,label='Nominal')\n",
    "\n",
    "n, bins, patches = plt.hist(model.predict(X_valid)[np.argwhere(Y_valid == 0),0], 25, density=True, facecolor='b', alpha=0.50,label='Anomalous')\n",
    "# n, bins, patches = plt.hist(predict_mean[int(np.argwhere(y_true_test == 0)[-1]):,0], 25, density=True, facecolor='r', alpha=0.50,label='Anomalous')\n",
    "\n",
    "# n, bins, patches = plt.hist(proba_test[int(np.argwhere(y_true_test == 0)[-1]):,1], 10, density=True, facecolor='r', alpha=0.50,label='Anominal')\n",
    "\n",
    "ax.spines['right'].set_color('none')\n",
    "ax.spines['top'].set_color('none')\n",
    "ax.xaxis.set_ticks_position('bottom')\n",
    "ax.yaxis.set_ticks_position('left')\n",
    "\n",
    "plt.xlabel(r'\\textbf{Vibration RMS}')\n",
    "plt.ylabel(r'\\textbf{Probability}')\n",
    "ax.legend(ncol=num_col,loc=legend_loc,framealpha=float(not transparent)).get_frame().set_edgecolor('k')\n",
    "# plt.title('Histogram of IQ')\n",
    "# plt.text(60, .025, r'$\\mu=100,\\ \\sigma=15$')\n",
    "# plt.axis([40, 160, 0, 0.03])\n",
    "plt.grid(False)\n",
    "# plt.savefig('Figures/RMS_Anomalous_Compare.png',transparent=True)  \n",
    "plt.show()"
   ]
  },
  {
   "cell_type": "code",
   "execution_count": 215,
   "metadata": {},
   "outputs": [],
   "source": [
    "import tflite_runtime.interpreter as tflite\n",
    "# Load TFLite model and allocate tensors.\n",
    "interpreter = tflite.Interpreter(model_path='data/CNN-MLP.tflite')\n",
    "\n",
    "def tflite_inference(data,tflite_interpreter):\n",
    "    interpreter.allocate_tensors()\n",
    "\n",
    "    # Get input and output tensors.\n",
    "    input_details = interpreter.get_input_details()\n",
    "    output_details = interpreter.get_output_details()\n",
    "    \n",
    "    # Test model on random input data.\n",
    "    input_shape = input_details[0]['shape']\n",
    "    # input_data = np.array(np.random.random_sample(input_shape), dtype=np.float32)\n",
    "    input_data = data[:,np.newaxis,:,np.newaxis].astype(np.float32)\n",
    "\n",
    "    output_shape = output_details[0]['shape']\n",
    "    num_samples = input_data.shape[0]\n",
    "    all_outputs = np.zeros((num_samples,output_shape[1]))\n",
    "\n",
    "    for i in range(num_samples):\n",
    "\n",
    "        interpreter.set_tensor(input_details[0]['index'], input_data[i,...])\n",
    "        interpreter.invoke()\n",
    "\n",
    "        # The function `get_tensor()` returns a copy of the tensor data.\n",
    "        # Use `tensor()` in order to get a pointer to the tensor.\n",
    "        output_data = interpreter.get_tensor(output_details[0]['index']).flatten()\n",
    "\n",
    "        all_outputs[i,:] = output_data\n",
    "        \n",
    "    return all_outputs\n",
    "\n"
   ]
  },
  {
   "cell_type": "code",
   "execution_count": 216,
   "metadata": {},
   "outputs": [],
   "source": [
    "Y_cnn_lite_train_pred = tflite_inference(X_train,interpreter)\n",
    "Y_cnn_lite_valid_pred = tflite_inference(X_valid,interpreter)\n",
    "\n",
    "Y_cnn_lite_train_pred = np.argmin(Y_cnn_lite_train_pred,axis=1)\n",
    "Y_cnn_lite_valid_pred = np.argmin(Y_cnn_lite_valid_pred,axis=1)"
   ]
  },
  {
   "cell_type": "code",
   "execution_count": 217,
   "metadata": {},
   "outputs": [
    {
     "name": "stdout",
     "output_type": "stream",
     "text": [
      "[[448 252]\n",
      " [202 498]]\n",
      "0.6757142857142857\n",
      "[[700   0]\n",
      " [  0 700]]\n",
      "1.0\n"
     ]
    }
   ],
   "source": [
    "conf_matrix_cnn_lite_valid = confusion_matrix(Y_valid, Y_cnn_lite_valid_pred)\n",
    "accuracy_cnn_lite_valid = np.sum(np.diagonal(conf_matrix_cnn_lite_valid)) / np.sum(conf_matrix_cnn_lite_valid)\n",
    "print(conf_matrix_cnn_lite_valid)\n",
    "print(accuracy_cnn_lite_valid)\n",
    "\n",
    "conf_matrix_cnn_lite_train = confusion_matrix(Y_train, Y_cnn_lite_train_pred)\n",
    "accuracy_cnn_lite_train = np.sum(np.diagonal(conf_matrix_cnn_lite_train)) / np.sum(conf_matrix_cnn_lite_train)\n",
    "print(conf_matrix_cnn_lite_train)\n",
    "print(accuracy_cnn_lite_train)"
   ]
  },
  {
   "cell_type": "code",
   "execution_count": null,
   "metadata": {},
   "outputs": [],
   "source": []
  }
 ],
 "metadata": {
  "kernelspec": {
   "display_name": "Python 3",
   "language": "python",
   "name": "python3"
  },
  "language_info": {
   "codemirror_mode": {
    "name": "ipython",
    "version": 3
   },
   "file_extension": ".py",
   "mimetype": "text/x-python",
   "name": "python",
   "nbconvert_exporter": "python",
   "pygments_lexer": "ipython3",
   "version": "3.6.9"
  }
 },
 "nbformat": 4,
 "nbformat_minor": 4
}
