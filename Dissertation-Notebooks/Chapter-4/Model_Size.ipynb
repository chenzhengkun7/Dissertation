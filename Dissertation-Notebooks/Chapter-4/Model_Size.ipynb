{
 "cells": [
  {
   "cell_type": "code",
   "execution_count": 1,
   "metadata": {},
   "outputs": [],
   "source": [
    "import numpy as np\n",
    "import tensorflow as tf\n",
    "from tensorflow.keras.models import load_model\n",
    "import os\n",
    "import psutil\n",
    "from joblib import dump, load\n"
   ]
  },
  {
   "cell_type": "code",
   "execution_count": 2,
   "metadata": {},
   "outputs": [
    {
     "name": "stdout",
     "output_type": "stream",
     "text": [
      "321576960\n"
     ]
    }
   ],
   "source": [
    "process = psutil.Process(os.getpid())\n",
    "basePath = '/home/dnewman/'\n",
    "print(process.memory_info().rss)  # in bytes \n"
   ]
  },
  {
   "cell_type": "code",
   "execution_count": 3,
   "metadata": {},
   "outputs": [
    {
     "name": "stdout",
     "output_type": "stream",
     "text": [
      "29954048\n"
     ]
    }
   ],
   "source": [
    "current_memory = process.memory_info().rss\n",
    "model = load(basePath + \"Models/GMM/PCA-GMM.joblib\")\n",
    "loaded_memory = process.memory_info().rss\n",
    "\n",
    "model_memory = loaded_memory - current_memory\n",
    "print(model_memory)"
   ]
  },
  {
   "cell_type": "code",
   "execution_count": 4,
   "metadata": {},
   "outputs": [
    {
     "name": "stdout",
     "output_type": "stream",
     "text": [
      "905797632\n"
     ]
    }
   ],
   "source": [
    "current_memory = process.memory_info().rss\n",
    "model = load_model(basePath + \"Models/Autoencoder/Full/CNN-AE.h5\")\n",
    "loaded_memory = process.memory_info().rss\n",
    "\n",
    "model_memory = loaded_memory - current_memory\n",
    "print(model_memory)\n"
   ]
  },
  {
   "cell_type": "code",
   "execution_count": 5,
   "metadata": {},
   "outputs": [
    {
     "name": "stdout",
     "output_type": "stream",
     "text": [
      "15441920\n"
     ]
    }
   ],
   "source": [
    "current_memory = process.memory_info().rss\n",
    "model = load_model(basePath + \"Models/Autoencoder/Full/AE.h5\")\n",
    "loaded_memory = process.memory_info().rss\n",
    "\n",
    "model_memory = loaded_memory - current_memory\n",
    "print(model_memory)"
   ]
  },
  {
   "cell_type": "code",
   "execution_count": 19,
   "metadata": {},
   "outputs": [
    {
     "name": "stdout",
     "output_type": "stream",
     "text": [
      "0\n"
     ]
    }
   ],
   "source": [
    "current_memory = process.memory_info().rss\n",
    "model = tf.lite.Interpreter(model_path=basePath + \"Models/Autoencoder/Lite/CNN-AE-Lite.tflite\")\n",
    "model.allocate_tensors()\n",
    "loaded_memory = process.memory_info().rss\n",
    "\n",
    "model_memory = loaded_memory - current_memory\n",
    "print(model_memory)"
   ]
  },
  {
   "cell_type": "code",
   "execution_count": 15,
   "metadata": {},
   "outputs": [
    {
     "name": "stdout",
     "output_type": "stream",
     "text": [
      "-139264\n"
     ]
    }
   ],
   "source": [
    "current_memory = process.memory_info().rss\n",
    "model = load(basePath + \"Models/GNB/PCA-GNB.joblib\")\n",
    "loaded_memory = process.memory_info().rss\n",
    "\n",
    "model_memory = loaded_memory - current_memory\n",
    "print(model_memory)"
   ]
  },
  {
   "cell_type": "code",
   "execution_count": 8,
   "metadata": {},
   "outputs": [
    {
     "name": "stdout",
     "output_type": "stream",
     "text": [
      "778240\n"
     ]
    }
   ],
   "source": [
    "current_memory = process.memory_info().rss\n",
    "model = load_model(basePath + \"Models/MLP-Classifier/Full/MLP.h5\")\n",
    "loaded_memory = process.memory_info().rss\n",
    "\n",
    "model_memory = loaded_memory - current_memory\n",
    "print(model_memory)"
   ]
  },
  {
   "cell_type": "code",
   "execution_count": 9,
   "metadata": {},
   "outputs": [
    {
     "name": "stdout",
     "output_type": "stream",
     "text": [
      "41525248\n"
     ]
    }
   ],
   "source": [
    "current_memory = process.memory_info().rss\n",
    "model = load_model(basePath + \"Models/MLP-Classifier/Full/CNN-MLP.h5\")\n",
    "loaded_memory = process.memory_info().rss\n",
    "\n",
    "model_memory = loaded_memory - current_memory\n",
    "print(model_memory)"
   ]
  },
  {
   "cell_type": "code",
   "execution_count": 12,
   "metadata": {},
   "outputs": [
    {
     "name": "stdout",
     "output_type": "stream",
     "text": [
      "188416\n"
     ]
    }
   ],
   "source": [
    "current_memory = process.memory_info().rss\n",
    "model = tf.lite.Interpreter(model_path=basePath + \"Models/MLP-Classifier/Lite/CNN-MLP-Lite.tflite\")\n",
    "model.allocate_tensors()\n",
    "loaded_memory = process.memory_info().rss\n",
    "\n",
    "model_memory = loaded_memory - current_memory\n",
    "print(model_memory)"
   ]
  },
  {
   "cell_type": "markdown",
   "metadata": {},
   "source": [
    "316571648\n",
    "29814784\n",
    "710832128\n",
    "15601664\n",
    "102400\n",
    "1937408\n",
    "3043328\n",
    "40361984\n",
    "0\n",
    "\n",
    "317190144\n",
    "29962240\n",
    "709984256\n",
    "15740928\n",
    "94208\n",
    "1933312\n",
    "892928\n",
    "42385408\n",
    "0\n",
    "\n",
    "316850176\n",
    "29724672\n",
    "711012352\n",
    "15458304\n",
    "163840\n",
    "1937408\n",
    "4935680\n",
    "38600704\n",
    "0\n",
    "\n",
    "316628992\n",
    "29601792\n",
    "711254016\n",
    "15724544\n",
    "98304\n",
    "1937408\n",
    "880640\n",
    "42389504\n",
    "0\n",
    "\n",
    "\n",
    "\n",
    "\n",
    "\n",
    "\n",
    "\n",
    "\n",
    "\n",
    "\n"
   ]
  },
  {
   "cell_type": "code",
   "execution_count": 1,
   "metadata": {},
   "outputs": [
    {
     "data": {
      "text/plain": [
       "0.00013821222487128985"
      ]
     },
     "execution_count": 1,
     "metadata": {},
     "output_type": "execute_result"
    }
   ],
   "source": [
    "98304/711254016"
   ]
  },
  {
   "cell_type": "code",
   "execution_count": null,
   "metadata": {},
   "outputs": [],
   "source": []
  }
 ],
 "metadata": {
  "kernelspec": {
   "display_name": "Python 3",
   "language": "python",
   "name": "python3"
  },
  "language_info": {
   "codemirror_mode": {
    "name": "ipython",
    "version": 3
   },
   "file_extension": ".py",
   "mimetype": "text/x-python",
   "name": "python",
   "nbconvert_exporter": "python",
   "pygments_lexer": "ipython3",
   "version": "3.6.9"
  }
 },
 "nbformat": 4,
 "nbformat_minor": 4
}
