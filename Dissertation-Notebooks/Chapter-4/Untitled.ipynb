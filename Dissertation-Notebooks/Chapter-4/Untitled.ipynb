{
 "cells": [
  {
   "cell_type": "code",
   "execution_count": 1,
   "metadata": {},
   "outputs": [
    {
     "name": "stderr",
     "output_type": "stream",
     "text": [
      "Using TensorFlow backend.\n"
     ]
    }
   ],
   "source": [
    "\n",
    "import os\n",
    "import pandas as pd\n",
    "from sklearn.model_selection import train_test_split\n",
    "from sklearn.decomposition import PCA\n",
    "import numpy as np\n",
    "\n",
    "from matplotlib import pyplot as plt\n",
    "from crawlab_toolbox import plotting as genplt\n",
    "\n",
    "import tensorflow.keras as keras\n",
    "import tensorflow as tf\n",
    "\n",
    "from sklearn.preprocessing import OrdinalEncoder\n",
    "from sklearn.neural_network import MLPClassifier\n",
    "\n",
    "from ML_Train.Vanilla_AE import create_vanilla_ae\n",
    "from ML_Train.Variational_AE import create_autoencoder as create_conv_vae\n",
    "from ML_Train.Convolutional_AE import create_autoencoder as create_conv_ae\n",
    "from ML_Train.Variational_Vanilla_AE import create_autoencoder as create_vanilla_vae"
   ]
  },
  {
   "cell_type": "code",
   "execution_count": 2,
   "metadata": {},
   "outputs": [],
   "source": [
    "keras.backend.clear_session()\n",
    "gpus= tf.config.experimental.list_physical_devices('GPU')\n",
    "tf.config.experimental.set_memory_growth(gpus[0], True)\n"
   ]
  },
  {
   "cell_type": "code",
   "execution_count": 3,
   "metadata": {},
   "outputs": [],
   "source": [
    "featuresDF = pd.read_csv('data/featuresDF_test.csv')\n",
    "sensorId = pd.read_csv('data/sensorId_test.csv')\n",
    "vibState = pd.read_csv('data/vibState_test.csv')\n"
   ]
  },
  {
   "cell_type": "code",
   "execution_count": 4,
   "metadata": {},
   "outputs": [
    {
     "data": {
      "text/plain": [
       "array([[0.19026932591236484, 0.18310067393488846, 0.13266789221500985,\n",
       "        ..., 0.1671427076182702, 0.1831079337322781, 0.17403654513612135],\n",
       "       [0.17275100402780488, 0.14675893038178442, 0.12361566523473455,\n",
       "        ..., 0.15153643786556667, 0.16686775722775524,\n",
       "        0.15996720600044873],\n",
       "       [0.1438959400730965, 0.11567400393293392, 0.13633691280126142,\n",
       "        ..., 0.1278365312077604, 0.16744509331590074, 0.1753819107844247],\n",
       "       ...,\n",
       "       [0.07556861913012579, 0.14810913231229886, 0.14869611399033902,\n",
       "        ..., 0.16696557674984136, 0.16545549039199373,\n",
       "        0.15665604073624528],\n",
       "       [0.06587958629914507, 0.16279217794603307, 0.19514960281229216,\n",
       "        ..., 0.10894763845962298, 0.15580001126928567,\n",
       "        0.1633813522988946],\n",
       "       [0.0482213333411101, 0.13494151986820418, 0.13891789750807862,\n",
       "        ..., 0.15469579463226396, 0.130641891893711, 0.1439047550134809]],\n",
       "      dtype=object)"
      ]
     },
     "execution_count": 4,
     "metadata": {},
     "output_type": "execute_result"
    }
   ],
   "source": [
    "featuresDF.values[:,1:1025]"
   ]
  },
  {
   "cell_type": "code",
   "execution_count": 5,
   "metadata": {},
   "outputs": [],
   "source": [
    "X = featuresDF.values[:,1:1025].astype(np.float32)\n",
    "enc = OrdinalEncoder()\n",
    "Y = enc.fit_transform(vibState.values)"
   ]
  },
  {
   "cell_type": "code",
   "execution_count": 6,
   "metadata": {},
   "outputs": [],
   "source": [
    "X_train, X_test, y_train, y_test = train_test_split(X, Y, test_size=0.20)\n"
   ]
  },
  {
   "cell_type": "code",
   "execution_count": 7,
   "metadata": {},
   "outputs": [],
   "source": [
    "pca = PCA(n_components=0.8)\n",
    "X_condensed_pca = pca.fit_transform(X)\n",
    "X_reconstructed_pca = pca.inverse_transform(X_condensed_pca)\n",
    "cumulative_variance = np.cumsum(pca.explained_variance_ratio_)"
   ]
  },
  {
   "cell_type": "code",
   "execution_count": 8,
   "metadata": {},
   "outputs": [
    {
     "data": {
      "text/plain": [
       "[<matplotlib.lines.Line2D at 0x7f8e834d8908>]"
      ]
     },
     "execution_count": 8,
     "metadata": {},
     "output_type": "execute_result"
    },
    {
     "data": {
      "image/png": "[encoded data removed]",
      "text/plain": [
       "<Figure size 432x288 with 1 Axes>"
      ]
     },
     "metadata": {
      "needs_background": "light"
     },
     "output_type": "display_data"
    }
   ],
   "source": [
    "plt.plot(cumulative_variance)"
   ]
  },
  {
   "cell_type": "code",
   "execution_count": 9,
   "metadata": {},
   "outputs": [
    {
     "name": "stdout",
     "output_type": "stream",
     "text": [
      "Model: \"sequential_2\"\n",
      "_________________________________________________________________\n",
      "Layer (type)                 Output Shape              Param #   \n",
      "=================================================================\n",
      "sequential (Sequential)      (None, 25)                537625    \n",
      "_________________________________________________________________\n",
      "sequential_1 (Sequential)    (None, 1024)              539274    \n",
      "=================================================================\n",
      "Total params: 1,076,899\n",
      "Trainable params: 1,076,899\n",
      "Non-trainable params: 0\n",
      "_________________________________________________________________\n",
      "None\n"
     ]
    },
    {
     "data": {
      "image/png": "[encoded data removed]",
      "text/plain": [
       "<Figure size 432x288 with 1 Axes>"
      ]
     },
     "metadata": {
      "needs_background": "light"
     },
     "output_type": "display_data"
    }
   ],
   "source": [
    "param_dict = {\n",
    "    \"hidden_nodes\":[512,25],\n",
    "    \"input_shape\":(1024,),\n",
    "}\n",
    "max_epochs = 20\n",
    "batch_size = 32\n",
    "verbose = 0\n",
    "\n",
    "model = create_vanilla_ae(param_dict)\n",
    "\n",
    "model.compile(loss='binary_crossentropy', \n",
    "              optimizer='adam')\n",
    "\n",
    "loss = model.fit(\n",
    "            X_train,X_train,\n",
    "            validation_data=(X_test,X_test),\n",
    "            epochs=max_epochs,\n",
    "            batch_size=batch_size,\n",
    "            verbose=verbose)\n",
    "\n",
    "X_reconstructed_vanilla_ae = model.predict(X)\n",
    "\n",
    "print(model.summary())\n",
    "\n",
    "plt.plot(X[0,:])\n",
    "plt.plot(X_reconstructed_vanilla_ae[0,:])\n",
    "# plt.plot(X_reconstructed_pca[0,:])\n",
    "plt.show()"
   ]
  },
  {
   "cell_type": "code",
   "execution_count": 44,
   "metadata": {},
   "outputs": [
    {
     "name": "stdout",
     "output_type": "stream",
     "text": [
      "Model: \"model_23\"\n",
      "__________________________________________________________________________________________________\n",
      "Layer (type)                    Output Shape         Param #     Connected to                     \n",
      "==================================================================================================\n",
      "input_15 (InputLayer)           [(None, 1024)]       0                                            \n",
      "__________________________________________________________________________________________________\n",
      "model_21 (Model)                [(None, 100), (None, 627400      input_15[0][0]                   \n",
      "__________________________________________________________________________________________________\n",
      "model_22 (Model)                (None, 1024)         577024      model_21[1][2]                   \n",
      "__________________________________________________________________________________________________\n",
      "dense_65 (Dense)                (None, 512)          524800      input_15[0][0]                   \n",
      "__________________________________________________________________________________________________\n",
      "dense_67 (Dense)                (None, 100)          51300       dense_65[0][0]                   \n",
      "__________________________________________________________________________________________________\n",
      "tf_op_layer_add_7 (TensorFlowOp [(None, 100)]        0           dense_67[0][0]                   \n",
      "__________________________________________________________________________________________________\n",
      "tf_op_layer_Exp_7 (TensorFlowOp [(None, 100)]        0           dense_67[0][0]                   \n",
      "__________________________________________________________________________________________________\n",
      "dense_66 (Dense)                (None, 100)          51300       dense_65[0][0]                   \n",
      "__________________________________________________________________________________________________\n",
      "tf_op_layer_sub_14 (TensorFlowO [(None, 100)]        0           tf_op_layer_add_7[0][0]          \n",
      "                                                                 tf_op_layer_Exp_7[0][0]          \n",
      "__________________________________________________________________________________________________\n",
      "tf_op_layer_Square_7 (TensorFlo [(None, 100)]        0           dense_66[0][0]                   \n",
      "__________________________________________________________________________________________________\n",
      "tf_op_layer_sub_15 (TensorFlowO [(None, 100)]        0           tf_op_layer_sub_14[0][0]         \n",
      "                                                                 tf_op_layer_Square_7[0][0]       \n",
      "__________________________________________________________________________________________________\n",
      "tf_op_layer_Sum_7 (TensorFlowOp [(None,)]            0           tf_op_layer_sub_15[0][0]         \n",
      "__________________________________________________________________________________________________\n",
      "tf_op_layer_mul_7 (TensorFlowOp [(None,)]            0           tf_op_layer_Sum_7[0][0]          \n",
      "__________________________________________________________________________________________________\n",
      "tf_op_layer_Mean_7 (TensorFlowO [()]                 0           tf_op_layer_mul_7[0][0]          \n",
      "__________________________________________________________________________________________________\n",
      "tf_op_layer_truediv_7 (TensorFl [()]                 0           tf_op_layer_Mean_7[0][0]         \n",
      "__________________________________________________________________________________________________\n",
      "add_loss_7 (AddLoss)            ()                   0           tf_op_layer_truediv_7[0][0]      \n",
      "==================================================================================================\n",
      "Total params: 1,204,424\n",
      "Trainable params: 1,204,424\n",
      "Non-trainable params: 0\n",
      "__________________________________________________________________________________________________\n"
     ]
    },
    {
     "data": {
      "image/png": "[encoded data removed]",
      "text/plain": [
       "<Figure size 432x288 with 1 Axes>"
      ]
     },
     "metadata": {
      "needs_background": "light"
     },
     "output_type": "display_data"
    }
   ],
   "source": [
    "param_dict = {\n",
    "    \"hidden_nodes\":[512],\n",
    "    \"input_shape\":[1024,],\n",
    "    \"codings_size\":100,\n",
    "}\n",
    "\n",
    "model,_,_ = create_vanilla_vae(param_dict)\n",
    "\n",
    "model.compile(loss='binary_crossentropy', \n",
    "              optimizer='adam')\n",
    "\n",
    "loss = model.fit(\n",
    "            X_train,X_train,\n",
    "            validation_data=(X_test,X_test),\n",
    "            epochs=50,\n",
    "            batch_size=128,\n",
    "            verbose=verbose)\n",
    "\n",
    "X_reconstructed_vanilla_vae = model.predict(X)\n",
    "\n",
    "model.summary()\n",
    "\n",
    "plt.plot(X[0,:])\n",
    "plt.plot(X_reconstructed_vanilla_vae[0,:])\n",
    "# plt.plot(X_reconstructed_pca[0,:])\n",
    "plt.show()"
   ]
  },
  {
   "cell_type": "code",
   "execution_count": 19,
   "metadata": {},
   "outputs": [
    {
     "name": "stdout",
     "output_type": "stream",
     "text": [
      "Model: \"sequential_2\"\n",
      "_________________________________________________________________\n",
      "Layer (type)                 Output Shape              Param #   \n",
      "=================================================================\n",
      "sequential (Sequential)      (None, 25)                268825    \n",
      "_________________________________________________________________\n",
      "sequential_1 (Sequential)    (None, 1024)              270474    \n",
      "=================================================================\n",
      "Total params: 539,299\n",
      "Trainable params: 539,299\n",
      "Non-trainable params: 0\n",
      "_________________________________________________________________\n"
     ]
    }
   ],
   "source": [
    "model.summary()"
   ]
  },
  {
   "cell_type": "code",
   "execution_count": 20,
   "metadata": {},
   "outputs": [
    {
     "data": {
      "text/plain": [
       "<tf.Tensor 'sequential_input:0' shape=(None, 1024) dtype=float32>"
      ]
     },
     "execution_count": 20,
     "metadata": {},
     "output_type": "execute_result"
    }
   ],
   "source": [
    "model.input"
   ]
  },
  {
   "cell_type": "code",
   "execution_count": 69,
   "metadata": {},
   "outputs": [],
   "source": [
    "filters=[20,20]\n",
    "kernels = [9,3]\n",
    "strides=[1,1,1]\n",
    "dilation_rates=[1,1,1]\n",
    "input_shape = [1024,1]\n",
    "dense_nodes = [64]\n",
    "codings_size = 8\n",
    "\n",
    "param_dict = {\n",
    "    \"filters\":filters,\n",
    "    \"kernels\":kernels,\n",
    "    \"strides\":strides,\n",
    "    \"dilation_rates\":dilation_rates,\n",
    "    \"input_shape\":input_shape,\n",
    "    \"dense_nodes\":dense_nodes,\n",
    "    \"codings_size\":codings_size\n",
    "}\n",
    "\n",
    "model,vae_encoder,vae_decoder = create_conv_vae(param_dict)"
   ]
  },
  {
   "cell_type": "code",
   "execution_count": 70,
   "metadata": {},
   "outputs": [
    {
     "name": "stdout",
     "output_type": "stream",
     "text": [
      "Train on 1120 samples, validate on 280 samples\n",
      "Epoch 1/20\n",
      "1120/1120 [==============================] - 4s 3ms/sample - loss: 0.5550 - val_loss: 0.4606\n",
      "Epoch 2/20\n",
      "1120/1120 [==============================] - 0s 279us/sample - loss: 0.4693 - val_loss: 0.4472\n",
      "Epoch 3/20\n",
      "1120/1120 [==============================] - 0s 277us/sample - loss: 0.4554 - val_loss: 0.4467\n",
      "Epoch 4/20\n",
      "1120/1120 [==============================] - 0s 264us/sample - loss: 0.4505 - val_loss: 0.4463\n",
      "Epoch 5/20\n",
      "1120/1120 [==============================] - 0s 271us/sample - loss: 0.4479 - val_loss: 0.4462\n",
      "Epoch 6/20\n",
      "1120/1120 [==============================] - 0s 262us/sample - loss: 0.4465 - val_loss: 0.4460\n",
      "Epoch 7/20\n",
      "1120/1120 [==============================] - 0s 269us/sample - loss: 0.4458 - val_loss: 0.4461\n",
      "Epoch 8/20\n",
      "1120/1120 [==============================] - 0s 256us/sample - loss: 0.4456 - val_loss: 0.4462\n",
      "Epoch 9/20\n",
      "1120/1120 [==============================] - 0s 275us/sample - loss: 0.4454 - val_loss: 0.4462\n",
      "Epoch 10/20\n",
      "1120/1120 [==============================] - 0s 280us/sample - loss: 0.4453 - val_loss: 0.4462\n",
      "Epoch 11/20\n",
      "1120/1120 [==============================] - 0s 276us/sample - loss: 0.4452 - val_loss: 0.4462\n",
      "Epoch 12/20\n",
      "1120/1120 [==============================] - 0s 274us/sample - loss: 0.4451 - val_loss: 0.4462\n",
      "Epoch 13/20\n",
      "1120/1120 [==============================] - 0s 261us/sample - loss: 0.4451 - val_loss: 0.4460\n",
      "Epoch 14/20\n",
      "1120/1120 [==============================] - 0s 268us/sample - loss: 0.4450 - val_loss: 0.4459\n",
      "Epoch 15/20\n",
      "1120/1120 [==============================] - 0s 281us/sample - loss: 0.4450 - val_loss: 0.4457\n",
      "Epoch 16/20\n",
      "1120/1120 [==============================] - 0s 271us/sample - loss: 0.4450 - val_loss: 0.4456\n",
      "Epoch 17/20\n",
      "1120/1120 [==============================] - 0s 274us/sample - loss: 0.4450 - val_loss: 0.4455\n",
      "Epoch 18/20\n",
      "1120/1120 [==============================] - 0s 264us/sample - loss: 0.4450 - val_loss: 0.4454\n",
      "Epoch 19/20\n",
      "1120/1120 [==============================] - 0s 279us/sample - loss: 0.4449 - val_loss: 0.4452\n",
      "Epoch 20/20\n",
      "1120/1120 [==============================] - 0s 263us/sample - loss: 0.4449 - val_loss: 0.4452\n"
     ]
    }
   ],
   "source": [
    "model.compile(loss='binary_crossentropy',optimizer='adam')\n",
    "history = model.fit(X_train[...,np.newaxis],X_train[...,np.newaxis],\n",
    "                    epochs=20,batch_size=64,\n",
    "                    validation_data=[X_test[...,np.newaxis],X_test[...,np.newaxis]])"
   ]
  },
  {
   "cell_type": "code",
   "execution_count": 71,
   "metadata": {},
   "outputs": [
    {
     "name": "stdout",
     "output_type": "stream",
     "text": [
      "(1024, 1)\n",
      "(1024,)\n"
     ]
    }
   ],
   "source": [
    "X_reconstructed_cnn_vae = model.predict(X[...,np.newaxis])\n",
    "print(X_reconstructed_cnn_vae[0,:].shape)\n",
    "print(X[0,:].shape)\n"
   ]
  },
  {
   "cell_type": "code",
   "execution_count": 72,
   "metadata": {},
   "outputs": [
    {
     "data": {
      "image/png": "[encoded data removed]",
      "text/plain": [
       "<Figure size 432x288 with 1 Axes>"
      ]
     },
     "metadata": {
      "needs_background": "light"
     },
     "output_type": "display_data"
    }
   ],
   "source": [
    "plt.plot(X[0,:])\n",
    "plt.plot(X_reconstructed_cnn_vae[0,:])\n",
    "# plt.plot(X_reconstructed_pca[0,:])\n",
    "plt.show()"
   ]
  },
  {
   "cell_type": "code",
   "execution_count": 73,
   "metadata": {},
   "outputs": [],
   "source": [
    "filters=[20]\n",
    "kernels = [3]\n",
    "strides=[1,1,1]\n",
    "dilation_rates=[1,1,1]\n",
    "input_shape = [1024,1]\n",
    "dense_nodes = [32]\n",
    "codings_size = 16\n",
    "\n",
    "param_dict = {\n",
    "    \"filters\":filters,\n",
    "    \"kernels\":kernels,\n",
    "    \"strides\":strides,\n",
    "    \"dilation_rates\":dilation_rates,\n",
    "    \"input_shape\":input_shape,\n",
    "    \"dense_nodes\":dense_nodes,\n",
    "    \"codings_size\":codings_size\n",
    "}\n",
    "\n",
    "model = create_conv_ae(param_dict)"
   ]
  },
  {
   "cell_type": "code",
   "execution_count": 74,
   "metadata": {},
   "outputs": [
    {
     "name": "stdout",
     "output_type": "stream",
     "text": [
      "Train on 1120 samples, validate on 280 samples\n",
      "Epoch 1/40\n",
      "1120/1120 [==============================] - 1s 1ms/sample - loss: 0.0981 - val_loss: 0.0920\n",
      "Epoch 2/40\n",
      "1120/1120 [==============================] - 0s 165us/sample - loss: 0.0608 - val_loss: 0.0469\n",
      "Epoch 3/40\n",
      "1120/1120 [==============================] - 0s 162us/sample - loss: 0.0236 - val_loss: 0.0087\n",
      "Epoch 4/40\n",
      "1120/1120 [==============================] - 0s 157us/sample - loss: 0.0107 - val_loss: 0.0029\n",
      "Epoch 5/40\n",
      "1120/1120 [==============================] - 0s 161us/sample - loss: 0.0097 - val_loss: 0.0031\n",
      "Epoch 6/40\n",
      "1120/1120 [==============================] - 0s 159us/sample - loss: 0.0090 - val_loss: 0.0043\n",
      "Epoch 7/40\n",
      "1120/1120 [==============================] - 0s 165us/sample - loss: 0.0084 - val_loss: 0.0035\n",
      "Epoch 8/40\n",
      "1120/1120 [==============================] - 0s 153us/sample - loss: 0.0078 - val_loss: 0.0027\n",
      "Epoch 9/40\n",
      "1120/1120 [==============================] - 0s 161us/sample - loss: 0.0068 - val_loss: 0.0020\n",
      "Epoch 10/40\n",
      "1120/1120 [==============================] - 0s 166us/sample - loss: 0.0057 - val_loss: 0.0017\n",
      "Epoch 11/40\n",
      "1120/1120 [==============================] - 0s 169us/sample - loss: 0.0050 - val_loss: 0.0016\n",
      "Epoch 12/40\n",
      "1120/1120 [==============================] - 0s 163us/sample - loss: 0.0046 - val_loss: 0.0015\n",
      "Epoch 13/40\n",
      "1120/1120 [==============================] - 0s 158us/sample - loss: 0.0043 - val_loss: 0.0014\n",
      "Epoch 14/40\n",
      "1120/1120 [==============================] - 0s 157us/sample - loss: 0.0041 - val_loss: 0.0013\n",
      "Epoch 15/40\n",
      "1120/1120 [==============================] - 0s 156us/sample - loss: 0.0039 - val_loss: 0.0012\n",
      "Epoch 16/40\n",
      "1120/1120 [==============================] - 0s 152us/sample - loss: 0.0038 - val_loss: 0.0011\n",
      "Epoch 17/40\n",
      "1120/1120 [==============================] - 0s 158us/sample - loss: 0.0036 - val_loss: 0.0010\n",
      "Epoch 18/40\n",
      "1120/1120 [==============================] - 0s 163us/sample - loss: 0.0035 - val_loss: 9.8824e-04\n",
      "Epoch 19/40\n",
      "1120/1120 [==============================] - 0s 162us/sample - loss: 0.0034 - val_loss: 9.3897e-04\n",
      "Epoch 20/40\n",
      "1120/1120 [==============================] - 0s 157us/sample - loss: 0.0033 - val_loss: 9.0132e-04\n",
      "Epoch 21/40\n",
      "1120/1120 [==============================] - 0s 162us/sample - loss: 0.0032 - val_loss: 8.5843e-04\n",
      "Epoch 22/40\n",
      "1120/1120 [==============================] - 0s 158us/sample - loss: 0.0032 - val_loss: 8.1491e-04\n",
      "Epoch 23/40\n",
      "1120/1120 [==============================] - 0s 164us/sample - loss: 0.0031 - val_loss: 7.8500e-04\n",
      "Epoch 24/40\n",
      "1120/1120 [==============================] - 0s 157us/sample - loss: 0.0030 - val_loss: 7.4313e-04\n",
      "Epoch 25/40\n",
      "1120/1120 [==============================] - 0s 164us/sample - loss: 0.0030 - val_loss: 7.1552e-04\n",
      "Epoch 26/40\n",
      "1120/1120 [==============================] - 0s 161us/sample - loss: 0.0029 - val_loss: 6.7651e-04\n",
      "Epoch 27/40\n",
      "1120/1120 [==============================] - 0s 161us/sample - loss: 0.0028 - val_loss: 6.4857e-04\n",
      "Epoch 28/40\n",
      "1120/1120 [==============================] - 0s 162us/sample - loss: 0.0028 - val_loss: 6.4122e-04\n",
      "Epoch 29/40\n",
      "1120/1120 [==============================] - 0s 165us/sample - loss: 0.0027 - val_loss: 5.9778e-04\n",
      "Epoch 30/40\n",
      "1120/1120 [==============================] - 0s 164us/sample - loss: 0.0027 - val_loss: 5.5855e-04\n",
      "Epoch 31/40\n",
      "1120/1120 [==============================] - 0s 161us/sample - loss: 0.0027 - val_loss: 5.1777e-04\n",
      "Epoch 32/40\n",
      "1120/1120 [==============================] - 0s 162us/sample - loss: 0.0026 - val_loss: 4.7790e-04\n",
      "Epoch 33/40\n",
      "1120/1120 [==============================] - 0s 169us/sample - loss: 0.0026 - val_loss: 4.5348e-04\n",
      "Epoch 34/40\n",
      "1120/1120 [==============================] - 0s 166us/sample - loss: 0.0025 - val_loss: 4.3260e-04\n",
      "Epoch 35/40\n",
      "1120/1120 [==============================] - 0s 166us/sample - loss: 0.0025 - val_loss: 4.2219e-04\n",
      "Epoch 36/40\n",
      "1120/1120 [==============================] - 0s 165us/sample - loss: 0.0025 - val_loss: 4.4961e-04\n",
      "Epoch 37/40\n",
      "1120/1120 [==============================] - 0s 158us/sample - loss: 0.0025 - val_loss: 5.2256e-04\n",
      "Epoch 38/40\n",
      "1120/1120 [==============================] - 0s 156us/sample - loss: 0.0024 - val_loss: 0.0011\n",
      "Epoch 39/40\n",
      "1120/1120 [==============================] - 0s 163us/sample - loss: 0.0024 - val_loss: 8.9954e-04\n",
      "Epoch 40/40\n",
      "1120/1120 [==============================] - 0s 158us/sample - loss: 0.0024 - val_loss: 8.8428e-04\n"
     ]
    }
   ],
   "source": [
    "model.compile(loss='mean_squared_error',optimizer='adam')\n",
    "history = model.fit(X_train[...,np.newaxis],X_train[...,np.newaxis],\n",
    "                    epochs=40,batch_size=64,\n",
    "                    validation_data=[X_test[...,np.newaxis],X_test[...,np.newaxis]])"
   ]
  },
  {
   "cell_type": "code",
   "execution_count": 75,
   "metadata": {},
   "outputs": [
    {
     "name": "stdout",
     "output_type": "stream",
     "text": [
      "Model: \"sequential_20\"\n",
      "_________________________________________________________________\n",
      "Layer (type)                 Output Shape              Param #   \n",
      "=================================================================\n",
      "sequential_18 (Sequential)   (None, 512, 20)           160       \n",
      "_________________________________________________________________\n",
      "sequential_19 (Sequential)   (None, 1024, 1)           1281      \n",
      "=================================================================\n",
      "Total params: 1,441\n",
      "Trainable params: 1,401\n",
      "Non-trainable params: 40\n",
      "_________________________________________________________________\n"
     ]
    }
   ],
   "source": [
    "model.summary()"
   ]
  },
  {
   "cell_type": "code",
   "execution_count": 76,
   "metadata": {},
   "outputs": [
    {
     "name": "stdout",
     "output_type": "stream",
     "text": [
      "(1024, 1)\n",
      "(1024,)\n"
     ]
    }
   ],
   "source": [
    "X_reconstructed_cnn_ae = model.predict(X[...,np.newaxis])\n",
    "print(X_reconstructed_cnn_ae[0,:].shape)\n",
    "print(X[0,:].shape)"
   ]
  },
  {
   "cell_type": "code",
   "execution_count": 77,
   "metadata": {},
   "outputs": [
    {
     "data": {
      "image/png": "[encoded data removed]",
      "text/plain": [
       "<Figure size 432x288 with 1 Axes>"
      ]
     },
     "metadata": {
      "needs_background": "light"
     },
     "output_type": "display_data"
    }
   ],
   "source": [
    "plt.plot(X[0,:])\n",
    "plt.plot(X_reconstructed_cnn_ae[0,:])\n",
    "# plt.plot(X_reconstructed_pca[0,:])\n",
    "plt.show()"
   ]
  },
  {
   "cell_type": "code",
   "execution_count": 66,
   "metadata": {},
   "outputs": [
    {
     "name": "stdout",
     "output_type": "stream",
     "text": [
      "Train on 1120 samples, validate on 280 samples\n",
      "Epoch 1/50\n",
      "1120/1120 [==============================] - 1s 504us/sample - loss: 0.0568 - rounded_accuracy: 0.8805 - val_loss: 0.0143 - val_rounded_accuracy: 0.9948\n",
      "Epoch 2/50\n",
      "1120/1120 [==============================] - 0s 75us/sample - loss: 0.0117 - rounded_accuracy: 0.9950 - val_loss: 0.0103 - val_rounded_accuracy: 0.9948\n",
      "Epoch 3/50\n",
      "1120/1120 [==============================] - 0s 73us/sample - loss: 0.0104 - rounded_accuracy: 0.9948 - val_loss: 0.0111 - val_rounded_accuracy: 0.9948\n",
      "Epoch 4/50\n",
      "1120/1120 [==============================] - 0s 74us/sample - loss: 0.0091 - rounded_accuracy: 0.9948 - val_loss: 0.0108 - val_rounded_accuracy: 0.9948\n",
      "Epoch 5/50\n",
      "1120/1120 [==============================] - 0s 76us/sample - loss: 0.0081 - rounded_accuracy: 0.9950 - val_loss: 0.0071 - val_rounded_accuracy: 0.9948\n",
      "Epoch 6/50\n",
      "1120/1120 [==============================] - 0s 75us/sample - loss: 0.0074 - rounded_accuracy: 0.9948 - val_loss: 0.0073 - val_rounded_accuracy: 0.9948\n",
      "Epoch 7/50\n",
      "1120/1120 [==============================] - 0s 73us/sample - loss: 0.0068 - rounded_accuracy: 0.9950 - val_loss: 0.0058 - val_rounded_accuracy: 0.9948\n",
      "Epoch 8/50\n",
      "1120/1120 [==============================] - 0s 72us/sample - loss: 0.0058 - rounded_accuracy: 0.9950 - val_loss: 0.0057 - val_rounded_accuracy: 0.9947\n",
      "Epoch 9/50\n",
      "1120/1120 [==============================] - 0s 77us/sample - loss: 0.0056 - rounded_accuracy: 0.9949 - val_loss: 0.0059 - val_rounded_accuracy: 0.9948\n",
      "Epoch 10/50\n",
      "1120/1120 [==============================] - 0s 72us/sample - loss: 0.0051 - rounded_accuracy: 0.9949 - val_loss: 0.0044 - val_rounded_accuracy: 0.9948\n",
      "Epoch 11/50\n",
      "1120/1120 [==============================] - 0s 71us/sample - loss: 0.0041 - rounded_accuracy: 0.9950 - val_loss: 0.0065 - val_rounded_accuracy: 0.9948\n",
      "Epoch 12/50\n",
      "1120/1120 [==============================] - 0s 73us/sample - loss: 0.0051 - rounded_accuracy: 0.9950 - val_loss: 0.0033 - val_rounded_accuracy: 0.9948\n",
      "Epoch 13/50\n",
      "1120/1120 [==============================] - 0s 73us/sample - loss: 0.0033 - rounded_accuracy: 0.9950 - val_loss: 0.0030 - val_rounded_accuracy: 0.9948\n",
      "Epoch 14/50\n",
      "1120/1120 [==============================] - 0s 78us/sample - loss: 0.0033 - rounded_accuracy: 0.9949 - val_loss: 0.0033 - val_rounded_accuracy: 0.9948\n",
      "Epoch 15/50\n",
      "1120/1120 [==============================] - 0s 79us/sample - loss: 0.0028 - rounded_accuracy: 0.9950 - val_loss: 0.0028 - val_rounded_accuracy: 0.9948\n",
      "Epoch 16/50\n",
      "1120/1120 [==============================] - 0s 77us/sample - loss: 0.0028 - rounded_accuracy: 0.9950 - val_loss: 0.0027 - val_rounded_accuracy: 0.9948\n",
      "Epoch 17/50\n",
      "1120/1120 [==============================] - 0s 79us/sample - loss: 0.0026 - rounded_accuracy: 0.9950 - val_loss: 0.0026 - val_rounded_accuracy: 0.9948\n",
      "Epoch 18/50\n",
      "1120/1120 [==============================] - 0s 70us/sample - loss: 0.0027 - rounded_accuracy: 0.9950 - val_loss: 0.0024 - val_rounded_accuracy: 0.9948\n",
      "Epoch 19/50\n",
      "1120/1120 [==============================] - 0s 77us/sample - loss: 0.0025 - rounded_accuracy: 0.9950 - val_loss: 0.0028 - val_rounded_accuracy: 0.9948\n",
      "Epoch 20/50\n",
      "1120/1120 [==============================] - 0s 75us/sample - loss: 0.0025 - rounded_accuracy: 0.9950 - val_loss: 0.0027 - val_rounded_accuracy: 0.9948\n",
      "Epoch 21/50\n",
      "1120/1120 [==============================] - 0s 70us/sample - loss: 0.0025 - rounded_accuracy: 0.9950 - val_loss: 0.0025 - val_rounded_accuracy: 0.9948\n",
      "Epoch 22/50\n",
      "1120/1120 [==============================] - 0s 74us/sample - loss: 0.0025 - rounded_accuracy: 0.9950 - val_loss: 0.0026 - val_rounded_accuracy: 0.9948\n",
      "Epoch 23/50\n",
      "1120/1120 [==============================] - 0s 74us/sample - loss: 0.0025 - rounded_accuracy: 0.9950 - val_loss: 0.0028 - val_rounded_accuracy: 0.9948\n",
      "Epoch 24/50\n",
      "1120/1120 [==============================] - 0s 71us/sample - loss: 0.0024 - rounded_accuracy: 0.9950 - val_loss: 0.0025 - val_rounded_accuracy: 0.9948\n",
      "Epoch 25/50\n",
      "1120/1120 [==============================] - 0s 75us/sample - loss: 0.0025 - rounded_accuracy: 0.9950 - val_loss: 0.0025 - val_rounded_accuracy: 0.9948\n",
      "Epoch 26/50\n",
      "1120/1120 [==============================] - 0s 77us/sample - loss: 0.0024 - rounded_accuracy: 0.9950 - val_loss: 0.0024 - val_rounded_accuracy: 0.9948\n",
      "Epoch 27/50\n",
      "1120/1120 [==============================] - 0s 73us/sample - loss: 0.0025 - rounded_accuracy: 0.9950 - val_loss: 0.0025 - val_rounded_accuracy: 0.9948\n",
      "Epoch 28/50\n",
      "1120/1120 [==============================] - 0s 77us/sample - loss: 0.0023 - rounded_accuracy: 0.9950 - val_loss: 0.0024 - val_rounded_accuracy: 0.9948\n",
      "Epoch 29/50\n",
      "1120/1120 [==============================] - 0s 79us/sample - loss: 0.0025 - rounded_accuracy: 0.9950 - val_loss: 0.0024 - val_rounded_accuracy: 0.9948\n",
      "Epoch 30/50\n",
      "1120/1120 [==============================] - 0s 78us/sample - loss: 0.0023 - rounded_accuracy: 0.9950 - val_loss: 0.0025 - val_rounded_accuracy: 0.9948\n",
      "Epoch 31/50\n",
      "1120/1120 [==============================] - 0s 81us/sample - loss: 0.0025 - rounded_accuracy: 0.9950 - val_loss: 0.0024 - val_rounded_accuracy: 0.9948\n",
      "Epoch 32/50\n",
      "1120/1120 [==============================] - 0s 77us/sample - loss: 0.0024 - rounded_accuracy: 0.9950 - val_loss: 0.0025 - val_rounded_accuracy: 0.9948\n",
      "Epoch 33/50\n",
      "1120/1120 [==============================] - 0s 82us/sample - loss: 0.0024 - rounded_accuracy: 0.9950 - val_loss: 0.0024 - val_rounded_accuracy: 0.9948\n",
      "Epoch 34/50\n",
      "1120/1120 [==============================] - 0s 83us/sample - loss: 0.0024 - rounded_accuracy: 0.9950 - val_loss: 0.0024 - val_rounded_accuracy: 0.9948\n",
      "Epoch 35/50\n",
      "1120/1120 [==============================] - 0s 80us/sample - loss: 0.0023 - rounded_accuracy: 0.9950 - val_loss: 0.0024 - val_rounded_accuracy: 0.9948\n",
      "Epoch 36/50\n",
      "1120/1120 [==============================] - 0s 82us/sample - loss: 0.0024 - rounded_accuracy: 0.9950 - val_loss: 0.0024 - val_rounded_accuracy: 0.9948\n",
      "Epoch 37/50\n",
      "1120/1120 [==============================] - 0s 79us/sample - loss: 0.0023 - rounded_accuracy: 0.9950 - val_loss: 0.0025 - val_rounded_accuracy: 0.9948\n",
      "Epoch 38/50\n",
      "1120/1120 [==============================] - 0s 76us/sample - loss: 0.0023 - rounded_accuracy: 0.9950 - val_loss: 0.0024 - val_rounded_accuracy: 0.9948\n",
      "Epoch 39/50\n",
      "1120/1120 [==============================] - 0s 77us/sample - loss: 0.0024 - rounded_accuracy: 0.9950 - val_loss: 0.0023 - val_rounded_accuracy: 0.9948\n",
      "Epoch 40/50\n",
      "1120/1120 [==============================] - 0s 80us/sample - loss: 0.0023 - rounded_accuracy: 0.9950 - val_loss: 0.0024 - val_rounded_accuracy: 0.9948\n",
      "Epoch 41/50\n",
      "1120/1120 [==============================] - 0s 70us/sample - loss: 0.0024 - rounded_accuracy: 0.9950 - val_loss: 0.0024 - val_rounded_accuracy: 0.9948\n",
      "Epoch 42/50\n",
      "1120/1120 [==============================] - 0s 70us/sample - loss: 0.0023 - rounded_accuracy: 0.9950 - val_loss: 0.0024 - val_rounded_accuracy: 0.9948\n",
      "Epoch 43/50\n",
      "1120/1120 [==============================] - 0s 73us/sample - loss: 0.0024 - rounded_accuracy: 0.9950 - val_loss: 0.0024 - val_rounded_accuracy: 0.9948\n",
      "Epoch 44/50\n",
      "1120/1120 [==============================] - 0s 78us/sample - loss: 0.0023 - rounded_accuracy: 0.9950 - val_loss: 0.0023 - val_rounded_accuracy: 0.9948\n",
      "Epoch 45/50\n",
      "1120/1120 [==============================] - 0s 79us/sample - loss: 0.0024 - rounded_accuracy: 0.9950 - val_loss: 0.0024 - val_rounded_accuracy: 0.9948\n",
      "Epoch 46/50\n",
      "1120/1120 [==============================] - 0s 74us/sample - loss: 0.0023 - rounded_accuracy: 0.9950 - val_loss: 0.0024 - val_rounded_accuracy: 0.9948\n",
      "Epoch 47/50\n",
      "1120/1120 [==============================] - 0s 78us/sample - loss: 0.0024 - rounded_accuracy: 0.9950 - val_loss: 0.0024 - val_rounded_accuracy: 0.9948\n",
      "Epoch 48/50\n",
      "1120/1120 [==============================] - 0s 78us/sample - loss: 0.0023 - rounded_accuracy: 0.9950 - val_loss: 0.0023 - val_rounded_accuracy: 0.9948\n",
      "Epoch 49/50\n",
      "1120/1120 [==============================] - 0s 73us/sample - loss: 0.0024 - rounded_accuracy: 0.9950 - val_loss: 0.0024 - val_rounded_accuracy: 0.9948\n",
      "Epoch 50/50\n",
      "1120/1120 [==============================] - 0s 78us/sample - loss: 0.0023 - rounded_accuracy: 0.9950 - val_loss: 0.0023 - val_rounded_accuracy: 0.9948\n"
     ]
    }
   ],
   "source": [
    "from tensorflow.keras import backend as K\n",
    "from tensorflow import keras\n",
    "\n",
    "\n",
    "class Sampling(keras.layers.Layer):\n",
    "    def call(self, inputs):\n",
    "        mean, log_var = inputs\n",
    "        return K.random_normal(tf.shape(log_var)) * K.exp(log_var / 2) + mean \n",
    "    \n",
    "def rounded_accuracy(y_true, y_pred):\n",
    "    return keras.metrics.binary_accuracy(tf.round(y_true), tf.round(y_pred))\n",
    "\n",
    "tf.random.set_seed(42)\n",
    "np.random.seed(42)\n",
    "\n",
    "codings_size = 5\n",
    "\n",
    "inputs = keras.layers.Input(shape=[1024])\n",
    "z = keras.layers.Flatten()(inputs)\n",
    "z = keras.layers.Dense(150, activation=\"selu\")(z)\n",
    "z = keras.layers.Dense(100, activation=\"selu\")(z)\n",
    "codings_mean = keras.layers.Dense(codings_size)(z)\n",
    "codings_log_var = keras.layers.Dense(codings_size)(z)\n",
    "codings = Sampling()([codings_mean, codings_log_var])\n",
    "variational_encoder = keras.models.Model(\n",
    "    inputs=[inputs], outputs=[codings_mean, codings_log_var, codings])\n",
    "\n",
    "decoder_inputs = keras.layers.Input(shape=[codings_size])\n",
    "x = keras.layers.Dense(100, activation=\"selu\")(decoder_inputs)\n",
    "x = keras.layers.Dense(150, activation=\"selu\")(x)\n",
    "x = keras.layers.Dense(1024, activation=\"sigmoid\")(x)\n",
    "outputs = keras.layers.Reshape([1024])(x)\n",
    "variational_decoder = keras.models.Model(inputs=[decoder_inputs], outputs=[outputs])\n",
    "\n",
    "_, _, codings = variational_encoder(inputs)\n",
    "reconstructions = variational_decoder(codings)\n",
    "variational_ae = keras.models.Model(inputs=[inputs], outputs=[reconstructions])\n",
    "\n",
    "latent_loss = -0.5 * K.sum(\n",
    "    1 + codings_log_var - K.exp(codings_log_var) - K.square(codings_mean),\n",
    "    axis=-1)\n",
    "variational_ae.add_loss(K.mean(latent_loss) / 1024.)\n",
    "variational_ae.compile(loss=\"mean_squared_error\", optimizer=\"rmsprop\", metrics=[rounded_accuracy])\n",
    "# variational_ae.compile(loss=\"binary_crossentropy\", optimizer=\"rmsprop\", metrics=[rounded_accuracy])\n",
    "history = variational_ae.fit(X_train, X_train, epochs=50, batch_size=64,\n",
    "                             validation_data=[X_test, X_test],verbose=1)"
   ]
  },
  {
   "cell_type": "code",
   "execution_count": 67,
   "metadata": {},
   "outputs": [],
   "source": [
    "X_predicted = variational_ae.predict(X)"
   ]
  },
  {
   "cell_type": "code",
   "execution_count": 68,
   "metadata": {},
   "outputs": [
    {
     "data": {
      "text/plain": [
       "[<matplotlib.lines.Line2D at 0x7fd820512748>]"
      ]
     },
     "execution_count": 68,
     "metadata": {},
     "output_type": "execute_result"
    },
    {
     "data": {
      "image/png": "[encoded data removed]",
      "text/plain": [
       "<Figure size 432x288 with 1 Axes>"
      ]
     },
     "metadata": {
      "needs_background": "light"
     },
     "output_type": "display_data"
    }
   ],
   "source": [
    "plt.plot(X[0,:])\n",
    "plt.plot(X_predicted[0,:])\n"
   ]
  },
  {
   "cell_type": "code",
   "execution_count": null,
   "metadata": {},
   "outputs": [],
   "source": []
  }
 ],
 "metadata": {
  "kernelspec": {
   "display_name": "Python 3",
   "language": "python",
   "name": "python3"
  },
  "language_info": {
   "codemirror_mode": {
    "name": "ipython",
    "version": 3
   },
   "file_extension": ".py",
   "mimetype": "text/x-python",
   "name": "python",
   "nbconvert_exporter": "python",
   "pygments_lexer": "ipython3",
   "version": "3.6.9"
  }
 },
 "nbformat": 4,
 "nbformat_minor": 4
}
