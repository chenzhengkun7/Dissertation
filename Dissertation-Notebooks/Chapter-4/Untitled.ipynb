{
 "cells": [
  {
   "cell_type": "code",
   "execution_count": 1,
   "metadata": {},
   "outputs": [
    {
     "name": "stderr",
     "output_type": "stream",
     "text": [
      "Using TensorFlow backend.\n"
     ]
    }
   ],
   "source": [
    "\n",
    "import os\n",
    "import pandas as pd\n",
    "from DBQuerier import DBQuerier as Querier\n",
    "from sklearn.model_selection import train_test_split\n",
    "from sklearn.decomposition import PCA\n",
    "import numpy as np\n",
    "\n",
    "from matplotlib import pyplot as plt\n",
    "from sklearn.model_selection import train_test_split\n",
    "from crawlab_toolbox import plotting as genplt\n",
    "\n",
    "import tensorflow.keras as keras\n",
    "import tensorflow as tf\n",
    "\n",
    "from ML_Train.Vanilla_AE import create_vanilla_ae\n",
    "from ML_Train.Variational_AE import create_autoencoder as create_conv_vae\n",
    "from ML_Train.Convolutional_AE import create_autoencoder as create_conv_ae\n",
    "from ML_Train.Variational_Vanilla_AE import create_autoencoder as create_vanilla_vae"
   ]
  },
  {
   "cell_type": "code",
   "execution_count": 2,
   "metadata": {},
   "outputs": [],
   "source": [
    "keras.backend.clear_session()\n",
    "gpus= tf.config.experimental.list_physical_devices('GPU')\n",
    "tf.config.experimental.set_memory_growth(gpus[0], True)\n"
   ]
  },
  {
   "cell_type": "code",
   "execution_count": 3,
   "metadata": {},
   "outputs": [],
   "source": [
    "querier = Querier('db18','Example-NoNoise-VaryAmplitude-VaryPhase')"
   ]
  },
  {
   "cell_type": "code",
   "execution_count": 4,
   "metadata": {},
   "outputs": [
    {
     "name": "stdout",
     "output_type": "stream",
     "text": [
      "2999-01-01 00:00:00.000000\n"
     ]
    }
   ],
   "source": [
    "featuresDF,sensorId,vibState = querier.select_ml_features(labeled=True,sensorId=None,limit=None)"
   ]
  },
  {
   "cell_type": "code",
   "execution_count": 65,
   "metadata": {},
   "outputs": [],
   "source": [
    "featuresDF.to_csv('data/featuresDF_test.csv')\n",
    "sensorId.to_csv('data/sensorId_test.csv')\n",
    "vibState.to_csv('data/vibState_test.csv')\n"
   ]
  },
  {
   "cell_type": "code",
   "execution_count": 6,
   "metadata": {},
   "outputs": [],
   "source": [
    "X = featuresDF.values[:,:1024]\n"
   ]
  },
  {
   "cell_type": "code",
   "execution_count": 7,
   "metadata": {},
   "outputs": [],
   "source": [
    "from sklearn.preprocessing import OrdinalEncoder\n",
    "from sklearn.neural_network import MLPClassifier\n",
    "from sklearn.decomposition import PCA"
   ]
  },
  {
   "cell_type": "code",
   "execution_count": 8,
   "metadata": {},
   "outputs": [],
   "source": [
    "enc = OrdinalEncoder()\n",
    "Y = enc.fit_transform(vibState.values)"
   ]
  },
  {
   "cell_type": "code",
   "execution_count": 9,
   "metadata": {},
   "outputs": [],
   "source": [
    "X_train, X_test, y_train, y_test = train_test_split(X, Y, test_size=0.20)\n",
    "# X_train = X_train[...,np.newaxis]\n",
    "# X_test = X_test[...,np.newaxis]"
   ]
  },
  {
   "cell_type": "code",
   "execution_count": 10,
   "metadata": {},
   "outputs": [
    {
     "data": {
      "text/plain": [
       "(1120, 1024)"
      ]
     },
     "execution_count": 10,
     "metadata": {},
     "output_type": "execute_result"
    }
   ],
   "source": [
    "X_train.shape"
   ]
  },
  {
   "cell_type": "code",
   "execution_count": 11,
   "metadata": {},
   "outputs": [],
   "source": [
    "pca = PCA(n_components=0.8)\n",
    "X_condensed_pca = pca.fit_transform(X)\n",
    "X_reconstructed_pca = pca.inverse_transform(X_condensed_pca)\n",
    "cumulative_variance = np.cumsum(pca.explained_variance_ratio_)"
   ]
  },
  {
   "cell_type": "code",
   "execution_count": 12,
   "metadata": {},
   "outputs": [
    {
     "data": {
      "text/plain": [
       "[<matplotlib.lines.Line2D at 0x7f10870a4be0>]"
      ]
     },
     "execution_count": 12,
     "metadata": {},
     "output_type": "execute_result"
    },
    {
     "data": {
      "image/png": "[encoded data removed]",
      "text/plain": [
       "<Figure size 432x288 with 1 Axes>"
      ]
     },
     "metadata": {},
     "output_type": "display_data"
    }
   ],
   "source": [
    "plt.plot(cumulative_variance)"
   ]
  },
  {
   "cell_type": "code",
   "execution_count": 13,
   "metadata": {},
   "outputs": [
    {
     "data": {
      "text/plain": [
       "array([25])"
      ]
     },
     "execution_count": 13,
     "metadata": {},
     "output_type": "execute_result"
    }
   ],
   "source": [
    "np.argwhere(cumulative_variance > 0.8)[0]\n",
    "# cumulative_variance[16]"
   ]
  },
  {
   "cell_type": "code",
   "execution_count": 25,
   "metadata": {},
   "outputs": [],
   "source": [
    "param_dict = {\n",
    "    \"hidden_nodes\":[256,25],\n",
    "    \"input_shape\":(1024,),\n",
    "}\n",
    "max_epochs = 20\n",
    "batch_size = 32\n",
    "verbose = 0\n",
    "\n",
    "model = create_vanilla_ae(param_dict)\n",
    "\n",
    "model.compile(loss='binary_crossentropy', \n",
    "              optimizer='adam')\n",
    "\n",
    "loss = model.fit(\n",
    "            X_train,X_train,\n",
    "            validation_data=(X_test,X_test),\n",
    "            epochs=max_epochs,\n",
    "            batch_size=batch_size,\n",
    "            verbose=verbose)\n",
    "\n",
    "X_reconstructed_vanilla_ae = model.predict(X)"
   ]
  },
  {
   "cell_type": "code",
   "execution_count": 26,
   "metadata": {},
   "outputs": [
    {
     "name": "stdout",
     "output_type": "stream",
     "text": [
      "Model: \"sequential_5\"\n",
      "_________________________________________________________________\n",
      "Layer (type)                 Output Shape              Param #   \n",
      "=================================================================\n",
      "sequential_3 (Sequential)    (None, 25)                268825    \n",
      "_________________________________________________________________\n",
      "sequential_4 (Sequential)    (None, 1024)              270474    \n",
      "=================================================================\n",
      "Total params: 539,299\n",
      "Trainable params: 539,299\n",
      "Non-trainable params: 0\n",
      "_________________________________________________________________\n"
     ]
    }
   ],
   "source": [
    "model.summary()"
   ]
  },
  {
   "cell_type": "code",
   "execution_count": 15,
   "metadata": {},
   "outputs": [
    {
     "data": {
      "image/png": "[encoded data removed]",
      "text/plain": [
       "<Figure size 432x288 with 1 Axes>"
      ]
     },
     "metadata": {},
     "output_type": "display_data"
    }
   ],
   "source": [
    "plt.plot(X[0,:])\n",
    "plt.plot(X_reconstructed_vanilla_ae[0,:])\n",
    "# plt.plot(X_reconstructed_pca[0,:])\n",
    "plt.show()"
   ]
  },
  {
   "cell_type": "code",
   "execution_count": 34,
   "metadata": {},
   "outputs": [
    {
     "name": "stdout",
     "output_type": "stream",
     "text": [
      "Train on 1120 samples, validate on 280 samples\n",
      "Epoch 1/40\n",
      "1120/1120 [==============================] - 1s 503us/sample - loss: 0.5342 - val_loss: 0.4647\n",
      "Epoch 2/40\n",
      "1120/1120 [==============================] - 0s 73us/sample - loss: 0.4643 - val_loss: 0.4608\n",
      "Epoch 3/40\n",
      "1120/1120 [==============================] - 0s 76us/sample - loss: 0.4617 - val_loss: 0.4613\n",
      "Epoch 4/40\n",
      "1120/1120 [==============================] - 0s 71us/sample - loss: 0.4603 - val_loss: 0.4578\n",
      "Epoch 5/40\n",
      "1120/1120 [==============================] - 0s 73us/sample - loss: 0.4579 - val_loss: 0.4578\n",
      "Epoch 6/40\n",
      "1120/1120 [==============================] - 0s 73us/sample - loss: 0.4563 - val_loss: 0.4556\n",
      "Epoch 7/40\n",
      "1120/1120 [==============================] - 0s 70us/sample - loss: 0.4546 - val_loss: 0.4544\n",
      "Epoch 8/40\n",
      "1120/1120 [==============================] - 0s 73us/sample - loss: 0.4539 - val_loss: 0.4548\n",
      "Epoch 9/40\n",
      "1120/1120 [==============================] - 0s 72us/sample - loss: 0.4543 - val_loss: 0.4528\n",
      "Epoch 10/40\n",
      "1120/1120 [==============================] - 0s 69us/sample - loss: 0.4527 - val_loss: 0.4519\n",
      "Epoch 11/40\n",
      "1120/1120 [==============================] - 0s 73us/sample - loss: 0.4518 - val_loss: 0.4512\n",
      "Epoch 12/40\n",
      "1120/1120 [==============================] - 0s 75us/sample - loss: 0.4522 - val_loss: 0.4513\n",
      "Epoch 13/40\n",
      "1120/1120 [==============================] - 0s 74us/sample - loss: 0.4520 - val_loss: 0.4531\n",
      "Epoch 14/40\n",
      "1120/1120 [==============================] - 0s 73us/sample - loss: 0.4516 - val_loss: 0.4507\n",
      "Epoch 15/40\n",
      "1120/1120 [==============================] - 0s 74us/sample - loss: 0.4502 - val_loss: 0.4495\n",
      "Epoch 16/40\n",
      "1120/1120 [==============================] - 0s 71us/sample - loss: 0.4495 - val_loss: 0.4494\n",
      "Epoch 17/40\n",
      "1120/1120 [==============================] - 0s 71us/sample - loss: 0.4494 - val_loss: 0.4488\n",
      "Epoch 18/40\n",
      "1120/1120 [==============================] - 0s 71us/sample - loss: 0.4488 - val_loss: 0.4490\n",
      "Epoch 19/40\n",
      "1120/1120 [==============================] - 0s 73us/sample - loss: 0.4489 - val_loss: 0.4487\n",
      "Epoch 20/40\n",
      "1120/1120 [==============================] - 0s 73us/sample - loss: 0.4488 - val_loss: 0.4492\n",
      "Epoch 21/40\n",
      "1120/1120 [==============================] - 0s 66us/sample - loss: 0.4489 - val_loss: 0.4485\n",
      "Epoch 22/40\n",
      "1120/1120 [==============================] - 0s 71us/sample - loss: 0.4486 - val_loss: 0.4484\n",
      "Epoch 23/40\n",
      "1120/1120 [==============================] - 0s 71us/sample - loss: 0.4481 - val_loss: 0.4475\n",
      "Epoch 24/40\n",
      "1120/1120 [==============================] - 0s 76us/sample - loss: 0.4476 - val_loss: 0.4476\n",
      "Epoch 25/40\n",
      "1120/1120 [==============================] - 0s 72us/sample - loss: 0.4472 - val_loss: 0.4469\n",
      "Epoch 26/40\n",
      "1120/1120 [==============================] - 0s 73us/sample - loss: 0.4468 - val_loss: 0.4463\n",
      "Epoch 27/40\n",
      "1120/1120 [==============================] - 0s 71us/sample - loss: 0.4462 - val_loss: 0.4459\n",
      "Epoch 28/40\n",
      "1120/1120 [==============================] - 0s 73us/sample - loss: 0.4457 - val_loss: 0.4453\n",
      "Epoch 29/40\n",
      "1120/1120 [==============================] - 0s 71us/sample - loss: 0.4453 - val_loss: 0.4451\n",
      "Epoch 30/40\n",
      "1120/1120 [==============================] - 0s 73us/sample - loss: 0.4451 - val_loss: 0.4451\n",
      "Epoch 31/40\n",
      "1120/1120 [==============================] - 0s 71us/sample - loss: 0.4451 - val_loss: 0.4450\n",
      "Epoch 32/40\n",
      "1120/1120 [==============================] - 0s 73us/sample - loss: 0.4451 - val_loss: 0.4450\n",
      "Epoch 33/40\n",
      "1120/1120 [==============================] - 0s 73us/sample - loss: 0.4451 - val_loss: 0.4451\n",
      "Epoch 34/40\n",
      "1120/1120 [==============================] - 0s 75us/sample - loss: 0.4450 - val_loss: 0.4449\n",
      "Epoch 35/40\n",
      "1120/1120 [==============================] - 0s 73us/sample - loss: 0.4451 - val_loss: 0.4450\n",
      "Epoch 36/40\n",
      "1120/1120 [==============================] - 0s 72us/sample - loss: 0.4451 - val_loss: 0.4450\n",
      "Epoch 37/40\n",
      "1120/1120 [==============================] - 0s 75us/sample - loss: 0.4451 - val_loss: 0.4450\n",
      "Epoch 38/40\n",
      "1120/1120 [==============================] - 0s 72us/sample - loss: 0.4451 - val_loss: 0.4449\n",
      "Epoch 39/40\n",
      "1120/1120 [==============================] - 0s 71us/sample - loss: 0.4451 - val_loss: 0.4450\n",
      "Epoch 40/40\n",
      "1120/1120 [==============================] - 0s 73us/sample - loss: 0.4451 - val_loss: 0.4449\n"
     ]
    }
   ],
   "source": [
    "param_dict = {\n",
    "    \"hidden_nodes\":[512],\n",
    "    \"input_shape\":[1024,],\n",
    "    \"codings_size\":32,\n",
    "}\n",
    "max_epochs = 40\n",
    "batch_size = 64\n",
    "verbose = 1\n",
    "\n",
    "model,_,_ = create_vanilla_vae(param_dict)\n",
    "\n",
    "model.compile(loss='binary_crossentropy', \n",
    "              optimizer='adam')\n",
    "\n",
    "loss = model.fit(\n",
    "            X_train,X_train,\n",
    "            validation_data=(X_test,X_test),\n",
    "            epochs=max_epochs,\n",
    "            batch_size=batch_size,\n",
    "            verbose=verbose)\n",
    "\n",
    "X_reconstructed_vanilla_vae = model.predict(X)"
   ]
  },
  {
   "cell_type": "code",
   "execution_count": 37,
   "metadata": {},
   "outputs": [
    {
     "name": "stdout",
     "output_type": "stream",
     "text": [
      "Model: \"model_17\"\n",
      "__________________________________________________________________________________________________\n",
      "Layer (type)                    Output Shape         Param #     Connected to                     \n",
      "==================================================================================================\n",
      "input_11 (InputLayer)           [(None, 1024)]       0                                            \n",
      "__________________________________________________________________________________________________\n",
      "model_15 (Model)                [(None, 32), (None,  557632      input_11[0][0]                   \n",
      "__________________________________________________________________________________________________\n",
      "model_16 (Model)                (None, 1024)         542208      model_15[1][2]                   \n",
      "__________________________________________________________________________________________________\n",
      "dense_45 (Dense)                (None, 512)          524800      input_11[0][0]                   \n",
      "__________________________________________________________________________________________________\n",
      "dense_47 (Dense)                (None, 32)           16416       dense_45[0][0]                   \n",
      "__________________________________________________________________________________________________\n",
      "tf_op_layer_add_5 (TensorFlowOp [(None, 32)]         0           dense_47[0][0]                   \n",
      "__________________________________________________________________________________________________\n",
      "tf_op_layer_Exp_5 (TensorFlowOp [(None, 32)]         0           dense_47[0][0]                   \n",
      "__________________________________________________________________________________________________\n",
      "dense_46 (Dense)                (None, 32)           16416       dense_45[0][0]                   \n",
      "__________________________________________________________________________________________________\n",
      "tf_op_layer_sub_10 (TensorFlowO [(None, 32)]         0           tf_op_layer_add_5[0][0]          \n",
      "                                                                 tf_op_layer_Exp_5[0][0]          \n",
      "__________________________________________________________________________________________________\n",
      "tf_op_layer_Square_5 (TensorFlo [(None, 32)]         0           dense_46[0][0]                   \n",
      "__________________________________________________________________________________________________\n",
      "tf_op_layer_sub_11 (TensorFlowO [(None, 32)]         0           tf_op_layer_sub_10[0][0]         \n",
      "                                                                 tf_op_layer_Square_5[0][0]       \n",
      "__________________________________________________________________________________________________\n",
      "tf_op_layer_Sum_5 (TensorFlowOp [(None,)]            0           tf_op_layer_sub_11[0][0]         \n",
      "__________________________________________________________________________________________________\n",
      "tf_op_layer_mul_5 (TensorFlowOp [(None,)]            0           tf_op_layer_Sum_5[0][0]          \n",
      "__________________________________________________________________________________________________\n",
      "tf_op_layer_Mean_5 (TensorFlowO [()]                 0           tf_op_layer_mul_5[0][0]          \n",
      "__________________________________________________________________________________________________\n",
      "tf_op_layer_truediv_5 (TensorFl [()]                 0           tf_op_layer_Mean_5[0][0]         \n",
      "__________________________________________________________________________________________________\n",
      "add_loss_5 (AddLoss)            ()                   0           tf_op_layer_truediv_5[0][0]      \n",
      "==================================================================================================\n",
      "Total params: 1,099,840\n",
      "Trainable params: 1,099,840\n",
      "Non-trainable params: 0\n",
      "__________________________________________________________________________________________________\n"
     ]
    }
   ],
   "source": [
    "model.summary()"
   ]
  },
  {
   "cell_type": "code",
   "execution_count": 36,
   "metadata": {},
   "outputs": [
    {
     "data": {
      "image/png": "[encoded data removed]",
      "text/plain": [
       "<Figure size 432x288 with 1 Axes>"
      ]
     },
     "metadata": {},
     "output_type": "display_data"
    }
   ],
   "source": [
    "plt.plot(X[0,:])\n",
    "plt.plot(X_reconstructed_vanilla_vae[0,:])\n",
    "# plt.plot(X_reconstructed_pca[0,:])\n",
    "plt.show()"
   ]
  },
  {
   "cell_type": "code",
   "execution_count": 19,
   "metadata": {},
   "outputs": [
    {
     "name": "stdout",
     "output_type": "stream",
     "text": [
      "Model: \"sequential_2\"\n",
      "_________________________________________________________________\n",
      "Layer (type)                 Output Shape              Param #   \n",
      "=================================================================\n",
      "sequential (Sequential)      (None, 25)                268825    \n",
      "_________________________________________________________________\n",
      "sequential_1 (Sequential)    (None, 1024)              270474    \n",
      "=================================================================\n",
      "Total params: 539,299\n",
      "Trainable params: 539,299\n",
      "Non-trainable params: 0\n",
      "_________________________________________________________________\n"
     ]
    }
   ],
   "source": [
    "model.summary()"
   ]
  },
  {
   "cell_type": "code",
   "execution_count": 20,
   "metadata": {},
   "outputs": [
    {
     "data": {
      "text/plain": [
       "<tf.Tensor 'sequential_input:0' shape=(None, 1024) dtype=float32>"
      ]
     },
     "execution_count": 20,
     "metadata": {},
     "output_type": "execute_result"
    }
   ],
   "source": [
    "model.input"
   ]
  },
  {
   "cell_type": "code",
   "execution_count": 43,
   "metadata": {},
   "outputs": [],
   "source": [
    "filters=[20,20]\n",
    "kernels = [9,3]\n",
    "strides=[1,1,1]\n",
    "dilation_rates=[1,1,1]\n",
    "input_shape = [1024,1]\n",
    "dense_nodes = [64]\n",
    "codings_size = 8\n",
    "\n",
    "param_dict = {\n",
    "    \"filters\":filters,\n",
    "    \"kernels\":kernels,\n",
    "    \"strides\":strides,\n",
    "    \"dilation_rates\":dilation_rates,\n",
    "    \"input_shape\":input_shape,\n",
    "    \"dense_nodes\":dense_nodes,\n",
    "    \"codings_size\":codings_size\n",
    "}\n",
    "\n",
    "model,vae_encoder,vae_decoder = create_conv_vae(param_dict)"
   ]
  },
  {
   "cell_type": "code",
   "execution_count": 44,
   "metadata": {},
   "outputs": [
    {
     "name": "stdout",
     "output_type": "stream",
     "text": [
      "Train on 1120 samples, validate on 280 samples\n",
      "Epoch 1/20\n",
      "1120/1120 [==============================] - 3s 3ms/sample - loss: 0.6433 - val_loss: 0.4463\n",
      "Epoch 2/20\n",
      "1120/1120 [==============================] - 0s 292us/sample - loss: 0.4784 - val_loss: 0.4464\n",
      "Epoch 3/20\n",
      "1120/1120 [==============================] - 0s 300us/sample - loss: 0.4636 - val_loss: 0.4460\n",
      "Epoch 4/20\n",
      "1120/1120 [==============================] - 0s 304us/sample - loss: 0.4577 - val_loss: 0.4459\n",
      "Epoch 5/20\n",
      "1120/1120 [==============================] - 0s 307us/sample - loss: 0.4549 - val_loss: 0.4459\n",
      "Epoch 6/20\n",
      "1120/1120 [==============================] - 0s 310us/sample - loss: 0.4524 - val_loss: 0.4459\n",
      "Epoch 7/20\n",
      "1120/1120 [==============================] - 0s 284us/sample - loss: 0.4507 - val_loss: 0.4460\n",
      "Epoch 8/20\n",
      "1120/1120 [==============================] - 0s 303us/sample - loss: 0.4496 - val_loss: 0.4461\n",
      "Epoch 9/20\n",
      "1120/1120 [==============================] - 0s 295us/sample - loss: 0.4487 - val_loss: 0.4462\n",
      "Epoch 10/20\n",
      "1120/1120 [==============================] - 0s 295us/sample - loss: 0.4477 - val_loss: 0.4465\n",
      "Epoch 11/20\n",
      "1120/1120 [==============================] - 0s 293us/sample - loss: 0.4471 - val_loss: 0.4467\n",
      "Epoch 12/20\n",
      "1120/1120 [==============================] - 0s 287us/sample - loss: 0.4466 - val_loss: 0.4467\n",
      "Epoch 13/20\n",
      "1120/1120 [==============================] - 0s 293us/sample - loss: 0.4462 - val_loss: 0.4465\n",
      "Epoch 14/20\n",
      "1120/1120 [==============================] - 0s 305us/sample - loss: 0.4459 - val_loss: 0.4462\n",
      "Epoch 15/20\n",
      "1120/1120 [==============================] - 0s 297us/sample - loss: 0.4457 - val_loss: 0.4459\n",
      "Epoch 16/20\n",
      "1120/1120 [==============================] - 0s 304us/sample - loss: 0.4456 - val_loss: 0.4456\n",
      "Epoch 17/20\n",
      "1120/1120 [==============================] - 0s 300us/sample - loss: 0.4455 - val_loss: 0.4454\n",
      "Epoch 18/20\n",
      "1120/1120 [==============================] - 0s 303us/sample - loss: 0.4453 - val_loss: 0.4452\n",
      "Epoch 19/20\n",
      "1120/1120 [==============================] - 0s 297us/sample - loss: 0.4453 - val_loss: 0.4452\n",
      "Epoch 20/20\n",
      "1120/1120 [==============================] - 0s 295us/sample - loss: 0.4452 - val_loss: 0.4451\n"
     ]
    }
   ],
   "source": [
    "model.compile(loss='binary_crossentropy',optimizer='adam')\n",
    "history = model.fit(X_train[...,np.newaxis],X_train[...,np.newaxis],\n",
    "                    epochs=20,batch_size=64,\n",
    "                    validation_data=[X_test[...,np.newaxis],X_test[...,np.newaxis]])"
   ]
  },
  {
   "cell_type": "code",
   "execution_count": 45,
   "metadata": {},
   "outputs": [
    {
     "name": "stdout",
     "output_type": "stream",
     "text": [
      "(1024, 1)\n",
      "(1024,)\n"
     ]
    }
   ],
   "source": [
    "X_reconstructed_cnn_vae = model.predict(X[...,np.newaxis])\n",
    "print(X_reconstructed_cnn_vae[0,:].shape)\n",
    "print(X[0,:].shape)\n"
   ]
  },
  {
   "cell_type": "code",
   "execution_count": 46,
   "metadata": {},
   "outputs": [
    {
     "data": {
      "image/png": "[encoded data removed]",
      "text/plain": [
       "<Figure size 432x288 with 1 Axes>"
      ]
     },
     "metadata": {},
     "output_type": "display_data"
    }
   ],
   "source": [
    "plt.plot(X[0,:])\n",
    "plt.plot(X_reconstructed_cnn_vae[0,:])\n",
    "# plt.plot(X_reconstructed_pca[0,:])\n",
    "plt.show()"
   ]
  },
  {
   "cell_type": "code",
   "execution_count": 38,
   "metadata": {},
   "outputs": [],
   "source": [
    "filters=[20]\n",
    "kernels = [3]\n",
    "strides=[1,1,1]\n",
    "dilation_rates=[1,1,1]\n",
    "input_shape = [1024,1]\n",
    "dense_nodes = [32]\n",
    "codings_size = 16\n",
    "\n",
    "param_dict = {\n",
    "    \"filters\":filters,\n",
    "    \"kernels\":kernels,\n",
    "    \"strides\":strides,\n",
    "    \"dilation_rates\":dilation_rates,\n",
    "    \"input_shape\":input_shape,\n",
    "    \"dense_nodes\":dense_nodes,\n",
    "    \"codings_size\":codings_size\n",
    "}\n",
    "\n",
    "model = create_conv_ae(param_dict)"
   ]
  },
  {
   "cell_type": "code",
   "execution_count": 39,
   "metadata": {},
   "outputs": [
    {
     "name": "stdout",
     "output_type": "stream",
     "text": [
      "Train on 1120 samples, validate on 280 samples\n",
      "Epoch 1/40\n",
      "1120/1120 [==============================] - 3s 2ms/sample - loss: 0.0800 - val_loss: 0.0716\n",
      "Epoch 2/40\n",
      "1120/1120 [==============================] - 0s 168us/sample - loss: 0.0368 - val_loss: 0.0201\n",
      "Epoch 3/40\n",
      "1120/1120 [==============================] - 0s 172us/sample - loss: 0.0130 - val_loss: 0.0037\n",
      "Epoch 4/40\n",
      "1120/1120 [==============================] - 0s 171us/sample - loss: 0.0097 - val_loss: 0.0031\n",
      "Epoch 5/40\n",
      "1120/1120 [==============================] - 0s 171us/sample - loss: 0.0090 - val_loss: 0.0043\n",
      "Epoch 6/40\n",
      "1120/1120 [==============================] - 0s 172us/sample - loss: 0.0086 - val_loss: 0.0044\n",
      "Epoch 7/40\n",
      "1120/1120 [==============================] - 0s 162us/sample - loss: 0.0081 - val_loss: 0.0036\n",
      "Epoch 8/40\n",
      "1120/1120 [==============================] - 0s 172us/sample - loss: 0.0073 - val_loss: 0.0030\n",
      "Epoch 9/40\n",
      "1120/1120 [==============================] - 0s 170us/sample - loss: 0.0062 - val_loss: 0.0026\n",
      "Epoch 10/40\n",
      "1120/1120 [==============================] - 0s 164us/sample - loss: 0.0056 - val_loss: 0.0026\n",
      "Epoch 11/40\n",
      "1120/1120 [==============================] - 0s 173us/sample - loss: 0.0052 - val_loss: 0.0023\n",
      "Epoch 12/40\n",
      "1120/1120 [==============================] - 0s 174us/sample - loss: 0.0049 - val_loss: 0.0021\n",
      "Epoch 13/40\n",
      "1120/1120 [==============================] - 0s 180us/sample - loss: 0.0046 - val_loss: 0.0020\n",
      "Epoch 14/40\n",
      "1120/1120 [==============================] - 0s 166us/sample - loss: 0.0043 - val_loss: 0.0017\n",
      "Epoch 15/40\n",
      "1120/1120 [==============================] - 0s 174us/sample - loss: 0.0041 - val_loss: 0.0015\n",
      "Epoch 16/40\n",
      "1120/1120 [==============================] - 0s 170us/sample - loss: 0.0038 - val_loss: 0.0015\n",
      "Epoch 17/40\n",
      "1120/1120 [==============================] - 0s 166us/sample - loss: 0.0037 - val_loss: 0.0015\n",
      "Epoch 18/40\n",
      "1120/1120 [==============================] - 0s 162us/sample - loss: 0.0035 - val_loss: 0.0014\n",
      "Epoch 19/40\n",
      "1120/1120 [==============================] - 0s 160us/sample - loss: 0.0034 - val_loss: 0.0013\n",
      "Epoch 20/40\n",
      "1120/1120 [==============================] - 0s 174us/sample - loss: 0.0033 - val_loss: 0.0013\n",
      "Epoch 21/40\n",
      "1120/1120 [==============================] - 0s 169us/sample - loss: 0.0032 - val_loss: 0.0012\n",
      "Epoch 22/40\n",
      "1120/1120 [==============================] - 0s 178us/sample - loss: 0.0031 - val_loss: 0.0012\n",
      "Epoch 23/40\n",
      "1120/1120 [==============================] - 0s 171us/sample - loss: 0.0031 - val_loss: 0.0012\n",
      "Epoch 24/40\n",
      "1120/1120 [==============================] - 0s 177us/sample - loss: 0.0030 - val_loss: 0.0012\n",
      "Epoch 25/40\n",
      "1120/1120 [==============================] - 0s 167us/sample - loss: 0.0029 - val_loss: 0.0012\n",
      "Epoch 26/40\n",
      "1120/1120 [==============================] - 0s 169us/sample - loss: 0.0029 - val_loss: 0.0014\n",
      "Epoch 27/40\n",
      "1120/1120 [==============================] - 0s 175us/sample - loss: 0.0028 - val_loss: 0.0014\n",
      "Epoch 28/40\n",
      "1120/1120 [==============================] - 0s 172us/sample - loss: 0.0028 - val_loss: 0.0011\n",
      "Epoch 29/40\n",
      "1120/1120 [==============================] - 0s 172us/sample - loss: 0.0028 - val_loss: 0.0011\n",
      "Epoch 30/40\n",
      "1120/1120 [==============================] - 0s 168us/sample - loss: 0.0027 - val_loss: 0.0010\n",
      "Epoch 31/40\n",
      "1120/1120 [==============================] - 0s 161us/sample - loss: 0.0027 - val_loss: 0.0011\n",
      "Epoch 32/40\n",
      "1120/1120 [==============================] - 0s 177us/sample - loss: 0.0026 - val_loss: 0.0012\n",
      "Epoch 33/40\n",
      "1120/1120 [==============================] - 0s 170us/sample - loss: 0.0026 - val_loss: 0.0011\n",
      "Epoch 34/40\n",
      "1120/1120 [==============================] - 0s 174us/sample - loss: 0.0026 - val_loss: 0.0012\n",
      "Epoch 35/40\n",
      "1120/1120 [==============================] - 0s 170us/sample - loss: 0.0026 - val_loss: 9.7980e-04\n",
      "Epoch 36/40\n",
      "1120/1120 [==============================] - 0s 167us/sample - loss: 0.0025 - val_loss: 9.0692e-04\n",
      "Epoch 37/40\n",
      "1120/1120 [==============================] - 0s 166us/sample - loss: 0.0025 - val_loss: 7.2321e-04\n",
      "Epoch 38/40\n",
      "1120/1120 [==============================] - 0s 167us/sample - loss: 0.0025 - val_loss: 8.0311e-04\n",
      "Epoch 39/40\n",
      "1120/1120 [==============================] - 0s 166us/sample - loss: 0.0025 - val_loss: 9.2529e-04\n",
      "Epoch 40/40\n",
      "1120/1120 [==============================] - 0s 172us/sample - loss: 0.0024 - val_loss: 0.0010\n"
     ]
    }
   ],
   "source": [
    "model.compile(loss='mean_squared_error',optimizer='adam')\n",
    "history = model.fit(X_train[...,np.newaxis],X_train[...,np.newaxis],\n",
    "                    epochs=40,batch_size=64,\n",
    "                    validation_data=[X_test[...,np.newaxis],X_test[...,np.newaxis]])"
   ]
  },
  {
   "cell_type": "code",
   "execution_count": 40,
   "metadata": {},
   "outputs": [
    {
     "name": "stdout",
     "output_type": "stream",
     "text": [
      "Model: \"sequential_8\"\n",
      "_________________________________________________________________\n",
      "Layer (type)                 Output Shape              Param #   \n",
      "=================================================================\n",
      "sequential_6 (Sequential)    (None, 512, 20)           160       \n",
      "_________________________________________________________________\n",
      "sequential_7 (Sequential)    (None, 1024, 1)           1281      \n",
      "=================================================================\n",
      "Total params: 1,441\n",
      "Trainable params: 1,401\n",
      "Non-trainable params: 40\n",
      "_________________________________________________________________\n"
     ]
    }
   ],
   "source": [
    "model.summary()"
   ]
  },
  {
   "cell_type": "code",
   "execution_count": 41,
   "metadata": {},
   "outputs": [
    {
     "name": "stdout",
     "output_type": "stream",
     "text": [
      "(1024, 1)\n",
      "(1024,)\n"
     ]
    }
   ],
   "source": [
    "X_reconstructed_cnn_ae = model.predict(X[...,np.newaxis])\n",
    "print(X_reconstructed_cnn_ae[0,:].shape)\n",
    "print(X[0,:].shape)"
   ]
  },
  {
   "cell_type": "code",
   "execution_count": 42,
   "metadata": {},
   "outputs": [
    {
     "data": {
      "image/png": "[encoded data removed]",
      "text/plain": [
       "<Figure size 432x288 with 1 Axes>"
      ]
     },
     "metadata": {},
     "output_type": "display_data"
    }
   ],
   "source": [
    "plt.plot(X[0,:])\n",
    "plt.plot(X_reconstructed_cnn_ae[0,:])\n",
    "# plt.plot(X_reconstructed_pca[0,:])\n",
    "plt.show()"
   ]
  },
  {
   "cell_type": "code",
   "execution_count": 60,
   "metadata": {},
   "outputs": [
    {
     "name": "stdout",
     "output_type": "stream",
     "text": [
      "Train on 1120 samples, validate on 280 samples\n",
      "Epoch 1/25\n",
      "1120/1120 [==============================] - 1s 1ms/sample - loss: 0.4716 - rounded_accuracy: 0.9792 - val_loss: 0.4510 - val_rounded_accuracy: 0.9950\n",
      "Epoch 2/25\n",
      "1120/1120 [==============================] - 1s 527us/sample - loss: 0.4536 - rounded_accuracy: 0.9940 - val_loss: 0.4487 - val_rounded_accuracy: 0.9950\n",
      "Epoch 3/25\n",
      "1120/1120 [==============================] - 1s 548us/sample - loss: 0.4510 - rounded_accuracy: 0.9940 - val_loss: 0.4506 - val_rounded_accuracy: 0.9950\n",
      "Epoch 4/25\n",
      "1120/1120 [==============================] - 1s 523us/sample - loss: 0.4491 - rounded_accuracy: 0.9949 - val_loss: 0.4467 - val_rounded_accuracy: 0.9950\n",
      "Epoch 5/25\n",
      "1120/1120 [==============================] - 1s 564us/sample - loss: 0.4472 - rounded_accuracy: 0.9949 - val_loss: 0.4460 - val_rounded_accuracy: 0.9950\n",
      "Epoch 6/25\n",
      "1120/1120 [==============================] - 1s 534us/sample - loss: 0.4460 - rounded_accuracy: 0.9949 - val_loss: 0.4454 - val_rounded_accuracy: 0.9950\n",
      "Epoch 7/25\n",
      "1120/1120 [==============================] - 1s 550us/sample - loss: 0.4456 - rounded_accuracy: 0.9949 - val_loss: 0.4460 - val_rounded_accuracy: 0.9950\n",
      "Epoch 8/25\n",
      "1120/1120 [==============================] - 1s 554us/sample - loss: 0.4455 - rounded_accuracy: 0.9949 - val_loss: 0.4453 - val_rounded_accuracy: 0.9950\n",
      "Epoch 9/25\n",
      "1120/1120 [==============================] - 1s 551us/sample - loss: 0.4454 - rounded_accuracy: 0.9949 - val_loss: 0.4452 - val_rounded_accuracy: 0.9950\n",
      "Epoch 10/25\n",
      "1120/1120 [==============================] - 1s 546us/sample - loss: 0.4454 - rounded_accuracy: 0.9949 - val_loss: 0.4452 - val_rounded_accuracy: 0.9950\n",
      "Epoch 11/25\n",
      "1120/1120 [==============================] - 1s 550us/sample - loss: 0.4453 - rounded_accuracy: 0.9949 - val_loss: 0.4452 - val_rounded_accuracy: 0.9950\n",
      "Epoch 12/25\n",
      "1120/1120 [==============================] - 1s 556us/sample - loss: 0.4453 - rounded_accuracy: 0.9949 - val_loss: 0.4451 - val_rounded_accuracy: 0.9950\n",
      "Epoch 13/25\n",
      "1120/1120 [==============================] - 1s 531us/sample - loss: 0.4452 - rounded_accuracy: 0.9949 - val_loss: 0.4451 - val_rounded_accuracy: 0.9950\n",
      "Epoch 14/25\n",
      "1120/1120 [==============================] - 1s 529us/sample - loss: 0.4452 - rounded_accuracy: 0.9949 - val_loss: 0.4452 - val_rounded_accuracy: 0.9950\n",
      "Epoch 15/25\n",
      "1120/1120 [==============================] - 1s 551us/sample - loss: 0.4452 - rounded_accuracy: 0.9949 - val_loss: 0.4451 - val_rounded_accuracy: 0.9950\n",
      "Epoch 16/25\n",
      "1120/1120 [==============================] - 1s 554us/sample - loss: 0.4452 - rounded_accuracy: 0.9949 - val_loss: 0.4452 - val_rounded_accuracy: 0.9950\n",
      "Epoch 17/25\n",
      "1120/1120 [==============================] - 1s 552us/sample - loss: 0.4452 - rounded_accuracy: 0.9949 - val_loss: 0.4450 - val_rounded_accuracy: 0.9950\n",
      "Epoch 18/25\n",
      "1120/1120 [==============================] - 1s 563us/sample - loss: 0.4452 - rounded_accuracy: 0.9949 - val_loss: 0.4450 - val_rounded_accuracy: 0.9950\n",
      "Epoch 19/25\n",
      "1120/1120 [==============================] - 1s 556us/sample - loss: 0.4451 - rounded_accuracy: 0.9949 - val_loss: 0.4451 - val_rounded_accuracy: 0.9950\n",
      "Epoch 20/25\n",
      "1120/1120 [==============================] - 1s 548us/sample - loss: 0.4451 - rounded_accuracy: 0.9949 - val_loss: 0.4450 - val_rounded_accuracy: 0.9950\n",
      "Epoch 21/25\n",
      "1120/1120 [==============================] - 1s 554us/sample - loss: 0.4451 - rounded_accuracy: 0.9949 - val_loss: 0.4450 - val_rounded_accuracy: 0.9950\n",
      "Epoch 22/25\n",
      "1120/1120 [==============================] - 1s 533us/sample - loss: 0.4451 - rounded_accuracy: 0.9949 - val_loss: 0.4450 - val_rounded_accuracy: 0.9950\n",
      "Epoch 23/25\n",
      "1120/1120 [==============================] - 1s 551us/sample - loss: 0.4451 - rounded_accuracy: 0.9949 - val_loss: 0.4449 - val_rounded_accuracy: 0.9950\n",
      "Epoch 24/25\n",
      "1120/1120 [==============================] - 1s 544us/sample - loss: 0.4451 - rounded_accuracy: 0.9949 - val_loss: 0.4450 - val_rounded_accuracy: 0.9950\n",
      "Epoch 25/25\n",
      "1120/1120 [==============================] - 1s 548us/sample - loss: 0.4451 - rounded_accuracy: 0.9949 - val_loss: 0.4450 - val_rounded_accuracy: 0.9950\n"
     ]
    }
   ],
   "source": [
    "from tensorflow.keras import backend as K\n",
    "from tensorflow import keras\n",
    "\n",
    "\n",
    "class Sampling(keras.layers.Layer):\n",
    "    def call(self, inputs):\n",
    "        mean, log_var = inputs\n",
    "        return K.random_normal(tf.shape(log_var)) * K.exp(log_var / 2) + mean \n",
    "    \n",
    "def rounded_accuracy(y_true, y_pred):\n",
    "    return keras.metrics.binary_accuracy(tf.round(y_true), tf.round(y_pred))\n",
    "\n",
    "tf.random.set_seed(42)\n",
    "np.random.seed(42)\n",
    "\n",
    "codings_size = 10\n",
    "\n",
    "inputs = keras.layers.Input(shape=[1024])\n",
    "z = keras.layers.Flatten()(inputs)\n",
    "z = keras.layers.Dense(150, activation=\"selu\")(z)\n",
    "z = keras.layers.Dense(100, activation=\"selu\")(z)\n",
    "codings_mean = keras.layers.Dense(codings_size)(z)\n",
    "codings_log_var = keras.layers.Dense(codings_size)(z)\n",
    "codings = Sampling()([codings_mean, codings_log_var])\n",
    "variational_encoder = keras.models.Model(\n",
    "    inputs=[inputs], outputs=[codings_mean, codings_log_var, codings])\n",
    "\n",
    "decoder_inputs = keras.layers.Input(shape=[codings_size])\n",
    "x = keras.layers.Dense(100, activation=\"selu\")(decoder_inputs)\n",
    "x = keras.layers.Dense(150, activation=\"selu\")(x)\n",
    "x = keras.layers.Dense(1024, activation=\"sigmoid\")(x)\n",
    "outputs = keras.layers.Reshape([1024])(x)\n",
    "variational_decoder = keras.models.Model(inputs=[decoder_inputs], outputs=[outputs])\n",
    "\n",
    "_, _, codings = variational_encoder(inputs)\n",
    "reconstructions = variational_decoder(codings)\n",
    "variational_ae = keras.models.Model(inputs=[inputs], outputs=[reconstructions])\n",
    "\n",
    "latent_loss = -0.5 * K.sum(\n",
    "    1 + codings_log_var - K.exp(codings_log_var) - K.square(codings_mean),\n",
    "    axis=-1)\n",
    "variational_ae.add_loss(K.mean(latent_loss) / 1024.)\n",
    "variational_ae.compile(loss=\"binary_crossentropy\", optimizer=\"rmsprop\", metrics=[rounded_accuracy])\n",
    "history = variational_ae.fit(X_train, X_train, epochs=25, batch_size=8,\n",
    "                             validation_data=[X_test, X_test])"
   ]
  },
  {
   "cell_type": "code",
   "execution_count": 61,
   "metadata": {},
   "outputs": [],
   "source": [
    "X_predicted = variational_ae.predict(X)"
   ]
  },
  {
   "cell_type": "code",
   "execution_count": 62,
   "metadata": {},
   "outputs": [
    {
     "data": {
      "text/plain": [
       "[<matplotlib.lines.Line2D at 0x7f1044a4b978>]"
      ]
     },
     "execution_count": 62,
     "metadata": {},
     "output_type": "execute_result"
    },
    {
     "data": {
      "image/png": "[encoded data removed]",
      "text/plain": [
       "<Figure size 432x288 with 1 Axes>"
      ]
     },
     "metadata": {},
     "output_type": "display_data"
    }
   ],
   "source": [
    "plt.plot(X_predicted[0,:])\n",
    "plt.plot(X[0,:])"
   ]
  },
  {
   "cell_type": "code",
   "execution_count": null,
   "metadata": {},
   "outputs": [],
   "source": []
  }
 ],
 "metadata": {
  "kernelspec": {
   "display_name": "tf-gpu",
   "language": "python",
   "name": "tf-gpu"
  },
  "language_info": {
   "codemirror_mode": {
    "name": "ipython",
    "version": 3
   },
   "file_extension": ".py",
   "mimetype": "text/x-python",
   "name": "python",
   "nbconvert_exporter": "python",
   "pygments_lexer": "ipython3",
   "version": "3.6.8"
  }
 },
 "nbformat": 4,
 "nbformat_minor": 4
}
