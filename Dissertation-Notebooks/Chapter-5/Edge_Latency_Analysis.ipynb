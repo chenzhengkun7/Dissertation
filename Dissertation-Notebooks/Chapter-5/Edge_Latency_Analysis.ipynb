{
 "cells": [
  {
   "cell_type": "code",
   "execution_count": 43,
   "metadata": {},
   "outputs": [],
   "source": [
    "\n",
    "import os\n",
    "import pandas as pd\n",
    "from sklearn.model_selection import train_test_split\n",
    "from sklearn.decomposition import PCA\n",
    "from sklearn.decomposition import KernelPCA\n",
    "import numpy as np\n",
    "\n",
    "from matplotlib import pyplot as plt\n",
    "from crawlab_toolbox import plotting as genplt\n",
    "from sklearn.pipeline import Pipeline\n",
    "\n",
    "import tensorflow.keras as keras\n",
    "\n",
    "from scipy.stats import probplot\n",
    "from scipy.stats import normaltest\n",
    "\n",
    "# mse = keras.metrics.mean_squared_error(all_outputs,input_data)"
   ]
  },
  {
   "cell_type": "code",
   "execution_count": 44,
   "metadata": {},
   "outputs": [
    {
     "name": "stdout",
     "output_type": "stream",
     "text": [
      "3.2.1\n"
     ]
    }
   ],
   "source": [
    "import matplotlib as mpl\n",
    "print(mpl.__version__)"
   ]
  },
  {
   "cell_type": "code",
   "execution_count": 45,
   "metadata": {},
   "outputs": [],
   "source": [
    "inferenceLocations = ['No-Vib','Time-Only']\n",
    "vibSamples = ['4096','8192','16384','32768','65536']\n",
    "vibSampleLabels = [r'$2^{12}$',r'$2^{13}$',r'$2^{14}$',r'$2^{15}$',r'$2^{16}$']\n",
    "\n",
    "basePath = 'Edge-Device-Latency/Beaglebone_'\n",
    "deviceId = 'Amazon-EC2'\n",
    "numSamples = 750\n",
    "numColumns = 3\n",
    "\n",
    "extractLatency = np.zeros((numSamples,len(inferenceLocations),len(vibSamples)))\n",
    "inferenceLatency = np.zeros((numSamples,len(inferenceLocations),len(vibSamples)))\n",
    "columns = None"
   ]
  },
  {
   "cell_type": "code",
   "execution_count": 46,
   "metadata": {},
   "outputs": [
    {
     "name": "stdout",
     "output_type": "stream",
     "text": [
      "(1000, 3)\n",
      "(853, 2)\n",
      "(1000, 3)\n",
      "(1000, 2)\n",
      "(1000, 3)\n",
      "(1000, 2)\n",
      "(1000, 3)\n",
      "(1000, 2)\n",
      "(1000, 3)\n",
      "(1000, 2)\n"
     ]
    }
   ],
   "source": [
    "for i in range(len(vibSamples)):\n",
    "    for j in range(len(inferenceLocations)):\n",
    "        thisDF = pd.read_csv(basePath + inferenceLocations[j] +'_' + vibSamples[i] + '.csv')\n",
    "\n",
    "        print(thisDF.values.shape)\n",
    "\n",
    "\n",
    "        extractLatency[:,j,i] = thisDF.values[-numSamples:,1]\n",
    "#         inferenceLatency[:,j,i] = thisDF.values[-numSamples:,2]\n",
    "\n"
   ]
  },
  {
   "cell_type": "markdown",
   "metadata": {},
   "source": [
    "mean latency, max latency, Max Score Difference, MSE"
   ]
  },
  {
   "cell_type": "code",
   "execution_count": 47,
   "metadata": {},
   "outputs": [],
   "source": [
    "colors = ['#e41a1c', '#377eb8', '#4daf4a', '#984ea3', '#ff7f00', '#ffff33', '#a65628']\n",
    "\n",
    "def box_plot(data,labels,\n",
    "             xlabel='',ylabel='Latency (ms)',log_y=False,\n",
    "             folder='figures',filename='boxplot',savefig=False,\n",
    "             transparent=True,color_order=np.arange(len(colors)),template='publication',\n",
    "             xtickpad=5,showfliers=False,plot_type='box'):\n",
    "    thisColors = [colors[i] for i in color_order]\n",
    "    if template.lower() == 'publication':\n",
    "        fig = plt.figure(figsize=(6,4))\n",
    "    elif template.lower() == 'wide':\n",
    "        fig = plt.figure(figsize=(12,4))\n",
    "    elif template.lower() == 'presentation':\n",
    "        fig = plt.figure(figsize=(9,6))\n",
    "    else:\n",
    "        fig = plt.figure()\n",
    "\n",
    "    if plot_type == 'box':\n",
    "\n",
    "        bp = plt.boxplot(data,\n",
    "                        showfliers=showfliers,\n",
    "                        patch_artist=True,\n",
    "                        meanline=False,\n",
    "                        notch=False,\n",
    "                        medianprops={'color':'black',\n",
    "                                     'linewidth':2},\n",
    "                        whiskerprops={'linewidth':2},\n",
    "                        capprops={'linewidth':2})\n",
    "        ax = plt.gca()\n",
    "\n",
    "        for patch, color in zip(bp['boxes'], thisColors):\n",
    "            # change outline color\n",
    "            patch.set(color=color, linewidth=2)\n",
    "            patch.set_facecolor(color)\n",
    "    else:\n",
    "        violin_parts = plt.violinplot(data,\n",
    "                  showmeans=False,\n",
    "                  showmedians=False,\n",
    "                  showextrema=False)\n",
    "        ax = plt.gca()\n",
    "        \n",
    "        for pc in violin_parts['bodies']:\n",
    "            pc.set_facecolor('red')\n",
    "            pc.set_edgecolor('black')\n",
    "\n",
    "    if log_y == True:\n",
    "        ax.set_yscale('log')\n",
    "    ax.spines['right'].set_color('none')\n",
    "    ax.spines['top'].set_color('none')\n",
    "    ax.xaxis.set_ticks_position('bottom')\n",
    "    ax.yaxis.set_ticks_position('left')\n",
    "\n",
    "    ax.set_xticklabels([r'\\textbf{' + label + '}' for label in labels])\n",
    "    ax.tick_params(axis='x', which='major', pad=xtickpad)\n",
    "    plt.xlabel(r'\\textbf{' + xlabel + '}')\n",
    "    plt.ylabel(r'\\textbf{' + ylabel + '}')\n",
    "    \n",
    "    if not os.path.exists(folder):\n",
    "        os.makedirs(folder)\n",
    "        \n",
    "    plt.tight_layout(pad=1.5)\n",
    "    \n",
    "    if savefig:\n",
    "        plt.savefig(folder + '/' + filename + '.png',transparent=transparent)\n",
    "\n",
    "    plt.show()\n",
    "    \n",
    "    \n",
    "def box_plot_compare(data,labels,dataLabels,\n",
    "             xlabel='',ylabel='Latency (ms)',log_y=False,\n",
    "             folder='figures',filename='boxplot',savefig=False,\n",
    "             transparent=True,color_order=np.arange(len(colors)),template='publication',\n",
    "             xtickpad=5,showfliers=False,legend_loc='best',max_cutoff=0,min_cutoff=0,plot_type='violin'):\n",
    "    thisColors = [colors[i] for i in color_order]\n",
    "    if template.lower() == 'publication':\n",
    "        fig = plt.figure(figsize=(6,4))\n",
    "    elif template.lower() == 'wide':\n",
    "        fig = plt.figure(figsize=(12,4))\n",
    "    elif template.lower() == 'presentation':\n",
    "        fig = plt.figure(figsize=(9,6))\n",
    "    else:\n",
    "        fig = plt.figure()\n",
    "        \n",
    "    position = [i+1 for i in range(data.shape[1])]\n",
    "    tickPositions = []\n",
    "    phantomLines = []\n",
    "        \n",
    "    for i in range(data.shape[-1]):\n",
    "        \n",
    "        max_index = data.shape[0] - max_cutoff\n",
    "        min_index = min_cutoff\n",
    "        \n",
    "        thisData = np.sort(data[...,i],axis=0)[min_index:max_index,:]\n",
    "        \n",
    "        if plot_type=='violin':\n",
    "\n",
    "            violin_parts = plt.violinplot(thisData,\n",
    "                      positions = position,\n",
    "                      showmeans=False,\n",
    "                      showmedians=False,\n",
    "                      showextrema=False)\n",
    "\n",
    "            for counter, pc in enumerate(violin_parts['bodies']):\n",
    "                pc.set_facecolor(colors[counter])\n",
    "                pc.set_edgecolor('black')\n",
    "                pc.set_alpha(1)\n",
    "\n",
    "                if i == 0:\n",
    "                    line, = plt.plot([1,1],color=colors[counter])\n",
    "                    phantomLines.append(line)\n",
    "                    \n",
    "        else:\n",
    "           \n",
    "            print(np.mean(thisData,axis=0))\n",
    "            bp = plt.boxplot(thisData,\n",
    "                            positions=position,\n",
    "                            showfliers=showfliers,\n",
    "                            patch_artist=True,\n",
    "                            meanline=False,\n",
    "                            notch=False,\n",
    "                            medianprops={'color':'black',\n",
    "                                         'linewidth':2},\n",
    "                            whiskerprops={'linewidth':2},\n",
    "                            capprops={'linewidth':2},\n",
    "                            widths=0.75)\n",
    "            \n",
    "            for counter,patch in enumerate(bp['boxes']):\n",
    "                print(counter)\n",
    "                # change outline color\n",
    "                patch.set(color=colors[counter], linewidth=2)\n",
    "                patch.set_facecolor(colors[counter])\n",
    "                \n",
    "                if i == 0:\n",
    "                    line, = plt.plot([1,1],color=colors[counter])\n",
    "                    phantomLines.append(line)\n",
    "            \n",
    "        tickPositions.append(np.mean(position))    \n",
    "        position = [position[i] + data.shape[1] + 1 for i in range(len(position))]\n",
    "            \n",
    "    ax = plt.gca()\n",
    "\n",
    "    if log_y == True:\n",
    "        ax.set_yscale('log')\n",
    "    ax.spines['right'].set_color('none')\n",
    "    ax.spines['top'].set_color('none')\n",
    "    ax.xaxis.set_ticks_position('bottom')\n",
    "    ax.yaxis.set_ticks_position('left')\n",
    "\n",
    "    ax.set_xticklabels([r'\\textbf{' + label + '}' for label in labels])\n",
    "    print(tickPositions)\n",
    "    ax.set_xticks(tickPositions)\n",
    "    ax.tick_params(axis='x', which='major', pad=xtickpad)\n",
    "    ax.legend(tuple(phantomLines),tuple(dataLabels),loc=legend_loc,framealpha=float(not transparent)).get_frame().set_edgecolor('k')\n",
    "    \n",
    "    [phantomLines[i].set_visible(False) for i in range(len(phantomLines))]\n",
    "    \n",
    "    plt.xlabel(r'\\textbf{' + xlabel + '}')\n",
    "    plt.ylabel(r'\\textbf{' + ylabel + '}')\n",
    "    \n",
    "    if not os.path.exists(folder):\n",
    "        os.makedirs(folder)\n",
    "        \n",
    "    plt.tight_layout(pad=1.5)\n",
    "    \n",
    "    if savefig:\n",
    "        plt.savefig(folder + '/' + filename + '.png',transparent=transparent)\n",
    "\n",
    "    plt.show()\n",
    "    "
   ]
  },
  {
   "cell_type": "code",
   "execution_count": 48,
   "metadata": {},
   "outputs": [
    {
     "name": "stdout",
     "output_type": "stream",
     "text": [
      "[0.17906667 0.07366667]\n",
      "0\n",
      "1\n",
      "[0.22922133 0.07364933]\n",
      "0\n",
      "1\n",
      "[0.33221867 0.08779467]\n",
      "0\n",
      "1\n",
      "[0.537684   0.12630133]\n",
      "0\n",
      "1\n",
      "[0.93640667 0.19006   ]\n",
      "0\n",
      "1\n",
      "[1.5, 4.5, 7.5, 10.5, 13.5]\n"
     ]
    },
    {
     "data": {
      "image/png": "[encoded data removed]",
      "text/plain": [
       "<Figure size 648x432 with 1 Axes>"
      ]
     },
     "metadata": {
      "needs_background": "light"
     },
     "output_type": "display_data"
    }
   ],
   "source": [
    "vibSampleLabels = [r'\\textbf{4.10}',r'\\textbf{8.19}',r'\\textbf{16.4}',r'\\textbf{32.8}',r'\\textbf{65.5}']\n",
    "\n",
    "box_plot_compare((extractLatency)/1000,vibSampleLabels,['With PSD','Without PSD'],savefig=True,filename='Edge_ExtractLatency_',\n",
    "         template='Presentation',xlabel='Sample Points (thousands)',color_order=np.zeros(6).astype(int),ylabel='Latency (s)',\n",
    "         showfliers=False,legend_loc='upper left',max_cutoff=0,plot_type='box',\n",
    "         log_y=True)\n",
    "\n",
    "# box_plot_compare((inferenceLatency)/1000,vibSampleLabels,savefig=True,filename='Edge_InferenceLatency_' + modelId,\n",
    "#          template='wide',xlabel='Sample Points',color_order=np.zeros(6).astype(int),ylabel='Latency (s)',\n",
    "#          showfliers=True,legend_loc='upper left',max_cutoff=0,\n",
    "#          log_y=False)"
   ]
  },
  {
   "cell_type": "code",
   "execution_count": 33,
   "metadata": {},
   "outputs": [],
   "source": [
    "import scipy.stats\n",
    "\n",
    "def mean_confidence_interval(data, confidence=0.95):\n",
    "    a = 1.0 * np.array(data)\n",
    "    n = len(a)\n",
    "    m, se = np.mean(a), scipy.stats.sem(a)\n",
    "    h = se * scipy.stats.t.ppf((1 + confidence) / 2., n-1)\n",
    "    return m, m-h, m+h"
   ]
  },
  {
   "cell_type": "code",
   "execution_count": 34,
   "metadata": {},
   "outputs": [
    {
     "data": {
      "text/plain": [
       "(179.06666666666666, nan, nan)"
      ]
     },
     "execution_count": 34,
     "metadata": {},
     "output_type": "execute_result"
    }
   ],
   "source": [
    "mean_confidence_interval(extractLatency[:,0,0],confidence=99)"
   ]
  },
  {
   "cell_type": "code",
   "execution_count": 32,
   "metadata": {},
   "outputs": [
    {
     "name": "stdout",
     "output_type": "stream",
     "text": [
      "[[172. 224. 322. 531. 922.]\n",
      " [ 65.  71.  83. 122. 188.]]\n",
      "[[ 204.    250.1   364.55  563.55 1074.7 ]\n",
      " [ 109.3    85.     98.    142.55  202.  ]]\n",
      "[[ 462.    281.53  620.53  838.   1273.53]\n",
      " [ 164.53  103.04  176.18  170.51  214.51]]\n"
     ]
    }
   ],
   "source": [
    "print(np.percentile(extractLatency,50,axis=0))\n",
    "print(np.percentile(extractLatency,95,axis=0))\n",
    "print(np.percentile(extractLatency,99,axis=0))"
   ]
  },
  {
   "cell_type": "code",
   "execution_count": null,
   "metadata": {},
   "outputs": [],
   "source": []
  },
  {
   "cell_type": "code",
   "execution_count": null,
   "metadata": {},
   "outputs": [],
   "source": []
  }
 ],
 "metadata": {
  "kernelspec": {
   "display_name": "Python 3",
   "language": "python",
   "name": "python3"
  },
  "language_info": {
   "codemirror_mode": {
    "name": "ipython",
    "version": 3
   },
   "file_extension": ".py",
   "mimetype": "text/x-python",
   "name": "python",
   "nbconvert_exporter": "python",
   "pygments_lexer": "ipython3",
   "version": "3.6.9"
  }
 },
 "nbformat": 4,
 "nbformat_minor": 4
}
