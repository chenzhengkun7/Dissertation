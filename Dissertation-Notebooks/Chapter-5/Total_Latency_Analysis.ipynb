{
 "cells": [
  {
   "cell_type": "code",
   "execution_count": 1,
   "metadata": {},
   "outputs": [],
   "source": [
    "\n",
    "import os\n",
    "import pandas as pd\n",
    "from sklearn.model_selection import train_test_split\n",
    "from sklearn.decomposition import PCA\n",
    "from sklearn.decomposition import KernelPCA\n",
    "import numpy as np\n",
    "\n",
    "from matplotlib import pyplot as plt\n",
    "from crawlab_toolbox import plotting as genplt\n",
    "from sklearn.pipeline import Pipeline\n",
    "\n",
    "import tensorflow.keras as keras\n",
    "\n",
    "from scipy.stats import probplot\n",
    "from scipy.stats import normaltest\n",
    "\n",
    "# mse = keras.metrics.mean_squared_error(all_outputs,input_data)"
   ]
  },
  {
   "cell_type": "code",
   "execution_count": 2,
   "metadata": {},
   "outputs": [
    {
     "name": "stdout",
     "output_type": "stream",
     "text": [
      "3.2.1\n"
     ]
    }
   ],
   "source": [
    "import matplotlib as mpl\n",
    "print(mpl.__version__)"
   ]
  },
  {
   "cell_type": "code",
   "execution_count": 3,
   "metadata": {},
   "outputs": [],
   "source": [
    "inferenceLocations = ['Beaglebone','Amazon-EC2']\n",
    "vibSamples = ['4096','8192','16384','32768','65536']\n",
    "vibSampleLabels = [r'$2^{12}$',r'$2^{13}$',r'$2^{14}$',r'$2^{15}$',r'$2^{16}$']\n",
    "vibSampleLabels = [r'4.10',r'8.19',r'16.4',r'32.8',r'65.5']\n",
    "\n",
    "basePath = 'Edge-Device-Latency/'\n",
    "modelId = 'CNN-AE-Lite'\n",
    "deviceId = 'Amazon-EC2'\n",
    "numSamples = 1000\n",
    "numColumns = 3\n",
    "\n",
    "latencyVals = np.zeros((numSamples,len(inferenceLocations),len(vibSamples)))\n",
    "columns = None"
   ]
  },
  {
   "cell_type": "code",
   "execution_count": 4,
   "metadata": {},
   "outputs": [
    {
     "name": "stdout",
     "output_type": "stream",
     "text": [
      "(1005, 3)\n",
      "(1001, 3)\n",
      "(1001, 3)\n",
      "(1163, 3)\n",
      "(1001, 3)\n",
      "(1001, 3)\n",
      "(1001, 3)\n",
      "(1001, 3)\n",
      "(1001, 3)\n",
      "(1001, 3)\n"
     ]
    }
   ],
   "source": [
    "for i in range(len(vibSamples)):\n",
    "    for j in range(len(inferenceLocations)):\n",
    "        thisDF = pd.read_csv(basePath + inferenceLocations[j] +'_' + modelId + '_' + vibSamples[i] + '.csv')\n",
    "\n",
    "        print(thisDF.values.shape)\n",
    "\n",
    "\n",
    "        latencyVals[:,j,i] = np.sum(thisDF.values[-numSamples:,:],axis=1)\n",
    "\n"
   ]
  },
  {
   "cell_type": "markdown",
   "metadata": {},
   "source": [
    "mean latency, max latency, Max Score Difference, MSE"
   ]
  },
  {
   "cell_type": "code",
   "execution_count": 5,
   "metadata": {},
   "outputs": [],
   "source": [
    "colors = ['#e41a1c', '#377eb8', '#4daf4a', '#984ea3', '#ff7f00', '#ffff33', '#a65628']\n",
    "\n",
    "def box_plot(data,labels,\n",
    "             xlabel='',ylabel='Latency (ms)',log_y=False,\n",
    "             folder='figures',filename='boxplot',savefig=False,\n",
    "             transparent=True,color_order=np.arange(len(colors)),template='publication',\n",
    "             xtickpad=5,showfliers=False,plot_type='box'):\n",
    "    thisColors = [colors[i] for i in color_order]\n",
    "    if template.lower() == 'publication':\n",
    "        fig = plt.figure(figsize=(6,4))\n",
    "    elif template.lower() == 'wide':\n",
    "        fig = plt.figure(figsize=(12,4))\n",
    "    elif template.lower() == 'presentation':\n",
    "        fig = plt.figure(figsize=(9,6))\n",
    "    else:\n",
    "        fig = plt.figure()\n",
    "\n",
    "    if plot_type == 'box':\n",
    "\n",
    "        bp = plt.boxplot(data,\n",
    "                        showfliers=showfliers,\n",
    "                        patch_artist=True,\n",
    "                        meanline=False,\n",
    "                        notch=False,\n",
    "                        medianprops={'color':'black',\n",
    "                                     'linewidth':2},\n",
    "                        whiskerprops={'linewidth':2},\n",
    "                        capprops={'linewidth':2})\n",
    "        ax = plt.gca()\n",
    "\n",
    "        for patch, color in zip(bp['boxes'], thisColors):\n",
    "            # change outline color\n",
    "            patch.set(color=color, linewidth=2)\n",
    "            patch.set_facecolor(color)\n",
    "    else:\n",
    "        violin_parts = plt.violinplot(data,\n",
    "                  showmeans=False,\n",
    "                  showmedians=False,\n",
    "                  showextrema=False)\n",
    "        ax = plt.gca()\n",
    "        \n",
    "        for pc in violin_parts['bodies']:\n",
    "            pc.set_facecolor('red')\n",
    "            pc.set_edgecolor('black')\n",
    "\n",
    "    if log_y == True:\n",
    "        ax.set_yscale('log')\n",
    "    ax.spines['right'].set_color('none')\n",
    "    ax.spines['top'].set_color('none')\n",
    "    ax.xaxis.set_ticks_position('bottom')\n",
    "    ax.yaxis.set_ticks_position('left')\n",
    "\n",
    "    ax.set_xticklabels([r'\\textbf{' + label + '}' for label in labels])\n",
    "    ax.tick_params(axis='x', which='major', pad=xtickpad)\n",
    "    plt.xlabel(r'\\textbf{' + xlabel + '}')\n",
    "    plt.ylabel(r'\\textbf{' + ylabel + '}')\n",
    "    \n",
    "    if not os.path.exists(folder):\n",
    "        os.makedirs(folder)\n",
    "        \n",
    "    plt.tight_layout(pad=1.5)\n",
    "    \n",
    "    if savefig:\n",
    "        plt.savefig(folder + '/' + filename + '.png',transparent=transparent)\n",
    "\n",
    "    plt.show()\n",
    "    \n",
    "    \n",
    "\n",
    "def box_plot_compare(data,labels,\n",
    "             xlabel='',ylabel='Latency (ms)',log_y=False,\n",
    "             folder='figures',filename='boxplot',savefig=False,\n",
    "             transparent=True,color_order=np.arange(len(colors)),template='publication',\n",
    "             xtickpad=5,showfliers=False,legend_loc='best',max_cutoff=0,min_cutoff=0):\n",
    "    thisColors = [colors[i] for i in color_order]\n",
    "    if template.lower() == 'publication':\n",
    "        fig = plt.figure(figsize=(6,4))\n",
    "    elif template.lower() == 'wide':\n",
    "        fig = plt.figure(figsize=(12,4))\n",
    "    elif template.lower() == 'presentation':\n",
    "        fig = plt.figure(figsize=(9,6))\n",
    "    else:\n",
    "        fig = plt.figure()\n",
    "        \n",
    "    position = [i+1 for i in range(data.shape[1])]\n",
    "    tickPositions = []\n",
    "    phantomLines = []\n",
    "        \n",
    "    for i in range(data.shape[-1]):\n",
    "        \n",
    "        max_index = data.shape[0] - max_cutoff\n",
    "        min_index = min_cutoff\n",
    "        \n",
    "        thisData = np.sort(data[...,i],axis=0)[min_index:max_index,:]\n",
    "  \n",
    "        violin_parts = plt.violinplot(thisData,\n",
    "                  positions = position,\n",
    "                  showmeans=False,\n",
    "                  showmedians=False,\n",
    "                  showextrema=False)\n",
    "        \n",
    "        tickPositions.append(np.mean(position))\n",
    "\n",
    "        for counter, pc in enumerate(violin_parts['bodies']):\n",
    "            pc.set_facecolor(colors[counter])\n",
    "            pc.set_edgecolor('black')\n",
    "            pc.set_alpha(1)\n",
    "            \n",
    "            if i == 0:\n",
    "                line, = plt.plot([1,1],color=colors[counter])\n",
    "                phantomLines.append(line)\n",
    "            \n",
    "        position = [position[i] + data.shape[1] + 1 for i in range(len(position))]\n",
    "            \n",
    "    ax = plt.gca()\n",
    "\n",
    "    if log_y == True:\n",
    "        ax.set_yscale('log')\n",
    "    ax.spines['right'].set_color('none')\n",
    "    ax.spines['top'].set_color('none')\n",
    "    ax.xaxis.set_ticks_position('bottom')\n",
    "    ax.yaxis.set_ticks_position('left')\n",
    "\n",
    "    ax.set_xticklabels([r'\\textbf{' + label + '}' for label in labels])\n",
    "    print(tickPositions)\n",
    "    ax.set_xticks(tickPositions)\n",
    "    ax.tick_params(axis='x', which='major', pad=xtickpad)\n",
    "    ax.legend(tuple(phantomLines),tuple(inferenceLocations),loc=legend_loc,framealpha=float(not transparent)).get_frame().set_edgecolor('k')\n",
    "    \n",
    "    [phantomLines[i].set_visible(False) for i in range(len(phantomLines))]\n",
    "    \n",
    "    plt.xlabel(r'\\textbf{' + xlabel + '}')\n",
    "    plt.ylabel(r'\\textbf{' + ylabel + '}')\n",
    "    \n",
    "    if not os.path.exists(folder):\n",
    "        os.makedirs(folder)\n",
    "        \n",
    "    plt.tight_layout(pad=1.5)\n",
    "    \n",
    "    if savefig:\n",
    "        plt.savefig(folder + '/' + filename + '.png',transparent=transparent)\n",
    "\n",
    "    plt.show()\n",
    "    "
   ]
  },
  {
   "cell_type": "code",
   "execution_count": 6,
   "metadata": {},
   "outputs": [
    {
     "data": {
      "text/plain": [
       "(1000, 2)"
      ]
     },
     "execution_count": 6,
     "metadata": {},
     "output_type": "execute_result"
    }
   ],
   "source": [
    "np.sort(latencyVals[...,0],axis=0)[:1000,:].shape"
   ]
  },
  {
   "cell_type": "code",
   "execution_count": 7,
   "metadata": {},
   "outputs": [
    {
     "data": {
      "text/plain": [
       "(1000, 2, 5)"
      ]
     },
     "execution_count": 7,
     "metadata": {},
     "output_type": "execute_result"
    }
   ],
   "source": [
    "latencyVals.shape"
   ]
  },
  {
   "cell_type": "code",
   "execution_count": 8,
   "metadata": {},
   "outputs": [
    {
     "name": "stdout",
     "output_type": "stream",
     "text": [
      "[[2847.02 3106.17 3568.01 4471.   6370.02]\n",
      " [3563.08 3651.1  3878.39 4458.04 5341.26]]\n",
      "[[2595.2  3034.2  3514.1  4422.   6297.95]\n",
      " [3093.   3178.15 3422.45 3964.1  4961.05]]\n",
      "[[2497.  2728.  3185.  4096.5 5925.5]\n",
      " [2342.  2433.  2638.  3206.  4120.5]]\n"
     ]
    }
   ],
   "source": [
    "print(np.percentile(latencyVals,99,axis=0))\n",
    "print(np.percentile(latencyVals,95,axis=0))\n",
    "print(np.percentile(latencyVals,50,axis=0))"
   ]
  },
  {
   "cell_type": "code",
   "execution_count": 9,
   "metadata": {},
   "outputs": [
    {
     "name": "stdout",
     "output_type": "stream",
     "text": [
      "[1.5, 4.5, 7.5, 10.5, 13.5]\n"
     ]
    },
    {
     "data": {
      "image/png": "[encoded data removed]",
      "text/plain": [
       "<Figure size 648x432 with 1 Axes>"
      ]
     },
     "metadata": {
      "needs_background": "light"
     },
     "output_type": "display_data"
    }
   ],
   "source": [
    "box_plot_compare((latencyVals-2000)/1000,vibSampleLabels,savefig=True,filename=inferenceLocations[0] + '_TotalLatency_' + modelId,\n",
    "         template='presentation',xlabel='Sample Points (thousands)',color_order=np.zeros(6).astype(int),ylabel='Total Latency (s)',\n",
    "         showfliers=True,legend_loc='upper left',max_cutoff=2,\n",
    "         log_y=False)"
   ]
  },
  {
   "cell_type": "code",
   "execution_count": 10,
   "metadata": {},
   "outputs": [
    {
     "data": {
      "image/png": "[encoded data removed]",
      "text/plain": [
       "<Figure size 648x432 with 1 Axes>"
      ]
     },
     "metadata": {
      "needs_background": "light"
     },
     "output_type": "display_data"
    },
    {
     "ename": "IndexError",
     "evalue": "index 2 is out of bounds for axis 1 with size 2",
     "output_type": "error",
     "traceback": [
      "\u001b[0;31m---------------------------------------------------------------------------\u001b[0m",
      "\u001b[0;31mIndexError\u001b[0m                                Traceback (most recent call last)",
      "\u001b[0;32m<ipython-input-10-4fe6dddc2d5a>\u001b[0m in \u001b[0;36m<module>\u001b[0;34m\u001b[0m\n\u001b[1;32m     11\u001b[0m \u001b[0;34m\u001b[0m\u001b[0m\n\u001b[1;32m     12\u001b[0m \u001b[0;34m\u001b[0m\u001b[0m\n\u001b[0;32m---> 13\u001b[0;31m box_plot(latencyVals[:,2,:] - 2000,vibSampleLabels,savefig=True,filename=inferenceLocations[0] + '_TotalLatency_' + modelId,\n\u001b[0m\u001b[1;32m     14\u001b[0m          \u001b[0mtemplate\u001b[0m\u001b[0;34m=\u001b[0m\u001b[0;34m'Presentation'\u001b[0m\u001b[0;34m,\u001b[0m\u001b[0mxlabel\u001b[0m\u001b[0;34m=\u001b[0m\u001b[0;34m'Sample Points'\u001b[0m\u001b[0;34m,\u001b[0m\u001b[0mcolor_order\u001b[0m\u001b[0;34m=\u001b[0m\u001b[0mnp\u001b[0m\u001b[0;34m.\u001b[0m\u001b[0mzeros\u001b[0m\u001b[0;34m(\u001b[0m\u001b[0;36m6\u001b[0m\u001b[0;34m)\u001b[0m\u001b[0;34m.\u001b[0m\u001b[0mastype\u001b[0m\u001b[0;34m(\u001b[0m\u001b[0mint\u001b[0m\u001b[0;34m)\u001b[0m\u001b[0;34m,\u001b[0m\u001b[0mylabel\u001b[0m\u001b[0;34m=\u001b[0m\u001b[0;34m'Total Time (ms)'\u001b[0m\u001b[0;34m,\u001b[0m\u001b[0;34m\u001b[0m\u001b[0;34m\u001b[0m\u001b[0m\n\u001b[1;32m     15\u001b[0m          showfliers=True,plot_type='box')\n",
      "\u001b[0;31mIndexError\u001b[0m: index 2 is out of bounds for axis 1 with size 2"
     ]
    }
   ],
   "source": [
    "# box_plot(latencyVals[:,0,:] - 2000,vibSampleLabels,savefig=True,filename=deviceId + '_SampleLatency_' + modelId,\n",
    "#          template='Presentation',xlabel='Sample Points',color_order=np.zeros(6).astype(int))\n",
    "# box_plot(latencyVals[:,1,:],vibSampleLabels,savefig=True,filename=deviceId + '_FeatureExtractLatency_' + modelId,\n",
    "#          template='Presentation',xlabel='Sample Points',xtickpad=10,color_order=np.zeros(6).astype(int))\n",
    "# box_plot(latencyVals[:,2,:],vibSampleLabels,savefig=True,filename=deviceId + '_ModelInferenceLatency_' + modelId,\n",
    "#          template='Presentation',xlabel='Sample Points',color_order=np.zeros(6).astype(int))\n",
    "\n",
    "box_plot(latencyVals[:,0,:] - 2000,vibSampleLabels,savefig=True,filename=inferenceLocations[0] + '_TotalLatency_' + modelId,\n",
    "         template='Presentation',xlabel='Sample Points',color_order=np.zeros(6).astype(int),ylabel='Total Time (ms)',\n",
    "         showfliers=True)\n",
    "\n",
    "\n",
    "box_plot(latencyVals[:,2,:] - 2000,vibSampleLabels,savefig=True,filename=inferenceLocations[0] + '_TotalLatency_' + modelId,\n",
    "         template='Presentation',xlabel='Sample Points',color_order=np.zeros(6).astype(int),ylabel='Total Time (ms)',\n",
    "         showfliers=True,plot_type='box')\n",
    "\n",
    "box_plot(latencyVals[:,1,:] - 2000,vibSampleLabels,savefig=True,filename=inferenceLocations[1] + '_TotalLatency_' + modelId,\n",
    "         template='Presentation',xlabel='Sample Points',color_order=np.zeros(6).astype(int),ylabel='Total Time (ms)',\n",
    "         showfliers=True)\n"
   ]
  },
  {
   "cell_type": "code",
   "execution_count": 11,
   "metadata": {},
   "outputs": [
    {
     "name": "stdout",
     "output_type": "stream",
     "text": [
      "6430.0\n",
      "9388.0\n"
     ]
    },
    {
     "ename": "IndexError",
     "evalue": "index 2 is out of bounds for axis 1 with size 2",
     "output_type": "error",
     "traceback": [
      "\u001b[0;31m---------------------------------------------------------------------------\u001b[0m",
      "\u001b[0;31mIndexError\u001b[0m                                Traceback (most recent call last)",
      "\u001b[0;32m<ipython-input-11-c2f5d93e2c11>\u001b[0m in \u001b[0;36m<module>\u001b[0;34m\u001b[0m\n\u001b[1;32m      1\u001b[0m \u001b[0mprint\u001b[0m\u001b[0;34m(\u001b[0m\u001b[0mnp\u001b[0m\u001b[0;34m.\u001b[0m\u001b[0mamax\u001b[0m\u001b[0;34m(\u001b[0m\u001b[0mlatencyVals\u001b[0m\u001b[0;34m[\u001b[0m\u001b[0;34m:\u001b[0m\u001b[0;34m,\u001b[0m\u001b[0;36m0\u001b[0m\u001b[0;34m,\u001b[0m\u001b[0;34m-\u001b[0m\u001b[0;36m1\u001b[0m\u001b[0;34m]\u001b[0m\u001b[0;34m)\u001b[0m\u001b[0;34m)\u001b[0m\u001b[0;34m\u001b[0m\u001b[0;34m\u001b[0m\u001b[0m\n\u001b[1;32m      2\u001b[0m \u001b[0mprint\u001b[0m\u001b[0;34m(\u001b[0m\u001b[0mnp\u001b[0m\u001b[0;34m.\u001b[0m\u001b[0mamax\u001b[0m\u001b[0;34m(\u001b[0m\u001b[0mlatencyVals\u001b[0m\u001b[0;34m[\u001b[0m\u001b[0;34m:\u001b[0m\u001b[0;34m,\u001b[0m\u001b[0;36m1\u001b[0m\u001b[0;34m,\u001b[0m\u001b[0;34m-\u001b[0m\u001b[0;36m1\u001b[0m\u001b[0;34m]\u001b[0m\u001b[0;34m)\u001b[0m\u001b[0;34m)\u001b[0m\u001b[0;34m\u001b[0m\u001b[0;34m\u001b[0m\u001b[0m\n\u001b[0;32m----> 3\u001b[0;31m \u001b[0mprint\u001b[0m\u001b[0;34m(\u001b[0m\u001b[0mnp\u001b[0m\u001b[0;34m.\u001b[0m\u001b[0mamax\u001b[0m\u001b[0;34m(\u001b[0m\u001b[0mlatencyVals\u001b[0m\u001b[0;34m[\u001b[0m\u001b[0;34m:\u001b[0m\u001b[0;34m,\u001b[0m\u001b[0;36m2\u001b[0m\u001b[0;34m,\u001b[0m\u001b[0;34m-\u001b[0m\u001b[0;36m1\u001b[0m\u001b[0;34m]\u001b[0m\u001b[0;34m)\u001b[0m\u001b[0;34m)\u001b[0m\u001b[0;34m\u001b[0m\u001b[0;34m\u001b[0m\u001b[0m\n\u001b[0m",
      "\u001b[0;31mIndexError\u001b[0m: index 2 is out of bounds for axis 1 with size 2"
     ]
    }
   ],
   "source": [
    "print(np.amax(latencyVals[:,0,-1]))\n",
    "print(np.amax(latencyVals[:,1,-1]))\n",
    "print(np.amax(latencyVals[:,2,-1]))"
   ]
  },
  {
   "cell_type": "code",
   "execution_count": 12,
   "metadata": {},
   "outputs": [
    {
     "ename": "IndexError",
     "evalue": "index 4 is out of bounds for axis 1 with size 2",
     "output_type": "error",
     "traceback": [
      "\u001b[0;31m---------------------------------------------------------------------------\u001b[0m",
      "\u001b[0;31mIndexError\u001b[0m                                Traceback (most recent call last)",
      "\u001b[0;32m<ipython-input-12-7dd94036af7f>\u001b[0m in \u001b[0;36m<module>\u001b[0;34m\u001b[0m\n\u001b[0;32m----> 1\u001b[0;31m \u001b[0mbox_plot\u001b[0m\u001b[0;34m(\u001b[0m\u001b[0mlatencyVals\u001b[0m\u001b[0;34m[\u001b[0m\u001b[0;34m:\u001b[0m\u001b[0;34m,\u001b[0m\u001b[0;36m4\u001b[0m\u001b[0;34m,\u001b[0m\u001b[0;34m:\u001b[0m\u001b[0;34m]\u001b[0m\u001b[0;34m,\u001b[0m\u001b[0minferenceLocationsBold\u001b[0m\u001b[0;34m,\u001b[0m\u001b[0msavefig\u001b[0m\u001b[0;34m=\u001b[0m\u001b[0;32mTrue\u001b[0m\u001b[0;34m,\u001b[0m\u001b[0mfilename\u001b[0m\u001b[0;34m=\u001b[0m\u001b[0;34m'PCA-GNB_Boxplot'\u001b[0m\u001b[0;34m)\u001b[0m\u001b[0;34m\u001b[0m\u001b[0;34m\u001b[0m\u001b[0m\n\u001b[0m\u001b[1;32m      2\u001b[0m \u001b[0;34m\u001b[0m\u001b[0m\n\u001b[1;32m      3\u001b[0m \u001b[0;34m\u001b[0m\u001b[0m\n\u001b[1;32m      4\u001b[0m \u001b[0;34m\u001b[0m\u001b[0m\n\u001b[1;32m      5\u001b[0m \u001b[0mbox_plot\u001b[0m\u001b[0;34m(\u001b[0m\u001b[0mlatencyVals\u001b[0m\u001b[0;34m[\u001b[0m\u001b[0;34m:\u001b[0m\u001b[0;34m,\u001b[0m\u001b[0;36m7\u001b[0m\u001b[0;34m,\u001b[0m\u001b[0;34m:\u001b[0m\u001b[0;34m]\u001b[0m\u001b[0;34m,\u001b[0m\u001b[0minferenceLocationsBold\u001b[0m\u001b[0;34m,\u001b[0m\u001b[0msavefig\u001b[0m\u001b[0;34m=\u001b[0m\u001b[0;32mTrue\u001b[0m\u001b[0;34m,\u001b[0m\u001b[0mfilename\u001b[0m\u001b[0;34m=\u001b[0m\u001b[0;34m'CNN-MLP-Lite_Boxplot'\u001b[0m\u001b[0;34m)\u001b[0m\u001b[0;34m\u001b[0m\u001b[0;34m\u001b[0m\u001b[0m\n",
      "\u001b[0;31mIndexError\u001b[0m: index 4 is out of bounds for axis 1 with size 2"
     ]
    }
   ],
   "source": [
    "\n",
    "box_plot(latencyVals[:,4,:],inferenceLocationsBold,savefig=True,filename='PCA-GNB_Boxplot')\n",
    "\n",
    "\n",
    "\n",
    "box_plot(latencyVals[:,7,:],inferenceLocationsBold,savefig=True,filename='CNN-MLP-Lite_Boxplot')\n",
    "\n"
   ]
  },
  {
   "cell_type": "code",
   "execution_count": 13,
   "metadata": {},
   "outputs": [
    {
     "data": {
      "text/plain": [
       "(1000, 2, 5)"
      ]
     },
     "execution_count": 13,
     "metadata": {},
     "output_type": "execute_result"
    }
   ],
   "source": [
    "latencyVals.shape"
   ]
  },
  {
   "cell_type": "code",
   "execution_count": 14,
   "metadata": {},
   "outputs": [],
   "source": [
    "def percent_increase(data,level):\n",
    "    percentiles = np.percentile(data,level,axis=0)\n",
    "    \n",
    "    increase = (percentiles[0,:] - percentiles[1,:]) / (percentiles[0,:]) * 100\n",
    "    \n",
    "    return increase"
   ]
  },
  {
   "cell_type": "code",
   "execution_count": 15,
   "metadata": {},
   "outputs": [
    {
     "name": "stdout",
     "output_type": "stream",
     "text": [
      "[[2847.02 3106.17 3568.01 4471.   6370.02]\n",
      " [3563.08 3651.1  3878.39 4458.04 5341.26]]\n",
      "[[2595.2  3034.2  3514.1  4422.   6297.95]\n",
      " [3093.   3178.15 3422.45 3964.1  4961.05]]\n",
      "[[2497.  2728.  3185.  4096.5 5925.5]\n",
      " [2342.  2433.  2638.  3206.  4120.5]]\n"
     ]
    },
    {
     "data": {
      "text/plain": [
       "array([ 6.20744894, 10.81378299, 17.17425432, 21.73806908, 30.46156442])"
      ]
     },
     "execution_count": 15,
     "metadata": {},
     "output_type": "execute_result"
    }
   ],
   "source": [
    "print(np.percentile(latencyVals,99,axis=0))\n",
    "print(np.percentile(latencyVals,95,axis=0))\n",
    "print(np.percentile(latencyVals,50,axis=0))\n",
    "percent_increase(latencyVals,50)"
   ]
  },
  {
   "cell_type": "code",
   "execution_count": 16,
   "metadata": {},
   "outputs": [
    {
     "data": {
      "image/png": "[encoded data removed]",
      "text/plain": [
       "<Figure size 432x288 with 1 Axes>"
      ]
     },
     "metadata": {
      "needs_background": "light"
     },
     "output_type": "display_data"
    }
   ],
   "source": [
    "import numpy as np\n",
    "import matplotlib.pyplot as plt\n",
    "\n",
    "\n",
    "width = 0.35       # the width of the bars: can also be len(x) sequence\n",
    "\n",
    "fig, ax = plt.subplots()\n",
    "ax = plt.gca()\n",
    "plt.bar(vibSampleLabels, percent_increase(latencyVals,99), width, label='Men')\n",
    "\n",
    "ax.spines['right'].set_color('none')\n",
    "ax.spines['top'].set_color('none')\n",
    "ax.xaxis.set_ticks_position('bottom')\n",
    "ax.yaxis.set_ticks_position('left')\n",
    "ax.axhline(y=0, color='k',linewidth=1)\n",
    "\n",
    "ax.set_ylabel('Percent ')\n",
    "ax.legend()\n",
    "\n",
    "plt.show()"
   ]
  },
  {
   "cell_type": "code",
   "execution_count": null,
   "metadata": {},
   "outputs": [],
   "source": [
    "\n",
    "\n",
    "def bar_chart_compare(data,labels,\n",
    "             xlabel='',ylabel='Latency (ms)',log_y=False,\n",
    "             folder='figures',filename='boxplot',savefig=False,\n",
    "             transparent=True,color_order=np.arange(len(colors)),template='publication',\n",
    "             xtickpad=5,showfliers=False,legend_loc='best',max_cutoff=0,min_cutoff=0):\n",
    "    thisColors = [colors[i] for i in color_order]\n",
    "    if template.lower() == 'publication':\n",
    "        fig = plt.figure(figsize=(6,4))\n",
    "    elif template.lower() == 'wide':\n",
    "        fig = plt.figure(figsize=(12,4))\n",
    "    elif template.lower() == 'presentation':\n",
    "        fig = plt.figure(figsize=(9,6))\n",
    "    else:\n",
    "        fig = plt.figure()\n",
    "    \n",
    "    plt.bar(vibSampleLabels, data, width, label='Men')\n",
    "            \n",
    "    ax = plt.gca()\n",
    "\n",
    "    if log_y == True:\n",
    "        ax.set_yscale('log')\n",
    "    ax.spines['right'].set_color('none')\n",
    "    ax.spines['top'].set_color('none')\n",
    "    ax.xaxis.set_ticks_position('bottom')\n",
    "    ax.yaxis.set_ticks_position('left')\n",
    "\n",
    "    ax.set_xticklabels([r'\\textbf{' + label + '}' for label in labels])\n",
    "    print(tickPositions)\n",
    "    ax.set_xticks(tickPositions)\n",
    "    ax.tick_params(axis='x', which='major', pad=xtickpad)\n",
    "    ax.legend(tuple(phantomLines),tuple(inferenceLocations),loc=legend_loc,framealpha=float(not transparent)).get_frame().set_edgecolor('k')\n",
    "    \n",
    "    [phantomLines[i].set_visible(False) for i in range(len(phantomLines))]\n",
    "    \n",
    "    plt.xlabel(r'\\textbf{' + xlabel + '}')\n",
    "    plt.ylabel(r'\\textbf{' + ylabel + '}')\n",
    "    \n",
    "    if not os.path.exists(folder):\n",
    "        os.makedirs(folder)\n",
    "        \n",
    "    plt.tight_layout(pad=1.5)\n",
    "    \n",
    "    if savefig:\n",
    "        plt.savefig(folder + '/' + filename + '.png',transparent=transparent)\n",
    "\n",
    "    plt.show()"
   ]
  },
  {
   "cell_type": "code",
   "execution_count": null,
   "metadata": {},
   "outputs": [],
   "source": []
  }
 ],
 "metadata": {
  "kernelspec": {
   "display_name": "Python 3",
   "language": "python",
   "name": "python3"
  },
  "language_info": {
   "codemirror_mode": {
    "name": "ipython",
    "version": 3
   },
   "file_extension": ".py",
   "mimetype": "text/x-python",
   "name": "python",
   "nbconvert_exporter": "python",
   "pygments_lexer": "ipython3",
   "version": "3.6.9"
  }
 },
 "nbformat": 4,
 "nbformat_minor": 4
}
