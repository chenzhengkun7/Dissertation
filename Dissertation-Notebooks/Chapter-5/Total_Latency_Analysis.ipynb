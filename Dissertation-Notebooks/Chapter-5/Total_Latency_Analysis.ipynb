{
 "cells": [
  {
   "cell_type": "code",
   "execution_count": 1,
   "metadata": {},
   "outputs": [],
   "source": [
    "\n",
    "import os\n",
    "import pandas as pd\n",
    "import numpy as np\n",
    "\n",
    "from matplotlib import pyplot as plt\n",
    "from crawlab_toolbox import plotting as genplt\n"
   ]
  },
  {
   "cell_type": "code",
   "execution_count": 2,
   "metadata": {},
   "outputs": [
    {
     "name": "stdout",
     "output_type": "stream",
     "text": [
      "3.2.1\n"
     ]
    }
   ],
   "source": [
    "import matplotlib as mpl\n",
    "print(mpl.__version__)"
   ]
  },
  {
   "cell_type": "code",
   "execution_count": 3,
   "metadata": {},
   "outputs": [],
   "source": [
    "inferenceLocations = ['Beaglebone','Amazon-EC2']\n",
    "vibSamples = ['4096','8192','16384','32768','65536']\n",
    "vibSampleLabels = [r'$2^{12}$',r'$2^{13}$',r'$2^{14}$',r'$2^{15}$',r'$2^{16}$']\n",
    "basePath = 'Edge-Device-Latency/'\n",
    "modelId = 'No-Vib'\n",
    "deviceId = 'Amazon-EC2'\n",
    "numSamples = 900\n",
    "numColumns = 3\n",
    "\n",
    "latencyVals = np.zeros((numSamples,len(inferenceLocations),len(vibSamples)))\n",
    "computeVals = np.zeros((numSamples,len(inferenceLocations),len(vibSamples)))\n",
    "columns = None"
   ]
  },
  {
   "cell_type": "code",
   "execution_count": 4,
   "metadata": {},
   "outputs": [
    {
     "name": "stdout",
     "output_type": "stream",
     "text": [
      "(997, 4)\n",
      "(1021, 4)\n",
      "(1000, 4)\n",
      "(1000, 4)\n",
      "(1000, 4)\n",
      "(1000, 4)\n",
      "(1000, 4)\n",
      "(948, 4)\n",
      "(1000, 4)\n",
      "(1000, 4)\n"
     ]
    }
   ],
   "source": [
    "for i in range(len(vibSamples)):\n",
    "    for j in range(len(inferenceLocations)):\n",
    "        \n",
    "        if inferenceLocations[j] == 'Beaglebone':\n",
    "            modelId = 'returnPSD'\n",
    "            thisDF = pd.read_csv(basePath + inferenceLocations[j] +'_' + modelId + '_' + vibSamples[i] + '.csv')\n",
    "            latencyVals[:,j,i] = thisDF.values[-numSamples:,3]\n",
    "            computeVals[:,j,i] = thisDF.values[-numSamples:,1] + thisDF.values[-numSamples:,2]\n",
    "        else:\n",
    "            modelId = 'No-Vib'\n",
    "            thisDF = pd.read_csv(basePath + inferenceLocations[j] +'_' + modelId + '_' + vibSamples[i] + '.csv')\n",
    "            latencyVals[:,j,i] = thisDF.values[-numSamples:,3]\n",
    "            computeVals[:,j,i] = thisDF.values[-numSamples:,2]\n",
    "            \n",
    "        \n",
    "        print(thisDF.values.shape)\n",
    "\n",
    "\n",
    "        \n",
    "\n"
   ]
  },
  {
   "cell_type": "markdown",
   "metadata": {},
   "source": [
    "mean latency, max latency, Max Score Difference, MSE"
   ]
  },
  {
   "cell_type": "code",
   "execution_count": 5,
   "metadata": {},
   "outputs": [],
   "source": [
    "colors = ['#e41a1c', '#377eb8', '#4daf4a', '#984ea3', '#ff7f00', '#ffff33', '#a65628']\n",
    "\n",
    "def box_plot_compare(data,labels,\n",
    "             xlabel='',ylabel='Latency (ms)',log_y=False,\n",
    "             folder='figures',filename='boxplot',savefig=False,\n",
    "             transparent=True,color_order=np.arange(len(colors)),template='publication',\n",
    "             xtickpad=5,showfliers=False,legend_loc='best',max_cutoff=0,min_cutoff=0,plot_type='violin'):\n",
    "    thisColors = [colors[i] for i in color_order]\n",
    "    if template.lower() == 'publication':\n",
    "        fig = plt.figure(figsize=(6,4))\n",
    "    elif template.lower() == 'wide':\n",
    "        fig = plt.figure(figsize=(12,4))\n",
    "    elif template.lower() == 'presentation':\n",
    "        fig = plt.figure(figsize=(9,6))\n",
    "    else:\n",
    "        fig = plt.figure()\n",
    "        \n",
    "    position = [i+1 for i in range(data.shape[1])]\n",
    "    tickPositions = []\n",
    "    phantomLines = []\n",
    "        \n",
    "    for i in range(data.shape[-1]):\n",
    "        \n",
    "        max_index = data.shape[0] - max_cutoff\n",
    "        min_index = min_cutoff\n",
    "        \n",
    "        thisData = np.sort(data[...,i],axis=0)[min_index:max_index,:]\n",
    "        \n",
    "        if plot_type=='violin':\n",
    "\n",
    "            violin_parts = plt.violinplot(thisData,\n",
    "                      positions = position,\n",
    "                      showmeans=False,\n",
    "                      showmedians=False,\n",
    "                      showextrema=False)\n",
    "\n",
    "            for counter, pc in enumerate(violin_parts['bodies']):\n",
    "                pc.set_facecolor(colors[counter])\n",
    "                pc.set_edgecolor('black')\n",
    "                pc.set_alpha(1)\n",
    "\n",
    "                if i == 0:\n",
    "                    line, = plt.plot([1,1],color=colors[counter])\n",
    "                    phantomLines.append(line)\n",
    "                    \n",
    "        else:\n",
    "           \n",
    "            bp = plt.boxplot(thisData,\n",
    "                            positions=position,\n",
    "                            showfliers=showfliers,\n",
    "                            patch_artist=True,\n",
    "                            meanline=False,\n",
    "                            notch=False,\n",
    "                            medianprops={'color':'black',\n",
    "                                         'linewidth':2},\n",
    "                            whiskerprops={'linewidth':2},\n",
    "                            capprops={'linewidth':2},\n",
    "                            widths=0.75)\n",
    "            \n",
    "            for counter,patch in enumerate(bp['boxes']):\n",
    "                # change outline color\n",
    "                patch.set(color=colors[counter], linewidth=2)\n",
    "                patch.set_facecolor(colors[counter])\n",
    "                \n",
    "                if i == 0:\n",
    "                    line, = plt.plot([1,1],color=colors[counter])\n",
    "                    phantomLines.append(line)\n",
    "            \n",
    "        tickPositions.append(np.mean(position))    \n",
    "        position = [position[i] + data.shape[1] + 1 for i in range(len(position))]\n",
    "            \n",
    "    ax = plt.gca()\n",
    "\n",
    "    if log_y == True:\n",
    "        ax.set_yscale('log')\n",
    "    ax.spines['right'].set_color('none')\n",
    "    ax.spines['top'].set_color('none')\n",
    "    ax.xaxis.set_ticks_position('bottom')\n",
    "    ax.yaxis.set_ticks_position('left')\n",
    "\n",
    "    ax.set_xticklabels([r'\\textbf{' + label + '}' for label in labels])\n",
    "    ax.set_xticks(tickPositions)\n",
    "    ax.tick_params(axis='x', which='major', pad=xtickpad)\n",
    "    ax.legend(tuple(phantomLines),tuple(inferenceLocations),loc=legend_loc,framealpha=float(not transparent)).get_frame().set_edgecolor('k')\n",
    "    \n",
    "    [phantomLines[i].set_visible(False) for i in range(len(phantomLines))]\n",
    "    \n",
    "    plt.xlabel(r'\\textbf{' + xlabel + '}')\n",
    "    plt.ylabel(r'\\textbf{' + ylabel + '}')\n",
    "    \n",
    "    if not os.path.exists(folder):\n",
    "        os.makedirs(folder)\n",
    "        \n",
    "    plt.tight_layout(pad=1.5)\n",
    "    \n",
    "    if savefig:\n",
    "        plt.savefig(folder + '/' + filename + '.png',transparent=transparent)\n",
    "\n",
    "    plt.show()\n",
    "    \n",
    "\n",
    "  \n",
    "def bar_chart_compare(data,labels,dataLabels,\n",
    "             xlabel='',ylabel='Latency (ms)',log_y=False,\n",
    "             folder='figures',filename='boxplot',savefig=False,\n",
    "             transparent=True,color_order=np.arange(len(colors)),template='publication',max_cutoff=0,min_cutoff=0,\n",
    "             xtickpad=5,showfliers=False,legend_loc='best'):\n",
    "    thisColors = [colors[i] for i in color_order]\n",
    "    if template.lower() == 'publication':\n",
    "        fig = plt.figure(figsize=(6,4))\n",
    "    elif template.lower() == 'wide':\n",
    "        fig = plt.figure(figsize=(12,4))\n",
    "    elif template.lower() == 'presentation':\n",
    "        fig = plt.figure(figsize=(9,6))\n",
    "    else:\n",
    "        fig = plt.figure()\n",
    "        \n",
    "    x = np.arange(data.shape[-1])\n",
    "    tickPositions = x.tolist() \n",
    "    phantomLines = []\n",
    "    width = .7 / len(dataLabels)\n",
    "        \n",
    "    means = np.mean(data,axis=0)\n",
    "    stdev = np.std(data,axis=0)\n",
    "\n",
    "\n",
    "    for j in range(data.shape[-2]):\n",
    "\n",
    "        plt.bar(x - 0.35 + (j+.5) * width, means[j,:], width, label=dataLabels[j])\n",
    "\n",
    "#         tickPositions.append(np.mean(position))    \n",
    "#         position = [position[i] + data.shape[1] + 1 for i in range(len(position))]\n",
    "            \n",
    "    ax = plt.gca()\n",
    "\n",
    "    if log_y == True:\n",
    "        ax.set_yscale('log')\n",
    "    ax.spines['right'].set_color('none')\n",
    "    ax.spines['top'].set_color('none')\n",
    "    ax.xaxis.set_ticks_position('bottom')\n",
    "    ax.yaxis.set_ticks_position('left')\n",
    "\n",
    "    ax.set_xticklabels([r'\\textbf{' + label + '}' for label in labels])\n",
    "    ax.set_xticks(tickPositions)\n",
    "    ax.tick_params(axis='x', which='major', pad=xtickpad)\n",
    "#     ax.legend(tuple(phantomLines),tuple(dataLabels),loc=legend_loc,framealpha=float(not transparent)).get_frame().set_edgecolor('k')\n",
    "    plt.legend(loc=legend_loc,framealpha=float(not transparent)).get_frame().set_edgecolor('k')\n",
    "    \n",
    "    plt.xlabel(r'\\textbf{' + xlabel + '}')\n",
    "    plt.ylabel(r'\\textbf{' + ylabel + '}')\n",
    "    \n",
    "    if not os.path.exists(folder):\n",
    "        os.makedirs(folder)\n",
    "        \n",
    "    plt.tight_layout(pad=1.5)\n",
    "    \n",
    "    if savefig:\n",
    "        plt.savefig(folder + '/' + filename + '.png',transparent=transparent)\n",
    "\n",
    "    plt.show()\n",
    "    "
   ]
  },
  {
   "cell_type": "code",
   "execution_count": 6,
   "metadata": {},
   "outputs": [
    {
     "data": {
      "image/png": "[encoded data removed]",
      "text/plain": [
       "<Figure size 648x432 with 1 Axes>"
      ]
     },
     "metadata": {
      "needs_background": "light"
     },
     "output_type": "display_data"
    },
    {
     "data": {
      "image/png": "[encoded data removed]",
      "text/plain": [
       "<Figure size 648x432 with 1 Axes>"
      ]
     },
     "metadata": {
      "needs_background": "light"
     },
     "output_type": "display_data"
    }
   ],
   "source": [
    "box_plot_compare((latencyVals),vibSampleLabels,savefig=True,filename='EdgeCloud_TotalLatency',\n",
    "         template='presentation',xlabel='Sample Points',color_order=np.zeros(6).astype(int),ylabel='Latency (ms)',\n",
    "         showfliers=False,legend_loc='upper left',max_cutoff=2,plot_type='box',\n",
    "         log_y=False)\n",
    "\n",
    "bar_chart_compare((computeVals),vibSampleLabels,['Beaglebone','Amazon EC2'],savefig=True,filename='EdgeVsCloud_ComputeLatency',\n",
    "         template='presentation',xlabel='Sample Points',color_order=np.zeros(6).astype(int),ylabel='Mean Latency (ms)',\n",
    "         showfliers=False,legend_loc='upper left',\n",
    "         log_y=False)"
   ]
  },
  {
   "cell_type": "code",
   "execution_count": 7,
   "metadata": {},
   "outputs": [
    {
     "data": {
      "text/plain": [
       "(900, 2, 5)"
      ]
     },
     "execution_count": 7,
     "metadata": {},
     "output_type": "execute_result"
    }
   ],
   "source": [
    "latencyVals.shape"
   ]
  },
  {
   "cell_type": "code",
   "execution_count": null,
   "metadata": {},
   "outputs": [],
   "source": []
  }
 ],
 "metadata": {
  "kernelspec": {
   "display_name": "Python 3",
   "language": "python",
   "name": "python3"
  },
  "language_info": {
   "codemirror_mode": {
    "name": "ipython",
    "version": 3
   },
   "file_extension": ".py",
   "mimetype": "text/x-python",
   "name": "python",
   "nbconvert_exporter": "python",
   "pygments_lexer": "ipython3",
   "version": "3.6.9"
  }
 },
 "nbformat": 4,
 "nbformat_minor": 4
}
