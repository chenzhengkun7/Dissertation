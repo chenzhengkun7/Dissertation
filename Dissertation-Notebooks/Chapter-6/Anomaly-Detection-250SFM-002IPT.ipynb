{
 "cells": [
  {
   "cell_type": "markdown",
   "metadata": {},
   "source": [
    "# 250 SFM, 0.002 IPT \n",
    "\n",
    "1528 RPM = 25.5 Hz\n",
    "\n",
    "102 Hz for the tooth-pass frequency"
   ]
  },
  {
   "cell_type": "code",
   "execution_count": 23,
   "metadata": {},
   "outputs": [],
   "source": [
    "\n",
    "import os\n",
    "import pandas as pd\n",
    "from sklearn.model_selection import train_test_split\n",
    "from sklearn.decomposition import PCA\n",
    "from sklearn.decomposition import KernelPCA\n",
    "import numpy as np\n",
    "\n",
    "from matplotlib import pyplot as plt\n",
    "from crawlab_toolbox import plotting as genplt\n",
    "from sklearn.pipeline import Pipeline\n",
    "\n",
    "import tensorflow.keras as keras\n",
    "import tensorflow as tf\n",
    "from scipy.stats import describe\n",
    "\n",
    "from sklearn.mixture import GaussianMixture\n",
    "import kerastuner as kt\n",
    "\n",
    "from sklearn.preprocessing import OrdinalEncoder\n",
    "from sklearn.neural_network import MLPClassifier\n",
    "from sklearn.svm import OneClassSVM\n",
    "\n",
    "from scipy.stats import probplot\n",
    "from scipy.stats import normaltest\n",
    "\n",
    "from joblib import dump, load\n",
    "\n",
    "from scipy import signal\n",
    "\n",
    "from ML_Train.Vanilla_AE import create_vanilla_ae\n",
    "from ML_Train.Variational_AE import create_autoencoder as create_conv_vae\n",
    "from ML_Train.Convolutional_AE import create_autoencoder as create_conv_ae\n",
    "from ML_Train.Variational_Vanilla_AE import create_autoencoder as create_vanilla_vae\n",
    "from ML_Train.CNN_Classifier import create_autoencoder as create_hybrid_cnn_ae\n",
    "# mse = keras.metrics.mean_squared_error(all_outputs,input_data)"
   ]
  },
  {
   "cell_type": "code",
   "execution_count": 24,
   "metadata": {},
   "outputs": [],
   "source": [
    "def extract_features(values):\n",
    "    _,amps = signal.welch(values, fs=20e3, nperseg=4096, scaling='density')\n",
    "#     amps /= 0.01\n",
    "    amps = lin_log_interp(amps)\n",
    "    \n",
    "    _,minmax,mean,variance,skewness,kurtosis = describe(values,axis=1)\n",
    "    mean = mean[...,np.newaxis]\n",
    "    variance = variance[...,np.newaxis]\n",
    "    skewness = skewness[...,np.newaxis]\n",
    "    kurtosis = kurtosis[...,np.newaxis]\n",
    "    \n",
    "    sampleRMS = np.sqrt(1 / values.shape[0] * np.sum((values - np.repeat(mean,values.shape[1],axis=1).reshape(mean.shape[0],values.shape[1]))**2,axis=1))\n",
    "    \n",
    "    sampleRMS = sampleRMS[...,np.newaxis]\n",
    "    \n",
    "    print(mean.shape,variance.shape,skewness.shape,kurtosis.shape,sampleRMS.shape)\n",
    "    stats = np.hstack((mean,variance,skewness,kurtosis,sampleRMS))\n",
    "    \n",
    "    return amps,stats\n",
    "\n",
    "\n",
    "def lin_log_interp(fft_features):\n",
    "    '''\n",
    "    Scale the fft features from the logarithmic axis to be approximately on \n",
    "    the interval from 0 to 1\n",
    "    '''\n",
    "    \n",
    "    # Minimum exponent we expect to see in the data\n",
    "    minimum = -12\n",
    "    \n",
    "    # Maximum exponent we expect to see\n",
    "    maximum = 0\n",
    "    \n",
    "    # Number of points to use for interpolation\n",
    "    numpoints = 1000\n",
    "    \n",
    "    # Map the logarithmic x-axis to a linear y-axis\n",
    "    x = np.logspace(minimum,maximum,numpoints)\n",
    "    y = np.linspace(0,1,numpoints)\n",
    "\n",
    "    # Return the interpolated valuess\n",
    "    return np.interp(np.log10(fft_features),np.log10(x),y)"
   ]
  },
  {
   "cell_type": "code",
   "execution_count": 25,
   "metadata": {},
   "outputs": [],
   "source": [
    "keras.backend.clear_session()\n",
    "gpus= tf.config.experimental.list_physical_devices('GPU')\n",
    "tf.config.experimental.set_memory_growth(gpus[0], True)\n"
   ]
  },
  {
   "cell_type": "code",
   "execution_count": 26,
   "metadata": {},
   "outputs": [],
   "source": [
    "samples_train = np.loadtxt('Experiment-3-Data/DoE_train_pruned.txt',delimiter=',')"
   ]
  },
  {
   "cell_type": "code",
   "execution_count": 27,
   "metadata": {},
   "outputs": [],
   "source": [
    "sfm_args = np.argwhere((samples_train[:,0] == 250/300)).flatten()\n",
    "ipt_args = np.argwhere((samples_train[:,1] == 0.002/0.003)).flatten()\n",
    "doe_args = sfm_args[np.argwhere([sfm_args == ipt_args[i] for i in range(ipt_args.shape[0])])[:,1]]\n",
    "depth_args = np.argwhere((samples_train[:,2] == 25/25)).flatten()\n",
    "doe_args = depth_args[np.argwhere([depth_args == doe_args[i] for i in range(doe_args.shape[0])])[:,1]]\n",
    "# samples_selected = samples_selected[depth_args]\n",
    "# doe_args = doe_args[np.argwhere([depth_args == doe_args[i] for i in range(doe_args.shape[0])])[:,1]]"
   ]
  },
  {
   "cell_type": "code",
   "execution_count": 28,
   "metadata": {},
   "outputs": [],
   "source": [
    "first_unhealthy = 156"
   ]
  },
  {
   "cell_type": "code",
   "execution_count": 29,
   "metadata": {},
   "outputs": [],
   "source": [
    "healthy_args = doe_args[doe_args < first_unhealthy]\n",
    "unhealthy_args = doe_args[doe_args > first_unhealthy]"
   ]
  },
  {
   "cell_type": "code",
   "execution_count": 30,
   "metadata": {},
   "outputs": [],
   "source": [
    "healthy_args = healthy_args[healthy_args != 112]"
   ]
  },
  {
   "cell_type": "code",
   "execution_count": 31,
   "metadata": {},
   "outputs": [],
   "source": [
    "freqs = np.linspace(0,1.,2048) * 10000"
   ]
  },
  {
   "cell_type": "code",
   "execution_count": 32,
   "metadata": {},
   "outputs": [
    {
     "name": "stdout",
     "output_type": "stream",
     "text": [
      "(306, 1) (306, 1) (306, 1) (306, 1) (306, 1)\n"
     ]
    }
   ],
   "source": [
    "DoE_train = np.loadtxt('Experiment-3-Data/DoE_train_pruned.txt',delimiter=',')\n",
    "trainDF = pd.read_csv('Experiment-3-Data/Vib_train_pruned.csv')\n",
    "X_train = trainDF.loc[:, trainDF.columns != 'dateTime'].values.astype(np.float32)\n",
    "Y_train = np.loadtxt('Experiment-3-Data/Y_train_pruned.txt',delimiter=',')\n",
    "X_train_original,stats_train_original = extract_features(X_train,)\n",
    "\n",
    "stats_train_unhealthy = stats_train_original[unhealthy_args,:]\n",
    "stats_train_healthy = stats_train_original[healthy_args,:]\n",
    "X_train_unhealthy = X_train_original[unhealthy_args,:]\n",
    "X_train_healthy = X_train_original[healthy_args,:]\n",
    "\n",
    "DoE_train_healthy = DoE_train[healthy_args,:]\n",
    "DoE_train_unhealthy = DoE_train[unhealthy_args,:]\n",
    "\n",
    "\n",
    "Y_train_healthy = np.tile(np.array([[1]]),(X_train_healthy.shape[0],1))\n",
    "Y_train_unhealthy = np.tile(np.array([[0]]),(X_train_unhealthy.shape[0],1))\n",
    "\n",
    "XY_train_healthy = np.hstack((X_train_healthy,Y_train_healthy))\n",
    "XY_train_unhealthy = np.hstack((X_train_unhealthy,Y_train_unhealthy))\n",
    "\n",
    "XY_train = np.vstack((XY_train_healthy,XY_train_unhealthy))\n",
    "\n",
    "stats_train = np.vstack((stats_train_healthy,stats_train_unhealthy))\n",
    "\n",
    "Y_train = XY_train[:,-1]\n",
    "columns = ['Healthy Train','Healthy Valid','Unhealthy Train','Unhealthy Valid']\n",
    "\n",
    "X = []\n",
    "X.append(X_train_healthy)\n",
    "X.append(X_train_unhealthy)\n",
    "\n",
    "DoE = []\n",
    "DoE.append(DoE_train_healthy)\n",
    "DoE.append(DoE_train_unhealthy)\n",
    "\n",
    "stats = []\n",
    "stats.append(stats_train_healthy)\n",
    "stats.append(stats_train_unhealthy)\n",
    "freqs = np.linspace(0,10000,2048)\n"
   ]
  },
  {
   "cell_type": "code",
   "execution_count": 33,
   "metadata": {},
   "outputs": [
    {
     "data": {
      "text/plain": [
       "-2.42748"
      ]
     },
     "execution_count": 33,
     "metadata": {},
     "output_type": "execute_result"
    }
   ],
   "source": [
    "np.amax(X_train)\n",
    "np.amin(X_train)"
   ]
  },
  {
   "cell_type": "code",
   "execution_count": 34,
   "metadata": {},
   "outputs": [],
   "source": [
    "def plot_scores(score,delta_f,filename='scores'):\n",
    "    yi = np.arange(-0.0, score.shape[0]) + 2\n",
    "    xi = (np.arange(0.0,score.shape[1]) + 2) * delta_f\n",
    "\n",
    "    X, Y = np.meshgrid(xi, yi)\n",
    "\n",
    "    plt.figure(figsize=(12,4))\n",
    "    ax = plt.gca()\n",
    "    plt.pcolormesh(X,Y,score,cmap='cividis',norm=colors.Normalize(vmin=np.amin(score),vmax=np.amax(score)))\n",
    "    cbar = plt.colorbar()\n",
    "    cbar.set_label(r'\\textbf{Normalized Score}', rotation=270,labelpad=20)\n",
    "    plt.ylabel(r'\\textbf{PCA Dimensions}', labelpad=5,fontsize=22)\n",
    "    plt.xlabel(r'\\textbf{PSD Bandwidth (Hz)}', labelpad=5,fontsize=22)\n",
    "    \n",
    "    plt.tight_layout(pad=1.2)\n",
    "    plt.savefig('figures/' + filename + '.png',transparent=True)  \n",
    "    plt.show()\n",
    "    \n",
    "colors = ['#e41a1c', '#377eb8', '#4daf4a', '#984ea3', '#ff7f00', '#ffff33', '#a65628']\n",
    "\n",
    "def box_plot_compare(data,labels,legend,\n",
    "             xlabel='',ylabel='Latency (ms)',log_y=False,\n",
    "             folder='figures',filename='boxplot',savefig=False,\n",
    "             transparent=True,color_order=np.arange(len(colors)),template='publication',\n",
    "             xtickpad=5,showfliers=False,legend_loc='best',max_cutoff=0,min_cutoff=0,plot_type='violin'):\n",
    "    thisColors = [colors[i] for i in color_order]\n",
    "    if template.lower() == 'publication':\n",
    "        fig = plt.figure(figsize=(6,4))\n",
    "    elif template.lower() == 'wide':\n",
    "        fig = plt.figure(figsize=(12,4))\n",
    "    elif template.lower() == 'presentation':\n",
    "        fig = plt.figure(figsize=(9,6))\n",
    "    else:\n",
    "        fig = plt.figure()\n",
    "        \n",
    "    position = [i+1 for i in range(len(data))]\n",
    "    tickPositions = []\n",
    "    phantomLines = []\n",
    "        \n",
    "    for i in range(data[0].shape[1]):\n",
    "        \n",
    "        thisData = [data[j][:,i] for j in range(len(data))]\n",
    "\n",
    "        bp = plt.boxplot(thisData,\n",
    "                        positions=position,\n",
    "                        showfliers=showfliers,\n",
    "                        patch_artist=True,\n",
    "                        meanline=False,\n",
    "                        notch=False,\n",
    "                        medianprops={'color':'black',\n",
    "                                     'linewidth':2},\n",
    "                        whiskerprops={'linewidth':2},\n",
    "                        capprops={'linewidth':2},\n",
    "                        widths=0.75)\n",
    "\n",
    "        for counter,patch in enumerate(bp['boxes']):\n",
    "            # change outline color\n",
    "            patch.set(color=colors[counter], linewidth=2)\n",
    "            patch.set_facecolor(colors[counter])\n",
    "\n",
    "            if i == 0:\n",
    "                line, = plt.plot([1,1],color=colors[counter])\n",
    "                phantomLines.append(line)\n",
    "            \n",
    "        tickPositions.append(np.mean(position))    \n",
    "        position = [position[i] + len(data) + 1 for i in range(len(position))]\n",
    "            \n",
    "    ax = plt.gca()\n",
    "\n",
    "    if log_y == True:\n",
    "        ax.set_yscale('log')\n",
    "    ax.spines['right'].set_color('none')\n",
    "    ax.spines['top'].set_color('none')\n",
    "    ax.xaxis.set_ticks_position('bottom')\n",
    "    ax.yaxis.set_ticks_position('left')\n",
    "\n",
    "    ax.set_xticklabels([r'\\textbf{' + label + '}' for label in labels])\n",
    "    ax.set_xticks(tickPositions)\n",
    "    ax.tick_params(axis='x', which='major', pad=xtickpad)\n",
    "    ax.legend(tuple(phantomLines),tuple(legend),loc=legend_loc,framealpha=float(not transparent)).get_frame().set_edgecolor('k')\n",
    "    \n",
    "    [phantomLines[i].set_visible(False) for i in range(len(phantomLines))]\n",
    "    \n",
    "    plt.xlabel(r'\\textbf{' + xlabel + '}')\n",
    "    plt.ylabel(r'\\textbf{' + ylabel + '}')\n",
    "    \n",
    "    if not os.path.exists(folder):\n",
    "        os.makedirs(folder)\n",
    "        \n",
    "    plt.tight_layout(pad=1.5)\n",
    "    \n",
    "    if savefig:\n",
    "        plt.savefig(folder + '/' + filename + '.png',transparent=transparent)\n",
    "\n",
    "    plt.show()\n",
    "    "
   ]
  },
  {
   "cell_type": "code",
   "execution_count": 35,
   "metadata": {},
   "outputs": [
    {
     "data": {
      "image/png": "[encoded data removed]",
      "text/plain": [
       "<Figure size 864x288 with 1 Axes>"
      ]
     },
     "metadata": {
      "needs_background": "light"
     },
     "output_type": "display_data"
    }
   ],
   "source": [
    "box_plot_compare(stats,['Mean','Variance','Skewness','Kurtosis','RMS'],['Healthy','Unhealthy'],savefig=True,filename='Time-Domain_Single-Compare',\n",
    "         template='wide',xlabel='Statistic',color_order=np.zeros(6).astype(int),ylabel='Value (g)',\n",
    "         showfliers=False,legend_loc='upper left',max_cutoff=2,plot_type='box',\n",
    "         log_y=False)"
   ]
  },
  {
   "cell_type": "code",
   "execution_count": 36,
   "metadata": {},
   "outputs": [
    {
     "name": "stdout",
     "output_type": "stream",
     "text": [
      "[-0.05424334  0.27307835  0.03108359  0.10830875  1.9351866 ]\n",
      "[-0.05438058  0.3269646   0.0481901  -0.0173848   2.115873  ]\n",
      "[0.00133185 0.01344236 0.0165815  0.09249141 0.04787182]\n"
     ]
    }
   ],
   "source": [
    "print(np.mean(stats[0],axis=0))\n",
    "print(np.mean(stats[1],axis=0))\n",
    "print(np.std(stats[0],axis=0))\n",
    "# X_unhealthy = X_train_original[unhealthy_args,:]\n",
    "# X_healthy = X_train_original[healthy_args,:]\n",
    "# X_unhealthy.shape\n",
    "freqs,X_unhealthy = signal.welch(X_train[unhealthy_args,:], fs=20e3, nperseg=4096, scaling='density')\n",
    "freqs,X_healthy = signal.welch(X_train[healthy_args,:], fs=20e3, nperseg=4096, scaling='density')\n",
    "# print(amps.shape)"
   ]
  },
  {
   "cell_type": "code",
   "execution_count": 38,
   "metadata": {},
   "outputs": [
    {
     "data": {
      "image/png": "[encoded data removed]",
      "text/plain": [
       "<Figure size 864x288 with 1 Axes>"
      ]
     },
     "metadata": {
      "needs_background": "light"
     },
     "output_type": "display_data"
    }
   ],
   "source": [
    "np.mean(X[0],axis=0).shape\n",
    "\n",
    "# combine the responses and labels to put on our 2D plot\n",
    "responses = np.vstack((np.mean(X_healthy,axis=0)[:512],np.mean(X_unhealthy,axis=0)[:512]))\n",
    "labels = [r'Healthy','Unhealthy']\n",
    "\n",
    "numPoints = 200\n",
    "\n",
    "# Create a 2D plot\n",
    "genplt.generate_plot(freqs[:512], # X - coordinate on the plot\n",
    "              responses,# Y - coordinates on the plot\n",
    "              labels,# Labels for the plot legend\n",
    "              'Time (s)',# X - axis label\n",
    "              'PSD (g$^2$/Hz)',   # Y - axis label\n",
    "              filename='FFT_Signal_Compare',   # Plot filename\n",
    "              folder='figures',    # Specify the folder where the filename will be saved\n",
    "              num_col=2,    # Specify the number of columns in the legend\n",
    "              legend_loc='best', # Specify the location of the legend\n",
    "              ymax=0.1,\n",
    "                     log_y=False,\n",
    "                     ymin=0.05,\n",
    "              transparent=True,\n",
    "              showplot=True,\n",
    "              save_plot=True,\n",
    "              template='wide',\n",
    "              file_type='png'\n",
    "             )\n",
    "\n"
   ]
  },
  {
   "cell_type": "code",
   "execution_count": null,
   "metadata": {},
   "outputs": [],
   "source": []
  }
 ],
 "metadata": {
  "kernelspec": {
   "display_name": "Python 3",
   "language": "python",
   "name": "python3"
  },
  "language_info": {
   "codemirror_mode": {
    "name": "ipython",
    "version": 3
   },
   "file_extension": ".py",
   "mimetype": "text/x-python",
   "name": "python",
   "nbconvert_exporter": "python",
   "pygments_lexer": "ipython3",
   "version": "3.7.4"
  }
 },
 "nbformat": 4,
 "nbformat_minor": 4
}
