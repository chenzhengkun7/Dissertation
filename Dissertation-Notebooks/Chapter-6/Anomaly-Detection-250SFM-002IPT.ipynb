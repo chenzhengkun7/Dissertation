{
 "cells": [
  {
   "cell_type": "markdown",
   "metadata": {},
   "source": [
    "# 250 SFM, 0.002 IPT \n",
    "\n",
    "1528 RPM = 25.5 Hz\n",
    "\n",
    "102 Hz for the tooth-pass frequency"
   ]
  },
  {
   "cell_type": "code",
   "execution_count": 51,
   "metadata": {},
   "outputs": [],
   "source": [
    "\n",
    "import os\n",
    "import pandas as pd\n",
    "from sklearn.model_selection import train_test_split\n",
    "from sklearn.decomposition import PCA\n",
    "from sklearn.decomposition import KernelPCA\n",
    "import numpy as np\n",
    "\n",
    "from matplotlib import pyplot as plt\n",
    "from crawlab_toolbox import plotting as genplt\n",
    "from sklearn.pipeline import Pipeline\n",
    "\n",
    "import tensorflow.keras as keras\n",
    "import tensorflow as tf\n",
    "from scipy.stats import describe\n",
    "\n",
    "from sklearn.mixture import GaussianMixture\n",
    "import kerastuner as kt\n",
    "\n",
    "from sklearn.preprocessing import OrdinalEncoder\n",
    "from sklearn.neural_network import MLPClassifier\n",
    "from sklearn.svm import OneClassSVM\n",
    "\n",
    "from scipy.stats import probplot\n",
    "from scipy.stats import normaltest\n",
    "\n",
    "from joblib import dump, load\n",
    "\n",
    "from scipy import signal\n",
    "\n",
    "from ML_Train.Vanilla_AE import create_vanilla_ae\n",
    "from ML_Train.Variational_AE import create_autoencoder as create_conv_vae\n",
    "from ML_Train.Convolutional_AE import create_autoencoder as create_conv_ae\n",
    "from ML_Train.Variational_Vanilla_AE import create_autoencoder as create_vanilla_vae\n",
    "from ML_Train.CNN_Classifier import create_autoencoder as create_hybrid_cnn_ae\n",
    "# mse = keras.metrics.mean_squared_error(all_outputs,input_data)"
   ]
  },
  {
   "cell_type": "code",
   "execution_count": 52,
   "metadata": {},
   "outputs": [],
   "source": [
    "def extract_features(values):\n",
    "    _,amps = signal.welch(values, fs=20e3, nperseg=4096, scaling='spectrum')\n",
    "#     amps /= 0.01\n",
    "    amps = lin_log_interp(amps)\n",
    "    \n",
    "    _,minmax,mean,variance,skewness,kurtosis = describe(values,axis=1)\n",
    "    mean = mean[...,np.newaxis]\n",
    "    variance = variance[...,np.newaxis]\n",
    "    skewness = skewness[...,np.newaxis]\n",
    "    kurtosis = kurtosis[...,np.newaxis]\n",
    "    \n",
    "    sampleRMS = np.sqrt(1 / values.shape[0] * np.sum((values - np.repeat(mean,values.shape[1],axis=1).reshape(mean.shape[0],values.shape[1]))**2,axis=1))\n",
    "    \n",
    "    sampleRMS = sampleRMS[...,np.newaxis]\n",
    "    \n",
    "    print(mean.shape,variance.shape,skewness.shape,kurtosis.shape,sampleRMS.shape)\n",
    "    stats = np.hstack((mean,variance,skewness,kurtosis,sampleRMS))\n",
    "    \n",
    "    return amps,stats\n",
    "\n",
    "\n",
    "def lin_log_interp(fft_features):\n",
    "    '''\n",
    "    Scale the fft features from the logarithmic axis to be approximately on \n",
    "    the interval from 0 to 1\n",
    "    '''\n",
    "    \n",
    "    # Minimum exponent we expect to see in the data\n",
    "    minimum = -12\n",
    "    \n",
    "    # Maximum exponent we expect to see\n",
    "    maximum = 0\n",
    "    \n",
    "    # Number of points to use for interpolation\n",
    "    numpoints = 1000\n",
    "    \n",
    "    # Map the logarithmic x-axis to a linear y-axis\n",
    "    x = np.logspace(minimum,maximum,numpoints)\n",
    "    y = np.linspace(0,1,numpoints)\n",
    "\n",
    "    # Return the interpolated valuess\n",
    "    return np.interp(np.log10(fft_features),np.log10(x),y)"
   ]
  },
  {
   "cell_type": "code",
   "execution_count": 53,
   "metadata": {},
   "outputs": [],
   "source": [
    "keras.backend.clear_session()\n",
    "gpus= tf.config.experimental.list_physical_devices('GPU')\n",
    "tf.config.experimental.set_memory_growth(gpus[0], True)\n"
   ]
  },
  {
   "cell_type": "code",
   "execution_count": 54,
   "metadata": {},
   "outputs": [],
   "source": [
    "samples_train = np.loadtxt('Experiment-3-Data/DoE_train_pruned.txt',delimiter=',')"
   ]
  },
  {
   "cell_type": "code",
   "execution_count": 91,
   "metadata": {},
   "outputs": [],
   "source": [
    "sfm_args = np.argwhere((samples_train[:,0] == 250/300)).flatten()\n",
    "ipt_args = np.argwhere((samples_train[:,1] == 0.002/0.003)).flatten()\n",
    "doe_args = sfm_args[np.argwhere([sfm_args == ipt_args[i] for i in range(ipt_args.shape[0])])[:,1]]\n",
    "depth_args = np.argwhere((samples_train[:,2] == 25/25)).flatten()\n",
    "doe_args = depth_args[np.argwhere([depth_args == doe_args[i] for i in range(doe_args.shape[0])])[:,1]]\n",
    "# samples_selected = samples_selected[depth_args]\n",
    "# doe_args = doe_args[np.argwhere([depth_args == doe_args[i] for i in range(doe_args.shape[0])])[:,1]]"
   ]
  },
  {
   "cell_type": "code",
   "execution_count": 92,
   "metadata": {},
   "outputs": [],
   "source": [
    "first_unhealthy = 156"
   ]
  },
  {
   "cell_type": "code",
   "execution_count": 93,
   "metadata": {},
   "outputs": [],
   "source": [
    "healthy_args = doe_args[doe_args < first_unhealthy]\n",
    "unhealthy_args = doe_args[doe_args > first_unhealthy]"
   ]
  },
  {
   "cell_type": "code",
   "execution_count": 94,
   "metadata": {},
   "outputs": [],
   "source": [
    "healthy_args = healthy_args[healthy_args != 112]"
   ]
  },
  {
   "cell_type": "code",
   "execution_count": 95,
   "metadata": {},
   "outputs": [],
   "source": [
    "freqs = np.linspace(0,1.,2048) * 10000"
   ]
  },
  {
   "cell_type": "code",
   "execution_count": 96,
   "metadata": {},
   "outputs": [
    {
     "name": "stdout",
     "output_type": "stream",
     "text": [
      "(306, 1) (306, 1) (306, 1) (306, 1) (306, 1)\n"
     ]
    }
   ],
   "source": [
    "DoE_train = np.loadtxt('Experiment-3-Data/DoE_train_pruned.txt',delimiter=',')\n",
    "trainDF = pd.read_csv('Experiment-3-Data/Vib_train_pruned.csv')\n",
    "X_train = trainDF.loc[:, trainDF.columns != 'dateTime'].values.astype(np.float32)\n",
    "Y_train = np.loadtxt('Experiment-3-Data/Y_train_pruned.txt',delimiter=',')\n",
    "X_train_original,stats_train_original = extract_features(X_train,)\n",
    "\n",
    "stats_train_unhealthy = stats_train_original[unhealthy_args,:]\n",
    "stats_train_healthy = stats_train_original[healthy_args,:]\n",
    "X_train_unhealthy = X_train_original[unhealthy_args,:]\n",
    "X_train_healthy = X_train_original[healthy_args,:]\n",
    "\n",
    "DoE_train_healthy = DoE_train[healthy_args,:]\n",
    "DoE_train_unhealthy = DoE_train[unhealthy_args,:]\n",
    "\n",
    "\n",
    "Y_train_healthy = np.tile(np.array([[1]]),(X_train_healthy.shape[0],1))\n",
    "Y_train_unhealthy = np.tile(np.array([[0]]),(X_train_unhealthy.shape[0],1))\n",
    "\n",
    "XY_train_healthy = np.hstack((X_train_healthy,Y_train_healthy))\n",
    "XY_train_unhealthy = np.hstack((X_train_unhealthy,Y_train_unhealthy))\n",
    "\n",
    "XY_train = np.vstack((XY_train_healthy,XY_train_unhealthy))\n",
    "\n",
    "stats_train = np.vstack((stats_train_healthy,stats_train_unhealthy))\n",
    "\n",
    "Y_train = XY_train[:,-1]\n",
    "columns = ['Healthy Train','Healthy Valid','Unhealthy Train','Unhealthy Valid']\n",
    "\n",
    "X = []\n",
    "X.append(X_train_healthy)\n",
    "X.append(X_train_unhealthy)\n",
    "\n",
    "DoE = []\n",
    "DoE.append(DoE_train_healthy)\n",
    "DoE.append(DoE_train_unhealthy)\n",
    "\n",
    "stats = []\n",
    "stats.append(stats_train_healthy)\n",
    "stats.append(stats_train_unhealthy)\n",
    "freqs = np.linspace(0,10000,2048)\n"
   ]
  },
  {
   "cell_type": "code",
   "execution_count": 97,
   "metadata": {},
   "outputs": [
    {
     "data": {
      "text/plain": [
       "-2.42748"
      ]
     },
     "execution_count": 97,
     "metadata": {},
     "output_type": "execute_result"
    }
   ],
   "source": [
    "np.amax(X_train)\n",
    "np.amin(X_train)"
   ]
  },
  {
   "cell_type": "code",
   "execution_count": 98,
   "metadata": {},
   "outputs": [],
   "source": [
    "def plot_scores(score,delta_f,filename='scores'):\n",
    "    yi = np.arange(-0.0, score.shape[0]) + 2\n",
    "    xi = (np.arange(0.0,score.shape[1]) + 2) * delta_f\n",
    "\n",
    "    X, Y = np.meshgrid(xi, yi)\n",
    "\n",
    "    plt.figure(figsize=(12,4))\n",
    "    ax = plt.gca()\n",
    "    plt.pcolormesh(X,Y,score,cmap='cividis',norm=colors.Normalize(vmin=np.amin(score),vmax=np.amax(score)))\n",
    "    cbar = plt.colorbar()\n",
    "    cbar.set_label(r'\\textbf{Normalized Score}', rotation=270,labelpad=20)\n",
    "    plt.ylabel(r'\\textbf{PCA Dimensions}', labelpad=5,fontsize=22)\n",
    "    plt.xlabel(r'\\textbf{PSD Bandwidth (Hz)}', labelpad=5,fontsize=22)\n",
    "    \n",
    "    plt.tight_layout(pad=1.2)\n",
    "    plt.savefig('figures/' + filename + '.png',transparent=True)  \n",
    "    plt.show()\n",
    "    \n",
    "colors = ['#e41a1c', '#377eb8', '#4daf4a', '#984ea3', '#ff7f00', '#ffff33', '#a65628']\n",
    "\n",
    "def box_plot_compare(data,labels,legend,\n",
    "             xlabel='',ylabel='Latency (ms)',log_y=False,\n",
    "             folder='figures',filename='boxplot',savefig=False,\n",
    "             transparent=True,color_order=np.arange(len(colors)),template='publication',\n",
    "             xtickpad=5,showfliers=False,legend_loc='best',max_cutoff=0,min_cutoff=0,plot_type='violin'):\n",
    "    thisColors = [colors[i] for i in color_order]\n",
    "    if template.lower() == 'publication':\n",
    "        fig = plt.figure(figsize=(6,4))\n",
    "    elif template.lower() == 'wide':\n",
    "        fig = plt.figure(figsize=(12,4))\n",
    "    elif template.lower() == 'presentation':\n",
    "        fig = plt.figure(figsize=(9,6))\n",
    "    else:\n",
    "        fig = plt.figure()\n",
    "        \n",
    "    position = [i+1 for i in range(len(data))]\n",
    "    tickPositions = []\n",
    "    phantomLines = []\n",
    "        \n",
    "    for i in range(data[0].shape[1]):\n",
    "        \n",
    "        thisData = [data[j][:,i] for j in range(len(data))]\n",
    "\n",
    "        bp = plt.boxplot(thisData,\n",
    "                        positions=position,\n",
    "                        showfliers=showfliers,\n",
    "                        patch_artist=True,\n",
    "                        meanline=False,\n",
    "                        notch=False,\n",
    "                        medianprops={'color':'black',\n",
    "                                     'linewidth':2},\n",
    "                        whiskerprops={'linewidth':2},\n",
    "                        capprops={'linewidth':2},\n",
    "                        widths=0.75)\n",
    "\n",
    "        for counter,patch in enumerate(bp['boxes']):\n",
    "            # change outline color\n",
    "            patch.set(color=colors[counter], linewidth=2)\n",
    "            patch.set_facecolor(colors[counter])\n",
    "\n",
    "            if i == 0:\n",
    "                line, = plt.plot([1,1],color=colors[counter])\n",
    "                phantomLines.append(line)\n",
    "            \n",
    "        tickPositions.append(np.mean(position))    \n",
    "        position = [position[i] + len(data) + 1 for i in range(len(position))]\n",
    "            \n",
    "    ax = plt.gca()\n",
    "\n",
    "    if log_y == True:\n",
    "        ax.set_yscale('log')\n",
    "    ax.spines['right'].set_color('none')\n",
    "    ax.spines['top'].set_color('none')\n",
    "    ax.xaxis.set_ticks_position('bottom')\n",
    "    ax.yaxis.set_ticks_position('left')\n",
    "\n",
    "    ax.set_xticklabels([r'\\textbf{' + label + '}' for label in labels])\n",
    "    ax.set_xticks(tickPositions)\n",
    "    ax.tick_params(axis='x', which='major', pad=xtickpad)\n",
    "    ax.legend(tuple(phantomLines),tuple(legend),loc=legend_loc,framealpha=float(not transparent)).get_frame().set_edgecolor('k')\n",
    "    \n",
    "    [phantomLines[i].set_visible(False) for i in range(len(phantomLines))]\n",
    "    \n",
    "    plt.xlabel(r'\\textbf{' + xlabel + '}')\n",
    "    plt.ylabel(r'\\textbf{' + ylabel + '}')\n",
    "    \n",
    "    if not os.path.exists(folder):\n",
    "        os.makedirs(folder)\n",
    "        \n",
    "    plt.tight_layout(pad=1.5)\n",
    "    \n",
    "    if savefig:\n",
    "        plt.savefig(folder + '/' + filename + '.png',transparent=transparent)\n",
    "\n",
    "    plt.show()\n",
    "    "
   ]
  },
  {
   "cell_type": "code",
   "execution_count": 104,
   "metadata": {},
   "outputs": [
    {
     "data": {
      "image/png": "[encoded data removed]",
      "text/plain": [
       "<Figure size 864x288 with 1 Axes>"
      ]
     },
     "metadata": {
      "needs_background": "light"
     },
     "output_type": "display_data"
    }
   ],
   "source": [
    "box_plot_compare(stats,['Mean','Variance','Skewness','Kurtosis','RMS'],['Healthy','Unhealthy'],savefig=True,filename='Time-Domain_Single-Compare',\n",
    "         template='wide',xlabel='Statistic',color_order=np.zeros(6).astype(int),ylabel='Value',\n",
    "         showfliers=False,legend_loc='upper left',max_cutoff=2,plot_type='box',\n",
    "         log_y=False)"
   ]
  },
  {
   "cell_type": "code",
   "execution_count": 100,
   "metadata": {},
   "outputs": [
    {
     "name": "stdout",
     "output_type": "stream",
     "text": [
      "[-0.05424334  0.27307835  0.03108359  0.10830875  1.9351866 ]\n",
      "[-0.05438058  0.3269646   0.0481901  -0.0173848   2.115873  ]\n",
      "[0.00133185 0.01344236 0.0165815  0.09249141 0.04787182]\n"
     ]
    }
   ],
   "source": [
    "print(np.mean(stats[0],axis=0))\n",
    "print(np.mean(stats[1],axis=0))\n",
    "print(np.std(stats[0],axis=0))\n",
    "# X_unhealthy = X_train_original[unhealthy_args,:]\n",
    "# X_healthy = X_train_original[healthy_args,:]\n",
    "# X_unhealthy.shape\n",
    "freqs,X_unhealthy = signal.welch(X_train[unhealthy_args,:], fs=20e3, nperseg=4096, scaling='spectrum')\n",
    "freqs,X_healthy = signal.welch(X_train[healthy_args,:], fs=20e3, nperseg=4096, scaling='spectrum')\n",
    "# print(amps.shape)"
   ]
  },
  {
   "cell_type": "code",
   "execution_count": 103,
   "metadata": {},
   "outputs": [
    {
     "data": {
      "image/png": "[encoded data removed]",
      "text/plain": [
       "<Figure size 432x288 with 1 Axes>"
      ]
     },
     "metadata": {
      "needs_background": "light"
     },
     "output_type": "display_data"
    },
    {
     "data": {
      "image/png": "[encoded data removed]",
      "text/plain": [
       "<Figure size 432x288 with 1 Axes>"
      ]
     },
     "metadata": {
      "needs_background": "light"
     },
     "output_type": "display_data"
    }
   ],
   "source": [
    "np.mean(X[0],axis=0).shape\n",
    "\n",
    "# combine the responses and labels to put on our 2D plot\n",
    "responses = np.vstack((np.mean(X_healthy,axis=0)[:512],np.mean(X_unhealthy,axis=0)[:512]))\n",
    "labels = [r'Healthy','Unhealthy']\n",
    "\n",
    "numPoints = 200\n",
    "\n",
    "# Create a 2D plot\n",
    "genplt.generate_plot(freqs[:512], # X - coordinate on the plot\n",
    "              responses,# Y - coordinates on the plot\n",
    "              labels,# Labels for the plot legend\n",
    "              'Time (s)',# X - axis label\n",
    "              'Signal (V)',   # Y - axis label\n",
    "              filename='Test_Signal',   # Plot filename\n",
    "              folder='figures',    # Specify the folder where the filename will be saved\n",
    "              num_col=2,    # Specify the number of columns in the legend\n",
    "              legend_loc='best', # Specify the location of the legend\n",
    "              ymax=0.1,\n",
    "                     log_y=False,\n",
    "                     ymin=0.05,\n",
    "              transparent=False,\n",
    "              showplot=True,\n",
    "              save_plot=True,\n",
    "              template='publication',\n",
    "              file_type='png'\n",
    "             )\n",
    "\n",
    "\n",
    "plt.plot(freqs[:512],np.mean(X_healthy,axis=0)[:512])\n",
    "plt.plot(freqs[:512],np.mean(X_unhealthy,axis=0)[:512])\n",
    "plt.show()"
   ]
  },
  {
   "cell_type": "code",
   "execution_count": 78,
   "metadata": {},
   "outputs": [
    {
     "ename": "ValueError",
     "evalue": "x and y must have same first dimension, but have shapes (512,) and (2049,)",
     "output_type": "error",
     "traceback": [
      "\u001b[0;31m---------------------------------------------------------------------------\u001b[0m",
      "\u001b[0;31mValueError\u001b[0m                                Traceback (most recent call last)",
      "\u001b[0;32m<ipython-input-78-71951cea039f>\u001b[0m in \u001b[0;36m<module>\u001b[0;34m\u001b[0m\n\u001b[1;32m      2\u001b[0m \u001b[0;31m# freqs,amps_unhealthy = signal.welch(X_train_unhealthy[0,:], fs=20e3, nperseg=4096, scaling='spectrum')\u001b[0m\u001b[0;34m\u001b[0m\u001b[0;34m\u001b[0m\u001b[0;34m\u001b[0m\u001b[0m\n\u001b[1;32m      3\u001b[0m \u001b[0;34m\u001b[0m\u001b[0m\n\u001b[0;32m----> 4\u001b[0;31m \u001b[0mplt\u001b[0m\u001b[0;34m.\u001b[0m\u001b[0mplot\u001b[0m\u001b[0;34m(\u001b[0m\u001b[0mfreqs\u001b[0m\u001b[0;34m[\u001b[0m\u001b[0;34m:\u001b[0m\u001b[0mmax_fft\u001b[0m\u001b[0;34m]\u001b[0m\u001b[0;34m,\u001b[0m\u001b[0mX_train_healthy\u001b[0m\u001b[0;34m[\u001b[0m\u001b[0;36m9\u001b[0m\u001b[0;34m,\u001b[0m\u001b[0;34m:\u001b[0m\u001b[0;34m]\u001b[0m\u001b[0;34m)\u001b[0m\u001b[0;34m\u001b[0m\u001b[0;34m\u001b[0m\u001b[0m\n\u001b[0m\u001b[1;32m      5\u001b[0m \u001b[0mplt\u001b[0m\u001b[0;34m.\u001b[0m\u001b[0mplot\u001b[0m\u001b[0;34m(\u001b[0m\u001b[0mfreqs\u001b[0m\u001b[0;34m[\u001b[0m\u001b[0;34m:\u001b[0m\u001b[0mmax_fft\u001b[0m\u001b[0;34m]\u001b[0m\u001b[0;34m,\u001b[0m\u001b[0mX_train_unhealthy\u001b[0m\u001b[0;34m[\u001b[0m\u001b[0;36m6\u001b[0m\u001b[0;34m,\u001b[0m\u001b[0;34m:\u001b[0m\u001b[0;34m]\u001b[0m\u001b[0;34m)\u001b[0m\u001b[0;34m\u001b[0m\u001b[0;34m\u001b[0m\u001b[0m\n",
      "\u001b[0;32m~/.local/lib/python3.6/site-packages/matplotlib/pyplot.py\u001b[0m in \u001b[0;36mplot\u001b[0;34m(scalex, scaley, data, *args, **kwargs)\u001b[0m\n\u001b[1;32m   2761\u001b[0m     return gca().plot(\n\u001b[1;32m   2762\u001b[0m         *args, scalex=scalex, scaley=scaley, **({\"data\": data} if data\n\u001b[0;32m-> 2763\u001b[0;31m         is not None else {}), **kwargs)\n\u001b[0m\u001b[1;32m   2764\u001b[0m \u001b[0;34m\u001b[0m\u001b[0m\n\u001b[1;32m   2765\u001b[0m \u001b[0;34m\u001b[0m\u001b[0m\n",
      "\u001b[0;32m~/.local/lib/python3.6/site-packages/matplotlib/axes/_axes.py\u001b[0m in \u001b[0;36mplot\u001b[0;34m(self, scalex, scaley, data, *args, **kwargs)\u001b[0m\n\u001b[1;32m   1644\u001b[0m         \"\"\"\n\u001b[1;32m   1645\u001b[0m         \u001b[0mkwargs\u001b[0m \u001b[0;34m=\u001b[0m \u001b[0mcbook\u001b[0m\u001b[0;34m.\u001b[0m\u001b[0mnormalize_kwargs\u001b[0m\u001b[0;34m(\u001b[0m\u001b[0mkwargs\u001b[0m\u001b[0;34m,\u001b[0m \u001b[0mmlines\u001b[0m\u001b[0;34m.\u001b[0m\u001b[0mLine2D\u001b[0m\u001b[0;34m)\u001b[0m\u001b[0;34m\u001b[0m\u001b[0;34m\u001b[0m\u001b[0m\n\u001b[0;32m-> 1646\u001b[0;31m         \u001b[0mlines\u001b[0m \u001b[0;34m=\u001b[0m \u001b[0;34m[\u001b[0m\u001b[0;34m*\u001b[0m\u001b[0mself\u001b[0m\u001b[0;34m.\u001b[0m\u001b[0m_get_lines\u001b[0m\u001b[0;34m(\u001b[0m\u001b[0;34m*\u001b[0m\u001b[0margs\u001b[0m\u001b[0;34m,\u001b[0m \u001b[0mdata\u001b[0m\u001b[0;34m=\u001b[0m\u001b[0mdata\u001b[0m\u001b[0;34m,\u001b[0m \u001b[0;34m**\u001b[0m\u001b[0mkwargs\u001b[0m\u001b[0;34m)\u001b[0m\u001b[0;34m]\u001b[0m\u001b[0;34m\u001b[0m\u001b[0;34m\u001b[0m\u001b[0m\n\u001b[0m\u001b[1;32m   1647\u001b[0m         \u001b[0;32mfor\u001b[0m \u001b[0mline\u001b[0m \u001b[0;32min\u001b[0m \u001b[0mlines\u001b[0m\u001b[0;34m:\u001b[0m\u001b[0;34m\u001b[0m\u001b[0;34m\u001b[0m\u001b[0m\n\u001b[1;32m   1648\u001b[0m             \u001b[0mself\u001b[0m\u001b[0;34m.\u001b[0m\u001b[0madd_line\u001b[0m\u001b[0;34m(\u001b[0m\u001b[0mline\u001b[0m\u001b[0;34m)\u001b[0m\u001b[0;34m\u001b[0m\u001b[0;34m\u001b[0m\u001b[0m\n",
      "\u001b[0;32m~/.local/lib/python3.6/site-packages/matplotlib/axes/_base.py\u001b[0m in \u001b[0;36m__call__\u001b[0;34m(self, *args, **kwargs)\u001b[0m\n\u001b[1;32m    214\u001b[0m                 \u001b[0mthis\u001b[0m \u001b[0;34m+=\u001b[0m \u001b[0margs\u001b[0m\u001b[0;34m[\u001b[0m\u001b[0;36m0\u001b[0m\u001b[0;34m]\u001b[0m\u001b[0;34m,\u001b[0m\u001b[0;34m\u001b[0m\u001b[0;34m\u001b[0m\u001b[0m\n\u001b[1;32m    215\u001b[0m                 \u001b[0margs\u001b[0m \u001b[0;34m=\u001b[0m \u001b[0margs\u001b[0m\u001b[0;34m[\u001b[0m\u001b[0;36m1\u001b[0m\u001b[0;34m:\u001b[0m\u001b[0;34m]\u001b[0m\u001b[0;34m\u001b[0m\u001b[0;34m\u001b[0m\u001b[0m\n\u001b[0;32m--> 216\u001b[0;31m             \u001b[0;32myield\u001b[0m \u001b[0;32mfrom\u001b[0m \u001b[0mself\u001b[0m\u001b[0;34m.\u001b[0m\u001b[0m_plot_args\u001b[0m\u001b[0;34m(\u001b[0m\u001b[0mthis\u001b[0m\u001b[0;34m,\u001b[0m \u001b[0mkwargs\u001b[0m\u001b[0;34m)\u001b[0m\u001b[0;34m\u001b[0m\u001b[0;34m\u001b[0m\u001b[0m\n\u001b[0m\u001b[1;32m    217\u001b[0m \u001b[0;34m\u001b[0m\u001b[0m\n\u001b[1;32m    218\u001b[0m     \u001b[0;32mdef\u001b[0m \u001b[0mget_next_color\u001b[0m\u001b[0;34m(\u001b[0m\u001b[0mself\u001b[0m\u001b[0;34m)\u001b[0m\u001b[0;34m:\u001b[0m\u001b[0;34m\u001b[0m\u001b[0;34m\u001b[0m\u001b[0m\n",
      "\u001b[0;32m~/.local/lib/python3.6/site-packages/matplotlib/axes/_base.py\u001b[0m in \u001b[0;36m_plot_args\u001b[0;34m(self, tup, kwargs)\u001b[0m\n\u001b[1;32m    340\u001b[0m \u001b[0;34m\u001b[0m\u001b[0m\n\u001b[1;32m    341\u001b[0m         \u001b[0;32mif\u001b[0m \u001b[0mx\u001b[0m\u001b[0;34m.\u001b[0m\u001b[0mshape\u001b[0m\u001b[0;34m[\u001b[0m\u001b[0;36m0\u001b[0m\u001b[0;34m]\u001b[0m \u001b[0;34m!=\u001b[0m \u001b[0my\u001b[0m\u001b[0;34m.\u001b[0m\u001b[0mshape\u001b[0m\u001b[0;34m[\u001b[0m\u001b[0;36m0\u001b[0m\u001b[0;34m]\u001b[0m\u001b[0;34m:\u001b[0m\u001b[0;34m\u001b[0m\u001b[0;34m\u001b[0m\u001b[0m\n\u001b[0;32m--> 342\u001b[0;31m             raise ValueError(f\"x and y must have same first dimension, but \"\n\u001b[0m\u001b[1;32m    343\u001b[0m                              f\"have shapes {x.shape} and {y.shape}\")\n\u001b[1;32m    344\u001b[0m         \u001b[0;32mif\u001b[0m \u001b[0mx\u001b[0m\u001b[0;34m.\u001b[0m\u001b[0mndim\u001b[0m \u001b[0;34m>\u001b[0m \u001b[0;36m2\u001b[0m \u001b[0;32mor\u001b[0m \u001b[0my\u001b[0m\u001b[0;34m.\u001b[0m\u001b[0mndim\u001b[0m \u001b[0;34m>\u001b[0m \u001b[0;36m2\u001b[0m\u001b[0;34m:\u001b[0m\u001b[0;34m\u001b[0m\u001b[0;34m\u001b[0m\u001b[0m\n",
      "\u001b[0;31mValueError\u001b[0m: x and y must have same first dimension, but have shapes (512,) and (2049,)"
     ]
    },
    {
     "data": {
      "image/png": "[encoded data removed]",
      "text/plain": [
       "<Figure size 432x288 with 1 Axes>"
      ]
     },
     "metadata": {
      "needs_background": "light"
     },
     "output_type": "display_data"
    }
   ],
   "source": [
    "# freqs,amps_healthy = signal.welch(X_train_healthy[0,:], fs=20e3, nperseg=4096, scaling='spectrum')\n",
    "# freqs,amps_unhealthy = signal.welch(X_train_unhealthy[0,:], fs=20e3, nperseg=4096, scaling='spectrum')\n",
    "\n",
    "plt.plot(freqs[:max_fft],X_train_healthy[9,:])\n",
    "plt.plot(freqs[:max_fft],X_train_unhealthy[6,:])"
   ]
  },
  {
   "cell_type": "code",
   "execution_count": 38,
   "metadata": {},
   "outputs": [
    {
     "data": {
      "text/plain": [
       "[<matplotlib.lines.Line2D at 0x7f0a61a66a90>]"
      ]
     },
     "execution_count": 38,
     "metadata": {},
     "output_type": "execute_result"
    },
    {
     "data": {
      "image/png": "[encoded data removed]",
      "text/plain": [
       "<Figure size 432x288 with 1 Axes>"
      ]
     },
     "metadata": {
      "needs_background": "light"
     },
     "output_type": "display_data"
    }
   ],
   "source": [
    "pca = PCA()\n",
    "pca.fit(X_train_healthy)\n",
    "plt.plot(pca.explained_variance_ratio_[:10])"
   ]
  },
  {
   "cell_type": "code",
   "execution_count": 39,
   "metadata": {},
   "outputs": [
    {
     "name": "stdout",
     "output_type": "stream",
     "text": [
      "12.929563626680993 1.409292668756302\n",
      "7.684071243358915 1.3339485451818862\n",
      "12.018024957603753 0.7679421597235099\n",
      "8.249760849697505 1.7128964746130608\n"
     ]
    }
   ],
   "source": [
    "\n",
    "fftPoints = 2048\n",
    "\n",
    "estimators = [('reduce_dim', PCA(n_components=4)), ('gmm', GaussianMixture(n_components=1))]\n",
    "\n",
    "pipe = Pipeline(estimators)\n",
    "pipe.fit(X_train_healthy,Y_train_healthy)\n",
    "\n",
    "scores_gmm = []\n",
    "\n",
    "scores_gmm = [np.zeros_like(X[i]) for i in range(len(X))]\n",
    "\n",
    "for i in range(len(columns)):\n",
    "    scores_gmm[i] = pipe.score_samples(X[i][:,:fftPoints])\n",
    "    print(np.mean(scores_gmm[i]),np.std(scores_gmm[i]))"
   ]
  },
  {
   "cell_type": "code",
   "execution_count": 116,
   "metadata": {
    "collapsed": true,
    "jupyter": {
     "outputs_hidden": true
    }
   },
   "outputs": [
    {
     "name": "stdout",
     "output_type": "stream",
     "text": [
      "0.5099337748344371\n",
      "0.4900662251655629\n",
      "0.5099337748344371\n",
      "0.5099337748344371\n",
      "0.4900662251655629\n",
      "0.5099337748344371\n",
      "0.5099337748344371\n",
      "0.4900662251655629\n",
      "0.4900662251655629\n",
      "0.5099337748344371\n",
      "0.5099337748344371\n",
      "0.4900662251655629\n",
      "0.5099337748344371\n",
      "0.4900662251655629\n",
      "0.5099337748344371\n",
      "0.4900662251655629\n",
      "0.5099337748344371\n",
      "0.4900662251655629\n",
      "0.5099337748344371\n",
      "0.5099337748344371\n",
      "0.4900662251655629\n",
      "0.4900662251655629\n",
      "0.5099337748344371\n",
      "0.4900662251655629\n",
      "0.5099337748344371\n",
      "0.4900662251655629\n",
      "0.4900662251655629\n",
      "0.5099337748344371\n",
      "0.4900662251655629\n",
      "0.4900662251655629\n",
      "0.5099337748344371\n",
      "0.5099337748344371\n",
      "0.4900662251655629\n",
      "0.4900662251655629\n",
      "0.4900662251655629\n",
      "0.4900662251655629\n",
      "0.5099337748344371\n",
      "0.5099337748344371\n",
      "0.5099337748344371\n",
      "0.5099337748344371\n",
      "0.4900662251655629\n",
      "0.5099337748344371\n",
      "0.4900662251655629\n",
      "0.5099337748344371\n",
      "0.4900662251655629\n",
      "0.5099337748344371\n",
      "0.5099337748344371\n",
      "0.5099337748344371\n",
      "0.4900662251655629\n",
      "0.5099337748344371\n",
      "0.5099337748344371\n",
      "0.5099337748344371\n",
      "0.4900662251655629\n",
      "0.4900662251655629\n",
      "0.5099337748344371\n",
      "0.5099337748344371\n",
      "0.5099337748344371\n",
      "0.4900662251655629\n",
      "0.5099337748344371\n",
      "0.4900662251655629\n",
      "0.5099337748344371\n",
      "0.5099337748344371\n",
      "0.4900662251655629\n",
      "0.4900662251655629\n",
      "0.5099337748344371\n",
      "0.4900662251655629\n",
      "0.5099337748344371\n",
      "0.5099337748344371\n",
      "0.4900662251655629\n",
      "0.4900662251655629\n",
      "0.5099337748344371\n",
      "0.5099337748344371\n",
      "0.5099337748344371\n",
      "0.4900662251655629\n",
      "0.5099337748344371\n",
      "0.5099337748344371\n",
      "0.4900662251655629\n",
      "0.4900662251655629\n",
      "0.5099337748344371\n",
      "0.4900662251655629\n",
      "0.5099337748344371\n",
      "0.4900662251655629\n",
      "0.5099337748344371\n",
      "0.5099337748344371\n",
      "0.5099337748344371\n",
      "0.4900662251655629\n",
      "0.4900662251655629\n",
      "0.5099337748344371\n",
      "0.5099337748344371\n",
      "0.4900662251655629\n",
      "0.4900662251655629\n",
      "0.5099337748344371\n",
      "0.5099337748344371\n",
      "0.5099337748344371\n",
      "0.4900662251655629\n",
      "0.4900662251655629\n",
      "0.4900662251655629\n"
     ]
    },
    {
     "ename": "ValueError",
     "evalue": "n_components=99 must be between 0 and min(n_samples, n_features)=98 with svd_solver='full'",
     "output_type": "error",
     "traceback": [
      "\u001b[0;31m---------------------------------------------------------------------------\u001b[0m",
      "\u001b[0;31mValueError\u001b[0m                                Traceback (most recent call last)",
      "\u001b[0;32m<ipython-input-116-5a80bf8414e5>\u001b[0m in \u001b[0;36m<module>\u001b[0;34m\u001b[0m\n\u001b[1;32m     10\u001b[0m \u001b[0;34m\u001b[0m\u001b[0m\n\u001b[1;32m     11\u001b[0m     \u001b[0mpipe\u001b[0m \u001b[0;34m=\u001b[0m \u001b[0mPipeline\u001b[0m\u001b[0;34m(\u001b[0m\u001b[0mestimators\u001b[0m\u001b[0;34m)\u001b[0m\u001b[0;34m\u001b[0m\u001b[0;34m\u001b[0m\u001b[0m\n\u001b[0;32m---> 12\u001b[0;31m     \u001b[0mpipe\u001b[0m\u001b[0;34m.\u001b[0m\u001b[0mfit\u001b[0m\u001b[0;34m(\u001b[0m\u001b[0mX_train\u001b[0m\u001b[0;34m,\u001b[0m\u001b[0mY_train\u001b[0m\u001b[0;34m)\u001b[0m\u001b[0;34m\u001b[0m\u001b[0;34m\u001b[0m\u001b[0m\n\u001b[0m\u001b[1;32m     13\u001b[0m \u001b[0;34m\u001b[0m\u001b[0m\n\u001b[1;32m     14\u001b[0m     \u001b[0mY_valid_pred\u001b[0m \u001b[0;34m=\u001b[0m \u001b[0mpipe\u001b[0m\u001b[0;34m.\u001b[0m\u001b[0mpredict\u001b[0m\u001b[0;34m(\u001b[0m\u001b[0mX_valid\u001b[0m\u001b[0;34m)\u001b[0m\u001b[0;34m\u001b[0m\u001b[0;34m\u001b[0m\u001b[0m\n",
      "\u001b[0;32m~/.local/lib/python3.6/site-packages/sklearn/pipeline.py\u001b[0m in \u001b[0;36mfit\u001b[0;34m(self, X, y, **fit_params)\u001b[0m\n\u001b[1;32m    348\u001b[0m             \u001b[0mThis\u001b[0m \u001b[0mestimator\u001b[0m\u001b[0;34m\u001b[0m\u001b[0;34m\u001b[0m\u001b[0m\n\u001b[1;32m    349\u001b[0m         \"\"\"\n\u001b[0;32m--> 350\u001b[0;31m         \u001b[0mXt\u001b[0m\u001b[0;34m,\u001b[0m \u001b[0mfit_params\u001b[0m \u001b[0;34m=\u001b[0m \u001b[0mself\u001b[0m\u001b[0;34m.\u001b[0m\u001b[0m_fit\u001b[0m\u001b[0;34m(\u001b[0m\u001b[0mX\u001b[0m\u001b[0;34m,\u001b[0m \u001b[0my\u001b[0m\u001b[0;34m,\u001b[0m \u001b[0;34m**\u001b[0m\u001b[0mfit_params\u001b[0m\u001b[0;34m)\u001b[0m\u001b[0;34m\u001b[0m\u001b[0;34m\u001b[0m\u001b[0m\n\u001b[0m\u001b[1;32m    351\u001b[0m         with _print_elapsed_time('Pipeline',\n\u001b[1;32m    352\u001b[0m                                  self._log_message(len(self.steps) - 1)):\n",
      "\u001b[0;32m~/.local/lib/python3.6/site-packages/sklearn/pipeline.py\u001b[0m in \u001b[0;36m_fit\u001b[0;34m(self, X, y, **fit_params)\u001b[0m\n\u001b[1;32m    313\u001b[0m                 \u001b[0mmessage_clsname\u001b[0m\u001b[0;34m=\u001b[0m\u001b[0;34m'Pipeline'\u001b[0m\u001b[0;34m,\u001b[0m\u001b[0;34m\u001b[0m\u001b[0;34m\u001b[0m\u001b[0m\n\u001b[1;32m    314\u001b[0m                 \u001b[0mmessage\u001b[0m\u001b[0;34m=\u001b[0m\u001b[0mself\u001b[0m\u001b[0;34m.\u001b[0m\u001b[0m_log_message\u001b[0m\u001b[0;34m(\u001b[0m\u001b[0mstep_idx\u001b[0m\u001b[0;34m)\u001b[0m\u001b[0;34m,\u001b[0m\u001b[0;34m\u001b[0m\u001b[0;34m\u001b[0m\u001b[0m\n\u001b[0;32m--> 315\u001b[0;31m                 **fit_params_steps[name])\n\u001b[0m\u001b[1;32m    316\u001b[0m             \u001b[0;31m# Replace the transformer of the step with the fitted\u001b[0m\u001b[0;34m\u001b[0m\u001b[0;34m\u001b[0m\u001b[0;34m\u001b[0m\u001b[0m\n\u001b[1;32m    317\u001b[0m             \u001b[0;31m# transformer. This is necessary when loading the transformer\u001b[0m\u001b[0;34m\u001b[0m\u001b[0;34m\u001b[0m\u001b[0;34m\u001b[0m\u001b[0m\n",
      "\u001b[0;32m~/.local/lib/python3.6/site-packages/joblib/memory.py\u001b[0m in \u001b[0;36m__call__\u001b[0;34m(self, *args, **kwargs)\u001b[0m\n\u001b[1;32m    353\u001b[0m \u001b[0;34m\u001b[0m\u001b[0m\n\u001b[1;32m    354\u001b[0m     \u001b[0;32mdef\u001b[0m \u001b[0m__call__\u001b[0m\u001b[0;34m(\u001b[0m\u001b[0mself\u001b[0m\u001b[0;34m,\u001b[0m \u001b[0;34m*\u001b[0m\u001b[0margs\u001b[0m\u001b[0;34m,\u001b[0m \u001b[0;34m**\u001b[0m\u001b[0mkwargs\u001b[0m\u001b[0;34m)\u001b[0m\u001b[0;34m:\u001b[0m\u001b[0;34m\u001b[0m\u001b[0;34m\u001b[0m\u001b[0m\n\u001b[0;32m--> 355\u001b[0;31m         \u001b[0;32mreturn\u001b[0m \u001b[0mself\u001b[0m\u001b[0;34m.\u001b[0m\u001b[0mfunc\u001b[0m\u001b[0;34m(\u001b[0m\u001b[0;34m*\u001b[0m\u001b[0margs\u001b[0m\u001b[0;34m,\u001b[0m \u001b[0;34m**\u001b[0m\u001b[0mkwargs\u001b[0m\u001b[0;34m)\u001b[0m\u001b[0;34m\u001b[0m\u001b[0;34m\u001b[0m\u001b[0m\n\u001b[0m\u001b[1;32m    356\u001b[0m \u001b[0;34m\u001b[0m\u001b[0m\n\u001b[1;32m    357\u001b[0m     \u001b[0;32mdef\u001b[0m \u001b[0mcall_and_shelve\u001b[0m\u001b[0;34m(\u001b[0m\u001b[0mself\u001b[0m\u001b[0;34m,\u001b[0m \u001b[0;34m*\u001b[0m\u001b[0margs\u001b[0m\u001b[0;34m,\u001b[0m \u001b[0;34m**\u001b[0m\u001b[0mkwargs\u001b[0m\u001b[0;34m)\u001b[0m\u001b[0;34m:\u001b[0m\u001b[0;34m\u001b[0m\u001b[0;34m\u001b[0m\u001b[0m\n",
      "\u001b[0;32m~/.local/lib/python3.6/site-packages/sklearn/pipeline.py\u001b[0m in \u001b[0;36m_fit_transform_one\u001b[0;34m(transformer, X, y, weight, message_clsname, message, **fit_params)\u001b[0m\n\u001b[1;32m    726\u001b[0m     \u001b[0;32mwith\u001b[0m \u001b[0m_print_elapsed_time\u001b[0m\u001b[0;34m(\u001b[0m\u001b[0mmessage_clsname\u001b[0m\u001b[0;34m,\u001b[0m \u001b[0mmessage\u001b[0m\u001b[0;34m)\u001b[0m\u001b[0;34m:\u001b[0m\u001b[0;34m\u001b[0m\u001b[0;34m\u001b[0m\u001b[0m\n\u001b[1;32m    727\u001b[0m         \u001b[0;32mif\u001b[0m \u001b[0mhasattr\u001b[0m\u001b[0;34m(\u001b[0m\u001b[0mtransformer\u001b[0m\u001b[0;34m,\u001b[0m \u001b[0;34m'fit_transform'\u001b[0m\u001b[0;34m)\u001b[0m\u001b[0;34m:\u001b[0m\u001b[0;34m\u001b[0m\u001b[0;34m\u001b[0m\u001b[0m\n\u001b[0;32m--> 728\u001b[0;31m             \u001b[0mres\u001b[0m \u001b[0;34m=\u001b[0m \u001b[0mtransformer\u001b[0m\u001b[0;34m.\u001b[0m\u001b[0mfit_transform\u001b[0m\u001b[0;34m(\u001b[0m\u001b[0mX\u001b[0m\u001b[0;34m,\u001b[0m \u001b[0my\u001b[0m\u001b[0;34m,\u001b[0m \u001b[0;34m**\u001b[0m\u001b[0mfit_params\u001b[0m\u001b[0;34m)\u001b[0m\u001b[0;34m\u001b[0m\u001b[0;34m\u001b[0m\u001b[0m\n\u001b[0m\u001b[1;32m    729\u001b[0m         \u001b[0;32melse\u001b[0m\u001b[0;34m:\u001b[0m\u001b[0;34m\u001b[0m\u001b[0;34m\u001b[0m\u001b[0m\n\u001b[1;32m    730\u001b[0m             \u001b[0mres\u001b[0m \u001b[0;34m=\u001b[0m \u001b[0mtransformer\u001b[0m\u001b[0;34m.\u001b[0m\u001b[0mfit\u001b[0m\u001b[0;34m(\u001b[0m\u001b[0mX\u001b[0m\u001b[0;34m,\u001b[0m \u001b[0my\u001b[0m\u001b[0;34m,\u001b[0m \u001b[0;34m**\u001b[0m\u001b[0mfit_params\u001b[0m\u001b[0;34m)\u001b[0m\u001b[0;34m.\u001b[0m\u001b[0mtransform\u001b[0m\u001b[0;34m(\u001b[0m\u001b[0mX\u001b[0m\u001b[0;34m)\u001b[0m\u001b[0;34m\u001b[0m\u001b[0;34m\u001b[0m\u001b[0m\n",
      "\u001b[0;32m~/.local/lib/python3.6/site-packages/sklearn/decomposition/_pca.py\u001b[0m in \u001b[0;36mfit_transform\u001b[0;34m(self, X, y)\u001b[0m\n\u001b[1;32m    367\u001b[0m         \u001b[0mC\u001b[0m\u001b[0;34m-\u001b[0m\u001b[0mordered\u001b[0m \u001b[0marray\u001b[0m\u001b[0;34m,\u001b[0m \u001b[0muse\u001b[0m \u001b[0;34m'np.ascontiguousarray'\u001b[0m\u001b[0;34m.\u001b[0m\u001b[0;34m\u001b[0m\u001b[0;34m\u001b[0m\u001b[0m\n\u001b[1;32m    368\u001b[0m         \"\"\"\n\u001b[0;32m--> 369\u001b[0;31m         \u001b[0mU\u001b[0m\u001b[0;34m,\u001b[0m \u001b[0mS\u001b[0m\u001b[0;34m,\u001b[0m \u001b[0mV\u001b[0m \u001b[0;34m=\u001b[0m \u001b[0mself\u001b[0m\u001b[0;34m.\u001b[0m\u001b[0m_fit\u001b[0m\u001b[0;34m(\u001b[0m\u001b[0mX\u001b[0m\u001b[0;34m)\u001b[0m\u001b[0;34m\u001b[0m\u001b[0;34m\u001b[0m\u001b[0m\n\u001b[0m\u001b[1;32m    370\u001b[0m         \u001b[0mU\u001b[0m \u001b[0;34m=\u001b[0m \u001b[0mU\u001b[0m\u001b[0;34m[\u001b[0m\u001b[0;34m:\u001b[0m\u001b[0;34m,\u001b[0m \u001b[0;34m:\u001b[0m\u001b[0mself\u001b[0m\u001b[0;34m.\u001b[0m\u001b[0mn_components_\u001b[0m\u001b[0;34m]\u001b[0m\u001b[0;34m\u001b[0m\u001b[0;34m\u001b[0m\u001b[0m\n\u001b[1;32m    371\u001b[0m \u001b[0;34m\u001b[0m\u001b[0m\n",
      "\u001b[0;32m~/.local/lib/python3.6/site-packages/sklearn/decomposition/_pca.py\u001b[0m in \u001b[0;36m_fit\u001b[0;34m(self, X)\u001b[0m\n\u001b[1;32m    414\u001b[0m         \u001b[0;31m# Call different fits for either full or truncated SVD\u001b[0m\u001b[0;34m\u001b[0m\u001b[0;34m\u001b[0m\u001b[0;34m\u001b[0m\u001b[0m\n\u001b[1;32m    415\u001b[0m         \u001b[0;32mif\u001b[0m \u001b[0mself\u001b[0m\u001b[0;34m.\u001b[0m\u001b[0m_fit_svd_solver\u001b[0m \u001b[0;34m==\u001b[0m \u001b[0;34m'full'\u001b[0m\u001b[0;34m:\u001b[0m\u001b[0;34m\u001b[0m\u001b[0;34m\u001b[0m\u001b[0m\n\u001b[0;32m--> 416\u001b[0;31m             \u001b[0;32mreturn\u001b[0m \u001b[0mself\u001b[0m\u001b[0;34m.\u001b[0m\u001b[0m_fit_full\u001b[0m\u001b[0;34m(\u001b[0m\u001b[0mX\u001b[0m\u001b[0;34m,\u001b[0m \u001b[0mn_components\u001b[0m\u001b[0;34m)\u001b[0m\u001b[0;34m\u001b[0m\u001b[0;34m\u001b[0m\u001b[0m\n\u001b[0m\u001b[1;32m    417\u001b[0m         \u001b[0;32melif\u001b[0m \u001b[0mself\u001b[0m\u001b[0;34m.\u001b[0m\u001b[0m_fit_svd_solver\u001b[0m \u001b[0;32min\u001b[0m \u001b[0;34m[\u001b[0m\u001b[0;34m'arpack'\u001b[0m\u001b[0;34m,\u001b[0m \u001b[0;34m'randomized'\u001b[0m\u001b[0;34m]\u001b[0m\u001b[0;34m:\u001b[0m\u001b[0;34m\u001b[0m\u001b[0;34m\u001b[0m\u001b[0m\n\u001b[1;32m    418\u001b[0m             \u001b[0;32mreturn\u001b[0m \u001b[0mself\u001b[0m\u001b[0;34m.\u001b[0m\u001b[0m_fit_truncated\u001b[0m\u001b[0;34m(\u001b[0m\u001b[0mX\u001b[0m\u001b[0;34m,\u001b[0m \u001b[0mn_components\u001b[0m\u001b[0;34m,\u001b[0m \u001b[0mself\u001b[0m\u001b[0;34m.\u001b[0m\u001b[0m_fit_svd_solver\u001b[0m\u001b[0;34m)\u001b[0m\u001b[0;34m\u001b[0m\u001b[0;34m\u001b[0m\u001b[0m\n",
      "\u001b[0;32m~/.local/lib/python3.6/site-packages/sklearn/decomposition/_pca.py\u001b[0m in \u001b[0;36m_fit_full\u001b[0;34m(self, X, n_components)\u001b[0m\n\u001b[1;32m    433\u001b[0m                              \u001b[0;34m\"min(n_samples, n_features)=%r with \"\u001b[0m\u001b[0;34m\u001b[0m\u001b[0;34m\u001b[0m\u001b[0m\n\u001b[1;32m    434\u001b[0m                              \u001b[0;34m\"svd_solver='full'\"\u001b[0m\u001b[0;34m\u001b[0m\u001b[0;34m\u001b[0m\u001b[0m\n\u001b[0;32m--> 435\u001b[0;31m                              % (n_components, min(n_samples, n_features)))\n\u001b[0m\u001b[1;32m    436\u001b[0m         \u001b[0;32melif\u001b[0m \u001b[0mn_components\u001b[0m \u001b[0;34m>=\u001b[0m \u001b[0;36m1\u001b[0m\u001b[0;34m:\u001b[0m\u001b[0;34m\u001b[0m\u001b[0;34m\u001b[0m\u001b[0m\n\u001b[1;32m    437\u001b[0m             \u001b[0;32mif\u001b[0m \u001b[0;32mnot\u001b[0m \u001b[0misinstance\u001b[0m\u001b[0;34m(\u001b[0m\u001b[0mn_components\u001b[0m\u001b[0;34m,\u001b[0m \u001b[0mnumbers\u001b[0m\u001b[0;34m.\u001b[0m\u001b[0mIntegral\u001b[0m\u001b[0;34m)\u001b[0m\u001b[0;34m:\u001b[0m\u001b[0;34m\u001b[0m\u001b[0;34m\u001b[0m\u001b[0m\n",
      "\u001b[0;31mValueError\u001b[0m: n_components=99 must be between 0 and min(n_samples, n_features)=98 with svd_solver='full'"
     ]
    }
   ],
   "source": [
    "from sklearn.cluster import KMeans\n",
    "from sklearn.metrics import confusion_matrix\n",
    "\n",
    "for i in range(2,128):\n",
    "\n",
    "    estimators = [('reduce_dim', PCA(n_components=i)), ('gmm', KMeans(n_clusters=2))]\n",
    "    # estimators = [('reduce_dim', KernelPCA(n_components=32,kernel='rbf')), ('gmm', GaussianMixture())]\n",
    "\n",
    "    fftPoints = 2048\n",
    "\n",
    "    pipe = Pipeline(estimators)\n",
    "    pipe.fit(X_train,Y_train)\n",
    "\n",
    "    Y_valid_pred = pipe.predict(X_valid)\n",
    "    conf_matrix_valid = confusion_matrix(Y_valid, Y_valid_pred)\n",
    "    accuracy_valid = np.sum(np.diagonal(conf_matrix_valid)) / np.sum(conf_matrix_valid)\n",
    "    print(accuracy_valid)\n"
   ]
  },
  {
   "cell_type": "code",
   "execution_count": 117,
   "metadata": {},
   "outputs": [],
   "source": [
    "def normalize_scores(scores,log_prob=False):\n",
    "\n",
    "    flat = np.array([])\n",
    "    for i in range(len(scores)):\n",
    "        flat = np.append(flat,scores[i])\n",
    "    \n",
    "    max_val = np.amax(flat)\n",
    "    \n",
    "    if log_prob:\n",
    "        scores = [np.log(np.abs(scores[i] - 1.1 * max_val)) for i in range(len(scores))]\n",
    "    \n",
    "\n",
    "    norm_mean = np.mean(scores[0])\n",
    "    norm_std = np.std(scores[0])\n",
    "    \n",
    "    scores = [(scores[i] - norm_mean) / norm_std for i in range(len(scores))]\n",
    "    \n",
    "    [print(normaltest(scores[i])) for i in range(len(scores))]\n",
    "    [print(np.std(scores[i]), np.mean(scores[i])) for i in range(len(scores))]\n",
    "    \n",
    "    return scores"
   ]
  },
  {
   "cell_type": "code",
   "execution_count": 118,
   "metadata": {},
   "outputs": [
    {
     "name": "stdout",
     "output_type": "stream",
     "text": [
      "(249,)\n"
     ]
    }
   ],
   "source": [
    "test = np.array([])\n",
    "for i in range(len(scores_gmm)):\n",
    "    test = np.append(test,scores_gmm[i])\n",
    "print(test.shape)\n",
    "# [np.append(test,scores_gmm[i]) for i in range(len(scores_gmm))]"
   ]
  },
  {
   "cell_type": "code",
   "execution_count": 119,
   "metadata": {},
   "outputs": [
    {
     "data": {
      "image/png": "[encoded data removed]",
      "text/plain": [
       "<Figure size 864x288 with 1 Axes>"
      ]
     },
     "metadata": {
      "needs_background": "light"
     },
     "output_type": "display_data"
    }
   ],
   "source": [
    "num_col = 2\n",
    "legend_loc = 'upper right'\n",
    "transparent = False\n",
    "\n",
    "plt.figure(figsize=(12,4))\n",
    "ax = plt.gca()\n",
    "# the histogram of the data\n",
    "n, bins, patches = plt.hist(scores_gmm[0], 50, density=True, facecolor='b', alpha=0.50,label='Nominal')\n",
    "n, bins, patches = plt.hist(scores_gmm[2], 50, density=True, facecolor='r', alpha=0.50,label='Anomalous')\n",
    "\n",
    "ax.spines['right'].set_color('none')\n",
    "ax.spines['top'].set_color('none')\n",
    "ax.xaxis.set_ticks_position('bottom')\n",
    "ax.yaxis.set_ticks_position('left')\n",
    "\n",
    "plt.xlabel(r'\\textbf{Spindle Power (W)}')\n",
    "plt.ylabel(r'\\textbf{Probability}')\n",
    "ax.legend(ncol=num_col,loc=legend_loc,framealpha=float(not transparent)).get_frame().set_edgecolor('k')\n",
    "plt.grid(False)\n",
    "plt.savefig('figures/Spindle_Load_Anomalous_Compare.png',transparent=True)     \n",
    "plt.show()\n"
   ]
  },
  {
   "cell_type": "code",
   "execution_count": 121,
   "metadata": {},
   "outputs": [
    {
     "data": {
      "image/png": "[encoded data removed]",
      "text/plain": [
       "<Figure size 432x288 with 1 Axes>"
      ]
     },
     "metadata": {
      "needs_background": "light"
     },
     "output_type": "display_data"
    },
    {
     "data": {
      "image/png": "[encoded data removed]",
      "text/plain": [
       "<Figure size 432x288 with 1 Axes>"
      ]
     },
     "metadata": {
      "needs_background": "light"
     },
     "output_type": "display_data"
    }
   ],
   "source": [
    "plt.plot(scores_gmm[0])\n",
    "plt.show()\n",
    "plt.plot(scores_gmm[2])\n",
    "plt.show()"
   ]
  },
  {
   "cell_type": "code",
   "execution_count": 126,
   "metadata": {},
   "outputs": [
    {
     "name": "stdout",
     "output_type": "stream",
     "text": [
      "NormaltestResult(statistic=3.2711325915177767, pvalue=0.194842001851955)\n",
      "NormaltestResult(statistic=47.354351684180855, pvalue=5.213545699637969e-11)\n",
      "NormaltestResult(statistic=48.610279110551105, pvalue=2.782351595122522e-11)\n",
      "NormaltestResult(statistic=41.50402592940165, pvalue=9.716621397903008e-10)\n",
      "1.0 -7.600658785483566e-17\n",
      "2.148891478433604 1.7715581902631505\n",
      "0.732954407113168 1.0886423797255649\n",
      "0.7369575244714021 0.9239054100035158\n"
     ]
    },
    {
     "data": {
      "image/png": "[encoded data removed]",
      "text/plain": [
       "<Figure size 864x288 with 1 Axes>"
      ]
     },
     "metadata": {
      "needs_background": "light"
     },
     "output_type": "display_data"
    }
   ],
   "source": [
    "norm_scores_gmm = normalize_scores(scores_gmm,log_prob=True)\n",
    "\n",
    "num_col = 2\n",
    "legend_loc = 'upper right'\n",
    "transparent = False\n",
    "\n",
    "plt.figure(figsize=(12,4))\n",
    "ax = plt.gca()\n",
    "# the histogram of the data\n",
    "n, bins, patches = plt.hist(norm_scores_gmm[0], 50, density=True, facecolor='b', alpha=0.50,label='Nominal')\n",
    "n, bins, patches = plt.hist(norm_scores_gmm[2], 50, density=True, facecolor='r', alpha=0.50,label='Anomalous')\n",
    "\n",
    "ax.spines['right'].set_color('none')\n",
    "ax.spines['top'].set_color('none')\n",
    "ax.xaxis.set_ticks_position('bottom')\n",
    "ax.yaxis.set_ticks_position('left')\n",
    "\n",
    "plt.xlabel(r'\\textbf{Normalized Score}')\n",
    "plt.ylabel(r'\\textbf{Probability}')\n",
    "ax.legend(ncol=num_col,loc=legend_loc,framealpha=float(not transparent)).get_frame().set_edgecolor('k')\n",
    "plt.grid(False)\n",
    "plt.savefig('figures/Spindle_Load_Anomalous_Compare.png',transparent=True)     \n",
    "plt.show()\n",
    "\n"
   ]
  }
 ],
 "metadata": {
  "kernelspec": {
   "display_name": "Python 3",
   "language": "python",
   "name": "python3"
  },
  "language_info": {
   "codemirror_mode": {
    "name": "ipython",
    "version": 3
   },
   "file_extension": ".py",
   "mimetype": "text/x-python",
   "name": "python",
   "nbconvert_exporter": "python",
   "pygments_lexer": "ipython3",
   "version": "3.6.9"
  }
 },
 "nbformat": 4,
 "nbformat_minor": 4
}
