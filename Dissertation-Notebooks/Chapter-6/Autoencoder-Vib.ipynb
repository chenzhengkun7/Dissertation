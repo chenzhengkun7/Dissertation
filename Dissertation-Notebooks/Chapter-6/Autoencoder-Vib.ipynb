{
 "cells": [
  {
   "cell_type": "markdown",
   "metadata": {},
   "source": [
    "Sampling at 20kHz\n",
    "\n",
    "Want to accurately capture signals as low as 20Hz\n",
    "\n",
    "Input Size - 1024 Points\n",
    "\n"
   ]
  },
  {
   "cell_type": "code",
   "execution_count": 1,
   "metadata": {},
   "outputs": [
    {
     "name": "stderr",
     "output_type": "stream",
     "text": [
      "Using TensorFlow backend.\n"
     ]
    }
   ],
   "source": [
    "import numpy as np\n",
    "\n",
    "import tensorflow as tf\n",
    "from tensorflow.keras import backend as K\n",
    "import tensorflow.keras as keras\n",
    "from keras.legacy import interfaces\n",
    "\n",
    "import tensorflow.keras as keras\n",
    "from tensorflow.keras.layers import Dense, Conv1D, UpSampling1D, MaxPooling1D, AveragePooling1D\n",
    "from tensorflow.keras.layers import Input, Dense, Reshape, Flatten, Dropout\n",
    "from tensorflow.keras.models import Sequential, Model\n",
    "\n",
    "from ML_Train.Custom_Layers import Dropout_Live\n",
    "import tflite_runtime.interpreter as tflite\n",
    "\n",
    "from matplotlib import pyplot as plt\n",
    "plt.rcParams['figure.figsize'] = (15, 4)\n",
    "\n",
    "from scipy import signal\n",
    "\n",
    "import os\n",
    "import pandas as pd\n",
    "from ML_Train.DBQuerier import DBQuerier as Querier\n",
    "from sklearn.model_selection import train_test_split\n",
    "from crawlab_toolbox import plotting as genplt\n",
    "\n",
    "\n",
    "gpus= tf.config.experimental.list_physical_devices('GPU')\n",
    "tf.config.experimental.set_memory_growth(gpus[0], True)\n",
    "\n",
    "\n",
    "\n",
    "%matplotlib inline\n",
    "import matplotlib as mpl\n",
    "import matplotlib.pyplot as plt\n",
    "mpl.rc('axes', labelsize=14)\n",
    "mpl.rc('xtick', labelsize=12)\n",
    "mpl.rc('ytick', labelsize=12)"
   ]
  },
  {
   "cell_type": "code",
   "execution_count": 2,
   "metadata": {},
   "outputs": [],
   "source": [
    "dataPoints = 4096\n",
    "\n",
    "trainDF = pd.read_csv('Experiment-3-Data/Vib_train_pruned.csv')\n",
    "testDF = pd.read_csv('Experiment-3-Data/Vib_test_pruned.csv')\n",
    "\n",
    "X_train = trainDF.loc[:, trainDF.columns != 'dateTime'].values.astype(np.float32)\n",
    "X_test = testDF.loc[:, testDF.columns != 'dateTime'].values.astype(np.float32)\n",
    "Y_train = np.loadtxt('Experiment-3-Data/Y_train_pruned.txt',delimiter=',')\n",
    "Y_test = np.loadtxt('Experiment-3-Data/Y_test_pruned.txt',delimiter=',')\n",
    "\n",
    "first_good_train = np.argwhere(Y_train[:,0] == 0).flatten()[0]\n",
    "first_good_test = np.argwhere(Y_test[:,0] == 0).flatten()[0]\n",
    "\n",
    "X_train_healthy = X_train[first_good_train:,:dataPoints]\n",
    "X_valid_healthy = X_test[first_good_test:,:dataPoints]\n",
    "X_train_unhealthy = X_train[:first_good_train,:dataPoints]\n",
    "X_valid_unhealthy = X_test[:first_good_test,:dataPoints]\n",
    "\n",
    "X_train_healthy = X_train_healthy.reshape(X_train_healthy.shape[0] * 4,int(X_train_healthy.shape[1] / 4))\n",
    "X_valid_healthy = X_valid_healthy.reshape(X_valid_healthy.shape[0] * 4,int(X_valid_healthy.shape[1] / 4))\n",
    "X_train_unhealthy = X_train_unhealthy.reshape(X_train_unhealthy.shape[0] * 4,int(X_train_unhealthy.shape[1] / 4))\n",
    "X_valid_unhealthy = X_valid_unhealthy.reshape(X_valid_unhealthy.shape[0] * 4,int(X_valid_unhealthy.shape[1] / 4))\n",
    "\n",
    "\n",
    "np.random.shuffle(X_train_healthy)\n",
    "np.random.shuffle(X_valid_healthy)\n",
    "np.random.shuffle(X_train_unhealthy)\n",
    "np.random.shuffle(X_valid_unhealthy)\n",
    "\n",
    "X = []\n",
    "\n",
    "X.append(X_train_healthy)\n",
    "X.append(X_valid_healthy)\n",
    "X.append(X_train_unhealthy)\n",
    "X.append(X_valid_unhealthy)\n"
   ]
  },
  {
   "cell_type": "code",
   "execution_count": 12,
   "metadata": {},
   "outputs": [],
   "source": [
    "def normalize_scores(scores,log_prob=False):\n",
    "\n",
    "    flat = np.array([])\n",
    "    for i in range(len(scores)):\n",
    "        flat = np.append(flat,scores[i])\n",
    "    \n",
    "    max_val = np.amax(flat)\n",
    "    \n",
    "    if log_prob:\n",
    "        scores = [np.log(np.abs(scores[i] - 1.1 * max_val)) for i in range(len(scores))]\n",
    "    \n",
    "\n",
    "    norm_mean = np.mean(scores[0])\n",
    "    norm_std = np.std(scores[0])\n",
    "    \n",
    "    scores = [(scores[i] - norm_mean) / norm_std for i in range(len(scores))]\n",
    "    \n",
    "    [print(normaltest(scores[i])) for i in range(len(scores))]\n",
    "    [print(np.std(scores[i]), np.mean(scores[i])) for i in range(len(scores))]\n",
    "    \n",
    "    return scores\n",
    "\n",
    "import numpy as np\n",
    "\n",
    "from tensorflow.keras.layers import Dense, Conv1D, UpSampling1D, MaxPooling1D, AveragePooling1D\n",
    "from tensorflow.keras.layers import Input, Dense, Reshape, Flatten, Dropout\n",
    "from tensorflow.keras.layers import BatchNormalization\n",
    "from tensorflow.keras.models import Sequential, Model\n",
    "\n",
    "from ML_Train.Custom_Layers import Dropout_Live\n",
    "\n",
    "def create_encoder(\n",
    "                   filters, \n",
    "                   kernels, \n",
    "                   strides,\n",
    "                   dilation_rates,\n",
    "                   input_shape\n",
    "                   ):\n",
    "    \n",
    "    encoder = Sequential()\n",
    "    \n",
    "    for i in range(len(filters)):\n",
    "        if i == 0:\n",
    "            encoder.add(Conv1D(filters=filters[i], \n",
    "                               kernel_size=kernels[i], \n",
    "                               strides=strides[i], \n",
    "                               activation='relu', \n",
    "                               padding='same',\n",
    "                               dilation_rate=dilation_rates[i],\n",
    "                               input_shape=input_shape))\n",
    "        else:\n",
    "            encoder.add(Conv1D(filters=filters[i], \n",
    "                               kernel_size=kernels[i], \n",
    "                               strides=strides[i], \n",
    "                               activation='relu', \n",
    "                               padding='same',\n",
    "                               dilation_rate=dilation_rates[i]))\n",
    "        encoder.add(BatchNormalization())\n",
    "        encoder.add(Dropout(0.5))\n",
    "        encoder.add(MaxPooling1D(2))\n",
    "        \n",
    "    return encoder\n",
    "\n",
    "def create_decoder(\n",
    "                   filters,\n",
    "                   kernels,\n",
    "                   strides,\n",
    "                   dilation_rates,\n",
    "                   ):\n",
    "    \n",
    "    decoder = Sequential()\n",
    "    \n",
    "    filters.reverse()\n",
    "    kernels.reverse()\n",
    "    strides.reverse()\n",
    "    dilation_rates.reverse()\n",
    "    \n",
    "    decoder.add(UpSampling1D(2))\n",
    "    \n",
    "    for i in range(1,len(filters)):\n",
    "        decoder.add(Conv1D(filters=filters[i], \n",
    "                           kernel_size=kernels[i], \n",
    "                           strides=strides[i], \n",
    "                           activation='relu', \n",
    "                           padding='same',\n",
    "                           dilation_rate=dilation_rates[i]))\n",
    "#         decoder.add(Dropout(0.5))\n",
    "        decoder.add(UpSampling1D(2))\n",
    "    \n",
    "    #decoder.add(Dropout_Live(0.5))\n",
    "    decoder.add(Conv1D(1, 3, 1, activation='sigmoid', padding='same'))\n",
    "    \n",
    "    return decoder\n",
    "    \n",
    "def create_autoencoder(param_dict):\n",
    "    filters = param_dict[\"filters\"]\n",
    "    kernels = param_dict[\"kernels\"]\n",
    "    strides = param_dict[\"strides\"]\n",
    "    dilation_rates = param_dict[\"dilation_rates\"]\n",
    "    input_shape = tuple(param_dict[\"input_shape\"])\n",
    "        \n",
    "    encoder = create_encoder(filters,kernels,strides,dilation_rates,input_shape)\n",
    "    decoder = create_decoder(filters,kernels,strides,dilation_rates)\n",
    "    \n",
    "    stacked_ae = Sequential([encoder, decoder])\n",
    "\n",
    "    return stacked_ae,encoder,decoder\n",
    "    "
   ]
  },
  {
   "cell_type": "code",
   "execution_count": null,
   "metadata": {},
   "outputs": [
    {
     "name": "stdout",
     "output_type": "stream",
     "text": [
      "Train on 480 samples, validate on 120 samples\n",
      "Epoch 1/30\n",
      "480/480 [==============================] - 3s 6ms/sample - loss: 0.4003 - val_loss: 0.4588\n",
      "Epoch 2/30\n",
      "480/480 [==============================] - 0s 677us/sample - loss: 0.3033 - val_loss: 0.2991\n",
      "Epoch 3/30\n",
      "480/480 [==============================] - 0s 688us/sample - loss: 0.2932 - val_loss: 0.2673\n",
      "Epoch 4/30\n",
      "480/480 [==============================] - 0s 644us/sample - loss: 0.2822 - val_loss: 0.2577\n",
      "Epoch 5/30\n",
      "480/480 [==============================] - 0s 704us/sample - loss: 0.2685 - val_loss: 0.2470\n",
      "Epoch 6/30\n",
      "480/480 [==============================] - 0s 749us/sample - loss: 0.2578 - val_loss: 0.2352\n",
      "Epoch 7/30\n",
      "480/480 [==============================] - 0s 697us/sample - loss: 0.2497 - val_loss: 0.2259\n",
      "Epoch 8/30\n",
      "480/480 [==============================] - 0s 630us/sample - loss: 0.2446 - val_loss: 0.2177\n",
      "Epoch 9/30\n",
      "480/480 [==============================] - 0s 605us/sample - loss: 0.2400 - val_loss: 0.2103\n",
      "Epoch 10/30\n",
      "480/480 [==============================] - 0s 664us/sample - loss: 0.2368 - val_loss: 0.2049\n",
      "Epoch 11/30\n",
      "480/480 [==============================] - 0s 623us/sample - loss: 0.2339 - val_loss: 0.2012\n",
      "Epoch 12/30\n",
      "480/480 [==============================] - 0s 657us/sample - loss: 0.2310 - val_loss: 0.1972\n",
      "Epoch 13/30\n",
      "480/480 [==============================] - 0s 586us/sample - loss: 0.2289 - val_loss: 0.1951\n",
      "Epoch 14/30\n",
      "480/480 [==============================] - 0s 661us/sample - loss: 0.2274 - val_loss: 0.1928\n",
      "Epoch 15/30\n",
      "480/480 [==============================] - 0s 725us/sample - loss: 0.2258 - val_loss: 0.1916\n",
      "Epoch 16/30\n",
      "480/480 [==============================] - 0s 674us/sample - loss: 0.2246 - val_loss: 0.1911\n"
     ]
    }
   ],
   "source": [
    "if os.path.isfile('data/CNN-AE.h5'):\n",
    "    from tensorflow.keras.models import load_model\n",
    "    model = load_model('data/CNN-AE.h5')\n",
    "    print(model.summary())\n",
    "else:\n",
    "    filters=[8,16,32]\n",
    "    kernels = [3,3,3]\n",
    "    strides=[1,1,1,1,1,1]\n",
    "    dilation_rates=[1,1,1,1,1,1]\n",
    "    input_shape = [1024,1]\n",
    "\n",
    "    param_dict = {\n",
    "        \"filters\":filters,\n",
    "        \"kernels\":kernels,\n",
    "        \"strides\":strides,\n",
    "        \"dilation_rates\":dilation_rates,\n",
    "        \"input_shape\":input_shape,\n",
    "    }\n",
    "\n",
    "    model,encoder,decoder = create_autoencoder(param_dict)\n",
    "\n",
    "    model.compile(loss='mean_squared_error',optimizer='adam')\n",
    "    history = model.fit(X_train_healthy[...,np.newaxis],X_train_healthy[...,np.newaxis],\n",
    "                        epochs=30,batch_size=16,\n",
    "                        validation_split=0.2,verbose=1,\n",
    "    #                     validation_data=[X_healthy_test[...,np.newaxis],X_healthy_test[...,np.newaxis]]\n",
    "                       )\n",
    "    \n",
    "#     model.save('data/CNN-AE.h5',save_format='tf')\n",
    "\n",
    "\n",
    "# converter = tf.lite.TFLiteConverter.from_keras_model(model)\n",
    "# tflite_model = converter.convert()\n",
    "\n",
    "# open(os.path.join('data', 'CNN-AE.tflite',),\n",
    "#      \"wb\").write(tflite_model)\n",
    "\n",
    "X_conv_ae = []\n",
    "mse_conv_ae = []\n",
    "\n",
    "for i in range(len(X)):\n",
    "    X_conv_ae.append(np.squeeze(model.predict(X[i][...,np.newaxis])))\n",
    "    mse_conv_ae.append(keras.metrics.mean_squared_error(X_conv_ae[i],X[i]))\n",
    "\n",
    "norm_conv_ae = normalize_scores(mse_conv_ae)"
   ]
  },
  {
   "cell_type": "code",
   "execution_count": null,
   "metadata": {},
   "outputs": [],
   "source": [
    "prediction_horizon\n",
    "num_steps"
   ]
  },
  {
   "cell_type": "code",
   "execution_count": null,
   "metadata": {},
   "outputs": [],
   "source": [
    "np.random.seed(42)\n",
    "tf.random.set_seed(42)\n",
    "keras.backend.clear_session()\n",
    "\n",
    "model = keras.models.Sequential()\n",
    "model.add(keras.layers.InputLayer(input_shape=[num_steps, 1]))\n",
    "for rate in (1, 2, 4, 8) * 2:\n",
    "    model.add(keras.layers.Conv1D(filters=8, kernel_size=2, padding=\"causal\",\n",
    "                                  activation=\"relu\", dilation_rate=rate))\n",
    "for rate in (1, 2, 4, 8) * 2:\n",
    "    model.add(keras.layers.Conv1D(filters=8, kernel_size=2, padding=\"causal\",\n",
    "                                  activation=\"relu\", dilation_rate=rate))\n",
    "for rate in (1, 2, 4, 8) * 2:\n",
    "    model.add(keras.layers.Conv1D(filters=8, kernel_size=2, padding=\"causal\",\n",
    "                                  activation=\"relu\", dilation_rate=rate))\n",
    "#     model.add(Dropout(0.25))\n",
    "#     model.add(keras.layers.BatchNormalization())\n",
    "model.add(keras.layers.Conv1D(filters=prediction_horizon, kernel_size=1))\n",
    "model.compile(loss=\"mse\", optimizer=\"adam\", metrics=[last_time_step_mse])\n",
    "\n",
    "history = model.fit(X_train, Y_train, epochs=20,batch_size=16,\n",
    "                    validation_data=(X_valid, Y_valid))\n"
   ]
  },
  {
   "cell_type": "code",
   "execution_count": 5,
   "metadata": {},
   "outputs": [],
   "source": [
    "# history = model.fit(X_train, Y_train, epochs=20,batch_size=8,\n",
    "#                     validation_data=(X_valid, Y_valid))\n"
   ]
  },
  {
   "cell_type": "code",
   "execution_count": 360,
   "metadata": {},
   "outputs": [],
   "source": [
    "def plot_series(series,n_steps, y=None, y_pred=None, x_label=\"$t$\", y_label=\"$x(t)$\"):\n",
    "    plt.plot(series, \".-\")\n",
    "    if y is not None:\n",
    "        plt.plot(n_steps, y, \"bx\", markersize=10)\n",
    "    if y_pred is not None:\n",
    "        plt.plot(n_steps, y_pred, \"ro\")\n",
    "    plt.grid(True)\n",
    "    if x_label:\n",
    "        plt.xlabel(x_label, fontsize=16)\n",
    "    if y_label:\n",
    "        plt.ylabel(y_label, fontsize=16, rotation=0)\n",
    "    plt.hlines(0, 0, 100, linewidth=1)\n",
    "    plt.axis([0, n_steps + 1, -1, 1])\n",
    "\n",
    "\n",
    "def plot_multiple_forecasts(X, Y, Y_pred):\n",
    "    n_steps = X.shape[1]\n",
    "    ahead = Y.shape[1]\n",
    "    \n",
    "    n_steps = 25\n",
    "    \n",
    "    print(n_steps)\n",
    "    print(ahead)\n",
    "    \n",
    "    plot_series(X[0, -n_steps:, 0],n_steps)\n",
    "    plt.plot(np.arange(n_steps, n_steps + ahead), Y[0, :, 0], \"ro-\", label=\"Actual\")\n",
    "    plt.plot(np.arange(n_steps, n_steps + ahead), Y_pred[0, :, 0], \"bx-\", label=\"Forecast\", markersize=10)\n",
    "    plt.axis([0, n_steps + ahead, -1, 1])\n",
    "    plt.legend(fontsize=14)\n",
    "\n"
   ]
  },
  {
   "cell_type": "code",
   "execution_count": 361,
   "metadata": {},
   "outputs": [
    {
     "data": {
      "text/plain": [
       "(3600, 175, 1)"
      ]
     },
     "execution_count": 361,
     "metadata": {},
     "output_type": "execute_result"
    }
   ],
   "source": [
    "series.shape"
   ]
  },
  {
   "cell_type": "code",
   "execution_count": 366,
   "metadata": {},
   "outputs": [],
   "source": [
    "X_new = series_unhealthy[20:21,:num_steps,:]\n",
    "Y_new = series_unhealthy[20:21,num_steps:,:]\n"
   ]
  },
  {
   "cell_type": "code",
   "execution_count": 367,
   "metadata": {},
   "outputs": [
    {
     "name": "stdout",
     "output_type": "stream",
     "text": [
      "25\n",
      "16\n"
     ]
    },
    {
     "data": {
      "image/png": "[encoded data removed]",
      "text/plain": [
       "<Figure size 432x288 with 1 Axes>"
      ]
     },
     "metadata": {
      "needs_background": "light"
     },
     "output_type": "display_data"
    }
   ],
   "source": [
    "Y_pred = model.predict(X_new)[:, -1][..., np.newaxis]\n",
    "plot_multiple_forecasts(X_new, Y_new, Y_pred)\n",
    "plt.show()"
   ]
  },
  {
   "cell_type": "code",
   "execution_count": 350,
   "metadata": {},
   "outputs": [],
   "source": [
    "model_file = '/home/dnewman/TF_Models/model'\n",
    "\n",
    "model.save(model_file + '.h5',save_format='tf')\n",
    "\n",
    "def save_tflite(base_name):\n",
    "        file =base_name +'.h5'\n",
    "        converter = tf.lite.TFLiteConverter.from_keras_model(model)\n",
    "        tflite_model = converter.convert()\n",
    "        open(base_name+\".tflite\", \"wb\").write(tflite_model)\n",
    "        \n",
    "save_tflite(model_file)"
   ]
  },
  {
   "cell_type": "code",
   "execution_count": 351,
   "metadata": {},
   "outputs": [],
   "source": [
    "def control_chart_data(X,Y):\n",
    "\n",
    "    means = np.zeros(X.shape[0])\n",
    "    variances = np.zeros(X.shape[0])\n",
    "    \n",
    "    for i in range(X.shape[0]):\n",
    "        mean,variance = lite_result(X[i,...].flatten(),Y[i,...])\n",
    "\n",
    "        means[i] = mean\n",
    "        variances[i] = variance\n",
    "\n",
    "    avg_mean = np.mean(means)\n",
    "    avg_std = np.std(means)\n",
    "\n",
    "    var_mean = np.mean(variances)\n",
    "    var_std = np.std(variances)\n",
    "\n",
    "    return avg_mean,avg_std,var_mean,var_std,means,variances        \n",
    "\n",
    "def lite_result(X,Y):\n",
    "    \n",
    "\n",
    "    interpreter = tflite.Interpreter(model_path=\"/home/dnewman/TF_Models/model.tflite\")\n",
    "    interpreter.allocate_tensors()\n",
    "\n",
    "\n",
    "    # Get input and output tensors.\n",
    "    input_details = interpreter.get_input_details()\n",
    "    output_details = interpreter.get_output_details()\n",
    "\n",
    "    # Test model on random input data.\n",
    "    input_shape = input_details[0]['shape']\n",
    "    output_shape = output_details[0]['shape']\n",
    "    # input_data = np.array(np.random.random_sample(input_shape), dtype=np.float32)\n",
    "    input_data = X.reshape(input_shape).astype(np.float32)\n",
    "\n",
    "    num_samples = 1\n",
    "\n",
    "    all_outputs = np.zeros((num_samples,output_shape[1],output_shape[2]))\n",
    "\n",
    "    for i in range(num_samples):\n",
    "\n",
    "        interpreter.set_tensor(input_details[0]['index'], input_data)\n",
    "        interpreter.invoke()\n",
    "        \n",
    "\n",
    "        # The function `get_tensor()` returns a copy of the tensor data.\n",
    "        # Use `tensor()` in order to get a pointer to the tensor.\n",
    "        output_data = interpreter.get_tensor(output_details[0]['index']).reshape(output_shape)\n",
    "\n",
    "        all_outputs[i,:,:] = output_data\n",
    "\n",
    "\n",
    "    import pdb\n",
    "    pdb.set_trace()\n",
    "\n",
    "    mse = keras.metrics.mean_squared_error(Y[-prediction_horizon:,-1],output_data[:,input_shape[1]:input_shape[1]+prediction_horizon,-1].flatten())\n",
    "    means = np.mean(mse)\n",
    "\n",
    "#     mse = 1 / num_samples * np.sum((all_outputs - input_data)**2,axis=1)\n",
    "#     mse = mse.reshape(int(mse.shape[0] / num_samples),num_samples)\n",
    "\n",
    "    variances = np.var(mse)\n",
    "\n",
    "    return means,variances"
   ]
  },
  {
   "cell_type": "code",
   "execution_count": 115,
   "metadata": {},
   "outputs": [
    {
     "name": "stdout",
     "output_type": "stream",
     "text": [
      "> <ipython-input-114-b65f1088292e>(58)lite_result()\n",
      "-> mse = keras.metrics.mean_squared_error(Y[-prediction_horizon:,-1],output_data[:,input_shape[1]:input_shape[1]+prediction_horizon,-1].flatten())\n"
     ]
    },
    {
     "name": "stdin",
     "output_type": "stream",
     "text": [
      "(Pdb)  input_data.shape\n"
     ]
    },
    {
     "name": "stdout",
     "output_type": "stream",
     "text": [
      "(1, 798, 1)\n"
     ]
    },
    {
     "name": "stdin",
     "output_type": "stream",
     "text": [
      "(Pdb)  input_data[0,-100:,0]\n"
     ]
    },
    {
     "name": "stdout",
     "output_type": "stream",
     "text": [
      "array([-1.29888 , -1.87165 , -0.900697,  0.813146,  1.85631 ,  1.36841 ,\n",
      "       -0.248152, -1.66003 , -1.70273 , -0.34103 ,  1.30195 ,  1.87109 ,\n",
      "        0.896971, -0.816968, -1.85708 , -1.36548 ,  0.252351,  1.66205 ,\n",
      "        1.7009  ,  0.336862, -1.30502 , -1.87053 , -0.89324 ,  0.820785,\n",
      "        1.85783 ,  1.36255 , -0.25655 , -1.66405 , -1.69906 , -0.332692,\n",
      "        1.30808 ,  1.86995 ,  0.889505, -0.824599, -1.85858 , -1.35962 ,\n",
      "        0.260747,  1.66605 ,  1.69721 ,  0.32852 , -1.31113 , -1.86937 ,\n",
      "       -0.885766,  0.828408,  1.85932 ,  1.35667 , -0.264943, -1.66804 ,\n",
      "       -1.69535 , -0.324347,  1.31417 ,  1.86877 ,  0.882022, -0.832213,\n",
      "       -1.86005 , -1.35373 ,  0.269137,  1.67002 ,  1.69348 ,  0.320172,\n",
      "       -1.31721 , -1.86817 , -0.878273,  0.836015,  1.86076 ,  1.35077 ,\n",
      "       -0.273331, -1.67199 , -1.6916  , -0.315995,  1.32024 ,  1.86755 ,\n",
      "        0.874521, -0.839811, -1.86147 , -1.34781 ,  0.277522,  1.67395 ,\n",
      "        1.68972 ,  0.311817, -1.32327 , -1.86693 , -0.870763,  0.843604,\n",
      "        1.86217 ,  1.34484 , -0.281713, -1.67591 , -1.68782 , -0.307637,\n",
      "        1.32629 ,  1.8663  ,  0.867002, -0.847392, -1.86286 , -1.34186 ,\n",
      "        0.285902,  1.67785 ,  1.68592 ,  0.303456], dtype=float32)\n"
     ]
    },
    {
     "name": "stdin",
     "output_type": "stream",
     "text": [
      "(Pdb)  output_data[0,-42:,0]\n"
     ]
    },
    {
     "name": "stdout",
     "output_type": "stream",
     "text": [
      "array([ 1.7712703 ,  1.2658994 , -0.27406034, -1.5968902 , -1.5546641 ,\n",
      "       -0.29912534,  1.2634988 ,  1.6853038 ,  0.859501  , -0.7656163 ,\n",
      "       -1.4996791 , -0.9999428 ,  0.17081977,  1.5601318 ,  1.3904929 ,\n",
      "        0.38807735, -0.9529045 , -1.3967252 , -0.4419906 ,  0.70904773,\n",
      "        1.5912024 ,  1.2323778 , -0.07796268, -1.0890306 , -0.64302176,\n",
      "       -0.28296444,  0.15976569, -0.5235132 ,  0.4249316 ,  0.15374753,\n",
      "       -0.62005717, -0.30822393,  0.09202095, -0.04450221, -0.14420992,\n",
      "       -0.21090388, -0.35312152, -0.34540334, -0.20379291, -0.1120796 ,\n",
      "       -0.23247913, -0.17572616], dtype=float32)\n"
     ]
    },
    {
     "name": "stdin",
     "output_type": "stream",
     "text": [
      "(Pdb)  output_data[0,-50:,0]\n"
     ]
    },
    {
     "name": "stdout",
     "output_type": "stream",
     "text": [
      "array([ 0.24337918,  1.6015722 ,  1.581692  ,  0.24889511, -1.2445722 ,\n",
      "       -1.7942116 , -0.8606751 ,  0.8191435 ,  1.7712703 ,  1.2658994 ,\n",
      "       -0.27406034, -1.5968902 , -1.5546641 , -0.29912534,  1.2634988 ,\n",
      "        1.6853038 ,  0.859501  , -0.7656163 , -1.4996791 , -0.9999428 ,\n",
      "        0.17081977,  1.5601318 ,  1.3904929 ,  0.38807735, -0.9529045 ,\n",
      "       -1.3967252 , -0.4419906 ,  0.70904773,  1.5912024 ,  1.2323778 ,\n",
      "       -0.07796268, -1.0890306 , -0.64302176, -0.28296444,  0.15976569,\n",
      "       -0.5235132 ,  0.4249316 ,  0.15374753, -0.62005717, -0.30822393,\n",
      "        0.09202095, -0.04450221, -0.14420992, -0.21090388, -0.35312152,\n",
      "       -0.34540334, -0.20379291, -0.1120796 , -0.23247913, -0.17572616],\n",
      "      dtype=float32)\n"
     ]
    },
    {
     "name": "stdin",
     "output_type": "stream",
     "text": [
      "(Pdb)  Y[0,-50:,0]\n"
     ]
    },
    {
     "name": "stdout",
     "output_type": "stream",
     "text": [
      "*** IndexError: too many indices for array\n"
     ]
    },
    {
     "name": "stdin",
     "output_type": "stream",
     "text": [
      "(Pdb)  Y[-50:,0]\n"
     ]
    },
    {
     "name": "stdout",
     "output_type": "stream",
     "text": [
      "array([ 1.86877 ,  0.882022, -0.832213, -1.86005 , -1.35373 ,  0.269137,\n",
      "        1.67002 ,  1.69348 ,  0.320172, -1.31721 , -1.86817 , -0.878273,\n",
      "        0.836015,  1.86076 ,  1.35077 , -0.273331, -1.67199 , -1.6916  ,\n",
      "       -0.315995,  1.32024 ,  1.86755 ,  0.874521, -0.839811, -1.86147 ,\n",
      "       -1.34781 ,  0.277522,  1.67395 ,  1.68972 ,  0.311817, -1.32327 ,\n",
      "       -1.86693 , -0.870763,  0.843604,  1.86217 ,  1.34484 , -0.281713,\n",
      "       -1.67591 , -1.68782 , -0.307637,  1.32629 ,  1.8663  ,  0.867002,\n",
      "       -0.847392, -1.86286 , -1.34186 ,  0.285902,  1.67785 ,  1.68592 ,\n",
      "        0.303456, -1.3293  ])\n"
     ]
    },
    {
     "name": "stdin",
     "output_type": "stream",
     "text": [
      "(Pdb)  output_data[0,-100:,0]\n"
     ]
    },
    {
     "name": "stdout",
     "output_type": "stream",
     "text": [
      "array([-0.25317165, -1.5867282 , -1.6355021 , -0.31307423,  1.2405155 ,\n",
      "        1.7692509 ,  0.8324955 , -0.78907263, -1.7586805 , -1.2973397 ,\n",
      "        0.21933264,  1.589575  ,  1.5880228 ,  0.27274626, -1.2318192 ,\n",
      "       -1.7994452 , -0.8602222 ,  0.80785054,  1.7561045 ,  1.2794182 ,\n",
      "       -0.2622765 , -1.5895655 , -1.6332899 , -0.30514994,  1.2430798 ,\n",
      "        1.767325  ,  0.8272738 , -0.7968105 , -1.7589985 , -1.2904015 ,\n",
      "        0.2307439 ,  1.595287  ,  1.5838714 ,  0.26006866, -1.2385544 ,\n",
      "       -1.7978357 , -0.8537632 ,  0.81477314,  1.7575264 ,  1.2731574 ,\n",
      "       -0.2713883 , -1.592953  , -1.6317195 , -0.2958203 ,  1.2466979 ,\n",
      "        1.7659074 ,  0.8208132 , -0.80424476, -1.7592353 , -1.2830393 ,\n",
      "        0.24337918,  1.6015722 ,  1.581692  ,  0.24889511, -1.2445722 ,\n",
      "       -1.7942116 , -0.8606751 ,  0.8191435 ,  1.7712703 ,  1.2658994 ,\n",
      "       -0.27406034, -1.5968902 , -1.5546641 , -0.29912534,  1.2634988 ,\n",
      "        1.6853038 ,  0.859501  , -0.7656163 , -1.4996791 , -0.9999428 ,\n",
      "        0.17081977,  1.5601318 ,  1.3904929 ,  0.38807735, -0.9529045 ,\n",
      "       -1.3967252 , -0.4419906 ,  0.70904773,  1.5912024 ,  1.2323778 ,\n",
      "       -0.07796268, -1.0890306 , -0.64302176, -0.28296444,  0.15976569,\n",
      "       -0.5235132 ,  0.4249316 ,  0.15374753, -0.62005717, -0.30822393,\n",
      "        0.09202095, -0.04450221, -0.14420992, -0.21090388, -0.35312152,\n",
      "       -0.34540334, -0.20379291, -0.1120796 , -0.23247913, -0.17572616],\n",
      "      dtype=float32)\n"
     ]
    },
    {
     "name": "stdin",
     "output_type": "stream",
     "text": [
      "(Pdb)  Y.shape\n"
     ]
    },
    {
     "name": "stdout",
     "output_type": "stream",
     "text": [
      "(798, 42)\n"
     ]
    },
    {
     "name": "stdin",
     "output_type": "stream",
     "text": [
      "(Pdb)  X_valid.shape\n"
     ]
    },
    {
     "name": "stdout",
     "output_type": "stream",
     "text": [
      "(1000, 798, 1)\n"
     ]
    },
    {
     "name": "stdin",
     "output_type": "stream",
     "text": [
      "(Pdb)  Y_valid.shape\n"
     ]
    },
    {
     "name": "stdout",
     "output_type": "stream",
     "text": [
      "(1000, 798, 42)\n"
     ]
    },
    {
     "name": "stdin",
     "output_type": "stream",
     "text": [
      "(Pdb)  input_data.shape\n"
     ]
    },
    {
     "name": "stdout",
     "output_type": "stream",
     "text": [
      "(1, 798, 1)\n"
     ]
    },
    {
     "name": "stdin",
     "output_type": "stream",
     "text": [
      "(Pdb)  exit\n"
     ]
    },
    {
     "ename": "BdbQuit",
     "evalue": "",
     "output_type": "error",
     "traceback": [
      "\u001b[0;31m---------------------------------------------------------------------------\u001b[0m",
      "\u001b[0;31mBdbQuit\u001b[0m                                   Traceback (most recent call last)",
      "\u001b[0;32m<ipython-input-115-e6c9f9464ed2>\u001b[0m in \u001b[0;36m<module>\u001b[0;34m\u001b[0m\n\u001b[0;32m----> 1\u001b[0;31m \u001b[0m_\u001b[0m\u001b[0;34m,\u001b[0m\u001b[0m_\u001b[0m\u001b[0;34m,\u001b[0m\u001b[0m_\u001b[0m\u001b[0;34m,\u001b[0m\u001b[0m_\u001b[0m\u001b[0;34m,\u001b[0m\u001b[0mmeans\u001b[0m\u001b[0;34m,\u001b[0m\u001b[0mvariances\u001b[0m \u001b[0;34m=\u001b[0m \u001b[0mcontrol_chart_data\u001b[0m\u001b[0;34m(\u001b[0m\u001b[0mX_valid\u001b[0m\u001b[0;34m,\u001b[0m\u001b[0mY_valid\u001b[0m\u001b[0;34m)\u001b[0m\u001b[0;34m\u001b[0m\u001b[0;34m\u001b[0m\u001b[0m\n\u001b[0m",
      "\u001b[0;32m<ipython-input-114-b65f1088292e>\u001b[0m in \u001b[0;36mcontrol_chart_data\u001b[0;34m(X, Y)\u001b[0m\n\u001b[1;32m      5\u001b[0m \u001b[0;34m\u001b[0m\u001b[0m\n\u001b[1;32m      6\u001b[0m     \u001b[0;32mfor\u001b[0m \u001b[0mi\u001b[0m \u001b[0;32min\u001b[0m \u001b[0mrange\u001b[0m\u001b[0;34m(\u001b[0m\u001b[0mX\u001b[0m\u001b[0;34m.\u001b[0m\u001b[0mshape\u001b[0m\u001b[0;34m[\u001b[0m\u001b[0;36m0\u001b[0m\u001b[0;34m]\u001b[0m\u001b[0;34m)\u001b[0m\u001b[0;34m:\u001b[0m\u001b[0;34m\u001b[0m\u001b[0;34m\u001b[0m\u001b[0m\n\u001b[0;32m----> 7\u001b[0;31m         \u001b[0mmean\u001b[0m\u001b[0;34m,\u001b[0m\u001b[0mvariance\u001b[0m \u001b[0;34m=\u001b[0m \u001b[0mlite_result\u001b[0m\u001b[0;34m(\u001b[0m\u001b[0mX\u001b[0m\u001b[0;34m[\u001b[0m\u001b[0mi\u001b[0m\u001b[0;34m,\u001b[0m\u001b[0;34m...\u001b[0m\u001b[0;34m]\u001b[0m\u001b[0;34m.\u001b[0m\u001b[0mflatten\u001b[0m\u001b[0;34m(\u001b[0m\u001b[0;34m)\u001b[0m\u001b[0;34m,\u001b[0m\u001b[0mY\u001b[0m\u001b[0;34m[\u001b[0m\u001b[0mi\u001b[0m\u001b[0;34m,\u001b[0m\u001b[0;34m...\u001b[0m\u001b[0;34m]\u001b[0m\u001b[0;34m)\u001b[0m\u001b[0;34m\u001b[0m\u001b[0;34m\u001b[0m\u001b[0m\n\u001b[0m\u001b[1;32m      8\u001b[0m \u001b[0;34m\u001b[0m\u001b[0m\n\u001b[1;32m      9\u001b[0m         \u001b[0mmeans\u001b[0m\u001b[0;34m[\u001b[0m\u001b[0mi\u001b[0m\u001b[0;34m]\u001b[0m \u001b[0;34m=\u001b[0m \u001b[0mmean\u001b[0m\u001b[0;34m\u001b[0m\u001b[0;34m\u001b[0m\u001b[0m\n",
      "\u001b[0;32m<ipython-input-114-b65f1088292e>\u001b[0m in \u001b[0;36mlite_result\u001b[0;34m(X, Y)\u001b[0m\n\u001b[1;32m     56\u001b[0m     \u001b[0mpdb\u001b[0m\u001b[0;34m.\u001b[0m\u001b[0mset_trace\u001b[0m\u001b[0;34m(\u001b[0m\u001b[0;34m)\u001b[0m\u001b[0;34m\u001b[0m\u001b[0;34m\u001b[0m\u001b[0m\n\u001b[1;32m     57\u001b[0m \u001b[0;34m\u001b[0m\u001b[0m\n\u001b[0;32m---> 58\u001b[0;31m     \u001b[0mmse\u001b[0m \u001b[0;34m=\u001b[0m \u001b[0mkeras\u001b[0m\u001b[0;34m.\u001b[0m\u001b[0mmetrics\u001b[0m\u001b[0;34m.\u001b[0m\u001b[0mmean_squared_error\u001b[0m\u001b[0;34m(\u001b[0m\u001b[0mY\u001b[0m\u001b[0;34m[\u001b[0m\u001b[0;34m-\u001b[0m\u001b[0mprediction_horizon\u001b[0m\u001b[0;34m:\u001b[0m\u001b[0;34m,\u001b[0m\u001b[0;34m-\u001b[0m\u001b[0;36m1\u001b[0m\u001b[0;34m]\u001b[0m\u001b[0;34m,\u001b[0m\u001b[0moutput_data\u001b[0m\u001b[0;34m[\u001b[0m\u001b[0;34m:\u001b[0m\u001b[0;34m,\u001b[0m\u001b[0minput_shape\u001b[0m\u001b[0;34m[\u001b[0m\u001b[0;36m1\u001b[0m\u001b[0;34m]\u001b[0m\u001b[0;34m:\u001b[0m\u001b[0minput_shape\u001b[0m\u001b[0;34m[\u001b[0m\u001b[0;36m1\u001b[0m\u001b[0;34m]\u001b[0m\u001b[0;34m+\u001b[0m\u001b[0mprediction_horizon\u001b[0m\u001b[0;34m,\u001b[0m\u001b[0;34m-\u001b[0m\u001b[0;36m1\u001b[0m\u001b[0;34m]\u001b[0m\u001b[0;34m.\u001b[0m\u001b[0mflatten\u001b[0m\u001b[0;34m(\u001b[0m\u001b[0;34m)\u001b[0m\u001b[0;34m)\u001b[0m\u001b[0;34m\u001b[0m\u001b[0;34m\u001b[0m\u001b[0m\n\u001b[0m\u001b[1;32m     59\u001b[0m     \u001b[0mmeans\u001b[0m \u001b[0;34m=\u001b[0m \u001b[0mnp\u001b[0m\u001b[0;34m.\u001b[0m\u001b[0mmean\u001b[0m\u001b[0;34m(\u001b[0m\u001b[0mmse\u001b[0m\u001b[0;34m)\u001b[0m\u001b[0;34m\u001b[0m\u001b[0;34m\u001b[0m\u001b[0m\n\u001b[1;32m     60\u001b[0m \u001b[0;34m\u001b[0m\u001b[0m\n",
      "\u001b[0;32m<ipython-input-114-b65f1088292e>\u001b[0m in \u001b[0;36mlite_result\u001b[0;34m(X, Y)\u001b[0m\n\u001b[1;32m     56\u001b[0m     \u001b[0mpdb\u001b[0m\u001b[0;34m.\u001b[0m\u001b[0mset_trace\u001b[0m\u001b[0;34m(\u001b[0m\u001b[0;34m)\u001b[0m\u001b[0;34m\u001b[0m\u001b[0;34m\u001b[0m\u001b[0m\n\u001b[1;32m     57\u001b[0m \u001b[0;34m\u001b[0m\u001b[0m\n\u001b[0;32m---> 58\u001b[0;31m     \u001b[0mmse\u001b[0m \u001b[0;34m=\u001b[0m \u001b[0mkeras\u001b[0m\u001b[0;34m.\u001b[0m\u001b[0mmetrics\u001b[0m\u001b[0;34m.\u001b[0m\u001b[0mmean_squared_error\u001b[0m\u001b[0;34m(\u001b[0m\u001b[0mY\u001b[0m\u001b[0;34m[\u001b[0m\u001b[0;34m-\u001b[0m\u001b[0mprediction_horizon\u001b[0m\u001b[0;34m:\u001b[0m\u001b[0;34m,\u001b[0m\u001b[0;34m-\u001b[0m\u001b[0;36m1\u001b[0m\u001b[0;34m]\u001b[0m\u001b[0;34m,\u001b[0m\u001b[0moutput_data\u001b[0m\u001b[0;34m[\u001b[0m\u001b[0;34m:\u001b[0m\u001b[0;34m,\u001b[0m\u001b[0minput_shape\u001b[0m\u001b[0;34m[\u001b[0m\u001b[0;36m1\u001b[0m\u001b[0;34m]\u001b[0m\u001b[0;34m:\u001b[0m\u001b[0minput_shape\u001b[0m\u001b[0;34m[\u001b[0m\u001b[0;36m1\u001b[0m\u001b[0;34m]\u001b[0m\u001b[0;34m+\u001b[0m\u001b[0mprediction_horizon\u001b[0m\u001b[0;34m,\u001b[0m\u001b[0;34m-\u001b[0m\u001b[0;36m1\u001b[0m\u001b[0;34m]\u001b[0m\u001b[0;34m.\u001b[0m\u001b[0mflatten\u001b[0m\u001b[0;34m(\u001b[0m\u001b[0;34m)\u001b[0m\u001b[0;34m)\u001b[0m\u001b[0;34m\u001b[0m\u001b[0;34m\u001b[0m\u001b[0m\n\u001b[0m\u001b[1;32m     59\u001b[0m     \u001b[0mmeans\u001b[0m \u001b[0;34m=\u001b[0m \u001b[0mnp\u001b[0m\u001b[0;34m.\u001b[0m\u001b[0mmean\u001b[0m\u001b[0;34m(\u001b[0m\u001b[0mmse\u001b[0m\u001b[0;34m)\u001b[0m\u001b[0;34m\u001b[0m\u001b[0;34m\u001b[0m\u001b[0m\n\u001b[1;32m     60\u001b[0m \u001b[0;34m\u001b[0m\u001b[0m\n",
      "\u001b[0;32m/usr/lib/python3.6/bdb.py\u001b[0m in \u001b[0;36mtrace_dispatch\u001b[0;34m(self, frame, event, arg)\u001b[0m\n\u001b[1;32m     49\u001b[0m             \u001b[0;32mreturn\u001b[0m \u001b[0;31m# None\u001b[0m\u001b[0;34m\u001b[0m\u001b[0;34m\u001b[0m\u001b[0m\n\u001b[1;32m     50\u001b[0m         \u001b[0;32mif\u001b[0m \u001b[0mevent\u001b[0m \u001b[0;34m==\u001b[0m \u001b[0;34m'line'\u001b[0m\u001b[0;34m:\u001b[0m\u001b[0;34m\u001b[0m\u001b[0;34m\u001b[0m\u001b[0m\n\u001b[0;32m---> 51\u001b[0;31m             \u001b[0;32mreturn\u001b[0m \u001b[0mself\u001b[0m\u001b[0;34m.\u001b[0m\u001b[0mdispatch_line\u001b[0m\u001b[0;34m(\u001b[0m\u001b[0mframe\u001b[0m\u001b[0;34m)\u001b[0m\u001b[0;34m\u001b[0m\u001b[0;34m\u001b[0m\u001b[0m\n\u001b[0m\u001b[1;32m     52\u001b[0m         \u001b[0;32mif\u001b[0m \u001b[0mevent\u001b[0m \u001b[0;34m==\u001b[0m \u001b[0;34m'call'\u001b[0m\u001b[0;34m:\u001b[0m\u001b[0;34m\u001b[0m\u001b[0;34m\u001b[0m\u001b[0m\n\u001b[1;32m     53\u001b[0m             \u001b[0;32mreturn\u001b[0m \u001b[0mself\u001b[0m\u001b[0;34m.\u001b[0m\u001b[0mdispatch_call\u001b[0m\u001b[0;34m(\u001b[0m\u001b[0mframe\u001b[0m\u001b[0;34m,\u001b[0m \u001b[0marg\u001b[0m\u001b[0;34m)\u001b[0m\u001b[0;34m\u001b[0m\u001b[0;34m\u001b[0m\u001b[0m\n",
      "\u001b[0;32m/usr/lib/python3.6/bdb.py\u001b[0m in \u001b[0;36mdispatch_line\u001b[0;34m(self, frame)\u001b[0m\n\u001b[1;32m     68\u001b[0m         \u001b[0;32mif\u001b[0m \u001b[0mself\u001b[0m\u001b[0;34m.\u001b[0m\u001b[0mstop_here\u001b[0m\u001b[0;34m(\u001b[0m\u001b[0mframe\u001b[0m\u001b[0;34m)\u001b[0m \u001b[0;32mor\u001b[0m \u001b[0mself\u001b[0m\u001b[0;34m.\u001b[0m\u001b[0mbreak_here\u001b[0m\u001b[0;34m(\u001b[0m\u001b[0mframe\u001b[0m\u001b[0;34m)\u001b[0m\u001b[0;34m:\u001b[0m\u001b[0;34m\u001b[0m\u001b[0;34m\u001b[0m\u001b[0m\n\u001b[1;32m     69\u001b[0m             \u001b[0mself\u001b[0m\u001b[0;34m.\u001b[0m\u001b[0muser_line\u001b[0m\u001b[0;34m(\u001b[0m\u001b[0mframe\u001b[0m\u001b[0;34m)\u001b[0m\u001b[0;34m\u001b[0m\u001b[0;34m\u001b[0m\u001b[0m\n\u001b[0;32m---> 70\u001b[0;31m             \u001b[0;32mif\u001b[0m \u001b[0mself\u001b[0m\u001b[0;34m.\u001b[0m\u001b[0mquitting\u001b[0m\u001b[0;34m:\u001b[0m \u001b[0;32mraise\u001b[0m \u001b[0mBdbQuit\u001b[0m\u001b[0;34m\u001b[0m\u001b[0;34m\u001b[0m\u001b[0m\n\u001b[0m\u001b[1;32m     71\u001b[0m         \u001b[0;32mreturn\u001b[0m \u001b[0mself\u001b[0m\u001b[0;34m.\u001b[0m\u001b[0mtrace_dispatch\u001b[0m\u001b[0;34m\u001b[0m\u001b[0;34m\u001b[0m\u001b[0m\n\u001b[1;32m     72\u001b[0m \u001b[0;34m\u001b[0m\u001b[0m\n",
      "\u001b[0;31mBdbQuit\u001b[0m: "
     ]
    }
   ],
   "source": [
    "_,_,_,_,means,variances = control_chart_data(X_valid,Y_valid)"
   ]
  },
  {
   "cell_type": "code",
   "execution_count": 106,
   "metadata": {},
   "outputs": [
    {
     "data": {
      "text/plain": [
       "11.993701934814453"
      ]
     },
     "execution_count": 106,
     "metadata": {},
     "output_type": "execute_result"
    }
   ],
   "source": [
    "np.amax(means)"
   ]
  },
  {
   "cell_type": "code",
   "execution_count": 100,
   "metadata": {},
   "outputs": [
    {
     "name": "stdout",
     "output_type": "stream",
     "text": [
      "Model: \"sequential\"\n",
      "_________________________________________________________________\n",
      "Layer (type)                 Output Shape              Param #   \n",
      "=================================================================\n",
      "conv1d (Conv1D)              (None, 798, 32)           96        \n",
      "_________________________________________________________________\n",
      "batch_normalization (BatchNo (None, 798, 32)           128       \n",
      "_________________________________________________________________\n",
      "conv1d_1 (Conv1D)            (None, 798, 32)           2080      \n",
      "_________________________________________________________________\n",
      "batch_normalization_1 (Batch (None, 798, 32)           128       \n",
      "_________________________________________________________________\n",
      "conv1d_2 (Conv1D)            (None, 798, 32)           2080      \n",
      "_________________________________________________________________\n",
      "batch_normalization_2 (Batch (None, 798, 32)           128       \n",
      "_________________________________________________________________\n",
      "conv1d_3 (Conv1D)            (None, 798, 32)           2080      \n",
      "_________________________________________________________________\n",
      "batch_normalization_3 (Batch (None, 798, 32)           128       \n",
      "_________________________________________________________________\n",
      "conv1d_4 (Conv1D)            (None, 798, 32)           2080      \n",
      "_________________________________________________________________\n",
      "batch_normalization_4 (Batch (None, 798, 32)           128       \n",
      "_________________________________________________________________\n",
      "conv1d_5 (Conv1D)            (None, 798, 32)           2080      \n",
      "_________________________________________________________________\n",
      "batch_normalization_5 (Batch (None, 798, 32)           128       \n",
      "_________________________________________________________________\n",
      "conv1d_6 (Conv1D)            (None, 798, 32)           2080      \n",
      "_________________________________________________________________\n",
      "batch_normalization_6 (Batch (None, 798, 32)           128       \n",
      "_________________________________________________________________\n",
      "conv1d_7 (Conv1D)            (None, 798, 32)           2080      \n",
      "_________________________________________________________________\n",
      "batch_normalization_7 (Batch (None, 798, 32)           128       \n",
      "_________________________________________________________________\n",
      "conv1d_8 (Conv1D)            (None, 798, 32)           2080      \n",
      "_________________________________________________________________\n",
      "batch_normalization_8 (Batch (None, 798, 32)           128       \n",
      "_________________________________________________________________\n",
      "conv1d_9 (Conv1D)            (None, 798, 32)           2080      \n",
      "_________________________________________________________________\n",
      "batch_normalization_9 (Batch (None, 798, 32)           128       \n",
      "_________________________________________________________________\n",
      "conv1d_10 (Conv1D)           (None, 798, 32)           2080      \n",
      "_________________________________________________________________\n",
      "batch_normalization_10 (Batc (None, 798, 32)           128       \n",
      "_________________________________________________________________\n",
      "conv1d_11 (Conv1D)           (None, 798, 32)           2080      \n",
      "_________________________________________________________________\n",
      "batch_normalization_11 (Batc (None, 798, 32)           128       \n",
      "_________________________________________________________________\n",
      "conv1d_12 (Conv1D)           (None, 798, 32)           2080      \n",
      "_________________________________________________________________\n",
      "batch_normalization_12 (Batc (None, 798, 32)           128       \n",
      "_________________________________________________________________\n",
      "conv1d_13 (Conv1D)           (None, 798, 32)           2080      \n",
      "_________________________________________________________________\n",
      "batch_normalization_13 (Batc (None, 798, 32)           128       \n",
      "_________________________________________________________________\n",
      "conv1d_14 (Conv1D)           (None, 798, 32)           2080      \n",
      "_________________________________________________________________\n",
      "batch_normalization_14 (Batc (None, 798, 32)           128       \n",
      "_________________________________________________________________\n",
      "dropout (Dropout)            (None, 798, 32)           0         \n",
      "_________________________________________________________________\n",
      "conv1d_15 (Conv1D)           (None, 798, 42)           1386      \n",
      "=================================================================\n",
      "Total params: 32,522\n",
      "Trainable params: 31,562\n",
      "Non-trainable params: 960\n",
      "_________________________________________________________________\n"
     ]
    }
   ],
   "source": [
    "model.summary()"
   ]
  },
  {
   "cell_type": "code",
   "execution_count": 75,
   "metadata": {},
   "outputs": [],
   "source": [
    "num_samples = 1\n",
    "\n",
    "X_predict = np.repeat(X_valid,num_samples,axis=0)\n",
    "Y_predict = np.repeat(Y_valid,num_samples,axis=0)"
   ]
  },
  {
   "cell_type": "code",
   "execution_count": 76,
   "metadata": {},
   "outputs": [
    {
     "data": {
      "text/plain": [
       "(1000, 798, 42)"
      ]
     },
     "execution_count": 76,
     "metadata": {},
     "output_type": "execute_result"
    }
   ],
   "source": [
    "X_predict.shape\n",
    "Y_predict.shape"
   ]
  },
  {
   "cell_type": "code",
   "execution_count": 70,
   "metadata": {},
   "outputs": [
    {
     "data": {
      "text/plain": [
       "(1000, 798, 42)"
      ]
     },
     "execution_count": 70,
     "metadata": {},
     "output_type": "execute_result"
    }
   ],
   "source": [
    "predict = model.predict(X_predict)\n",
    "predict.shape"
   ]
  },
  {
   "cell_type": "code",
   "execution_count": 17,
   "metadata": {},
   "outputs": [],
   "source": [
    "# predict[:,-prediction_horizon:,:].shape\n",
    "# Y_predict[:,-prediction_horizon:,:].reshape(X_test.shape[0] * prediction_horizon,prediction_horizon).shape"
   ]
  },
  {
   "cell_type": "code",
   "execution_count": 18,
   "metadata": {},
   "outputs": [],
   "source": [
    "# print(predict.shape)\n",
    "# Y_predict_test = Y_predict[:,-prediction_horizon:,:].reshape(X_train.shape[0] * prediction_horizon,prediction_horizon)\n",
    "# predict_test = predict[:,-prediction_horizon:,:].reshape(X_train.shape[0] * prediction_horizon,prediction_horizon)\n",
    "# mse = 1 / num_samples * np.sum((Y_predict_test - predict_test)**2,axis=-1)\n",
    "# mse = mse.reshape(int(mse.shape[0] / prediction_horizon),prediction_horizon)\n",
    "# print(mse.shape)"
   ]
  },
  {
   "cell_type": "code",
   "execution_count": 116,
   "metadata": {},
   "outputs": [
    {
     "name": "stdout",
     "output_type": "stream",
     "text": [
      "(1000,)\n"
     ]
    }
   ],
   "source": [
    "mse = keras.metrics.mean_squared_error(predict[:, -prediction_horizon:, -1],Y_predict[:, -prediction_horizon:, -1])\n",
    "# mse = mse.reshape(int(mse.shape[0] / num_samples),prediction_horizon)\n",
    "print(mse.shape)"
   ]
  },
  {
   "cell_type": "code",
   "execution_count": 117,
   "metadata": {},
   "outputs": [
    {
     "data": {
      "text/plain": [
       "0.011454828979580368"
      ]
     },
     "execution_count": 117,
     "metadata": {},
     "output_type": "execute_result"
    }
   ],
   "source": [
    "np.amax(mse)"
   ]
  },
  {
   "cell_type": "code",
   "execution_count": 20,
   "metadata": {},
   "outputs": [],
   "source": [
    "# means = np.mean(mse,axis=1)\n",
    "# variances = np.var(mse,axis=1)\n",
    "\n",
    "control_mean = np.mean(mse[:200])\n",
    "control_std = np.std(mse[:200])\n",
    "\n",
    "# control_mean_var = np.mean(variances[:200])\n",
    "# control_std_var = np.std(variances[:200])\n",
    "# means.shape"
   ]
  },
  {
   "cell_type": "code",
   "execution_count": 21,
   "metadata": {},
   "outputs": [
    {
     "data": {
      "text/plain": [
       "0.010848849029889227"
      ]
     },
     "execution_count": 21,
     "metadata": {},
     "output_type": "execute_result"
    }
   ],
   "source": [
    "control_mean\n",
    "control_std\n",
    "control_mean + 3 * control_std"
   ]
  },
  {
   "cell_type": "code",
   "execution_count": 88,
   "metadata": {},
   "outputs": [
    {
     "data": {
      "image/png": "[encoded data removed]",
      "text/plain": [
       "<Figure size 432x288 with 1 Axes>"
      ]
     },
     "metadata": {},
     "output_type": "display_data"
    }
   ],
   "source": [
    "import seaborn as sns\n",
    "sns.set()\n",
    "ax = sns.distplot(means)"
   ]
  },
  {
   "cell_type": "code",
   "execution_count": 26,
   "metadata": {},
   "outputs": [
    {
     "data": {
      "text/plain": [
       "(2.78721102794486, 0.00023690503030121185, 0.0021859618049399395)"
      ]
     },
     "execution_count": 26,
     "metadata": {},
     "output_type": "execute_result"
    }
   ],
   "source": [
    "from scipy.stats import gamma\n",
    "\n",
    "gamma.fit(mse)"
   ]
  },
  {
   "cell_type": "code",
   "execution_count": 305,
   "metadata": {},
   "outputs": [
    {
     "data": {
      "text/plain": [
       "(71, 798)"
      ]
     },
     "execution_count": 305,
     "metadata": {},
     "output_type": "execute_result"
    }
   ],
   "source": [
    "X_predict[np.argwhere(mse > control_mean + 3 * control_std).flatten(),:,0].shape"
   ]
  },
  {
   "cell_type": "code",
   "execution_count": 306,
   "metadata": {},
   "outputs": [
    {
     "name": "stdout",
     "output_type": "stream",
     "text": [
      "(3500, 798, 1)\n"
     ]
    }
   ],
   "source": [
    "from scipy import signal\n",
    "print(X_predict.shape)\n",
    "freqs,amps = signal.welch(\n",
    "    X_predict[np.argwhere(mse > control_mean + 3 * control_std).flatten(),:,0],fs=4200,nperseg=256,scaling='spectrum')\n"
   ]
  },
  {
   "cell_type": "code",
   "execution_count": 307,
   "metadata": {},
   "outputs": [
    {
     "data": {
      "image/png": "[encoded data removed]",
      "text/plain": [
       "<Figure size 432x288 with 1 Axes>"
      ]
     },
     "metadata": {},
     "output_type": "display_data"
    }
   ],
   "source": [
    "plt.plot(freqs,amps.T)\n",
    "plt.show()"
   ]
  },
  {
   "cell_type": "code",
   "execution_count": 17,
   "metadata": {},
   "outputs": [],
   "source": [
    "def plot_series(series, y=None, y_pred=None, x_label=\"$t$\", y_label=\"$x(t)$\"):\n",
    "    plt.plot(series, \".-\")\n",
    "    if y is not None:\n",
    "        plt.plot(num_steps, y, \"bx\", markersize=10)\n",
    "    if y_pred is not None:\n",
    "        plt.plot(num_steps, y_pred, \"ro\")\n",
    "    plt.grid(True)\n",
    "    if x_label:\n",
    "        plt.xlabel(x_label, fontsize=16)\n",
    "    if y_label:\n",
    "        plt.ylabel(y_label, fontsize=16, rotation=0)\n",
    "    plt.hlines(0, 0, 100, linewidth=1)\n",
    "    plt.axis([0, num_steps + 1, -1, 1])\n",
    "\n",
    "\n",
    "def plot_multiple_forecasts(X, Y, Y_pred):\n",
    "    n_steps = X.shape[1]\n",
    "    ahead = Y.shape[1]\n",
    "    plot_series(X[0, :, 0])\n",
    "    plt.plot(np.arange(num_steps, num_steps + ahead), Y[0, :, 0], \"ro-\", label=\"Actual\")\n",
    "    \n",
    "    plt.plot(np.arange(num_steps, num_steps + ahead), Y_pred[0, :, 0], \"bx-\", label=\"Forecast\", markersize=10)\n",
    "    plt.axis([0, n_steps + ahead, -1, 1])\n",
    "    plt.legend(fontsize=14)\n"
   ]
  },
  {
   "cell_type": "code",
   "execution_count": 18,
   "metadata": {},
   "outputs": [
    {
     "ename": "NameError",
     "evalue": "name 'X_new' is not defined",
     "output_type": "error",
     "traceback": [
      "\u001b[0;31m---------------------------------------------------------------------------\u001b[0m",
      "\u001b[0;31mNameError\u001b[0m                                 Traceback (most recent call last)",
      "\u001b[0;32m<ipython-input-18-33f191dd8eca>\u001b[0m in \u001b[0;36m<module>\u001b[0;34m\u001b[0m\n\u001b[0;32m----> 1\u001b[0;31m \u001b[0mmodel\u001b[0m\u001b[0;34m.\u001b[0m\u001b[0mpredict\u001b[0m\u001b[0;34m(\u001b[0m\u001b[0mX_new\u001b[0m\u001b[0;34m)\u001b[0m\u001b[0;34m.\u001b[0m\u001b[0mshape\u001b[0m\u001b[0;34m\u001b[0m\u001b[0;34m\u001b[0m\u001b[0m\n\u001b[0m\u001b[1;32m      2\u001b[0m \u001b[0mY_new\u001b[0m\u001b[0;34m.\u001b[0m\u001b[0mshape\u001b[0m\u001b[0;34m\u001b[0m\u001b[0;34m\u001b[0m\u001b[0m\n\u001b[1;32m      3\u001b[0m \u001b[0;34m\u001b[0m\u001b[0m\n\u001b[1;32m      4\u001b[0m \u001b[0mprint\u001b[0m\u001b[0;34m(\u001b[0m\u001b[0mkeras\u001b[0m\u001b[0;34m.\u001b[0m\u001b[0mmetrics\u001b[0m\u001b[0;34m.\u001b[0m\u001b[0mmean_squared_error\u001b[0m\u001b[0;34m(\u001b[0m\u001b[0mY_new\u001b[0m\u001b[0;34m[\u001b[0m\u001b[0;36m0\u001b[0m\u001b[0;34m,\u001b[0m \u001b[0;34m:\u001b[0m\u001b[0;34m,\u001b[0m \u001b[0;36m0\u001b[0m\u001b[0;34m]\u001b[0m\u001b[0;34m,\u001b[0m\u001b[0mY_pred\u001b[0m\u001b[0;34m[\u001b[0m\u001b[0;36m0\u001b[0m\u001b[0;34m,\u001b[0m \u001b[0;34m:\u001b[0m\u001b[0;34m,\u001b[0m \u001b[0;36m0\u001b[0m\u001b[0;34m]\u001b[0m\u001b[0;34m)\u001b[0m\u001b[0;34m)\u001b[0m\u001b[0;34m\u001b[0m\u001b[0;34m\u001b[0m\u001b[0m\n",
      "\u001b[0;31mNameError\u001b[0m: name 'X_new' is not defined"
     ]
    }
   ],
   "source": [
    "model.predict(X_new).shape\n",
    "Y_new.shape\n",
    "\n",
    "print(keras.metrics.mean_squared_error(Y_new[0, :, 0],Y_pred[0, :, 0]))\n"
   ]
  },
  {
   "cell_type": "code",
   "execution_count": 98,
   "metadata": {},
   "outputs": [
    {
     "data": {
      "image/png": "[encoded data removed]",
      "text/plain": [
       "<Figure size 432x288 with 1 Axes>"
      ]
     },
     "metadata": {
      "needs_background": "light"
     },
     "output_type": "display_data"
    }
   ],
   "source": [
    "plot_multiple_forecasts(X_, Y_new, model.predict(X_new)[:, -1][..., np.newaxis])\n",
    "plt.show()"
   ]
  },
  {
   "cell_type": "code",
   "execution_count": 57,
   "metadata": {},
   "outputs": [
    {
     "name": "stdout",
     "output_type": "stream",
     "text": [
      "Model: \"sequential\"\n",
      "_________________________________________________________________\n",
      "Layer (type)                 Output Shape              Param #   \n",
      "=================================================================\n",
      "conv1d (Conv1D)              (None, None, 20)          60        \n",
      "_________________________________________________________________\n",
      "conv1d_1 (Conv1D)            (None, None, 20)          820       \n",
      "_________________________________________________________________\n",
      "conv1d_2 (Conv1D)            (None, None, 20)          820       \n",
      "_________________________________________________________________\n",
      "conv1d_3 (Conv1D)            (None, None, 20)          820       \n",
      "_________________________________________________________________\n",
      "conv1d_4 (Conv1D)            (None, None, 20)          820       \n",
      "_________________________________________________________________\n",
      "conv1d_5 (Conv1D)            (None, None, 20)          820       \n",
      "_________________________________________________________________\n",
      "conv1d_6 (Conv1D)            (None, None, 20)          820       \n",
      "_________________________________________________________________\n",
      "conv1d_7 (Conv1D)            (None, None, 20)          820       \n",
      "_________________________________________________________________\n",
      "conv1d_8 (Conv1D)            (None, None, 20)          820       \n",
      "_________________________________________________________________\n",
      "conv1d_9 (Conv1D)            (None, None, 20)          820       \n",
      "_________________________________________________________________\n",
      "conv1d_10 (Conv1D)           (None, None, 20)          820       \n",
      "_________________________________________________________________\n",
      "conv1d_11 (Conv1D)           (None, None, 20)          820       \n",
      "_________________________________________________________________\n",
      "conv1d_12 (Conv1D)           (None, None, 20)          820       \n",
      "_________________________________________________________________\n",
      "conv1d_13 (Conv1D)           (None, None, 20)          820       \n",
      "_________________________________________________________________\n",
      "conv1d_14 (Conv1D)           (None, None, 20)          820       \n",
      "_________________________________________________________________\n",
      "conv1d_15 (Conv1D)           (None, None, 20)          820       \n",
      "_________________________________________________________________\n",
      "conv1d_16 (Conv1D)           (None, None, 20)          820       \n",
      "_________________________________________________________________\n",
      "conv1d_17 (Conv1D)           (None, None, 20)          820       \n",
      "_________________________________________________________________\n",
      "dropout__live (Dropout_Live) (None, None, 20)          0         \n",
      "_________________________________________________________________\n",
      "conv1d_18 (Conv1D)           (None, None, 50)          1050      \n",
      "=================================================================\n",
      "Total params: 15,050\n",
      "Trainable params: 15,050\n",
      "Non-trainable params: 0\n",
      "_________________________________________________________________\n"
     ]
    }
   ],
   "source": [
    "model.summary()"
   ]
  },
  {
   "cell_type": "code",
   "execution_count": 100,
   "metadata": {},
   "outputs": [],
   "source": [
    "class GatedActivationUnit(keras.layers.Layer):\n",
    "    def __init__(self, activation=\"tanh\", **kwargs):\n",
    "        super().__init__(**kwargs)\n",
    "        self.activation = keras.activations.get(activation)\n",
    "    def call(self, inputs):\n",
    "        n_filters = inputs.shape[-1] // 2\n",
    "        linear_output = self.activation(inputs[..., :n_filters])\n",
    "        gate = keras.activations.sigmoid(inputs[..., n_filters:])\n",
    "        return self.activation(linear_output) * gate"
   ]
  },
  {
   "cell_type": "code",
   "execution_count": 101,
   "metadata": {},
   "outputs": [],
   "source": [
    "def wavenet_residual_block(inputs, n_filters, dilation_rate):\n",
    "    z = keras.layers.Conv1D(2 * n_filters, kernel_size=2, padding=\"causal\",\n",
    "                            dilation_rate=dilation_rate)(inputs)\n",
    "    z = GatedActivationUnit()(z)\n",
    "    z = keras.layers.Conv1D(n_filters, kernel_size=1)(z)\n",
    "    return keras.layers.Add()([z, inputs]), z"
   ]
  },
  {
   "cell_type": "code",
   "execution_count": 104,
   "metadata": {},
   "outputs": [],
   "source": [
    "keras.backend.clear_session()\n",
    "np.random.seed(42)\n",
    "tf.random.set_seed(42)\n",
    "\n",
    "n_layers_per_block = 6 # 10 in the paper\n",
    "n_blocks = 1 # 3 in the paper\n",
    "n_filters = 32 # 128 in the paper\n",
    "n_outputs = prediction_horizon # 256 in the paper\n",
    "\n",
    "inputs = keras.layers.Input(shape=[None, 1])\n",
    "z = keras.layers.Conv1D(n_filters, kernel_size=2, padding=\"causal\")(inputs)\n",
    "skip_to_last = []\n",
    "for dilation_rate in [2**i for i in range(n_layers_per_block)] * n_blocks:\n",
    "    z, skip = wavenet_residual_block(z, n_filters, dilation_rate)\n",
    "    skip_to_last.append(skip)\n",
    "z = keras.activations.relu(keras.layers.Add()(skip_to_last))\n",
    "z = keras.layers.Conv1D(n_filters, kernel_size=1, activation=\"relu\")(z)\n",
    "Y_proba = keras.layers.Conv1D(n_outputs, kernel_size=1, activation=\"softmax\")(z)\n",
    "\n",
    "model = keras.models.Model(inputs=[inputs], outputs=[Y_proba])"
   ]
  },
  {
   "cell_type": "code",
   "execution_count": 105,
   "metadata": {},
   "outputs": [
    {
     "name": "stdout",
     "output_type": "stream",
     "text": [
      "Train on 3500 samples, validate on 1000 samples\n",
      "Epoch 1/20\n",
      "3500/3500 [==============================] - 4s 1ms/sample - loss: 3.0878 - last_time_step_mse: 3.0868 - val_loss: 3.0562 - val_last_time_step_mse: 3.0543\n",
      "Epoch 2/20\n",
      "3500/3500 [==============================] - 1s 279us/sample - loss: 3.0484 - last_time_step_mse: 3.0461 - val_loss: 3.0438 - val_last_time_step_mse: 3.0417\n",
      "Epoch 3/20\n",
      "3500/3500 [==============================] - 1s 289us/sample - loss: 3.0400 - last_time_step_mse: 3.0378 - val_loss: 3.0388 - val_last_time_step_mse: 3.0368\n",
      "Epoch 4/20\n",
      "3500/3500 [==============================] - 1s 285us/sample - loss: 3.0373 - last_time_step_mse: 3.0353 - val_loss: 3.0371 - val_last_time_step_mse: 3.0352\n",
      "Epoch 5/20\n",
      "3500/3500 [==============================] - 1s 282us/sample - loss: 3.0360 - last_time_step_mse: 3.0341 - val_loss: 3.0360 - val_last_time_step_mse: 3.0343\n",
      "Epoch 6/20\n",
      "3500/3500 [==============================] - 1s 285us/sample - loss: 3.0352 - last_time_step_mse: 3.0333 - val_loss: 3.0353 - val_last_time_step_mse: 3.0335\n",
      "Epoch 7/20\n",
      "3500/3500 [==============================] - 1s 284us/sample - loss: 3.0344 - last_time_step_mse: 3.0326 - val_loss: 3.0344 - val_last_time_step_mse: 3.0327\n",
      "Epoch 8/20\n",
      "3500/3500 [==============================] - 1s 289us/sample - loss: 3.0338 - last_time_step_mse: 3.0320 - val_loss: 3.0337 - val_last_time_step_mse: 3.0320\n",
      "Epoch 9/20\n",
      "3500/3500 [==============================] - 1s 279us/sample - loss: 3.0332 - last_time_step_mse: 3.0316 - val_loss: 3.0332 - val_last_time_step_mse: 3.0316\n",
      "Epoch 10/20\n",
      "3500/3500 [==============================] - 1s 280us/sample - loss: 3.0328 - last_time_step_mse: 3.0312 - val_loss: 3.0328 - val_last_time_step_mse: 3.0313\n",
      "Epoch 11/20\n",
      "3500/3500 [==============================] - 1s 286us/sample - loss: 3.0324 - last_time_step_mse: 3.0309 - val_loss: 3.0325 - val_last_time_step_mse: 3.0311\n",
      "Epoch 12/20\n",
      "3500/3500 [==============================] - 1s 290us/sample - loss: 3.0320 - last_time_step_mse: 3.0306 - val_loss: 3.0321 - val_last_time_step_mse: 3.0307\n",
      "Epoch 13/20\n",
      "3500/3500 [==============================] - 1s 288us/sample - loss: 3.0317 - last_time_step_mse: 3.0303 - val_loss: 3.0318 - val_last_time_step_mse: 3.0304\n",
      "Epoch 14/20\n",
      "3500/3500 [==============================] - 1s 285us/sample - loss: 3.0315 - last_time_step_mse: 3.0300 - val_loss: 3.0316 - val_last_time_step_mse: 3.0302\n",
      "Epoch 15/20\n",
      "3500/3500 [==============================] - 1s 282us/sample - loss: 3.0313 - last_time_step_mse: 3.0299 - val_loss: 3.0313 - val_last_time_step_mse: 3.0299\n",
      "Epoch 16/20\n",
      "3500/3500 [==============================] - 1s 278us/sample - loss: 3.0311 - last_time_step_mse: 3.0297 - val_loss: 3.0310 - val_last_time_step_mse: 3.0297\n",
      "Epoch 17/20\n",
      "3500/3500 [==============================] - 1s 282us/sample - loss: 3.0309 - last_time_step_mse: 3.0295 - val_loss: 3.0309 - val_last_time_step_mse: 3.0296\n",
      "Epoch 18/20\n",
      "3500/3500 [==============================] - 1s 273us/sample - loss: 3.0307 - last_time_step_mse: 3.0294 - val_loss: 3.0307 - val_last_time_step_mse: 3.0294\n",
      "Epoch 19/20\n",
      "3500/3500 [==============================] - 1s 280us/sample - loss: 3.0306 - last_time_step_mse: 3.0292 - val_loss: 3.0305 - val_last_time_step_mse: 3.0292\n",
      "Epoch 20/20\n",
      "3500/3500 [==============================] - 1s 284us/sample - loss: 3.0303 - last_time_step_mse: 3.0290 - val_loss: 3.0304 - val_last_time_step_mse: 3.0291\n"
     ]
    }
   ],
   "source": [
    "model.compile(loss=\"mse\", optimizer=\"adam\", metrics=[last_time_step_mse])\n",
    "history = model.fit(X_train, Y_train, epochs=20,\n",
    "                    validation_data=(X_valid, Y_valid))"
   ]
  },
  {
   "cell_type": "code",
   "execution_count": 69,
   "metadata": {},
   "outputs": [],
   "source": [
    "np.random.seed(43)\n",
    "\n",
    "series = generate_time_series(1, 50 + 10)\n",
    "X_new, Y_new = series[:, :50, :], series[:, -10:, :]\n",
    "# Y_pred = model.predict(X_new)\n",
    "Y_pred = model.predict(X_new)[:, -1][..., np.newaxis]"
   ]
  },
  {
   "cell_type": "code",
   "execution_count": 70,
   "metadata": {},
   "outputs": [
    {
     "data": {
      "image/png": "[encoded data removed]",
      "text/plain": [
       "<Figure size 432x288 with 1 Axes>"
      ]
     },
     "metadata": {
      "needs_background": "light"
     },
     "output_type": "display_data"
    }
   ],
   "source": [
    "plot_multiple_forecasts(X_new, Y_new, Y_pred)\n",
    "plt.show()"
   ]
  },
  {
   "cell_type": "code",
   "execution_count": 46,
   "metadata": {},
   "outputs": [
    {
     "name": "stdout",
     "output_type": "stream",
     "text": [
      "Model: \"model\"\n",
      "__________________________________________________________________________________________________\n",
      "Layer (type)                    Output Shape         Param #     Connected to                     \n",
      "==================================================================================================\n",
      "input_1 (InputLayer)            [(None, None, 1)]    0                                            \n",
      "__________________________________________________________________________________________________\n",
      "conv1d (Conv1D)                 (None, None, 32)     96          input_1[0][0]                    \n",
      "__________________________________________________________________________________________________\n",
      "conv1d_1 (Conv1D)               (None, None, 64)     4160        conv1d[0][0]                     \n",
      "__________________________________________________________________________________________________\n",
      "gated_activation_unit (GatedAct (None, None, 32)     0           conv1d_1[0][0]                   \n",
      "__________________________________________________________________________________________________\n",
      "conv1d_2 (Conv1D)               (None, None, 32)     1056        gated_activation_unit[0][0]      \n",
      "__________________________________________________________________________________________________\n",
      "add (Add)                       (None, None, 32)     0           conv1d_2[0][0]                   \n",
      "                                                                 conv1d[0][0]                     \n",
      "__________________________________________________________________________________________________\n",
      "conv1d_3 (Conv1D)               (None, None, 64)     4160        add[0][0]                        \n",
      "__________________________________________________________________________________________________\n",
      "gated_activation_unit_1 (GatedA (None, None, 32)     0           conv1d_3[0][0]                   \n",
      "__________________________________________________________________________________________________\n",
      "conv1d_4 (Conv1D)               (None, None, 32)     1056        gated_activation_unit_1[0][0]    \n",
      "__________________________________________________________________________________________________\n",
      "add_1 (Add)                     (None, None, 32)     0           conv1d_4[0][0]                   \n",
      "                                                                 add[0][0]                        \n",
      "__________________________________________________________________________________________________\n",
      "conv1d_5 (Conv1D)               (None, None, 64)     4160        add_1[0][0]                      \n",
      "__________________________________________________________________________________________________\n",
      "gated_activation_unit_2 (GatedA (None, None, 32)     0           conv1d_5[0][0]                   \n",
      "__________________________________________________________________________________________________\n",
      "conv1d_6 (Conv1D)               (None, None, 32)     1056        gated_activation_unit_2[0][0]    \n",
      "__________________________________________________________________________________________________\n",
      "add_3 (Add)                     (None, None, 32)     0           conv1d_2[0][0]                   \n",
      "                                                                 conv1d_4[0][0]                   \n",
      "                                                                 conv1d_6[0][0]                   \n",
      "__________________________________________________________________________________________________\n",
      "tf_op_layer_Relu (TensorFlowOpL [(None, None, 32)]   0           add_3[0][0]                      \n",
      "__________________________________________________________________________________________________\n",
      "conv1d_7 (Conv1D)               (None, None, 32)     1056        tf_op_layer_Relu[0][0]           \n",
      "__________________________________________________________________________________________________\n",
      "conv1d_8 (Conv1D)               (None, None, 10)     330         conv1d_7[0][0]                   \n",
      "==================================================================================================\n",
      "Total params: 17,130\n",
      "Trainable params: 17,130\n",
      "Non-trainable params: 0\n",
      "__________________________________________________________________________________________________\n"
     ]
    }
   ],
   "source": [
    "model.summary()"
   ]
  },
  {
   "cell_type": "code",
   "execution_count": 3,
   "metadata": {},
   "outputs": [
    {
     "data": {
      "text/plain": [
       "array([ 2,  4,  8, 16])"
      ]
     },
     "execution_count": 3,
     "metadata": {},
     "output_type": "execute_result"
    }
   ],
   "source": [
    "import numpy as np\n",
    "hi = np.arange(1,5)\n",
    "2**hi"
   ]
  },
  {
   "cell_type": "code",
   "execution_count": null,
   "metadata": {},
   "outputs": [],
   "source": []
  }
 ],
 "metadata": {
  "kernelspec": {
   "display_name": "Python 3",
   "language": "python",
   "name": "python3"
  },
  "language_info": {
   "codemirror_mode": {
    "name": "ipython",
    "version": 3
   },
   "file_extension": ".py",
   "mimetype": "text/x-python",
   "name": "python",
   "nbconvert_exporter": "python",
   "pygments_lexer": "ipython3",
   "version": "3.6.9"
  }
 },
 "nbformat": 4,
 "nbformat_minor": 4
}
