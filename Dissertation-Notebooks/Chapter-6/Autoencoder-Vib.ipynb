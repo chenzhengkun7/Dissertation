{
 "cells": [
  {
   "cell_type": "markdown",
   "metadata": {},
   "source": [
    "Sampling at 20kHz\n",
    "\n",
    "Want to accurately capture signals as low as 20Hz\n",
    "\n",
    "Input Size - 1024 Points\n",
    "\n"
   ]
  },
  {
   "cell_type": "code",
   "execution_count": 5,
   "metadata": {},
   "outputs": [],
   "source": [
    "import numpy as np\n",
    "\n",
    "import tensorflow as tf\n",
    "from tensorflow.keras import backend as K\n",
    "import tensorflow.keras as keras\n",
    "from keras.legacy import interfaces\n",
    "\n",
    "import tensorflow.keras as keras\n",
    "from tensorflow.keras.layers import Dense, Conv1D, UpSampling1D, MaxPooling1D, AveragePooling1D\n",
    "from tensorflow.keras.layers import Input, Dense, Reshape, Flatten, Dropout\n",
    "from tensorflow.keras.models import Sequential, Model\n",
    "\n",
    "from ML_Train.Custom_Layers import Dropout_Live\n",
    "import tflite_runtime.interpreter as tflite\n",
    "\n",
    "from matplotlib import pyplot as plt\n",
    "plt.rcParams['figure.figsize'] = (15, 4)\n",
    "\n",
    "from scipy.stats import probplot\n",
    "from scipy.stats import normaltest\n",
    "\n",
    "\n",
    "from scipy import signal\n",
    "\n",
    "import os\n",
    "import pandas as pd\n",
    "from ML_Train.DBQuerier import DBQuerier as Querier\n",
    "from sklearn.model_selection import train_test_split\n",
    "from crawlab_toolbox import plotting as genplt\n",
    "\n",
    "\n",
    "gpus= tf.config.experimental.list_physical_devices('GPU')\n",
    "tf.config.experimental.set_memory_growth(gpus[0], True)\n",
    "\n",
    "\n",
    "\n",
    "%matplotlib inline\n",
    "import matplotlib as mpl\n",
    "import matplotlib.pyplot as plt\n",
    "mpl.rc('axes', labelsize=14)\n",
    "mpl.rc('xtick', labelsize=12)\n",
    "mpl.rc('ytick', labelsize=12)"
   ]
  },
  {
   "cell_type": "code",
   "execution_count": 35,
   "metadata": {},
   "outputs": [],
   "source": [
    "dataPoints = 4096\n",
    "\n",
    "trainDF = pd.read_csv('Experiment-3-Data/Vib_train_pruned.csv')\n",
    "testDF = pd.read_csv('Experiment-3-Data/Vib_test_pruned.csv')\n",
    "\n",
    "X_train = trainDF.loc[:, trainDF.columns != 'dateTime'].values.astype(np.float32)\n",
    "X_test = testDF.loc[:, testDF.columns != 'dateTime'].values.astype(np.float32)\n",
    "Y_train = np.loadtxt('Experiment-3-Data/Y_train_pruned.txt',delimiter=',')\n",
    "Y_test = np.loadtxt('Experiment-3-Data/Y_test_pruned.txt',delimiter=',')\n",
    "\n",
    "first_good_train = np.argwhere(Y_train[:,0] == 0).flatten()[0]\n",
    "first_good_test = np.argwhere(Y_test[:,0] == 0).flatten()[0]\n",
    "\n",
    "X_train_healthy = X_train[first_good_train:,:dataPoints]\n",
    "X_valid_healthy = X_test[first_good_test:,:dataPoints]\n",
    "X_train_unhealthy = X_train[:first_good_train,:dataPoints]\n",
    "X_valid_unhealthy = X_test[:first_good_test,:dataPoints]\n",
    "\n",
    "X_train_healthy = X_train_healthy.reshape(X_train_healthy.shape[0] * 4,int(X_train_healthy.shape[1] / 4))\n",
    "X_valid_healthy = X_valid_healthy.reshape(X_valid_healthy.shape[0] * 4,int(X_valid_healthy.shape[1] / 4))\n",
    "X_train_unhealthy = X_train_unhealthy.reshape(X_train_unhealthy.shape[0] * 4,int(X_train_unhealthy.shape[1] / 4))\n",
    "X_valid_unhealthy = X_valid_unhealthy.reshape(X_valid_unhealthy.shape[0] * 4,int(X_valid_unhealthy.shape[1] / 4))\n",
    "\n",
    "\n",
    "np.random.shuffle(X_train_healthy)\n",
    "np.random.shuffle(X_valid_healthy)\n",
    "np.random.shuffle(X_train_unhealthy)\n",
    "np.random.shuffle(X_valid_unhealthy)\n",
    "\n",
    "X = []\n",
    "\n",
    "X.append(X_train_healthy)\n",
    "X.append(X_valid_healthy)\n",
    "X.append(X_train_unhealthy)\n",
    "X.append(X_valid_unhealthy)\n",
    "\n",
    "for i in range(len(X)):\n",
    "    X[i] = (X[i] + 2.5) / 5"
   ]
  },
  {
   "cell_type": "code",
   "execution_count": 36,
   "metadata": {},
   "outputs": [
    {
     "name": "stdout",
     "output_type": "stream",
     "text": [
      "0.03622999\n",
      "0.034185983\n",
      "0.014504003\n",
      "0.04594202\n",
      "0.90294\n",
      "0.89680594\n",
      "0.922108\n",
      "0.893226\n"
     ]
    }
   ],
   "source": [
    "print(np.amin(X[0]))\n",
    "print(np.amin(X[1]))\n",
    "print(np.amin(X[2]))\n",
    "print(np.amin(X[3]))\n",
    "\n",
    "print(np.amax(X[0]))\n",
    "print(np.amax(X[1]))\n",
    "print(np.amax(X[2]))\n",
    "print(np.amax(X[3]))"
   ]
  },
  {
   "cell_type": "code",
   "execution_count": 107,
   "metadata": {},
   "outputs": [],
   "source": [
    "def normalize_scores(scores,log_prob=False):\n",
    "\n",
    "    flat = np.array([])\n",
    "    for i in range(len(scores)):\n",
    "        flat = np.append(flat,scores[i])\n",
    "    \n",
    "    max_val = np.amax(flat)\n",
    "    \n",
    "    if log_prob:\n",
    "        scores = [np.log(np.abs(scores[i] - 1.1 * max_val)) for i in range(len(scores))]\n",
    "    \n",
    "\n",
    "    norm_mean = np.mean(scores[0])\n",
    "    norm_std = np.std(scores[0])\n",
    "    \n",
    "    scores = [(scores[i] - norm_mean) / norm_std for i in range(len(scores))]\n",
    "    \n",
    "    [print(normaltest(scores[i])) for i in range(len(scores))]\n",
    "    [print(np.std(scores[i]), np.mean(scores[i])) for i in range(len(scores))]\n",
    "    \n",
    "    return scores\n",
    "\n",
    "import numpy as np\n",
    "\n",
    "from tensorflow.keras.layers import Dense, Conv1D, UpSampling1D, MaxPooling1D, AveragePooling1D\n",
    "from tensorflow.keras.layers import Input, Dense, Reshape, Flatten, Dropout\n",
    "from tensorflow.keras.layers import BatchNormalization\n",
    "from tensorflow.keras.models import Sequential, Model\n",
    "\n",
    "from ML_Train.Custom_Layers import Dropout_Live\n",
    "\n",
    "def create_encoder(\n",
    "                   filters, \n",
    "                   kernels, \n",
    "                   strides,\n",
    "                   dilation_rates,\n",
    "                   input_shape\n",
    "                   ):\n",
    "    \n",
    "    encoder = Sequential()\n",
    "    \n",
    "    for i in range(len(filters)):\n",
    "        if i == 0:\n",
    "            encoder.add(Conv1D(filters=filters[i], \n",
    "                               kernel_size=kernels[i], \n",
    "                               strides=strides[i], \n",
    "                               activation='relu', \n",
    "                               padding='same',\n",
    "                               dilation_rate=dilation_rates[i],\n",
    "                               input_shape=input_shape))\n",
    "        else:\n",
    "            encoder.add(Conv1D(filters=filters[i], \n",
    "                               kernel_size=kernels[i], \n",
    "                               strides=strides[i], \n",
    "                               activation='relu', \n",
    "                               padding='same',\n",
    "                               dilation_rate=dilation_rates[i]))\n",
    "#         encoder.add(BatchNormalization())\n",
    "        encoder.add(Dropout(0.3))\n",
    "        encoder.add(MaxPooling1D(2))\n",
    "        \n",
    "    return encoder\n",
    "\n",
    "def create_decoder(\n",
    "                   filters,\n",
    "                   kernels,\n",
    "                   strides,\n",
    "                   dilation_rates,\n",
    "                   ):\n",
    "    \n",
    "    decoder = Sequential()\n",
    "    \n",
    "    filters.reverse()\n",
    "    kernels.reverse()\n",
    "    strides.reverse()\n",
    "    dilation_rates.reverse()\n",
    "    \n",
    "    decoder.add(UpSampling1D(2))\n",
    "    \n",
    "    for i in range(1,len(filters)):\n",
    "        decoder.add(Conv1D(filters=filters[i], \n",
    "                           kernel_size=kernels[i], \n",
    "                           strides=strides[i], \n",
    "                           activation='relu', \n",
    "                           padding='same',\n",
    "                           dilation_rate=dilation_rates[i]))\n",
    "#         decoder.add(Dropout(0.5))\n",
    "        decoder.add(UpSampling1D(2))\n",
    "    \n",
    "    #decoder.add(Dropout_Live(0.5))\n",
    "    decoder.add(Conv1D(1, 3, 1, activation='sigmoid', padding='same'))\n",
    "    \n",
    "    return decoder\n",
    "    \n",
    "def create_autoencoder(param_dict):\n",
    "    filters = param_dict[\"filters\"]\n",
    "    kernels = param_dict[\"kernels\"]\n",
    "    strides = param_dict[\"strides\"]\n",
    "    dilation_rates = param_dict[\"dilation_rates\"]\n",
    "    input_shape = tuple(param_dict[\"input_shape\"])\n",
    "        \n",
    "    encoder = create_encoder(filters,kernels,strides,dilation_rates,input_shape)\n",
    "    decoder = create_decoder(filters,kernels,strides,dilation_rates)\n",
    "    \n",
    "    stacked_ae = Sequential([encoder, decoder])\n",
    "\n",
    "    return stacked_ae,encoder,decoder\n",
    "    "
   ]
  },
  {
   "cell_type": "code",
   "execution_count": 108,
   "metadata": {},
   "outputs": [
    {
     "name": "stdout",
     "output_type": "stream",
     "text": [
      "Train on 480 samples, validate on 120 samples\n",
      "Epoch 1/10\n",
      "480/480 [==============================] - 3s 6ms/sample - loss: 0.0091 - val_loss: 0.0072\n",
      "Epoch 2/10\n",
      "480/480 [==============================] - 1s 2ms/sample - loss: 0.0048 - val_loss: 0.0058\n",
      "Epoch 3/10\n",
      "480/480 [==============================] - 1s 2ms/sample - loss: 0.0040 - val_loss: 0.0049\n",
      "Epoch 4/10\n",
      "480/480 [==============================] - 1s 2ms/sample - loss: 0.0037 - val_loss: 0.0045\n",
      "Epoch 5/10\n",
      "480/480 [==============================] - 1s 2ms/sample - loss: 0.0035 - val_loss: 0.0044\n",
      "Epoch 6/10\n",
      "480/480 [==============================] - 1s 2ms/sample - loss: 0.0033 - val_loss: 0.0040\n",
      "Epoch 7/10\n",
      "480/480 [==============================] - 1s 2ms/sample - loss: 0.0031 - val_loss: 0.0037\n",
      "Epoch 8/10\n",
      "480/480 [==============================] - 1s 2ms/sample - loss: 0.0030 - val_loss: 0.0034\n",
      "Epoch 9/10\n",
      "480/480 [==============================] - 1s 2ms/sample - loss: 0.0029 - val_loss: 0.0032\n",
      "Epoch 10/10\n",
      "480/480 [==============================] - 1s 2ms/sample - loss: 0.0028 - val_loss: 0.0032\n"
     ]
    }
   ],
   "source": [
    "if os.path.isfile('data/CNN-AE.h5'):\n",
    "    from tensorflow.keras.models import load_model\n",
    "    model = load_model('data/CNN-AE.h5')\n",
    "    print(model.summary())\n",
    "else:\n",
    "    filters=[16,16,16]\n",
    "    kernels = [3,5,7]\n",
    "    strides=[1,1,1,1,1,1]\n",
    "    dilation_rates=[1,1,1,1,1,1]\n",
    "    input_shape = [1024,1]\n",
    "\n",
    "    param_dict = {\n",
    "        \"filters\":filters,\n",
    "        \"kernels\":kernels,\n",
    "        \"strides\":strides,\n",
    "        \"dilation_rates\":dilation_rates,\n",
    "        \"input_shape\":input_shape,\n",
    "    }\n",
    "\n",
    "    model,encoder,decoder = create_autoencoder(param_dict)\n",
    "\n",
    "    model.compile(loss='mean_squared_error',optimizer='adam')\n",
    "    history = model.fit(X[0][...,np.newaxis],X[0][...,np.newaxis],\n",
    "                        epochs=10,batch_size=4,\n",
    "                        validation_split=0.2,verbose=1,\n",
    "    #                     validation_data=[X_healthy_test[...,np.newaxis],X_healthy_test[...,np.newaxis]]\n",
    "                       )\n",
    "    \n",
    "#     model.save('data/CNN-AE.h5',save_format='tf')\n",
    "\n",
    "\n",
    "# converter = tf.lite.TFLiteConverter.from_keras_model(model)\n",
    "# tflite_model = converter.convert()\n",
    "\n",
    "# open(os.path.join('data', 'CNN-AE.tflite',),\n",
    "#      \"wb\").write(tflite_model)\n",
    "\n",
    "X_conv_ae = []\n",
    "mse_conv_ae = []\n",
    "\n",
    "for i in range(len(X)):\n",
    "    X_conv_ae.append(np.squeeze(model.predict(X[i][...,np.newaxis])))\n",
    "    mse_conv_ae.append(keras.metrics.mean_squared_error(X_conv_ae[i],X[i]))\n"
   ]
  },
  {
   "cell_type": "code",
   "execution_count": 109,
   "metadata": {},
   "outputs": [
    {
     "data": {
      "text/plain": [
       "[<matplotlib.lines.Line2D at 0x7fd40040ec18>]"
      ]
     },
     "execution_count": 109,
     "metadata": {},
     "output_type": "execute_result"
    },
    {
     "data": {
      "image/png": "[encoded data removed]",
      "text/plain": [
       "<Figure size 432x288 with 1 Axes>"
      ]
     },
     "metadata": {
      "needs_background": "light"
     },
     "output_type": "display_data"
    }
   ],
   "source": [
    "plt.plot(X_conv_ae[0][0,:64])\n",
    "plt.plot(X[0][0,:64])"
   ]
  },
  {
   "cell_type": "code",
   "execution_count": 110,
   "metadata": {},
   "outputs": [
    {
     "name": "stdout",
     "output_type": "stream",
     "text": [
      "NormaltestResult(statistic=257.69985900077876, pvalue=1.0994782040188595e-56)\n",
      "NormaltestResult(statistic=219.90059545512906, pvalue=1.774975706135791e-48)\n",
      "NormaltestResult(statistic=430.7193592980109, pvalue=2.9544694524929385e-94)\n",
      "NormaltestResult(statistic=31.263164476346542, pvalue=1.6266349170264997e-07)\n",
      "1.0 -1.748403e-07\n",
      "2.351951 0.62546957\n",
      "3.6825926 0.78467345\n",
      "0.7634718 0.11602295\n"
     ]
    }
   ],
   "source": [
    "\n",
    "norm_conv_ae = normalize_scores(mse_conv_ae,False)"
   ]
  },
  {
   "cell_type": "code",
   "execution_count": 111,
   "metadata": {},
   "outputs": [
    {
     "data": {
      "image/png": "[encoded data removed]",
      "text/plain": [
       "<Figure size 864x288 with 1 Axes>"
      ]
     },
     "metadata": {
      "needs_background": "light"
     },
     "output_type": "display_data"
    }
   ],
   "source": [
    "num_col = 2\n",
    "legend_loc = 'upper right'\n",
    "transparent = False\n",
    "\n",
    "plt.figure(figsize=(12,4))\n",
    "ax = plt.gca()\n",
    "# the histogram of the data\n",
    "n, bins, patches = plt.hist(norm_conv_ae[0], 50, density=True, facecolor='b', alpha=0.50,label='Nominal')\n",
    "n, bins, patches = plt.hist(norm_conv_ae[1], 50, density=True, facecolor='r', alpha=0.50,label='Anomalous')\n",
    "\n",
    "ax.spines['right'].set_color('none')\n",
    "ax.spines['top'].set_color('none')\n",
    "ax.xaxis.set_ticks_position('bottom')\n",
    "ax.yaxis.set_ticks_position('left')\n",
    "\n",
    "plt.xlabel(r'\\textbf{Spindle Power (W)}')\n",
    "plt.ylabel(r'\\textbf{Probability}')\n",
    "ax.legend(ncol=num_col,loc=legend_loc,framealpha=float(not transparent)).get_frame().set_edgecolor('k')\n",
    "plt.grid(False)\n",
    "plt.savefig('figures/Spindle_Load_Anomalous_Compare.png',transparent=True)     \n",
    "plt.show()"
   ]
  },
  {
   "cell_type": "code",
   "execution_count": 103,
   "metadata": {},
   "outputs": [
    {
     "data": {
      "image/png": "[encoded data removed]",
      "text/plain": [
       "<Figure size 864x288 with 1 Axes>"
      ]
     },
     "metadata": {
      "needs_background": "light"
     },
     "output_type": "display_data"
    }
   ],
   "source": [
    "num_col = 2\n",
    "legend_loc = 'upper right'\n",
    "transparent = False\n",
    "\n",
    "plt.figure(figsize=(12,4))\n",
    "ax = plt.gca()\n",
    "# the histogram of the data\n",
    "n, bins, patches = plt.hist(norm_conv_ae[0], 50, density=True, facecolor='b', alpha=0.50,label='Nominal')\n",
    "n, bins, patches = plt.hist(norm_conv_ae[2], 50, density=True, facecolor='r', alpha=0.50,label='Anomalous')\n",
    "\n",
    "ax.spines['right'].set_color('none')\n",
    "ax.spines['top'].set_color('none')\n",
    "ax.xaxis.set_ticks_position('bottom')\n",
    "ax.yaxis.set_ticks_position('left')\n",
    "\n",
    "plt.xlabel(r'\\textbf{Spindle Power (W)}')\n",
    "plt.ylabel(r'\\textbf{Probability}')\n",
    "ax.legend(ncol=num_col,loc=legend_loc,framealpha=float(not transparent)).get_frame().set_edgecolor('k')\n",
    "plt.grid(False)\n",
    "plt.savefig('figures/Spindle_Load_Anomalous_Compare.png',transparent=True)     \n",
    "plt.show()"
   ]
  },
  {
   "cell_type": "code",
   "execution_count": 98,
   "metadata": {},
   "outputs": [
    {
     "data": {
      "image/png": "[encoded data removed]",
      "text/plain": [
       "<Figure size 864x288 with 1 Axes>"
      ]
     },
     "metadata": {
      "needs_background": "light"
     },
     "output_type": "display_data"
    }
   ],
   "source": [
    "num_col = 2\n",
    "legend_loc = 'upper right'\n",
    "transparent = False\n",
    "\n",
    "plt.figure(figsize=(12,4))\n",
    "ax = plt.gca()\n",
    "# the histogram of the data\n",
    "n, bins, patches = plt.hist(norm_conv_ae[0], 50, density=True, facecolor='b', alpha=0.50,label='Nominal')\n",
    "n, bins, patches = plt.hist(norm_conv_ae[3], 50, density=True, facecolor='r', alpha=0.50,label='Anomalous')\n",
    "\n",
    "ax.spines['right'].set_color('none')\n",
    "ax.spines['top'].set_color('none')\n",
    "ax.xaxis.set_ticks_position('bottom')\n",
    "ax.yaxis.set_ticks_position('left')\n",
    "\n",
    "plt.xlabel(r'\\textbf{Spindle Power (W)}')\n",
    "plt.ylabel(r'\\textbf{Probability}')\n",
    "ax.legend(ncol=num_col,loc=legend_loc,framealpha=float(not transparent)).get_frame().set_edgecolor('k')\n",
    "plt.grid(False)\n",
    "plt.savefig('figures/Spindle_Load_Anomalous_Compare.png',transparent=True)     \n",
    "plt.show()"
   ]
  },
  {
   "cell_type": "code",
   "execution_count": null,
   "metadata": {},
   "outputs": [],
   "source": []
  }
 ],
 "metadata": {
  "kernelspec": {
   "display_name": "Python 3",
   "language": "python",
   "name": "python3"
  },
  "language_info": {
   "codemirror_mode": {
    "name": "ipython",
    "version": 3
   },
   "file_extension": ".py",
   "mimetype": "text/x-python",
   "name": "python",
   "nbconvert_exporter": "python",
   "pygments_lexer": "ipython3",
   "version": "3.6.9"
  }
 },
 "nbformat": 4,
 "nbformat_minor": 4
}
