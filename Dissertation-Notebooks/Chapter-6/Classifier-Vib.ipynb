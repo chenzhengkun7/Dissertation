{
 "cells": [
  {
   "cell_type": "markdown",
   "metadata": {},
   "source": [
    "Sampling at 20kHz\n",
    "\n",
    "Want to accurately capture signals as low as 20Hz\n",
    "\n",
    "Input Size - 1024 Points\n",
    "\n"
   ]
  },
  {
   "cell_type": "code",
   "execution_count": 22,
   "metadata": {},
   "outputs": [],
   "source": [
    "import numpy as np\n",
    "\n",
    "import tensorflow as tf\n",
    "from tensorflow.keras import backend as K\n",
    "import tensorflow.keras as keras\n",
    "from keras.legacy import interfaces\n",
    "\n",
    "import tensorflow.keras as keras\n",
    "from tensorflow.keras.layers import Dense, Conv1D, UpSampling1D, MaxPooling1D, AveragePooling1D\n",
    "from tensorflow.keras.layers import Input, Dense, Reshape, Flatten, Dropout\n",
    "from tensorflow.keras.models import Sequential, Model\n",
    "\n",
    "from ML_Train.Custom_Layers import Dropout_Live\n",
    "import tflite_runtime.interpreter as tflite\n",
    "\n",
    "from matplotlib import pyplot as plt\n",
    "plt.rcParams['figure.figsize'] = (15, 4)\n",
    "\n",
    "from sklearn.metrics import confusion_matrix\n",
    "\n",
    "from scipy.stats import probplot\n",
    "from scipy.stats import normaltest\n",
    "\n",
    "\n",
    "from scipy import signal\n",
    "\n",
    "import os\n",
    "import pandas as pd\n",
    "from ML_Train.DBQuerier import DBQuerier as Querier\n",
    "from sklearn.model_selection import train_test_split\n",
    "from crawlab_toolbox import plotting as genplt\n",
    "\n",
    "\n",
    "gpus= tf.config.experimental.list_physical_devices('GPU')\n",
    "tf.config.experimental.set_memory_growth(gpus[0], True)\n",
    "\n",
    "\n",
    "\n",
    "%matplotlib inline\n",
    "import matplotlib as mpl\n",
    "import matplotlib.pyplot as plt\n",
    "mpl.rc('axes', labelsize=14)\n",
    "mpl.rc('xtick', labelsize=12)\n",
    "mpl.rc('ytick', labelsize=12)"
   ]
  },
  {
   "cell_type": "code",
   "execution_count": 55,
   "metadata": {},
   "outputs": [],
   "source": [
    "b,a = signal.butter(2, 700, btype='low', analog=False, output='ba', fs=20e3)"
   ]
  },
  {
   "cell_type": "code",
   "execution_count": 56,
   "metadata": {},
   "outputs": [
    {
     "name": "stdout",
     "output_type": "stream",
     "text": [
      "(156, 2)\n"
     ]
    }
   ],
   "source": [
    "dataPoints = 4096\n",
    "divisor = 4\n",
    "\n",
    "trainDF = pd.read_csv('Experiment-3-Data/Vib_train_pruned.csv')\n",
    "testDF = pd.read_csv('Experiment-3-Data/Vib_test_pruned.csv')\n",
    "\n",
    "X_train = trainDF.loc[:, trainDF.columns != 'dateTime'].values.astype(np.float32)\n",
    "X_test = testDF.loc[:, testDF.columns != 'dateTime'].values.astype(np.float32)\n",
    "Y_train = np.loadtxt('Experiment-3-Data/Y_train_pruned.txt',delimiter=',')\n",
    "Y_test = np.loadtxt('Experiment-3-Data/Y_test_pruned.txt',delimiter=',')\n",
    "\n",
    "first_good_train = np.argwhere(Y_train[:,0] == 0).flatten()[0]\n",
    "first_good_test = np.argwhere(Y_test[:,0] == 0).flatten()[0]\n",
    "\n",
    "\n",
    "\n",
    "X_train_healthy = X_train[first_good_train:,:dataPoints]\n",
    "X_valid_healthy = X_test[first_good_test:,:dataPoints]\n",
    "X_train_unhealthy = X_train[:first_good_train,:dataPoints]\n",
    "X_valid_unhealthy = X_test[:first_good_test,:dataPoints]\n",
    "\n",
    "Y_train_healthy = Y_train[first_good_train:,:]\n",
    "Y_valid_healthy = Y_test[first_good_test:,:]\n",
    "Y_train_unhealthy = Y_train[:first_good_train,:]\n",
    "Y_valid_unhealthy = Y_test[:first_good_test,:]\n",
    "\n",
    "print(Y_train_unhealthy.shape)\n",
    "\n",
    "X_train_healthy = X_train_healthy.reshape(X_train_healthy.shape[0] * 4,int(X_train_healthy.shape[1] / 4))\n",
    "X_valid_healthy = X_valid_healthy.reshape(X_valid_healthy.shape[0] * 4,int(X_valid_healthy.shape[1] / 4))\n",
    "X_train_unhealthy = X_train_unhealthy.reshape(X_train_unhealthy.shape[0] * 4,int(X_train_unhealthy.shape[1] / 4))\n",
    "X_valid_unhealthy = X_valid_unhealthy.reshape(X_valid_unhealthy.shape[0] * 4,int(X_valid_unhealthy.shape[1] / 4))\n",
    "\n",
    "X_train_healthy = signal.lfilter(b, a, X_train_healthy)\n",
    "X_train_unhealthy = signal.lfilter(b, a, X_train_unhealthy)\n",
    "X_valid_healthy = signal.lfilter(b, a, X_valid_healthy)\n",
    "X_valid_unhealthy = signal.lfilter(b, a, X_valid_unhealthy)\n",
    "\n",
    "\n",
    "Y_train_healthy = np.tile(np.array([[1]]),(X_train_healthy.shape[0],1))\n",
    "Y_valid_healthy = np.tile(np.array([[1]]),(X_valid_healthy.shape[0],1))\n",
    "Y_train_unhealthy = np.tile(np.array([[0]]),(X_train_unhealthy.shape[0],1))\n",
    "Y_valid_unhealthy = np.tile(np.array([[0]]),(X_valid_unhealthy.shape[0],1))\n",
    "\n",
    "XY_train_healthy = np.hstack((X_train_healthy,Y_train_healthy))\n",
    "XY_valid_healthy = np.hstack((X_valid_healthy,Y_valid_healthy))\n",
    "XY_train_unhealthy = np.hstack((X_train_unhealthy,Y_train_unhealthy))\n",
    "XY_valid_unhealthy = np.hstack((X_valid_unhealthy,Y_valid_unhealthy))\n",
    "\n",
    "XY_train = np.vstack((XY_train_healthy,XY_train_unhealthy))\n",
    "XY_valid = np.vstack((XY_valid_healthy,XY_valid_unhealthy))\n",
    "\n",
    "np.random.shuffle(XY_train)\n",
    "np.random.shuffle(XY_valid)\n",
    "\n",
    "X_train = XY_train[:,:-1]\n",
    "Y_train = XY_train[:,-1]\n",
    "\n",
    "\n",
    "\n",
    "X_valid = XY_valid[:,:-1]\n",
    "Y_valid = XY_valid[:,-1]\n",
    "\n",
    "\n",
    "X_train = (X_train + 2.5) / 5\n",
    "X_valid = (X_valid + 2.5) / 5"
   ]
  },
  {
   "cell_type": "code",
   "execution_count": 57,
   "metadata": {},
   "outputs": [
    {
     "data": {
      "text/plain": [
       "array([0.5006066 , 0.50131238, 0.49956962, ..., 0.49525082, 0.50465155,\n",
       "       0.51786772])"
      ]
     },
     "execution_count": 57,
     "metadata": {},
     "output_type": "execute_result"
    }
   ],
   "source": [
    "X_train[0,:]"
   ]
  },
  {
   "cell_type": "code",
   "execution_count": 58,
   "metadata": {},
   "outputs": [],
   "source": [
    "import numpy as np\n",
    "import tensorflow as tf\n",
    "\n",
    "from tensorflow.keras import backend as K\n",
    "import tensorflow.keras as keras\n",
    "from tensorflow.keras.layers import Dense, Conv1D, UpSampling1D, MaxPooling1D, AveragePooling1D\n",
    "from tensorflow.keras.layers import Input, Dense, Reshape, Flatten, Dropout, concatenate\n",
    "from tensorflow.keras.layers import BatchNormalization\n",
    "from tensorflow.keras.models import Sequential, Model\n",
    "\n",
    "from ML_Train.Custom_Layers import Dropout_Live, Sampling\n",
    "\n",
    "def build_classifier(\n",
    "                   filters, \n",
    "                   kernels, \n",
    "                   strides,\n",
    "                   dilation_rates,\n",
    "                   input_shape,\n",
    "                   dense_nodes,\n",
    "                   classes,\n",
    "                   ):\n",
    "    inputs = Input(shape=input_shape)\n",
    "    x = inputs\n",
    "    \n",
    "    for i in range(len(filters)):\n",
    "        x = Conv1D(filters=filters[i], \n",
    "                           kernel_size=kernels[i], \n",
    "                           strides=strides[i], \n",
    "                           activation='relu', \n",
    "                           padding='same',\n",
    "                           dilation_rate=dilation_rates[i])(x)\n",
    "        x = BatchNormalization()(x)\n",
    "        x = Dropout(0.5)(x)\n",
    "        x = MaxPooling1D(2)(x)\n",
    "    \n",
    "    x = Flatten()(x)\n",
    "    \n",
    "    for i in range(len(dense_nodes)):\n",
    "        x = Dense(dense_nodes[i],activation='relu')(x)\n",
    "        \n",
    "    x = Dense(classes,activation='softmax')(x)\n",
    "    \n",
    "    cnn_classifier = Model(\n",
    "                            inputs=[inputs],\n",
    "                            outputs=[x])\n",
    "    \n",
    "    return cnn_classifier\n",
    "\n",
    "def create_classifier(param_dict):\n",
    "    filters = param_dict[\"filters\"]\n",
    "    kernels = param_dict[\"kernels\"]\n",
    "    strides = param_dict[\"strides\"]\n",
    "    dilation_rates = param_dict[\"dilation_rates\"]\n",
    "    input_shape = tuple(param_dict[\"input_shape\"])\n",
    "    dense_nodes = param_dict[\"dense_nodes\"]\n",
    "    classes = param_dict[\"classes\"]\n",
    "    \n",
    "    classifier = build_classifier(filters,kernels,strides,dilation_rates,input_shape,dense_nodes,classes)\n",
    " \n",
    "    return classifier\n",
    "\n",
    "def build_classifier_from_encoder(param_dict,encoder):\n",
    "    filters = param_dict[\"filters\"]\n",
    "    kernels = param_dict[\"kernels\"]\n",
    "    strides = param_dict[\"strides\"]\n",
    "    dilation_rates = param_dict[\"dilation_rates\"]\n",
    "    input_shape = tuple(param_dict[\"input_shape\"])\n",
    "    dense_nodes = param_dict[\"dense_nodes\"]\n",
    "    classes = param_dict[\"classes\"]\n",
    "\n",
    "    inputs = Input(shape=input_shape)\n",
    "    x = inputs\n",
    "    \n",
    "    x = encoder(x)\n",
    "    x = Flatten()(x)\n",
    "    \n",
    "    for i in range(len(dense_nodes)):\n",
    "        x = Dense(dense_nodes[i],activation='relu')(x)\n",
    "        \n",
    "    x = Dense(classes,activation='softmax')(x)\n",
    "    \n",
    "    cnn_classifier = Model(\n",
    "                            inputs=[inputs],\n",
    "                            outputs=[x])\n",
    "    \n",
    "    return cnn_classifier"
   ]
  },
  {
   "cell_type": "code",
   "execution_count": 59,
   "metadata": {},
   "outputs": [],
   "source": [
    "def normalize_scores(scores,log_prob=False):\n",
    "\n",
    "    flat = np.array([])\n",
    "    for i in range(len(scores)):\n",
    "        flat = np.append(flat,scores[i])\n",
    "    \n",
    "    max_val = np.amax(flat)\n",
    "    \n",
    "    if log_prob:\n",
    "        scores = [np.log(np.abs(scores[i] - 1.1 * max_val)) for i in range(len(scores))]\n",
    "    \n",
    "\n",
    "    norm_mean = np.mean(scores[0])\n",
    "    norm_std = np.std(scores[0])\n",
    "    \n",
    "    scores = [(scores[i] - norm_mean) / norm_std for i in range(len(scores))]\n",
    "    \n",
    "    [print(normaltest(scores[i])) for i in range(len(scores))]\n",
    "    [print(np.std(scores[i]), np.mean(scores[i])) for i in range(len(scores))]\n",
    "    \n",
    "    return scores\n",
    "\n",
    "import numpy as np\n",
    "\n",
    "from tensorflow.keras.layers import Dense, Conv1D, UpSampling1D, MaxPooling1D, AveragePooling1D\n",
    "from tensorflow.keras.layers import Input, Dense, Reshape, Flatten, Dropout\n",
    "from tensorflow.keras.layers import BatchNormalization\n",
    "from tensorflow.keras.models import Sequential, Model\n",
    "\n",
    "from ML_Train.Custom_Layers import Dropout_Live\n",
    "\n",
    "def create_encoder(\n",
    "                   filters, \n",
    "                   kernels, \n",
    "                   strides,\n",
    "                   dilation_rates,\n",
    "                   input_shape\n",
    "                   ):\n",
    "    \n",
    "    encoder = Sequential()\n",
    "    \n",
    "    for i in range(len(filters)):\n",
    "        if i == 0:\n",
    "            encoder.add(Conv1D(filters=filters[i], \n",
    "                               kernel_size=kernels[i], \n",
    "                               strides=strides[i], \n",
    "                               activation='relu', \n",
    "                               padding='same',\n",
    "                               dilation_rate=dilation_rates[i],\n",
    "                               input_shape=input_shape))\n",
    "        else:\n",
    "            encoder.add(Conv1D(filters=filters[i], \n",
    "                               kernel_size=kernels[i], \n",
    "                               strides=strides[i], \n",
    "                               activation='relu', \n",
    "                               padding='same',\n",
    "                               dilation_rate=dilation_rates[i]))\n",
    "#         encoder.add(BatchNormalization())\n",
    "        encoder.add(Dropout(0.3))\n",
    "        encoder.add(MaxPooling1D(2))\n",
    "        \n",
    "    return encoder\n",
    "\n",
    "def create_decoder(\n",
    "                   filters,\n",
    "                   kernels,\n",
    "                   strides,\n",
    "                   dilation_rates,\n",
    "                   ):\n",
    "    \n",
    "    decoder = Sequential()\n",
    "    \n",
    "    filters.reverse()\n",
    "    kernels.reverse()\n",
    "    strides.reverse()\n",
    "    dilation_rates.reverse()\n",
    "    \n",
    "    decoder.add(UpSampling1D(2))\n",
    "    \n",
    "    for i in range(1,len(filters)):\n",
    "        decoder.add(Conv1D(filters=filters[i], \n",
    "                           kernel_size=kernels[i], \n",
    "                           strides=strides[i], \n",
    "                           activation='relu', \n",
    "                           padding='same',\n",
    "                           dilation_rate=dilation_rates[i]))\n",
    "#         decoder.add(Dropout(0.5))\n",
    "        decoder.add(UpSampling1D(2))\n",
    "    \n",
    "    #decoder.add(Dropout_Live(0.5))\n",
    "    decoder.add(Conv1D(1, 3, 1, activation='sigmoid', padding='same'))\n",
    "    \n",
    "    return decoder\n",
    "    \n",
    "def create_autoencoder(param_dict):\n",
    "    filters = param_dict[\"filters\"]\n",
    "    kernels = param_dict[\"kernels\"]\n",
    "    strides = param_dict[\"strides\"]\n",
    "    dilation_rates = param_dict[\"dilation_rates\"]\n",
    "    input_shape = tuple(param_dict[\"input_shape\"])\n",
    "        \n",
    "    encoder = create_encoder(filters,kernels,strides,dilation_rates,input_shape)\n",
    "    decoder = create_decoder(filters,kernels,strides,dilation_rates)\n",
    "    \n",
    "    stacked_ae = Sequential([encoder, decoder])\n",
    "\n",
    "    return stacked_ae,encoder,decoder\n",
    "    "
   ]
  },
  {
   "cell_type": "code",
   "execution_count": 60,
   "metadata": {},
   "outputs": [
    {
     "name": "stdout",
     "output_type": "stream",
     "text": [
      "Train on 1224 samples, validate on 604 samples\n",
      "Epoch 1/5\n",
      "1224/1224 [==============================] - 3s 2ms/sample - loss: 0.0022 - val_loss: 0.0020\n",
      "Epoch 2/5\n",
      "1224/1224 [==============================] - 1s 872us/sample - loss: 0.0013 - val_loss: 0.0025\n",
      "Epoch 3/5\n",
      "1224/1224 [==============================] - 1s 886us/sample - loss: 8.2716e-04 - val_loss: 0.0025\n",
      "Epoch 4/5\n",
      "1224/1224 [==============================] - 1s 904us/sample - loss: 6.6634e-04 - val_loss: 0.0018\n",
      "Epoch 5/5\n",
      "1224/1224 [==============================] - 1s 891us/sample - loss: 5.7853e-04 - val_loss: 0.0013\n"
     ]
    }
   ],
   "source": [
    "if os.path.isfile('data/CNN-AE.h5'):\n",
    "    from tensorflow.keras.models import load_model\n",
    "    model = load_model('data/CNN-AE.h5')\n",
    "    print(model.summary())\n",
    "else:\n",
    "    filters=[8,8,8]\n",
    "    kernels = [3,5,7]\n",
    "    strides=[1,1,1,1,1,1]\n",
    "    dilation_rates=[1,1,1,1,1,1]\n",
    "    input_shape = [1024,1]\n",
    "\n",
    "    param_dict = {\n",
    "        \"filters\":filters,\n",
    "        \"kernels\":kernels,\n",
    "        \"strides\":strides,\n",
    "        \"dilation_rates\":dilation_rates,\n",
    "        \"input_shape\":input_shape,\n",
    "    }\n",
    "\n",
    "    model,encoder,decoder = create_autoencoder(param_dict)\n",
    "\n",
    "    model.compile(loss='mean_squared_error',optimizer='adam')\n",
    "    history = model.fit(X_train[...,np.newaxis],X_train[...,np.newaxis],\n",
    "                        epochs=5,batch_size=16,\n",
    "#                         validation_split=0.2,\n",
    "                        verbose=1,\n",
    "                        validation_data=[X_valid[...,np.newaxis],X_valid[...,np.newaxis]]\n",
    "                       )\n",
    "    \n",
    "    autoencoder = model\n",
    "    "
   ]
  },
  {
   "cell_type": "code",
   "execution_count": 62,
   "metadata": {},
   "outputs": [
    {
     "name": "stdout",
     "output_type": "stream",
     "text": [
      "Train on 1224 samples, validate on 604 samples\n",
      "Epoch 1/10\n",
      "1224/1224 [==============================] - 1s 689us/sample - loss: 0.6664 - accuracy: 0.5817 - val_loss: 0.6866 - val_accuracy: 0.5927\n",
      "Epoch 2/10\n",
      "1224/1224 [==============================] - 1s 413us/sample - loss: 0.6122 - accuracy: 0.6528 - val_loss: 0.8384 - val_accuracy: 0.5695\n",
      "Epoch 3/10\n",
      "1224/1224 [==============================] - 0s 407us/sample - loss: 0.5259 - accuracy: 0.7296 - val_loss: 0.7909 - val_accuracy: 0.5811\n",
      "Epoch 4/10\n",
      "1224/1224 [==============================] - 1s 413us/sample - loss: 0.5214 - accuracy: 0.7263 - val_loss: 0.7352 - val_accuracy: 0.5728\n",
      "Epoch 5/10\n",
      "1224/1224 [==============================] - 1s 416us/sample - loss: 0.4459 - accuracy: 0.7974 - val_loss: 0.9429 - val_accuracy: 0.5728\n",
      "Epoch 6/10\n",
      "1224/1224 [==============================] - 0s 406us/sample - loss: 0.3703 - accuracy: 0.8317 - val_loss: 0.8636 - val_accuracy: 0.5762\n",
      "Epoch 7/10\n",
      "1224/1224 [==============================] - 0s 408us/sample - loss: 0.3245 - accuracy: 0.8391 - val_loss: 0.8043 - val_accuracy: 0.5960\n",
      "Epoch 8/10\n",
      "1224/1224 [==============================] - 1s 411us/sample - loss: 0.2437 - accuracy: 0.8946 - val_loss: 0.7512 - val_accuracy: 0.6573\n",
      "Epoch 9/10\n",
      "1224/1224 [==============================] - 1s 409us/sample - loss: 0.2219 - accuracy: 0.9028 - val_loss: 0.8946 - val_accuracy: 0.6060\n",
      "Epoch 10/10\n",
      "1224/1224 [==============================] - 1s 415us/sample - loss: 0.1990 - accuracy: 0.9109 - val_loss: 0.9395 - val_accuracy: 0.6242\n",
      "Model: \"model_15\"\n",
      "_________________________________________________________________\n",
      "Layer (type)                 Output Shape              Param #   \n",
      "=================================================================\n",
      "input_16 (InputLayer)        [(None, 1024, 1)]         0         \n",
      "_________________________________________________________________\n",
      "sequential_18 (Sequential)   (None, 128, 8)            816       \n",
      "_________________________________________________________________\n",
      "flatten_15 (Flatten)         (None, 1024)              0         \n",
      "_________________________________________________________________\n",
      "dense_50 (Dense)             (None, 512)               524800    \n",
      "_________________________________________________________________\n",
      "dense_51 (Dense)             (None, 64)                32832     \n",
      "_________________________________________________________________\n",
      "dense_52 (Dense)             (None, 2)                 130       \n",
      "=================================================================\n",
      "Total params: 558,578\n",
      "Trainable params: 558,578\n",
      "Non-trainable params: 0\n",
      "_________________________________________________________________\n",
      "None\n"
     ]
    }
   ],
   "source": [
    "train = True\n",
    "if not train:\n",
    "# if os.path.isfile('../../Models/MLP-Classifier/Full/CNN-MLP.h5'):\n",
    "    from tensorflow.keras.models import load_model\n",
    "    model = load_model('../../Models/MLP-Classifier/Full/CNN-MLP.h5')\n",
    "    print(model.summary())\n",
    "else:\n",
    "\n",
    "    filters=[16,16,16]\n",
    "    kernels = [3,5,7]\n",
    "    strides=[1,1,1,1,1,1]\n",
    "    dilation_rates=[1,1,1,1,1,1]\n",
    "    input_shape = [1024,1]\n",
    "    dense_nodes = [512,64]\n",
    "    codings_size = 2\n",
    "\n",
    "    param_dict = {\n",
    "        \"filters\":filters,\n",
    "        \"kernels\":kernels,\n",
    "        \"strides\":strides,\n",
    "        \"dilation_rates\":dilation_rates,\n",
    "        \"input_shape\":input_shape,\n",
    "        \"dense_nodes\":dense_nodes,\n",
    "        \"classes\":2\n",
    "    }\n",
    "    # model,encoder,decoder = create_vae(param_dict)\n",
    "    # model = create_classifier(param_dict)\n",
    "    num_classes = 2\n",
    "    model = build_classifier_from_encoder(param_dict,encoder)\n",
    "    model.compile(loss='categorical_crossentropy', \n",
    "              optimizer='adam',metrics=['accuracy'])\n",
    "    history = model.fit(X_train[...,np.newaxis],np.hstack((np.abs(Y_train[...,np.newaxis] - 1),Y_train[...,np.newaxis])),\n",
    "                        epochs=10,batch_size=8,\n",
    "#                         validation_split=0.2,\n",
    "                        verbose=1,\n",
    "                      validation_data=(X_valid[...,np.newaxis],np.hstack((np.abs(Y_valid[...,np.newaxis] - 1),Y_valid[...,np.newaxis]))),\n",
    "                       )\n",
    "    \n",
    "    print(model.summary())\n",
    "    \n",
    "    model.save('../../Models/MLP-Classifier/Full/CNN-MLP.h5',save_format='tf')\n",
    "\n",
    "converter = tf.lite.TFLiteConverter.from_keras_model(model)\n",
    "tflite_model = converter.convert()\n",
    "\n",
    "open(os.path.join('../../Models/MLP-Classifier/Lite', 'CNN-MLP.tflite',),\n",
    "     \"wb\").write(tflite_model)\n",
    "\n",
    "Y_cnn_valid_pred = model.predict(X_valid[...,np.newaxis])\n",
    "Y_cnn_train_pred = model.predict(X_train[...,np.newaxis])\n",
    "\n"
   ]
  },
  {
   "cell_type": "code",
   "execution_count": 63,
   "metadata": {},
   "outputs": [
    {
     "data": {
      "text/plain": [
       "array([[0.54165316, 0.45834687],\n",
       "       [0.24008064, 0.75991935],\n",
       "       [0.01379876, 0.9862012 ],\n",
       "       ...,\n",
       "       [0.03617511, 0.9638249 ],\n",
       "       [0.5836057 , 0.41639426],\n",
       "       [0.45695907, 0.54304093]], dtype=float32)"
      ]
     },
     "execution_count": 63,
     "metadata": {},
     "output_type": "execute_result"
    }
   ],
   "source": [
    "model.predict(X_valid[...,np.newaxis])"
   ]
  },
  {
   "cell_type": "code",
   "execution_count": 64,
   "metadata": {},
   "outputs": [
    {
     "data": {
      "text/plain": [
       "[<matplotlib.lines.Line2D at 0x7fbd36e643c8>]"
      ]
     },
     "execution_count": 64,
     "metadata": {},
     "output_type": "execute_result"
    },
    {
     "data": {
      "image/png": "[encoded data removed]",
      "text/plain": [
       "<Figure size 432x288 with 1 Axes>"
      ]
     },
     "metadata": {
      "needs_background": "light"
     },
     "output_type": "display_data"
    }
   ],
   "source": [
    "# X_conv_ae.append(np.squeeze(model.predict(X[i][...,np.newaxis])))\n",
    "# mse_conv_ae.append(keras.metrics.mean_squared_error(X_conv_ae[i],X[i]))\n",
    "\n",
    "plt.plot(np.squeeze(autoencoder.predict(X_train[0:1,:,np.newaxis]))[:64])\n",
    "plt.plot(X_train[0:1,:64].T)"
   ]
  },
  {
   "cell_type": "code",
   "execution_count": 65,
   "metadata": {},
   "outputs": [
    {
     "name": "stdout",
     "output_type": "stream",
     "text": [
      "[[ 73 187]\n",
      " [ 40 304]]\n",
      "0.6241721854304636\n",
      "[[418 206]\n",
      " [  0 600]]\n",
      "0.8316993464052288\n"
     ]
    }
   ],
   "source": [
    "Y_cnn_train_pred = np.argmax(Y_cnn_train_pred,axis=1)\n",
    "Y_cnn_valid_pred = np.argmax(Y_cnn_valid_pred,axis=1)\n",
    "\n",
    "conf_matrix_cnn_valid = confusion_matrix(Y_valid, Y_cnn_valid_pred)\n",
    "accuracy_cnn_valid = np.sum(np.diagonal(conf_matrix_cnn_valid)) / np.sum(conf_matrix_cnn_valid)\n",
    "print(conf_matrix_cnn_valid)\n",
    "print(accuracy_cnn_valid)\n",
    "\n",
    "conf_matrix_cnn_train = confusion_matrix(Y_train, Y_cnn_train_pred)\n",
    "accuracy_cnn_train = np.sum(np.diagonal(conf_matrix_cnn_train)) / np.sum(conf_matrix_cnn_train)\n",
    "print(conf_matrix_cnn_train)\n",
    "print(accuracy_cnn_train)"
   ]
  },
  {
   "cell_type": "code",
   "execution_count": 26,
   "metadata": {},
   "outputs": [
    {
     "name": "stderr",
     "output_type": "stream",
     "text": [
      "No handles with labels found to put in legend.\n"
     ]
    },
    {
     "data": {
      "image/png": "[encoded data removed]",
      "text/plain": [
       "<Figure size 432x288 with 1 Axes>"
      ]
     },
     "metadata": {
      "needs_background": "light"
     },
     "output_type": "display_data"
    },
    {
     "name": "stderr",
     "output_type": "stream",
     "text": [
      "No handles with labels found to put in legend.\n"
     ]
    },
    {
     "data": {
      "image/png": "[encoded data removed]",
      "text/plain": [
       "<Figure size 432x288 with 1 Axes>"
      ]
     },
     "metadata": {
      "needs_background": "light"
     },
     "output_type": "display_data"
    }
   ],
   "source": [
    "genplt.plot_histogram(model.predict(X_valid_unhealthy[...,np.newaxis])[:,1],[''],\n",
    "               'Probability Unhealthy',\n",
    "               'Probability Density',\n",
    "               'cnn_mlp_predict_unhealthy',\n",
    "               template='publication',\n",
    "               legend_loc='upper right',\n",
    "               nbins=50,\n",
    "               ymax=0.0,\n",
    "               num_col=1)\n",
    "\n",
    "genplt.plot_histogram(model.predict(X_valid_healthy[...,np.newaxis])[:,0],[''],\n",
    "               'Probability Healthy',\n",
    "               'Probability Density',\n",
    "               'cnn_mlp_predict_healthy',\n",
    "               template='publication',\n",
    "               legend_loc='upper right',\n",
    "               ymax=0.0,\n",
    "               nbins=50,\n",
    "               num_col=1)"
   ]
  }
 ],
 "metadata": {
  "kernelspec": {
   "display_name": "Python 3",
   "language": "python",
   "name": "python3"
  },
  "language_info": {
   "codemirror_mode": {
    "name": "ipython",
    "version": 3
   },
   "file_extension": ".py",
   "mimetype": "text/x-python",
   "name": "python",
   "nbconvert_exporter": "python",
   "pygments_lexer": "ipython3",
   "version": "3.6.9"
  }
 },
 "nbformat": 4,
 "nbformat_minor": 4
}
