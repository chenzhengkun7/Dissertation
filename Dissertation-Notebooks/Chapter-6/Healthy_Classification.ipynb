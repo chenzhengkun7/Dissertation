{
 "cells": [
  {
   "cell_type": "code",
   "execution_count": 21,
   "metadata": {},
   "outputs": [],
   "source": [
    "\n",
    "import os\n",
    "import pandas as pd\n",
    "from sklearn.model_selection import train_test_split\n",
    "from sklearn.decomposition import PCA\n",
    "from sklearn.decomposition import KernelPCA\n",
    "import numpy as np\n",
    "\n",
    "from matplotlib import pyplot as plt\n",
    "from crawlab_toolbox import plotting as genplt\n",
    "from sklearn.pipeline import Pipeline\n",
    "\n",
    "import tensorflow.keras as keras\n",
    "import tensorflow as tf\n",
    "\n",
    "from sklearn.mixture import GaussianMixture\n",
    "from sklearn.metrics import precision_recall_fscore_support\n",
    "\n",
    "from sklearn.preprocessing import OrdinalEncoder\n",
    "from sklearn.neural_network import MLPClassifier\n",
    "from sklearn.svm import OneClassSVM\n",
    "from sklearn.naive_bayes import GaussianNB\n",
    "from sklearn.metrics import confusion_matrix\n",
    "\n",
    "\n",
    "import matplotlib.colors as colors\n",
    "\n",
    "from scipy import signal\n",
    "\n",
    "from scipy.stats import probplot\n",
    "from scipy.stats import normaltest\n",
    "\n",
    "\n",
    "from joblib import dump, load\n",
    "\n",
    "from ML_Train.Vanilla_AE import create_vanilla_ae\n",
    "from ML_Train.Variational_AE import create_autoencoder as create_conv_vae\n",
    "from ML_Train.Convolutional_AE import create_autoencoder as create_conv_ae\n",
    "from ML_Train.Variational_Vanilla_AE import create_autoencoder as create_vanilla_vae\n",
    "from ML_Train.CNN_Classifier import create_autoencoder as create_hybrid_cnn_ae\n",
    "from ML_Train.CNN_Classifier import  build_classifier_from_vae, create_vae, create_classifier\n",
    "# mse = keras.metrics.mean_squared_error(all_outputs,input_data)"
   ]
  },
  {
   "cell_type": "code",
   "execution_count": 22,
   "metadata": {},
   "outputs": [],
   "source": [
    "keras.backend.clear_session()\n",
    "gpus= tf.config.experimental.list_physical_devices('GPU')\n",
    "tf.config.experimental.set_memory_growth(gpus[0], True)\n"
   ]
  },
  {
   "cell_type": "code",
   "execution_count": 23,
   "metadata": {},
   "outputs": [],
   "source": [
    "def fft_from_vib(values):\n",
    "    _,amps = signal.welch(values, fs=20e3, nperseg=4096, scaling='spectrum')\n",
    "    amps /= 0.01\n",
    "#     lin_amps = lin_log_interp(amps)\n",
    "    return amps\n",
    "\n",
    "\n",
    "def lin_log_interp(fft_features):\n",
    "    '''\n",
    "    Scale the fft features from the logarithmic axis to be approximately on \n",
    "    the interval from 0 to 1\n",
    "    '''\n",
    "    \n",
    "    # Minimum exponent we expect to see in the data\n",
    "    minimum = -12\n",
    "    \n",
    "    # Maximum exponent we expect to see\n",
    "    maximum = 0\n",
    "    \n",
    "    # Number of points to use for interpolation\n",
    "    numpoints = 1000\n",
    "    \n",
    "    # Map the logarithmic x-axis to a linear y-axis\n",
    "    x = np.logspace(minimum,maximum,numpoints)\n",
    "    y = np.linspace(0,1,numpoints)\n",
    "\n",
    "    # Return the interpolated valuess\n",
    "    return np.interp(np.log10(fft_features),np.log10(x),y)"
   ]
  },
  {
   "cell_type": "code",
   "execution_count": 24,
   "metadata": {},
   "outputs": [],
   "source": [
    "\n",
    "DoE_test = np.loadtxt('Experiment-3-Data/DoE_test_pruned.txt',delimiter=',')\n",
    "DoE_train = np.loadtxt('Experiment-3-Data/DoE_train_pruned.txt',delimiter=',')"
   ]
  },
  {
   "cell_type": "code",
   "execution_count": 25,
   "metadata": {},
   "outputs": [
    {
     "name": "stdout",
     "output_type": "stream",
     "text": [
      "[  1.   2.   3.   4.   5.   6.   7.   9.  10.  11.  12.  15.  16.  17.\n",
      "  18.  19.  20.  23.  24.  25.  26.  27.  28.  29.  30.  31.  32.  33.\n",
      "  35.  36.  37.  38.  39.  40.  41.  43.  44.  45.  46.  47.  48.  49.\n",
      "  50.  51.  52.  53.  56.  57.  58.  59.  60.  61.  62.  65.  66.  67.\n",
      "  68.  69.  70.  71.  72.  75.  76.  77.  78.  81.  82.  83.  96.  97.\n",
      "  98.  99. 101. 102. 103. 104. 105. 106. 107. 108. 110. 111. 112. 113.\n",
      " 115. 116. 117. 118. 119. 120. 121. 122. 123. 124. 125. 127. 128. 129.\n",
      " 130. 131. 132. 134. 135. 136. 137. 138. 139. 140. 141. 142. 143. 144.\n",
      " 146. 147. 148. 149. 150. 151. 152. 153. 154. 155. 156. 158. 159. 160.\n",
      " 161. 162. 163. 164. 165. 166. 167. 168. 169. 170. 171. 172. 173. 174.\n",
      " 175. 176. 177. 178. 179. 180. 181. 182. 183. 184. 185.]\n"
     ]
    }
   ],
   "source": [
    "samples_train = np.loadtxt('Experiment-3-Data/Samples_train.txt',delimiter=',')\n",
    "samples_test = np.loadtxt('Experiment-3-Data/Samples_test.txt',delimiter=',')\n",
    "args_test = np.loadtxt('Experiment-3-Data/Pruned_args_test.txt',delimiter=',')\n",
    "print(args_test)"
   ]
  },
  {
   "cell_type": "code",
   "execution_count": 26,
   "metadata": {},
   "outputs": [
    {
     "data": {
      "text/plain": [
       "array([ 61.,  61.,  61.,  62.,  62.,  62.,  62.,  62.,  62.,  62.,  62.,\n",
       "        62.,  62.,  62.,  62.,  62.,  62.,  62.,  62.,  62.,  62.,  63.,\n",
       "        63.,  63.,  63.,  63.,  63.,  63.,  63.,  63.,  63.,  63.,  64.,\n",
       "        64.,  64.,  64.,  64.,  64.,  65.,  65.,  65.,  65.,  65.,  65.,\n",
       "        65.,  66.,  66.,  67.,  67.,  67.,  67.,  67.,  67.,  67.,  67.,\n",
       "        67.,  67.,  67.,  67.,  68.,  68.,  68.,  69.,  69.,  69.,  69.,\n",
       "        69.,  69.,  69.,  69.,  69.,  69.,  69.,  69.,  69.,  69.,  69.,\n",
       "        69.,  69.,  70.,  70.,  70.,  70.,  70.,  70.,  70.,  71.,  71.,\n",
       "        71.,  71.,  71.,  71.,  72.,  72.,  72.,  72.,  73.,  73.,  73.,\n",
       "        73.,  73.,  73.,  73.,  73.,  74.,  74.,  74.,  74.,  74.,  74.,\n",
       "        74.,  74.,  75.,  75.,  75.,  75.,  75.,  75.,  76.,  76.,  76.,\n",
       "        76.,  76.,  76.,  76.,  76.,  76.,  76.,  76.,  76.,  76.,  76.,\n",
       "        77.,  77.,  77.,  77.,  77.,  78.,  78.,  78.,  78.,  79.,  79.,\n",
       "        79.,  79.,  79.,  79.,  79.,  80.,  80.,  80.,  80.,  80.,  80.,\n",
       "        80.,  80.,  91.,  91.,  91.,  91.,  91.,  91.,  91.,  91.,  91.,\n",
       "        91.,  91.,  92.,  92.,  92.,  92.,  92.,  92.,  93.,  93.,  93.,\n",
       "        93.,  93.,  93.,  94.,  94.,  94.,  94.,  94.,  95.,  95.,  95.,\n",
       "        95.,  95.,  95.,  96.,  96.,  96.,  96.,  96.,  96.,  96.,  96.,\n",
       "        96.,  96.,  96.,  96.,  96.,  96.,  96.,  96.,  96.,  97.,  97.,\n",
       "        97.,  97.,  97.,  97.,  97.,  97.,  97.,  97.,  97.,  97.,  98.,\n",
       "        98.,  98.,  98.,  98.,  98.,  98.,  98.,  98.,  98.,  98.,  98.,\n",
       "        98.,  98.,  98.,  98.,  98.,  99.,  99.,  99.,  99.,  99., 100.,\n",
       "       100., 101., 101., 101., 101., 101., 101., 102., 102., 102., 102.,\n",
       "       102., 102., 103., 103., 103., 103., 103., 103., 104., 104., 104.,\n",
       "       104., 104., 104., 104., 105., 105., 105., 105., 105., 105., 105.,\n",
       "       106., 106., 106., 106., 107., 107., 107., 107., 107., 107., 107.,\n",
       "       107., 108., 108., 108., 108., 108., 108., 109., 109., 109., 109.,\n",
       "       109., 109., 109., 109., 109., 109., 109., 109., 109., 110., 110.,\n",
       "       110., 110., 110., 110.])"
      ]
     },
     "execution_count": 26,
     "metadata": {},
     "output_type": "execute_result"
    }
   ],
   "source": [
    "samples_train"
   ]
  },
  {
   "cell_type": "code",
   "execution_count": 27,
   "metadata": {},
   "outputs": [
    {
     "name": "stdout",
     "output_type": "stream",
     "text": [
      "(151, 4200)\n"
     ]
    }
   ],
   "source": [
    "max_fft = 128\n",
    "DoE_shape = 3\n",
    "\n",
    "trainDF = pd.read_csv('Experiment-3-Data/Vib_train_pruned.csv')\n",
    "testDF = pd.read_csv('Experiment-3-Data/Vib_test_pruned.csv')\n",
    "\n",
    "X_train = trainDF.loc[:, trainDF.columns != 'dateTime'].values.astype(np.float32)\n",
    "X_test = testDF.loc[:, testDF.columns != 'dateTime'].values.astype(np.float32)\n",
    "Y_train = np.loadtxt('Experiment-3-Data/Y_train_pruned.txt',delimiter=',')\n",
    "Y_test = np.loadtxt('Experiment-3-Data/Y_test_pruned.txt',delimiter=',')\n",
    "\n",
    "print(X_test.shape)\n",
    "\n",
    "first_good_train = np.argwhere(Y_train[:,0] == 0).flatten()[0]\n",
    "first_good_test = np.argwhere(Y_test[:,0] == 0).flatten()[0]\n",
    "\n",
    "X_train_original = fft_from_vib(X_train[:,:-1])[:,1:max_fft+1]\n",
    "X_test_original = fft_from_vib(X_test[:,:-1])[:,1:max_fft+1]\n",
    "\n",
    "X_train_original = np.hstack((X_train_original,DoE_train))\n",
    "X_test_original = np.hstack((X_test_original,DoE_test))\n",
    "\n",
    "\n",
    "X_train_healthy = X_train_original[first_good_train:,:]\n",
    "X_valid_healthy = X_test_original[first_good_test:,:]\n",
    "X_train_unhealthy = X_train_original[:first_good_train,:]\n",
    "X_valid_unhealthy = X_test_original[:first_good_test,:]\n",
    "\n",
    "\n",
    "Y_train_healthy = np.tile(np.array([[1]]),(X_train_healthy.shape[0],1))\n",
    "Y_valid_healthy = np.tile(np.array([[1]]),(X_valid_healthy.shape[0],1))\n",
    "Y_train_unhealthy = np.tile(np.array([[0]]),(X_train_unhealthy.shape[0],1))\n",
    "Y_valid_unhealthy = np.tile(np.array([[0]]),(X_valid_unhealthy.shape[0],1))\n",
    "\n",
    "XY_train_healthy = np.hstack((X_train_healthy,Y_train_healthy))\n",
    "XY_valid_healthy = np.hstack((X_valid_healthy,Y_valid_healthy))\n",
    "XY_train_unhealthy = np.hstack((X_train_unhealthy,Y_train_unhealthy))\n",
    "XY_valid_unhealthy = np.hstack((X_valid_unhealthy,Y_valid_unhealthy))\n",
    "\n",
    "XY_train = np.vstack((XY_train_healthy,XY_train_unhealthy))\n",
    "XY_valid = np.vstack((XY_valid_healthy,XY_valid_unhealthy))\n",
    "\n",
    "np.random.shuffle(XY_train)\n",
    "np.random.shuffle(XY_valid)\n",
    "\n",
    "X_train = XY_train[:,:max_fft + DoE_shape]\n",
    "Y_train = XY_train[:,-1]\n",
    "\n",
    "X_valid = XY_valid[:,:max_fft + DoE_shape]\n",
    "Y_valid = XY_valid[:,-1]\n",
    "\n",
    "\n",
    "\n",
    "columns = ['Healthy Train','Healthy Valid','Unhealthy Train','Unhealthy Valid']\n"
   ]
  },
  {
   "cell_type": "code",
   "execution_count": 28,
   "metadata": {},
   "outputs": [
    {
     "data": {
      "text/plain": [
       "(306,)"
      ]
     },
     "execution_count": 28,
     "metadata": {},
     "output_type": "execute_result"
    }
   ],
   "source": [
    "Y_train.shape"
   ]
  },
  {
   "cell_type": "code",
   "execution_count": 29,
   "metadata": {},
   "outputs": [],
   "source": [
    "def plot_confusion_matrix(y_true,y_pred,\n",
    "                          labels,\n",
    "                          filename='confusion_matrix'):\n",
    "    \n",
    "    predict_label = labels\n",
    "    true_label = labels.copy()\n",
    "    \n",
    "    \n",
    "    predict_label.insert(0, '')\n",
    "\n",
    "    conf_matrix = np.round(confusion_matrix(y_true, y_pred) / y_pred.shape[0],2)\n",
    "    \n",
    "    true_positive = conf_matrix[0,0]\n",
    "    true_negative = conf_matrix[1,1]\n",
    "    false_positive = conf_matrix[0,1]\n",
    "    false_negative = conf_matrix[1,0]\n",
    "    \n",
    "    true_positive_rate = true_positive / (true_positive + false_negative)\n",
    "    true_negative_rate = true_negative / (true_negative + false_positive)\n",
    "    \n",
    "    balanced_accuracy = (true_positive_rate + true_negative_rate) / 2\n",
    "\n",
    "    fig = plt.figure()\n",
    "    ax = plt.gca()\n",
    "    im = ax.matshow(conf_matrix,cmap='gray',norm=colors.Normalize(vmin=0.,vmax=.5))\n",
    "\n",
    "    # We want to show all ticks...\n",
    "    ax.set_xticks(np.arange(len(true_label)))\n",
    "    # ... and label them with the respective list entries\n",
    "    ax.set_xticklabels(true_label)\n",
    "    ax.set_yticklabels(predict_label)\n",
    "\n",
    "    ax.xaxis.tick_top()\n",
    "    ax.xaxis.set_label_position('top') \n",
    "    xlabel = 'Actual State'\n",
    "    ylabel = 'Predicted State'\n",
    "    xlabelpad = 5\n",
    "\n",
    "    plt.xlabel(r'\\textbf{' + xlabel + '}', labelpad=xlabelpad)\n",
    "    plt.ylabel(r'\\textbf{' + ylabel + '}', labelpad=5)\n",
    "\n",
    "    # Loop over data dimensions and create text annotations.\n",
    "    for i in range(len(predict_label)-1):\n",
    "        for j in range(len(true_label)):\n",
    "            text_color = 'w'\n",
    "            if conf_matrix[i,j] > 0.25:\n",
    "                text_color = 'k'\n",
    "            text = ax.text(j, i, r'\\textbf{' + str(conf_matrix[i, j]) + '}',fontsize=22,\n",
    "                           ha=\"center\", va=\"center\", color=text_color)\n",
    "\n",
    "    cbar = plt.colorbar(im)\n",
    "    cbar.set_label(r'\\textbf{Occurrence Fraction}', rotation=270,labelpad=20)\n",
    "    plt.tight_layout()\n",
    "    plt.savefig('figures/' + filename + '.png',transparent=True)  \n",
    "    plt.show()\n",
    "    \n",
    "    return balanced_accuracy, true_positive_rate, true_negative_rate"
   ]
  },
  {
   "cell_type": "code",
   "execution_count": 30,
   "metadata": {},
   "outputs": [
    {
     "name": "stdout",
     "output_type": "stream",
     "text": [
      "0.48366013071895425 0.543046357615894\n",
      "0.48366013071895425 0.543046357615894\n",
      "0.4803921568627451 0.543046357615894\n",
      "0.4411764705882353 0.31125827814569534\n",
      "0.6209150326797386 0.3841059602649007\n",
      "0.5392156862745098 0.33774834437086093\n",
      "0.5261437908496732 0.304635761589404\n",
      "0.6568627450980392 0.4966887417218543\n",
      "0.7777777777777778 0.41721854304635764\n",
      "0.8071895424836601 0.7152317880794702\n",
      "0.7810457516339869 0.7880794701986755\n",
      "0.6993464052287581 0.7483443708609272\n",
      "0.7156862745098039 0.7152317880794702\n",
      "0.7124183006535948 0.7350993377483444\n",
      "0.7189542483660131 0.7152317880794702\n",
      "0.7189542483660131 0.6490066225165563\n",
      "0.7156862745098039 0.6423841059602649\n",
      "0.7222222222222222 0.6688741721854304\n",
      "0.7287581699346405 0.5629139072847682\n",
      "0.7516339869281046 0.5960264900662252\n",
      "0.7287581699346405 0.609271523178808\n",
      "0.7222222222222222 0.6026490066225165\n",
      "0.7287581699346405 0.4900662251655629\n",
      "0.7189542483660131 0.5231788079470199\n",
      "0.7320261437908496 0.5364238410596026\n",
      "0.7352941176470589 0.5298013245033113\n",
      "0.7222222222222222 0.5364238410596026\n",
      "0.7222222222222222 0.5298013245033113\n",
      "0.7189542483660131 0.5496688741721855\n",
      "0.7124183006535948 0.5629139072847682\n",
      "0.7156862745098039 0.5960264900662252\n",
      "0.7091503267973857 0.5827814569536424\n",
      "0.7091503267973857 0.5894039735099338\n",
      "0.6928104575163399 0.5827814569536424\n",
      "0.6764705882352942 0.5827814569536424\n",
      "0.6797385620915033 0.5827814569536424\n",
      "0.6764705882352942 0.5827814569536424\n",
      "0.6666666666666666 0.5761589403973509\n",
      "0.6699346405228758 0.5827814569536424\n",
      "0.6699346405228758 0.5827814569536424\n",
      "0.673202614379085 0.5827814569536424\n",
      "0.6797385620915033 0.5827814569536424\n",
      "0.6764705882352942 0.5827814569536424\n",
      "0.6764705882352942 0.5827814569536424\n",
      "0.673202614379085 0.5827814569536424\n",
      "0.673202614379085 0.5827814569536424\n",
      "0.6666666666666666 0.5827814569536424\n",
      "0.6699346405228758 0.5827814569536424\n",
      "0.673202614379085 0.5827814569536424\n",
      "0.6699346405228758 0.6490066225165563\n",
      "0.6699346405228758 0.6490066225165563\n",
      "0.6666666666666666 0.6490066225165563\n",
      "0.6633986928104575 0.6490066225165563\n",
      "0.673202614379085 0.6490066225165563\n",
      "0.6862745098039216 0.48344370860927155\n",
      "0.6862745098039216 0.3973509933774834\n",
      "0.7058823529411765 0.4370860927152318\n",
      "0.6993464052287581 0.4370860927152318\n",
      "0.696078431372549 0.44370860927152317\n",
      "0.6993464052287581 0.4768211920529801\n",
      "0.7124183006535948 0.4966887417218543\n",
      "0.7222222222222222 0.4966887417218543\n"
     ]
    }
   ],
   "source": [
    "for i in range(2,64):\n",
    "    \n",
    "    estimators = [('reduce_dim', PCA(n_components=i)), ('gnb', GaussianNB())]\n",
    "#     estimators = [('reduce_dim', PCA(n_components=i)), ('rand_forest', RandomForestClassifier(max_depth=5, n_estimators=10, max_features=1))]\n",
    "#     estimators = [('reduce_dim', PCA(n_components=i)), ('svc', SVC(gamma=2, C=1))]\n",
    "\n",
    "    # estimators = [('reduce_dim', KernelPCA(n_components=32,kernel='rbf')), ('gmm', GaussianMixture())]\n",
    "\n",
    "    pipe = Pipeline(estimators)\n",
    "    pipe.fit(X_train,Y_train)\n",
    "\n",
    "    Y_valid_pred = pipe.predict(X_valid)\n",
    "    conf_matrix_valid = confusion_matrix(Y_valid, Y_valid_pred)\n",
    "    accuracy_valid = np.sum(np.diagonal(conf_matrix_valid)) / np.sum(conf_matrix_valid)\n",
    "#     print(conf_matrix_valid)\n",
    "#     print(accuracy_valid)\n",
    "\n",
    "    Y_train_pred = pipe.predict(X_train)\n",
    "    conf_matrix_train = confusion_matrix(Y_train, Y_train_pred)\n",
    "    accuracy_train = np.sum(np.diagonal(conf_matrix_train)) / np.sum(conf_matrix_train)\n",
    "#     print(conf_matrix_train)\n",
    "    print(accuracy_train,accuracy_valid)"
   ]
  },
  {
   "cell_type": "code",
   "execution_count": 31,
   "metadata": {},
   "outputs": [
    {
     "name": "stdout",
     "output_type": "stream",
     "text": [
      "[[49 16]\n",
      " [16 70]]\n",
      "0.7880794701986755\n",
      "[[ 97  59]\n",
      " [  8 142]]\n",
      "0.7810457516339869\n"
     ]
    },
    {
     "data": {
      "text/plain": [
       "['data/pca_gnb.joblib']"
      ]
     },
     "execution_count": 31,
     "metadata": {},
     "output_type": "execute_result"
    }
   ],
   "source": [
    "estimators = [('reduce_dim', PCA(n_components=12)), ('gnb', GaussianNB())]\n",
    "# estimators = [('reduce_dim', KernelPCA(n_components=32,kernel='rbf')), ('gmm', GaussianMixture())]\n",
    "\n",
    "pipe = Pipeline(estimators)\n",
    "pipe.fit(X_train,Y_train)\n",
    "\n",
    "Y_valid_pred = pipe.predict(X_valid)\n",
    "conf_matrix_valid = confusion_matrix(Y_valid, Y_valid_pred)\n",
    "accuracy_valid = np.sum(np.diagonal(conf_matrix_valid)) / np.sum(conf_matrix_valid)\n",
    "print(conf_matrix_valid)\n",
    "print(accuracy_valid)\n",
    "\n",
    "Y_train_pred = pipe.predict(X_train)\n",
    "conf_matrix_train = confusion_matrix(Y_train, Y_train_pred)\n",
    "accuracy_train = np.sum(np.diagonal(conf_matrix_train)) / np.sum(conf_matrix_train)\n",
    "print(conf_matrix_train)\n",
    "print(accuracy_train)\n",
    "\n",
    "dump(pipe, 'data/pca_gnb.joblib') "
   ]
  },
  {
   "cell_type": "code",
   "execution_count": 32,
   "metadata": {},
   "outputs": [
    {
     "data": {
      "text/plain": [
       "156"
      ]
     },
     "execution_count": 32,
     "metadata": {},
     "output_type": "execute_result"
    }
   ],
   "source": [
    "samples_test.shape\n",
    "X_test_original.shape\n",
    "first_good_train"
   ]
  },
  {
   "cell_type": "code",
   "execution_count": 33,
   "metadata": {},
   "outputs": [
    {
     "data": {
      "text/plain": [
       "[<matplotlib.lines.Line2D at 0x7f31b1707cc0>]"
      ]
     },
     "execution_count": 33,
     "metadata": {},
     "output_type": "execute_result"
    },
    {
     "data": {
      "image/png": "[encoded data removed]",
      "text/plain": [
       "<Figure size 432x288 with 1 Axes>"
      ]
     },
     "metadata": {
      "needs_background": "light"
     },
     "output_type": "display_data"
    }
   ],
   "source": [
    "plt.plot(pipe.predict_proba(X_train_original)[:,0])"
   ]
  },
  {
   "cell_type": "code",
   "execution_count": 34,
   "metadata": {},
   "outputs": [
    {
     "name": "stderr",
     "output_type": "stream",
     "text": [
      "No handles with labels found to put in legend.\n"
     ]
    },
    {
     "data": {
      "image/png": "[encoded data removed]",
      "text/plain": [
       "<Figure size 432x288 with 1 Axes>"
      ]
     },
     "metadata": {
      "needs_background": "light"
     },
     "output_type": "display_data"
    },
    {
     "data": {
      "image/png": "[encoded data removed]",
      "text/plain": [
       "<Figure size 432x288 with 2 Axes>"
      ]
     },
     "metadata": {
      "needs_background": "light"
     },
     "output_type": "display_data"
    },
    {
     "data": {
      "image/png": "[encoded data removed]",
      "text/plain": [
       "<Figure size 432x288 with 2 Axes>"
      ]
     },
     "metadata": {
      "needs_background": "light"
     },
     "output_type": "display_data"
    },
    {
     "name": "stderr",
     "output_type": "stream",
     "text": [
      "No handles with labels found to put in legend.\n"
     ]
    },
    {
     "data": {
      "image/png": "[encoded data removed]",
      "text/plain": [
       "<Figure size 432x288 with 1 Axes>"
      ]
     },
     "metadata": {
      "needs_background": "light"
     },
     "output_type": "display_data"
    },
    {
     "name": "stdout",
     "output_type": "stream",
     "text": [
      "(0.810989010989011, 0.9142857142857144, 0.7076923076923077)\n",
      "(0.7756017951856384, 0.7441860465116279, 0.8070175438596491)\n"
     ]
    }
   ],
   "source": [
    "pipe.predict_proba(X_train_healthy)[:,0]\n",
    "\n",
    "responses= np.vstack((\n",
    "                       pipe.predict_proba(X_valid_healthy)[:,0]))\n",
    "genplt.plot_histogram(responses,[''],\n",
    "               'Probability Healthy',\n",
    "               'Probability Density',\n",
    "               'pca_gnb_predict_healthy',\n",
    "               template='publication',\n",
    "               legend_loc='upper left',\n",
    "               ymax=0.0,\n",
    "               num_col=1,\n",
    "               nbins=50)\n",
    "\n",
    "balanced_train_accuracy = plot_confusion_matrix(Y_train,Y_train_pred,\n",
    "                      [r'\\textbf{Healthy}',r'\\textbf{Unhealthy}'],\n",
    "                      'pca_gnb_confmatrix_train'\n",
    "                       )\n",
    "\n",
    "balanced_valid_accuracy = plot_confusion_matrix(Y_valid,Y_valid_pred,\n",
    "                      [r'\\textbf{Healthy}',r'\\textbf{Unhealthy}'],\n",
    "                      'pca_gnb_confmatrix_valid'\n",
    "                       )\n",
    "\n",
    "responses= np.vstack((\n",
    "                       pipe.predict_proba(X_valid_unhealthy)[:,1]))\n",
    "genplt.plot_histogram(responses,[''],\n",
    "               'Probability Unhealthy',\n",
    "               'Probability Density',\n",
    "               'pca_gnb_predict_unhealthy',\n",
    "               template='publication',\n",
    "               legend_loc='upper left',\n",
    "               ymax=0.0,\n",
    "               num_col=1,\n",
    "               nbins=50)\n",
    "\n",
    "print(balanced_train_accuracy)\n",
    "print(balanced_valid_accuracy)"
   ]
  },
  {
   "cell_type": "code",
   "execution_count": 22,
   "metadata": {},
   "outputs": [],
   "source": [
    "def normalize_scores(scores,log_prob=False):\n",
    "    \n",
    "    if log_prob:\n",
    "        scores = np.log(np.abs(scores - 1.1 * np.amax(scores)))\n",
    "    \n",
    "    norm_mean = np.mean(scores[:,0])\n",
    "    norm_std = np.std(scores[:,0])\n",
    "    \n",
    "    scores = (scores - norm_mean) / norm_std\n",
    "    \n",
    "    [print(normaltest(scores[:,i])) for i in range(scores.shape[1])]\n",
    "    [print(np.std(scores[:,i]), np.mean(scores[:,i])) for i in range(scores.shape[1])]\n",
    "    \n",
    "    return scores"
   ]
  },
  {
   "cell_type": "code",
   "execution_count": 23,
   "metadata": {},
   "outputs": [],
   "source": [
    "import numpy as np\n",
    "import tensorflow as tf\n",
    "\n",
    "from tensorflow.keras import backend as K\n",
    "import tensorflow.keras as keras\n",
    "from tensorflow.keras.layers import Dense, Conv1D, UpSampling1D, MaxPooling1D, AveragePooling1D\n",
    "from tensorflow.keras.layers import Input, Dense, Reshape, Flatten, Dropout, concatenate\n",
    "from tensorflow.keras.layers import BatchNormalization\n",
    "from tensorflow.keras.models import Sequential, Model\n",
    "\n",
    "from ML_Train.Custom_Layers import Dropout_Live, Sampling\n",
    "\n",
    "def build_classifier(\n",
    "                   filters, \n",
    "                   kernels, \n",
    "                   strides,\n",
    "                   dilation_rates,\n",
    "                   input_shape,\n",
    "                   dense_nodes,\n",
    "                   classes,\n",
    "                   ):\n",
    "    inputs = Input(shape=input_shape)\n",
    "    x = inputs\n",
    "    \n",
    "    for i in range(len(filters)):\n",
    "        x = Conv1D(filters=filters[i], \n",
    "                           kernel_size=kernels[i], \n",
    "                           strides=strides[i], \n",
    "                           activation='relu', \n",
    "                           padding='same',\n",
    "                           dilation_rate=dilation_rates[i])(x)\n",
    "        x = BatchNormalization()(x)\n",
    "        x = Dropout(0.5)(x)\n",
    "        x = MaxPooling1D(2)(x)\n",
    "    \n",
    "    x = Flatten()(x)\n",
    "    \n",
    "    for i in range(len(dense_nodes)):\n",
    "        x = Dense(dense_nodes[i],activation='relu')(x)\n",
    "        \n",
    "    x = Dense(classes,activation='softmax')(x)\n",
    "    \n",
    "    cnn_classifier = Model(\n",
    "                            inputs=[inputs],\n",
    "                            outputs=[x])\n",
    "    \n",
    "    return cnn_classifier\n",
    "\n",
    "def create_classifier(param_dict):\n",
    "    filters = param_dict[\"filters\"]\n",
    "    kernels = param_dict[\"kernels\"]\n",
    "    strides = param_dict[\"strides\"]\n",
    "    dilation_rates = param_dict[\"dilation_rates\"]\n",
    "    input_shape = tuple(param_dict[\"input_shape\"])\n",
    "    dense_nodes = param_dict[\"dense_nodes\"]\n",
    "    classes = param_dict[\"classes\"]\n",
    "    \n",
    "    classifier = build_classifier(filters,kernels,strides,dilation_rates,input_shape,dense_nodes,classes)\n",
    " \n",
    "    return classifier\n",
    "        "
   ]
  },
  {
   "cell_type": "code",
   "execution_count": 25,
   "metadata": {},
   "outputs": [
    {
     "name": "stdout",
     "output_type": "stream",
     "text": [
      "Train on 306 samples, validate on 151 samples\n",
      "Epoch 1/10\n",
      "306/306 [==============================] - 2s 5ms/sample - loss: 0.8064 - accuracy: 0.5850 - val_loss: 0.7128 - val_accuracy: 0.4570\n",
      "Epoch 2/10\n",
      "306/306 [==============================] - 0s 671us/sample - loss: 0.7872 - accuracy: 0.5523 - val_loss: 0.7478 - val_accuracy: 0.4305\n",
      "Epoch 3/10\n",
      "306/306 [==============================] - 0s 643us/sample - loss: 0.7832 - accuracy: 0.5359 - val_loss: 0.7556 - val_accuracy: 0.4305\n",
      "Epoch 4/10\n",
      "306/306 [==============================] - 0s 681us/sample - loss: 0.7056 - accuracy: 0.5719 - val_loss: 0.7556 - val_accuracy: 0.4305\n",
      "Epoch 5/10\n",
      "306/306 [==============================] - 0s 676us/sample - loss: 0.7406 - accuracy: 0.5719 - val_loss: 0.7643 - val_accuracy: 0.4305\n",
      "Epoch 6/10\n",
      "306/306 [==============================] - 0s 679us/sample - loss: 0.7081 - accuracy: 0.5784 - val_loss: 0.7765 - val_accuracy: 0.4305\n",
      "Epoch 7/10\n",
      "306/306 [==============================] - 0s 685us/sample - loss: 0.7632 - accuracy: 0.6013 - val_loss: 0.7751 - val_accuracy: 0.4238\n",
      "Epoch 8/10\n",
      "306/306 [==============================] - 0s 717us/sample - loss: 0.6828 - accuracy: 0.6209 - val_loss: 0.7596 - val_accuracy: 0.4238\n",
      "Epoch 9/10\n",
      "306/306 [==============================] - 0s 679us/sample - loss: 0.6584 - accuracy: 0.5948 - val_loss: 0.7662 - val_accuracy: 0.4503\n",
      "Epoch 10/10\n",
      "306/306 [==============================] - 0s 656us/sample - loss: 0.6579 - accuracy: 0.5621 - val_loss: 0.7963 - val_accuracy: 0.4702\n",
      "Model: \"model_1\"\n",
      "_________________________________________________________________\n",
      "Layer (type)                 Output Shape              Param #   \n",
      "=================================================================\n",
      "input_5 (InputLayer)         [(None, 128, 1)]          0         \n",
      "_________________________________________________________________\n",
      "conv1d_3 (Conv1D)            (None, 128, 8)            32        \n",
      "_________________________________________________________________\n",
      "batch_normalization_3 (Batch (None, 128, 8)            32        \n",
      "_________________________________________________________________\n",
      "dropout_3 (Dropout)          (None, 128, 8)            0         \n",
      "_________________________________________________________________\n",
      "max_pooling1d_3 (MaxPooling1 (None, 64, 8)             0         \n",
      "_________________________________________________________________\n",
      "conv1d_4 (Conv1D)            (None, 64, 8)             200       \n",
      "_________________________________________________________________\n",
      "batch_normalization_4 (Batch (None, 64, 8)             32        \n",
      "_________________________________________________________________\n",
      "dropout_4 (Dropout)          (None, 64, 8)             0         \n",
      "_________________________________________________________________\n",
      "max_pooling1d_4 (MaxPooling1 (None, 32, 8)             0         \n",
      "_________________________________________________________________\n",
      "conv1d_5 (Conv1D)            (None, 32, 8)             200       \n",
      "_________________________________________________________________\n",
      "batch_normalization_5 (Batch (None, 32, 8)             32        \n",
      "_________________________________________________________________\n",
      "dropout_5 (Dropout)          (None, 32, 8)             0         \n",
      "_________________________________________________________________\n",
      "max_pooling1d_5 (MaxPooling1 (None, 16, 8)             0         \n",
      "_________________________________________________________________\n",
      "flatten_4 (Flatten)          (None, 128)               0         \n",
      "_________________________________________________________________\n",
      "dense_15 (Dense)             (None, 64)                8256      \n",
      "_________________________________________________________________\n",
      "dense_16 (Dense)             (None, 32)                2080      \n",
      "_________________________________________________________________\n",
      "dense_17 (Dense)             (None, 2)                 66        \n",
      "=================================================================\n",
      "Total params: 10,930\n",
      "Trainable params: 10,882\n",
      "Non-trainable params: 48\n",
      "_________________________________________________________________\n",
      "None\n"
     ]
    }
   ],
   "source": [
    "train = True\n",
    "if not train:\n",
    "# if os.path.isfile('../../Models/MLP-Classifier/Full/CNN-MLP.h5'):\n",
    "    from tensorflow.keras.models import load_model\n",
    "    model = load_model('../../Models/MLP-Classifier/Full/CNN-MLP.h5')\n",
    "    print(model.summary())\n",
    "else:\n",
    "\n",
    "    filters=[8,8,8]\n",
    "    kernels = [3,3,3]\n",
    "    strides=[1,1,1,1,1]\n",
    "    dilation_rates=[1,1,1,1,1]\n",
    "    input_shape = [128,1]\n",
    "    dense_nodes = [64,32]\n",
    "    codings_size = 2\n",
    "\n",
    "    param_dict = {\n",
    "        \"filters\":filters,\n",
    "        \"kernels\":kernels,\n",
    "        \"strides\":strides,\n",
    "        \"dilation_rates\":dilation_rates,\n",
    "        \"input_shape\":input_shape,\n",
    "        \"dense_nodes\":dense_nodes,\n",
    "        \"classes\":2\n",
    "    }\n",
    "    # model,encoder,decoder = create_vae(param_dict)\n",
    "    # model = create_classifier(param_dict)\n",
    "    num_classes = 2\n",
    "    model = create_classifier(param_dict)\n",
    "    model.compile(loss='categorical_crossentropy', \n",
    "              optimizer='adam',metrics=['accuracy'])\n",
    "    loss = model.fit(\n",
    "                X_train[...,np.newaxis],np.hstack((np.abs(Y_train[...,np.newaxis] - 1),Y_train[...,np.newaxis])),\n",
    "#                 validation_split=0.2,\n",
    "                validation_data=(X_valid[...,np.newaxis],np.hstack((np.abs(Y_valid[...,np.newaxis] - 1),Y_valid[...,np.newaxis]))),\n",
    "                epochs=10,\n",
    "                batch_size=8,\n",
    "                verbose=1)\n",
    "    \n",
    "    print(model.summary())\n",
    "    \n",
    "    model.save('../../Models/MLP-Classifier/Full/CNN-MLP.h5',save_format='tf')\n",
    "\n",
    "converter = tf.lite.TFLiteConverter.from_keras_model(model)\n",
    "tflite_model = converter.convert()\n",
    "\n",
    "open(os.path.join('../../Models/MLP-Classifier/Lite', 'CNN-MLP.tflite',),\n",
    "     \"wb\").write(tflite_model)\n",
    "\n",
    "Y_cnn_valid_pred = model.predict(X_valid[...,np.newaxis])\n",
    "Y_cnn_train_pred = model.predict(X_train[...,np.newaxis])\n",
    "\n",
    "Y_cnn_train_pred = np.argmax(Y_cnn_train_pred,axis=1)\n",
    "Y_cnn_valid_pred = np.argmax(Y_cnn_valid_pred,axis=1)"
   ]
  },
  {
   "cell_type": "code",
   "execution_count": 26,
   "metadata": {},
   "outputs": [
    {
     "name": "stdout",
     "output_type": "stream",
     "text": [
      "[[63  2]\n",
      " [78  8]]\n",
      "0.47019867549668876\n",
      "[[155   1]\n",
      " [136  14]]\n",
      "0.5522875816993464\n"
     ]
    }
   ],
   "source": [
    "\n",
    "conf_matrix_cnn_valid = confusion_matrix(Y_valid, Y_cnn_valid_pred)\n",
    "accuracy_cnn_valid = np.sum(np.diagonal(conf_matrix_cnn_valid)) / np.sum(conf_matrix_cnn_valid)\n",
    "print(conf_matrix_cnn_valid)\n",
    "print(accuracy_cnn_valid)\n",
    "\n",
    "conf_matrix_cnn_train = confusion_matrix(Y_train, Y_cnn_train_pred)\n",
    "accuracy_cnn_train = np.sum(np.diagonal(conf_matrix_cnn_train)) / np.sum(conf_matrix_cnn_train)\n",
    "print(conf_matrix_cnn_train)\n",
    "print(accuracy_cnn_train)"
   ]
  },
  {
   "cell_type": "code",
   "execution_count": 27,
   "metadata": {},
   "outputs": [
    {
     "data": {
      "text/plain": [
       "array([[0.6336483 , 0.36635172],\n",
       "       [0.6326943 , 0.36730573],\n",
       "       [0.6314896 , 0.3685104 ],\n",
       "       [0.6310402 , 0.36895978],\n",
       "       [0.4571602 , 0.54283977],\n",
       "       [0.58288175, 0.41711828],\n",
       "       [0.5800243 , 0.4199757 ],\n",
       "       [0.5731855 , 0.4268145 ],\n",
       "       [0.5875875 , 0.41241255],\n",
       "       [0.59698737, 0.40301263],\n",
       "       [0.6100999 , 0.38990012],\n",
       "       [0.57471645, 0.42528355],\n",
       "       [0.5955524 , 0.40444762],\n",
       "       [0.59577185, 0.40422812],\n",
       "       [0.5826142 , 0.4173858 ],\n",
       "       [0.60107476, 0.39892527],\n",
       "       [0.5778803 , 0.4221197 ],\n",
       "       [0.61327314, 0.38672683],\n",
       "       [0.6120692 , 0.38793084],\n",
       "       [0.6197492 , 0.38025075],\n",
       "       [0.6157164 , 0.38428354],\n",
       "       [0.6191115 , 0.38088855],\n",
       "       [0.6019247 , 0.39807534],\n",
       "       [0.6088526 , 0.39114743],\n",
       "       [0.60619766, 0.39380231],\n",
       "       [0.596206  , 0.40379393],\n",
       "       [0.59647846, 0.40352157],\n",
       "       [0.65969515, 0.34030482],\n",
       "       [0.64796   , 0.35203996],\n",
       "       [0.6498389 , 0.35016114],\n",
       "       [0.6436479 , 0.35635212],\n",
       "       [0.6430369 , 0.35696307],\n",
       "       [0.6433644 , 0.35663557],\n",
       "       [0.6416029 , 0.35839713],\n",
       "       [0.64414877, 0.35585123],\n",
       "       [0.6408038 , 0.35919613],\n",
       "       [0.6483624 , 0.3516376 ],\n",
       "       [0.64417034, 0.3558297 ],\n",
       "       [0.64724535, 0.3527546 ],\n",
       "       [0.651998  , 0.34800202],\n",
       "       [0.643416  , 0.35658398],\n",
       "       [0.65354586, 0.34645414],\n",
       "       [0.6416158 , 0.35838422],\n",
       "       [0.64893734, 0.35106263],\n",
       "       [0.64121354, 0.35878643],\n",
       "       [0.6523235 , 0.34767652],\n",
       "       [0.17019905, 0.82980096],\n",
       "       [0.57301396, 0.42698604],\n",
       "       [0.5621916 , 0.43780836],\n",
       "       [0.55533946, 0.44466054],\n",
       "       [0.5554457 , 0.4445544 ],\n",
       "       [0.5627589 , 0.43724114],\n",
       "       [0.5721261 , 0.42787394],\n",
       "       [0.6269683 , 0.3730317 ],\n",
       "       [0.6199865 , 0.3800135 ],\n",
       "       [0.6270083 , 0.37299165],\n",
       "       [0.62341076, 0.37658927],\n",
       "       [0.62222993, 0.37777   ],\n",
       "       [0.61933327, 0.38066676],\n",
       "       [0.62091047, 0.37908953],\n",
       "       [0.6239639 , 0.3760361 ],\n",
       "       [0.6243384 , 0.37566158],\n",
       "       [0.6207407 , 0.3792593 ],\n",
       "       [0.6215443 , 0.37845567],\n",
       "       [0.62117326, 0.37882677]], dtype=float32)"
      ]
     },
     "execution_count": 27,
     "metadata": {},
     "output_type": "execute_result"
    }
   ],
   "source": [
    "model.predict(X_valid_unhealthy[...,np.newaxis])"
   ]
  },
  {
   "cell_type": "code",
   "execution_count": 28,
   "metadata": {},
   "outputs": [
    {
     "name": "stderr",
     "output_type": "stream",
     "text": [
      "No handles with labels found to put in legend.\n"
     ]
    },
    {
     "data": {
      "image/png": "[encoded data removed]",
      "text/plain": [
       "<Figure size 432x288 with 1 Axes>"
      ]
     },
     "metadata": {
      "needs_background": "light"
     },
     "output_type": "display_data"
    },
    {
     "name": "stderr",
     "output_type": "stream",
     "text": [
      "No handles with labels found to put in legend.\n"
     ]
    },
    {
     "data": {
      "image/png": "[encoded data removed]",
      "text/plain": [
       "<Figure size 432x288 with 1 Axes>"
      ]
     },
     "metadata": {
      "needs_background": "light"
     },
     "output_type": "display_data"
    },
    {
     "data": {
      "image/png": "[encoded data removed]",
      "text/plain": [
       "<Figure size 432x288 with 2 Axes>"
      ]
     },
     "metadata": {
      "needs_background": "light"
     },
     "output_type": "display_data"
    },
    {
     "data": {
      "image/png": "[encoded data removed]",
      "text/plain": [
       "<Figure size 432x288 with 2 Axes>"
      ]
     },
     "metadata": {
      "needs_background": "light"
     },
     "output_type": "display_data"
    },
    {
     "name": "stdout",
     "output_type": "stream",
     "text": [
      "(0.7684210526315789, 0.5368421052631579, 1.0)\n",
      "(0.6400709219858156, 0.4468085106382979, 0.8333333333333333)\n"
     ]
    }
   ],
   "source": [
    "genplt.plot_histogram(model.predict(X_valid_unhealthy[...,np.newaxis])[:,1],[''],\n",
    "               'Probability Unhealthy',\n",
    "               'Probability Density',\n",
    "               'cnn_mlp_predict_unhealthy',\n",
    "               template='publication',\n",
    "               legend_loc='upper right',\n",
    "               nbins=50,\n",
    "               ymax=0.0,\n",
    "               num_col=1)\n",
    "\n",
    "genplt.plot_histogram(model.predict(X_valid_healthy[...,np.newaxis])[:,0],[''],\n",
    "               'Probability Healthy',\n",
    "               'Probability Density',\n",
    "               'cnn_mlp_predict_healthy',\n",
    "               template='publication',\n",
    "               legend_loc='upper right',\n",
    "               ymax=0.0,\n",
    "               nbins=50,\n",
    "               num_col=1)\n",
    "\n",
    "balanced_train_accuracy = plot_confusion_matrix(Y_train,Y_cnn_train_pred,\n",
    "                      [r'\\textbf{Healthy}',r'\\textbf{Unhealthy}'],\n",
    "                      'cnn_mlp_confmatrix_train'\n",
    "                       )\n",
    "\n",
    "balanced_valid_accuracy = plot_confusion_matrix(Y_valid,Y_cnn_valid_pred,\n",
    "                      [r'\\textbf{Healthy}',r'\\textbf{Unhealthy}'],\n",
    "                      'cnn_mlp_confmatrix_valid'\n",
    "                       )\n",
    "print(balanced_train_accuracy)\n",
    "print(balanced_valid_accuracy)"
   ]
  },
  {
   "cell_type": "code",
   "execution_count": 29,
   "metadata": {},
   "outputs": [],
   "source": [
    "import numpy as np\n",
    "\n",
    "import tensorflow as tf\n",
    "\n",
    "import tensorflow.keras as keras\n",
    "from tensorflow.keras.layers import Dense, Conv1D, UpSampling1D, MaxPooling1D, AveragePooling1D\n",
    "from tensorflow.keras.layers import Input, Dense, Reshape, Flatten, Dropout\n",
    "from tensorflow.keras.models import Sequential, Model\n",
    "\n",
    "from ML_Train.Custom_Layers import Dropout_Live\n",
    "\n",
    "def create_mlp_classifier(\n",
    "                   hidden_nodes,\n",
    "                   input_shape,\n",
    "                   classes,\n",
    "                   ):\n",
    "    \n",
    "    mlp = Sequential()\n",
    "    mlp.add(Input(shape=input_shape))\n",
    "    mlp.add(Flatten())\n",
    "    \n",
    "    for i in range(len(hidden_nodes)):\n",
    "        if i == 0:\n",
    "            mlp.add(Dense(hidden_nodes[i], \n",
    "                              activation='selu'))\n",
    "        else:\n",
    "            mlp.add(Dense(hidden_nodes[i], activation='selu'))\n",
    "            \n",
    "    mlp.add(Dense(classes,activation='softmax'))\n",
    "        \n",
    "    return mlp"
   ]
  },
  {
   "cell_type": "code",
   "execution_count": 32,
   "metadata": {},
   "outputs": [
    {
     "name": "stdout",
     "output_type": "stream",
     "text": [
      "Train on 306 samples, validate on 151 samples\n",
      "Epoch 1/10\n",
      "306/306 [==============================] - 0s 872us/sample - loss: 0.6137 - accuracy: 0.7418 - val_loss: 0.7685 - val_accuracy: 0.5166\n",
      "Epoch 2/10\n",
      "306/306 [==============================] - 0s 290us/sample - loss: 0.4423 - accuracy: 0.8758 - val_loss: 0.9944 - val_accuracy: 0.4834\n",
      "Epoch 3/10\n",
      "306/306 [==============================] - 0s 282us/sample - loss: 0.3259 - accuracy: 0.8791 - val_loss: 1.2269 - val_accuracy: 0.5298\n",
      "Epoch 4/10\n",
      "306/306 [==============================] - 0s 286us/sample - loss: 0.2432 - accuracy: 0.9314 - val_loss: 1.5543 - val_accuracy: 0.4901\n",
      "Epoch 5/10\n",
      "306/306 [==============================] - 0s 274us/sample - loss: 0.1951 - accuracy: 0.9444 - val_loss: 1.8212 - val_accuracy: 0.5695\n",
      "Epoch 6/10\n",
      "306/306 [==============================] - 0s 284us/sample - loss: 0.1505 - accuracy: 0.9771 - val_loss: 2.0702 - val_accuracy: 0.5960\n",
      "Epoch 7/10\n",
      "306/306 [==============================] - 0s 283us/sample - loss: 0.1149 - accuracy: 0.9902 - val_loss: 2.3796 - val_accuracy: 0.6623\n",
      "Epoch 8/10\n",
      "306/306 [==============================] - 0s 274us/sample - loss: 0.0909 - accuracy: 0.9902 - val_loss: 2.7199 - val_accuracy: 0.5695\n",
      "Epoch 9/10\n",
      "306/306 [==============================] - 0s 296us/sample - loss: 0.0746 - accuracy: 0.9967 - val_loss: 2.9933 - val_accuracy: 0.6093\n",
      "Epoch 10/10\n",
      "306/306 [==============================] - 0s 285us/sample - loss: 0.0603 - accuracy: 1.0000 - val_loss: 3.2446 - val_accuracy: 0.6424\n"
     ]
    }
   ],
   "source": [
    "\n",
    "if not train:\n",
    "# if os.path.isfile('../../Models/MLP-Classifier/Full/MLP.h5'):\n",
    "    from tensorflow.keras.models import load_model\n",
    "    model = load_model('../../Models/MLP-Classifier/Full/MLP.h5')\n",
    "    print(model.summary())\n",
    "else:\n",
    "    input_shape = [128]\n",
    "    dense_nodes = [64,32]\n",
    "\n",
    "    # model,encoder,decoder = create_vae(param_dict)\n",
    "    # model = create_classifier(param_dict)\n",
    "    num_classes = 2\n",
    "\n",
    "    model = create_mlp_classifier(dense_nodes,input_shape,num_classes)\n",
    "\n",
    "\n",
    "    model.compile(loss='categorical_crossentropy', \n",
    "              optimizer='adam',metrics=['accuracy'])\n",
    "    loss = model.fit(\n",
    "                X_train,np.hstack((np.abs(Y_train[...,np.newaxis] - 1),Y_train[...,np.newaxis])),\n",
    "#                 validation_split=0.2,\n",
    "                validation_data=(X_valid,np.hstack((np.abs(Y_valid[...,np.newaxis] - 1),Y_valid[...,np.newaxis]))),\n",
    "                epochs=10,\n",
    "                batch_size=8,\n",
    "                verbose=1)\n",
    "\n",
    "    model.save('../../Models/MLP-Classifier/Full/MLP.h5',save_format='tf')\n",
    "\n",
    "\n",
    "    \n",
    "Y_mlp_valid_pred = model.predict(X_valid)\n",
    "Y_mlp_train_pred = model.predict(X_train)\n",
    "\n",
    "Y_mlp_train_pred = np.argmax(Y_mlp_train_pred,axis=1)\n",
    "Y_mlp_valid_pred = np.argmax(Y_mlp_valid_pred,axis=1)"
   ]
  },
  {
   "cell_type": "code",
   "execution_count": 33,
   "metadata": {},
   "outputs": [
    {
     "data": {
      "text/plain": [
       "array([[1.00000000e+00, 3.50356810e-12],\n",
       "       [6.39411951e-07, 9.99999404e-01],\n",
       "       [9.96952534e-01, 3.04745953e-03],\n",
       "       [9.42267299e-01, 5.77327721e-02],\n",
       "       [2.04141200e-01, 7.95858800e-01],\n",
       "       [9.95607436e-01, 4.39259503e-03],\n",
       "       [1.18526928e-01, 8.81473064e-01],\n",
       "       [6.82603335e-04, 9.99317408e-01],\n",
       "       [9.40434277e-01, 5.95657416e-02],\n",
       "       [6.01318479e-01, 3.98681521e-01],\n",
       "       [3.91460657e-02, 9.60853875e-01],\n",
       "       [9.98917818e-01, 1.08223688e-03],\n",
       "       [3.59958619e-01, 6.40041411e-01],\n",
       "       [1.04593486e-01, 8.95406544e-01],\n",
       "       [9.87380981e-01, 1.26189943e-02],\n",
       "       [1.00000000e+00, 6.68071543e-19],\n",
       "       [9.76205289e-01, 2.37947889e-02],\n",
       "       [6.83421385e-05, 9.99931693e-01],\n",
       "       [1.34092540e-01, 8.65907431e-01],\n",
       "       [9.21957374e-01, 7.80425742e-02],\n",
       "       [6.70415536e-02, 9.32958424e-01],\n",
       "       [1.91465132e-02, 9.80853438e-01],\n",
       "       [1.00000000e+00, 1.87140410e-13],\n",
       "       [1.08358972e-01, 8.91641021e-01],\n",
       "       [3.36004814e-06, 9.99996662e-01],\n",
       "       [2.56683901e-02, 9.74331558e-01],\n",
       "       [5.37320912e-01, 4.62679088e-01],\n",
       "       [7.81111717e-01, 2.18888253e-01],\n",
       "       [6.97298944e-01, 3.02701056e-01],\n",
       "       [1.85478598e-01, 8.14521432e-01],\n",
       "       [6.01109564e-01, 3.98890436e-01],\n",
       "       [1.28689557e-01, 8.71310472e-01],\n",
       "       [7.90775940e-02, 9.20922458e-01],\n",
       "       [9.97891724e-01, 2.10830499e-03],\n",
       "       [1.11368337e-09, 1.00000000e+00],\n",
       "       [1.01511171e-02, 9.89848912e-01],\n",
       "       [1.00000000e+00, 5.15528278e-08],\n",
       "       [9.99274671e-01, 7.25366757e-04],\n",
       "       [1.93444937e-02, 9.80655551e-01],\n",
       "       [2.23305568e-01, 7.76694417e-01],\n",
       "       [9.17301238e-01, 8.26987922e-02],\n",
       "       [9.86258030e-01, 1.37418937e-02],\n",
       "       [9.99978065e-01, 2.19733884e-05],\n",
       "       [8.77477646e-01, 1.22522376e-01],\n",
       "       [1.04182541e-01, 8.95817399e-01],\n",
       "       [8.87463629e-01, 1.12536423e-01],\n",
       "       [9.80859518e-01, 1.91404559e-02],\n",
       "       [3.55117232e-01, 6.44882798e-01],\n",
       "       [7.72130489e-01, 2.27869540e-01],\n",
       "       [5.18056713e-02, 9.48194325e-01],\n",
       "       [5.00334501e-01, 4.99665469e-01],\n",
       "       [1.12406397e-05, 9.99988794e-01],\n",
       "       [9.99624968e-01, 3.74988595e-04],\n",
       "       [5.43027340e-07, 9.99999404e-01],\n",
       "       [7.21366480e-02, 9.27863300e-01],\n",
       "       [7.67473996e-01, 2.32526049e-01],\n",
       "       [9.94444549e-01, 5.55543555e-03],\n",
       "       [9.30930972e-01, 6.90690279e-02],\n",
       "       [5.63502371e-01, 4.36497629e-01],\n",
       "       [2.52415359e-01, 7.47584581e-01],\n",
       "       [8.55854596e-05, 9.99914408e-01],\n",
       "       [9.99331355e-01, 6.68718247e-04],\n",
       "       [9.66054738e-01, 3.39452699e-02],\n",
       "       [1.48986446e-05, 9.99985099e-01],\n",
       "       [9.64036524e-01, 3.59635390e-02],\n",
       "       [8.95786345e-01, 1.04213730e-01],\n",
       "       [3.64542186e-01, 6.35457873e-01],\n",
       "       [2.72451434e-02, 9.72754836e-01],\n",
       "       [9.99602735e-01, 3.97229160e-04],\n",
       "       [3.88708742e-07, 9.99999642e-01],\n",
       "       [9.94835570e-02, 9.00516450e-01],\n",
       "       [8.41852464e-03, 9.91581500e-01],\n",
       "       [6.91269115e-02, 9.30873036e-01],\n",
       "       [8.91188145e-01, 1.08811796e-01],\n",
       "       [9.99310017e-01, 6.90012530e-04],\n",
       "       [1.33241929e-06, 9.99998689e-01],\n",
       "       [9.98254716e-01, 1.74523843e-03],\n",
       "       [9.66320634e-01, 3.36793661e-02],\n",
       "       [9.16347206e-01, 8.36528242e-02],\n",
       "       [9.99791205e-01, 2.08766200e-04],\n",
       "       [3.49232927e-02, 9.65076745e-01],\n",
       "       [7.08514690e-01, 2.91485280e-01],\n",
       "       [9.99377191e-01, 6.22786698e-04],\n",
       "       [3.72285562e-08, 1.00000000e+00],\n",
       "       [5.26856303e-01, 4.73143727e-01],\n",
       "       [9.92513746e-02, 9.00748610e-01],\n",
       "       [9.99585092e-01, 4.14957030e-04],\n",
       "       [1.99051887e-01, 8.00948083e-01],\n",
       "       [1.40716238e-05, 9.99985933e-01],\n",
       "       [6.71442077e-02, 9.32855844e-01],\n",
       "       [6.70405388e-01, 3.29594612e-01],\n",
       "       [9.85841155e-01, 1.41588682e-02],\n",
       "       [9.96999800e-01, 3.00023099e-03],\n",
       "       [9.37526166e-01, 6.24738559e-02],\n",
       "       [2.68123555e-03, 9.97318804e-01],\n",
       "       [9.25686717e-01, 7.43132532e-02],\n",
       "       [4.85404644e-06, 9.99995112e-01],\n",
       "       [4.38123941e-01, 5.61876059e-01],\n",
       "       [8.99071515e-01, 1.00928500e-01],\n",
       "       [1.13307737e-01, 8.86692286e-01],\n",
       "       [9.47564423e-01, 5.24355434e-02],\n",
       "       [1.00324362e-08, 1.00000000e+00],\n",
       "       [5.86005114e-02, 9.41399574e-01],\n",
       "       [1.37824208e-01, 8.62175763e-01],\n",
       "       [9.16870236e-01, 8.31298158e-02],\n",
       "       [7.87099421e-01, 2.12900639e-01],\n",
       "       [2.38010392e-01, 7.61989594e-01],\n",
       "       [9.99607623e-01, 3.92351358e-04],\n",
       "       [9.99967098e-01, 3.28428432e-05],\n",
       "       [2.68850829e-02, 9.73114967e-01],\n",
       "       [7.19033405e-02, 9.28096652e-01],\n",
       "       [9.99087095e-01, 9.12912015e-04],\n",
       "       [1.00000000e+00, 1.32212435e-11],\n",
       "       [9.99917626e-01, 8.23472728e-05],\n",
       "       [2.38661978e-05, 9.99976158e-01],\n",
       "       [8.24619889e-01, 1.75380126e-01],\n",
       "       [7.00373471e-01, 2.99626470e-01],\n",
       "       [9.37460005e-01, 6.25399873e-02],\n",
       "       [4.64561026e-07, 9.99999523e-01],\n",
       "       [8.55335295e-02, 9.14466500e-01],\n",
       "       [9.99645472e-01, 3.54491582e-04],\n",
       "       [9.99331594e-01, 6.68434717e-04],\n",
       "       [9.99824464e-01, 1.75517140e-04],\n",
       "       [9.99983072e-01, 1.68956794e-05],\n",
       "       [9.99391437e-01, 6.08581817e-04],\n",
       "       [1.75004050e-01, 8.24995935e-01],\n",
       "       [3.58684883e-02, 9.64131474e-01],\n",
       "       [1.00000000e+00, 9.18826085e-21],\n",
       "       [9.97011662e-01, 2.98827770e-03],\n",
       "       [9.93434072e-01, 6.56593451e-03],\n",
       "       [1.77418333e-05, 9.99982238e-01],\n",
       "       [1.75018597e-03, 9.98249829e-01],\n",
       "       [1.00000000e+00, 9.91783981e-21],\n",
       "       [9.94208336e-01, 5.79167064e-03],\n",
       "       [8.92395383e-06, 9.99991059e-01],\n",
       "       [9.99536991e-01, 4.63059521e-04],\n",
       "       [1.09781176e-02, 9.89021897e-01],\n",
       "       [3.63234803e-02, 9.63676453e-01],\n",
       "       [1.66095588e-02, 9.83390510e-01],\n",
       "       [1.00000000e+00, 4.16058891e-20],\n",
       "       [9.04437304e-01, 9.55627337e-02],\n",
       "       [8.55994403e-01, 1.44005641e-01],\n",
       "       [7.97956824e-01, 2.02043205e-01],\n",
       "       [9.92311418e-01, 7.68856425e-03],\n",
       "       [5.50176986e-02, 9.44982290e-01],\n",
       "       [9.99248683e-01, 7.51237560e-04],\n",
       "       [9.20471787e-01, 7.95282274e-02],\n",
       "       [9.99083400e-01, 9.16538062e-04],\n",
       "       [9.99996424e-01, 3.58567991e-06],\n",
       "       [4.27476950e-02, 9.57252324e-01],\n",
       "       [1.00000000e+00, 2.98193492e-09]], dtype=float32)"
      ]
     },
     "execution_count": 33,
     "metadata": {},
     "output_type": "execute_result"
    }
   ],
   "source": [
    "model.predict(X_valid)"
   ]
  },
  {
   "cell_type": "code",
   "execution_count": 34,
   "metadata": {},
   "outputs": [
    {
     "name": "stderr",
     "output_type": "stream",
     "text": [
      "No handles with labels found to put in legend.\n"
     ]
    },
    {
     "data": {
      "image/png": "[encoded data removed]",
      "text/plain": [
       "<Figure size 432x288 with 1 Axes>"
      ]
     },
     "metadata": {
      "needs_background": "light"
     },
     "output_type": "display_data"
    },
    {
     "name": "stderr",
     "output_type": "stream",
     "text": [
      "No handles with labels found to put in legend.\n"
     ]
    },
    {
     "data": {
      "image/png": "[encoded data removed]",
      "text/plain": [
       "<Figure size 432x288 with 1 Axes>"
      ]
     },
     "metadata": {
      "needs_background": "light"
     },
     "output_type": "display_data"
    },
    {
     "data": {
      "image/png": "[encoded data removed]",
      "text/plain": [
       "<Figure size 432x288 with 2 Axes>"
      ]
     },
     "metadata": {
      "needs_background": "light"
     },
     "output_type": "display_data"
    },
    {
     "data": {
      "image/png": "[encoded data removed]",
      "text/plain": [
       "<Figure size 432x288 with 2 Axes>"
      ]
     },
     "metadata": {
      "needs_background": "light"
     },
     "output_type": "display_data"
    },
    {
     "name": "stdout",
     "output_type": "stream",
     "text": [
      "(1.0, 1.0, 1.0)\n",
      "(0.6527947776417788, 0.5614035087719298, 0.7441860465116279)\n"
     ]
    }
   ],
   "source": [
    "genplt.plot_histogram(model.predict(X_valid_unhealthy)[:,1],[''],\n",
    "               'Probability Unhealthy',\n",
    "               'Probability Density',\n",
    "               'mlp_predict_unhealthy',\n",
    "               template='publication',\n",
    "               legend_loc='upper right',\n",
    "               nbins=50,\n",
    "               ymax=0.0,\n",
    "               num_col=1)\n",
    "\n",
    "genplt.plot_histogram(model.predict(X_valid_healthy)[:,0],[''],\n",
    "               'Probability Healthy',\n",
    "               'Probability Density',\n",
    "               'mlp_predict_healthy',\n",
    "               template='publication',\n",
    "               legend_loc='upper right',\n",
    "               ymax=0.0,\n",
    "               nbins=50,\n",
    "               num_col=1)\n",
    "\n",
    "balanced_train_accuracy = plot_confusion_matrix(Y_train,Y_mlp_train_pred,\n",
    "                      [r'\\textbf{Healthy}',r'\\textbf{Unhealthy}'],\n",
    "                      'mlp_confmatrix_train'\n",
    "                       )\n",
    "\n",
    "balanced_valid_accuracy = plot_confusion_matrix(Y_valid,Y_mlp_valid_pred,\n",
    "                      [r'\\textbf{Healthy}',r'\\textbf{Unhealthy}'],\n",
    "                      'mlp_confmatrix_valid'\n",
    "                       )\n",
    "print(balanced_train_accuracy)\n",
    "print(balanced_valid_accuracy)"
   ]
  },
  {
   "cell_type": "code",
   "execution_count": 35,
   "metadata": {},
   "outputs": [
    {
     "name": "stdout",
     "output_type": "stream",
     "text": [
      "[[48 17]\n",
      " [37 49]]\n",
      "0.6423841059602649\n",
      "[[156   0]\n",
      " [  0 150]]\n",
      "1.0\n"
     ]
    }
   ],
   "source": [
    "\n",
    "conf_matrix_mlp_valid = confusion_matrix(Y_valid, Y_mlp_valid_pred)\n",
    "accuracy_mlp_valid = np.sum(np.diagonal(conf_matrix_mlp_valid)) / np.sum(conf_matrix_mlp_valid)\n",
    "print(conf_matrix_mlp_valid)\n",
    "print(accuracy_mlp_valid)\n",
    "\n",
    "conf_matrix_mlp_train = confusion_matrix(Y_train, Y_mlp_train_pred)\n",
    "accuracy_mlp_train = np.sum(np.diagonal(conf_matrix_mlp_train)) / np.sum(conf_matrix_mlp_train)\n",
    "print(conf_matrix_mlp_train)\n",
    "print(accuracy_mlp_train)"
   ]
  },
  {
   "cell_type": "code",
   "execution_count": 10,
   "metadata": {},
   "outputs": [],
   "source": [
    "import numpy as np\n",
    "\n",
    "import tensorflow as tf\n",
    "\n",
    "import tensorflow.keras as keras\n",
    "from tensorflow.keras.layers import Dense, Conv1D, UpSampling1D, MaxPooling1D, AveragePooling1D\n",
    "from tensorflow.keras.layers import Input, Dense, Reshape, Flatten, Dropout\n",
    "from tensorflow.keras.models import Sequential, Model\n",
    "\n",
    "from ML_Train.Custom_Layers import Dropout_Live\n",
    "\n",
    "def create_mlp_classifier(\n",
    "                   hidden_nodes,\n",
    "                   input_shape,\n",
    "                   classes,\n",
    "                   ):\n",
    "    \n",
    "    mlp = Sequential()\n",
    "    mlp.add(Input(shape=input_shape))\n",
    "    mlp.add(Flatten())\n",
    "    \n",
    "    for i in range(len(hidden_nodes)):\n",
    "        if i == 0:\n",
    "            mlp.add(Dense(hidden_nodes[i], \n",
    "                              activation='selu'))\n",
    "        else:\n",
    "            mlp.add(Dense(hidden_nodes[i], activation='selu'))\n",
    "            \n",
    "    mlp.add(Dense(classes,activation='softmax'))\n",
    "        \n",
    "    return mlp"
   ]
  },
  {
   "cell_type": "code",
   "execution_count": 14,
   "metadata": {},
   "outputs": [
    {
     "name": "stdout",
     "output_type": "stream",
     "text": [
      "Train on 306 samples, validate on 151 samples\n",
      "Epoch 1/20\n",
      "306/306 [==============================] - 0s 1ms/sample - loss: 0.6941 - accuracy: 0.5261 - val_loss: 0.6893 - val_accuracy: 0.5695\n",
      "Epoch 2/20\n",
      "306/306 [==============================] - 0s 573us/sample - loss: 0.6849 - accuracy: 0.5588 - val_loss: 0.7025 - val_accuracy: 0.4570\n",
      "Epoch 3/20\n",
      "306/306 [==============================] - 0s 567us/sample - loss: 0.6737 - accuracy: 0.5654 - val_loss: 0.7093 - val_accuracy: 0.4636\n",
      "Epoch 4/20\n",
      "306/306 [==============================] - 0s 562us/sample - loss: 0.5941 - accuracy: 0.6928 - val_loss: 0.7706 - val_accuracy: 0.5364\n",
      "Epoch 5/20\n",
      "306/306 [==============================] - 0s 563us/sample - loss: 0.4716 - accuracy: 0.8007 - val_loss: 1.0116 - val_accuracy: 0.5232\n",
      "Epoch 6/20\n",
      "306/306 [==============================] - 0s 562us/sample - loss: 0.4031 - accuracy: 0.8007 - val_loss: 1.4541 - val_accuracy: 0.4702\n",
      "Epoch 7/20\n",
      "306/306 [==============================] - 0s 557us/sample - loss: 0.3950 - accuracy: 0.7941 - val_loss: 1.2960 - val_accuracy: 0.6093\n",
      "Epoch 8/20\n",
      "306/306 [==============================] - 0s 580us/sample - loss: 0.3565 - accuracy: 0.8203 - val_loss: 1.5816 - val_accuracy: 0.5232\n",
      "Epoch 9/20\n",
      "306/306 [==============================] - 0s 581us/sample - loss: 0.2753 - accuracy: 0.8693 - val_loss: 1.5816 - val_accuracy: 0.5762\n",
      "Epoch 10/20\n",
      "306/306 [==============================] - 0s 590us/sample - loss: 0.2991 - accuracy: 0.8660 - val_loss: 1.7172 - val_accuracy: 0.5762\n",
      "Epoch 11/20\n",
      "306/306 [==============================] - 0s 567us/sample - loss: 0.2921 - accuracy: 0.8693 - val_loss: 2.1430 - val_accuracy: 0.4702\n",
      "Epoch 12/20\n",
      "306/306 [==============================] - 0s 606us/sample - loss: 0.2431 - accuracy: 0.8856 - val_loss: 1.9353 - val_accuracy: 0.5629\n",
      "Epoch 13/20\n",
      "306/306 [==============================] - 0s 564us/sample - loss: 0.2524 - accuracy: 0.8824 - val_loss: 1.9730 - val_accuracy: 0.5828\n",
      "Epoch 14/20\n",
      "306/306 [==============================] - 0s 570us/sample - loss: 0.2065 - accuracy: 0.9150 - val_loss: 2.2387 - val_accuracy: 0.5695\n",
      "Epoch 15/20\n",
      "306/306 [==============================] - 0s 563us/sample - loss: 0.2138 - accuracy: 0.9118 - val_loss: 2.3589 - val_accuracy: 0.5762\n",
      "Epoch 16/20\n",
      "306/306 [==============================] - 0s 574us/sample - loss: 0.2459 - accuracy: 0.8693 - val_loss: 2.5221 - val_accuracy: 0.5298\n",
      "Epoch 17/20\n",
      "306/306 [==============================] - 0s 572us/sample - loss: 0.2967 - accuracy: 0.8529 - val_loss: 2.1173 - val_accuracy: 0.5828\n",
      "Epoch 18/20\n",
      "306/306 [==============================] - 0s 581us/sample - loss: 0.2187 - accuracy: 0.9052 - val_loss: 2.2624 - val_accuracy: 0.6225\n",
      "Epoch 19/20\n",
      "306/306 [==============================] - 0s 570us/sample - loss: 0.1589 - accuracy: 0.9444 - val_loss: 2.6188 - val_accuracy: 0.5762\n",
      "Epoch 20/20\n",
      "306/306 [==============================] - 0s 558us/sample - loss: 0.2338 - accuracy: 0.8791 - val_loss: 2.3572 - val_accuracy: 0.6159\n"
     ]
    }
   ],
   "source": [
    "train = True\n",
    "if not train:\n",
    "# if os.path.isfile('../../Models/MLP-Classifier/Full/MLP.h5'):\n",
    "    from tensorflow.keras.models import load_model\n",
    "    model = load_model('../../Models/MLP-Classifier/Full/MLP.h5')\n",
    "    print(model.summary())\n",
    "else:\n",
    "    input_shape = [128]\n",
    "    dense_nodes = [64,32,16]\n",
    "\n",
    "    # model,encoder,decoder = create_vae(param_dict)\n",
    "    # model = create_classifier(param_dict)\n",
    "    num_classes = 2\n",
    "\n",
    "    model = create_mlp_classifier(dense_nodes,input_shape,num_classes)\n",
    "\n",
    "\n",
    "    model.compile(loss='categorical_crossentropy', \n",
    "              optimizer='adam',metrics=['accuracy'])\n",
    "    loss = model.fit(\n",
    "                X_train,np.hstack((np.abs(Y_train[...,np.newaxis] - 1),Y_train[...,np.newaxis])),\n",
    "#                 validation_split=0.2,\n",
    "                validation_data=(X_valid,np.hstack((np.abs(Y_valid[...,np.newaxis] - 1),Y_valid[...,np.newaxis]))),\n",
    "                epochs=20,\n",
    "                batch_size=4,\n",
    "                verbose=1)\n",
    "\n",
    "    model.save('../../Models/MLP-Classifier/Full/MLP.h5',save_format='tf')\n",
    "\n",
    "\n",
    "    \n",
    "Y_mlp_valid_pred = model.predict(X_valid)\n",
    "Y_mlp_train_pred = model.predict(X_train)\n",
    "\n",
    "Y_mlp_train_pred = np.argmax(Y_mlp_train_pred,axis=1)\n",
    "Y_mlp_valid_pred = np.argmax(Y_mlp_valid_pred,axis=1)"
   ]
  },
  {
   "cell_type": "code",
   "execution_count": null,
   "metadata": {},
   "outputs": [],
   "source": []
  }
 ],
 "metadata": {
  "kernelspec": {
   "display_name": "Python 3",
   "language": "python",
   "name": "python3"
  },
  "language_info": {
   "codemirror_mode": {
    "name": "ipython",
    "version": 3
   },
   "file_extension": ".py",
   "mimetype": "text/x-python",
   "name": "python",
   "nbconvert_exporter": "python",
   "pygments_lexer": "ipython3",
   "version": "3.6.9"
  }
 },
 "nbformat": 4,
 "nbformat_minor": 4
}
