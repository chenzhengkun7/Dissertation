{
 "cells": [
  {
   "cell_type": "code",
   "execution_count": 8,
   "metadata": {},
   "outputs": [],
   "source": [
    "\n",
    "import os\n",
    "import pandas as pd\n",
    "from sklearn.model_selection import train_test_split\n",
    "from sklearn.decomposition import PCA\n",
    "from sklearn.decomposition import KernelPCA\n",
    "import numpy as np\n",
    "\n",
    "\n",
    "\n",
    "import seaborn as sns\n",
    "\n",
    "from matplotlib import pyplot as plt\n",
    "from crawlab_toolbox import plotting as genplt\n",
    "from sklearn.pipeline import Pipeline\n",
    "\n",
    "import tensorflow.keras as keras\n",
    "import tensorflow as tf\n",
    "\n",
    "from scipy import signal\n",
    "\n",
    "from sklearn.mixture import GaussianMixture\n",
    "\n",
    "from sklearn.preprocessing import OrdinalEncoder\n",
    "from sklearn.neural_network import MLPClassifier\n",
    "from sklearn.svm import OneClassSVM\n",
    "\n",
    "from scipy.stats import probplot\n",
    "from scipy.stats import normaltest\n",
    "\n",
    "from joblib import dump, load\n",
    "\n",
    "from ML_Train.Vanilla_AE import create_vanilla_ae\n",
    "from ML_Train.Variational_AE import create_autoencoder as create_conv_vae\n",
    "from ML_Train.Convolutional_AE import create_autoencoder as create_conv_ae\n",
    "from ML_Train.Variational_Vanilla_AE import create_autoencoder as create_vanilla_vae\n",
    "from ML_Train.CNN_Classifier import create_autoencoder as create_hybrid_cnn_ae\n",
    "\n",
    "keras.backend.clear_session()\n",
    "gpus= tf.config.experimental.list_physical_devices('GPU')\n",
    "tf.config.experimental.set_memory_growth(gpus[0], True)\n",
    "\n",
    "# mse = keras.metrics.mean_squared_error(all_outputs,input_data)\n"
   ]
  },
  {
   "cell_type": "code",
   "execution_count": 2,
   "metadata": {},
   "outputs": [],
   "source": []
  },
  {
   "cell_type": "code",
   "execution_count": 25,
   "metadata": {},
   "outputs": [],
   "source": [
    "trainDF = pd.read_csv('Experiment-3-Data/Vib_train_pruned.csv')\n",
    "testDF = pd.read_csv('Experiment-3-Data/Vib_test_pruned.csv')\n",
    "\n",
    "X_train = trainDF.loc[:, trainDF.columns != 'dateTime'].values.astype(np.float32)\n",
    "X_test = testDF.loc[:, testDF.columns != 'dateTime'].values.astype(np.float32)\n",
    "Y_train = np.loadtxt('Experiment-3-Data/Y_train_pruned.txt',delimiter=',')\n",
    "Y_test = np.loadtxt('Experiment-3-Data/Y_test_pruned.txt',delimiter=',')\n",
    "\n",
    "first_good_train = np.argwhere(Y_train[:,0] == 0).flatten()[0]\n",
    "first_good_test = np.argwhere(Y_test[:,0] == 0).flatten()[0]\n",
    "\n",
    "X_train = fft_from_vib(X_train[:,:-1])[:,1:]\n",
    "X_test = fft_from_vib(X_test[:,:-1])[:,1:]\n",
    "\n",
    "\n",
    "X_train_healthy = X_train[first_good_train:,:]\n",
    "X_valid_healthy = X_test[first_good_test:,:]\n",
    "X_train_unhealthy = X_train[:first_good_train,:]\n",
    "X_valid_unhealthy = X_test[:first_good_test,:]\n",
    "\n",
    "np.random.shuffle(X_train_healthy)\n",
    "np.random.shuffle(X_valid_healthy)\n",
    "np.random.shuffle(X_train_unhealthy)\n",
    "np.random.shuffle(X_valid_unhealthy)\n"
   ]
  },
  {
   "cell_type": "code",
   "execution_count": 59,
   "metadata": {},
   "outputs": [],
   "source": [
    "def fft_from_vib(values):\n",
    "    _,amps = signal.welch(values, fs=20e3, nperseg=2048, scaling='spectrum')\n",
    "    lin_amps = lin_log_interp(amps)\n",
    "    return lin_amps\n",
    "\n",
    "\n",
    "def lin_log_interp(fft_features):\n",
    "    '''\n",
    "    Scale the fft features from the logarithmic axis to be approximately on \n",
    "    the interval from 0 to 1\n",
    "    '''\n",
    "    \n",
    "    # Minimum exponent we expect to see in the data\n",
    "    minimum = -12\n",
    "    \n",
    "    # Maximum exponent we expect to see\n",
    "    maximum = 0\n",
    "    \n",
    "    # Number of points to use for interpolation\n",
    "    numpoints = 1000\n",
    "    \n",
    "    # Map the logarithmic x-axis to a linear y-axis\n",
    "    x = np.logspace(minimum,maximum,numpoints)\n",
    "    y = np.linspace(0,1,numpoints)\n",
    "\n",
    "    # Return the interpolated valuess\n",
    "    return np.interp(np.log10(fft_features),np.log10(x),y)"
   ]
  },
  {
   "cell_type": "code",
   "execution_count": 60,
   "metadata": {},
   "outputs": [
    {
     "data": {
      "text/plain": [
       "4.8828125"
      ]
     },
     "execution_count": 60,
     "metadata": {},
     "output_type": "execute_result"
    }
   ],
   "source": [
    "10000/2048"
   ]
  },
  {
   "cell_type": "code",
   "execution_count": 61,
   "metadata": {},
   "outputs": [
    {
     "data": {
      "text/plain": [
       "(150, 2048)"
      ]
     },
     "execution_count": 61,
     "metadata": {},
     "output_type": "execute_result"
    }
   ],
   "source": [
    "X_train_healthy.shape"
   ]
  },
  {
   "cell_type": "code",
   "execution_count": 62,
   "metadata": {},
   "outputs": [],
   "source": [
    "pca = PCA(n_components=5)\n",
    "X_condensed_pca = pca.fit_transform(np.squeeze(X_train_healthy))\n",
    "# X_reconstructed_pca = pca.inverse_transform(X_condensed_pca)\n",
    "# mse = keras.metrics.mean_squared_error(X_reconstructed_pca,np.squeeze(X_train_healthy))"
   ]
  },
  {
   "cell_type": "code",
   "execution_count": 63,
   "metadata": {},
   "outputs": [
    {
     "data": {
      "text/plain": [
       "[<matplotlib.lines.Line2D at 0x7f539159d278>]"
      ]
     },
     "execution_count": 63,
     "metadata": {},
     "output_type": "execute_result"
    },
    {
     "data": {
      "image/png": "[encoded data removed]",
      "text/plain": [
       "<Figure size 432x288 with 1 Axes>"
      ]
     },
     "metadata": {
      "needs_background": "light"
     },
     "output_type": "display_data"
    }
   ],
   "source": [
    "plt.plot(pca.explained_variance_ratio_)"
   ]
  },
  {
   "cell_type": "code",
   "execution_count": 74,
   "metadata": {},
   "outputs": [
    {
     "data": {
      "text/plain": [
       "Pipeline(memory=None,\n",
       "         steps=[('reduce_dim',\n",
       "                 PCA(copy=True, iterated_power='auto', n_components=64,\n",
       "                     random_state=None, svd_solver='auto', tol=0.0,\n",
       "                     whiten=False)),\n",
       "                ('gmm',\n",
       "                 GaussianMixture(covariance_type='full', init_params='kmeans',\n",
       "                                 max_iter=100, means_init=None, n_components=1,\n",
       "                                 n_init=1, precisions_init=None,\n",
       "                                 random_state=None, reg_covar=1e-06, tol=0.001,\n",
       "                                 verbose=0, verbose_interval=10,\n",
       "                                 warm_start=False, weights_init=None))],\n",
       "         verbose=False)"
      ]
     },
     "execution_count": 74,
     "metadata": {},
     "output_type": "execute_result"
    }
   ],
   "source": [
    "# estimators = [('gmm', OneClassSVM())]\n",
    "estimators = [('reduce_dim', PCA(n_components=64)), ('gmm', GaussianMixture())]\n",
    "\n",
    "fft_size = -1\n",
    "\n",
    "pipe = Pipeline(estimators)\n",
    "pipe.fit(np.squeeze(X_train_healthy)[:,:fft_size])\n"
   ]
  },
  {
   "cell_type": "code",
   "execution_count": 75,
   "metadata": {},
   "outputs": [],
   "source": [
    "score_train_gmm_healthy = pipe.score_samples(np.squeeze(X_train_healthy)[:,:fft_size])\n",
    "score_valid_gmm_healthy = pipe.score_samples(np.squeeze(X_valid_healthy)[:,:fft_size])\n",
    "score_train_gmm_unhealthy = pipe.score_samples(np.squeeze(X_train_unhealthy)[:,:fft_size])\n",
    "score_valid_gmm_unhealthy = pipe.score_samples(np.squeeze(X_valid_unhealthy)[:,:fft_size])\n",
    "\n",
    "norm_train_gmm_healthy = np.log(np.abs(score_train_gmm_healthy-1.1*np.amax(score_train_gmm_healthy)))\n",
    "mean_train_gmm_healthy = np.mean(norm_train_gmm_healthy)\n",
    "std_train_gmm_healthy = np.std(norm_train_gmm_healthy)\n",
    "norm_train_gmm_healthy = (norm_train_gmm_healthy - mean_train_gmm_healthy) / std_train_gmm_healthy\n",
    "\n",
    "norm_valid_gmm_healthy = np.log(np.abs(score_valid_gmm_healthy-1.1*np.amax(score_train_gmm_healthy)))\n",
    "norm_valid_gmm_healthy = (norm_valid_gmm_healthy - mean_train_gmm_healthy) / std_train_gmm_healthy\n",
    "\n",
    "norm_train_gmm_unhealthy = np.log(np.abs(score_train_gmm_unhealthy-1.1*np.amax(score_train_gmm_healthy)))\n",
    "norm_train_gmm_unhealthy = (norm_train_gmm_unhealthy - mean_train_gmm_healthy) / std_train_gmm_healthy\n",
    "\n",
    "norm_valid_gmm_unhealthy = np.log(np.abs(score_valid_gmm_unhealthy-1.1*np.amax(score_train_gmm_healthy)))\n",
    "norm_valid_gmm_unhealthy = (norm_valid_gmm_unhealthy - mean_train_gmm_healthy) / std_train_gmm_healthy\n"
   ]
  },
  {
   "cell_type": "code",
   "execution_count": 76,
   "metadata": {},
   "outputs": [
    {
     "data": {
      "image/png": "[encoded data removed]",
      "text/plain": [
       "<Figure size 432x288 with 1 Axes>"
      ]
     },
     "metadata": {
      "needs_background": "light"
     },
     "output_type": "display_data"
    },
    {
     "data": {
      "image/png": "[encoded data removed]",
      "text/plain": [
       "<Figure size 432x288 with 1 Axes>"
      ]
     },
     "metadata": {
      "needs_background": "light"
     },
     "output_type": "display_data"
    }
   ],
   "source": [
    "fig = plt.figure()\n",
    "ax = fig.add_subplot(111)\n",
    "\n",
    "ax.spines['right'].set_color('none')\n",
    "ax.spines['top'].set_color('none')\n",
    "ax.xaxis.set_ticks_position('bottom')\n",
    "ax.yaxis.set_ticks_position('left')\n",
    "\n",
    "res = probplot(norm_train_gmm_healthy, plot=ax)\n",
    "ax.set_title(\"\")\n",
    "plt.xlabel(r'{Theoretical Quantiles}')\n",
    "plt.ylabel(r'{Log Likelihoods}')\n",
    "# plt.savefig('figures/PCA-GMM_64_NormalTest.png',transparent=True)     \n",
    "plt.show()\n",
    "\n",
    "num_col = 2\n",
    "legend_loc = 'upper right'\n",
    "transparent = False\n",
    "\n",
    "plt.figure(figsize=(6,4))\n",
    "ax = plt.gca()\n",
    "# the histogram of the data\n",
    "n, bins, patches = plt.hist(norm_train_gmm_healthy, 20, density=True, facecolor='b', alpha=0.90,label='Nominal')\n",
    "\n",
    "ax.spines['right'].set_color('none')\n",
    "ax.spines['top'].set_color('none')\n",
    "ax.xaxis.set_ticks_position('bottom')\n",
    "ax.yaxis.set_ticks_position('left')\n",
    "\n",
    "plt.xlabel(r'{Logarithmic Likelihood}')\n",
    "plt.ylabel(r'{Probability}')\n",
    "# ax.legend(ncol=num_col,loc=legend_loc,framealpha=float(not transparent)).get_frame().set_edgecolor('k')\n",
    "# plt.title('Histogram of IQ')\n",
    "# plt.text(60, .025, r'$\\mu=100,\\ \\sigma=15$')\n",
    "# plt.axis([40, 160, 0, 0.03])\n",
    "plt.grid(False)\n",
    "# plt.savefig('figures/PCA-GMM_64_Histogram_Train_Healthy.png',transparent=True)     \n",
    "plt.show()\n",
    "\n"
   ]
  },
  {
   "cell_type": "code",
   "execution_count": 77,
   "metadata": {},
   "outputs": [
    {
     "data": {
      "image/png": "[encoded data removed]",
      "text/plain": [
       "<Figure size 864x288 with 1 Axes>"
      ]
     },
     "metadata": {
      "needs_background": "light"
     },
     "output_type": "display_data"
    }
   ],
   "source": [
    "\n",
    "num_col = 1\n",
    "legend_loc = 'upper left'\n",
    "transparent = False\n",
    "\n",
    "plt.figure(figsize=(12,4))\n",
    "ax = plt.gca()\n",
    "\n",
    "test_valid = np.log(np.abs(score_valid_gmm_healthy-1.1*np.amax(score_train_gmm_healthy))) \n",
    "test_train = np.log(np.abs(score_train_gmm_healthy-1.1*np.amax(score_train_gmm_healthy)))\n",
    "\n",
    "test_valid = (test_valid - np.mean(test_train)) / np.std(test_train)\n",
    "test_train = (test_train - np.mean(test_train)) / np.std(test_train)\n",
    "\n",
    "\n",
    "# the histogram of the data\n",
    "n, bins, patches = plt.hist(test_train, 20, density=True, facecolor='b', alpha=0.90,label='Train')\n",
    "n, bins, patches = plt.hist(test_valid, 20, density=True, facecolor='r', alpha=0.90,label='Valid')\n",
    "\n",
    "ax.spines['right'].set_color('none')\n",
    "ax.spines['top'].set_color('none')\n",
    "ax.xaxis.set_ticks_position('bottom')\n",
    "ax.yaxis.set_ticks_position('left')\n",
    "\n",
    "plt.xlabel(r'{Logarithmic Likelihood}')\n",
    "plt.ylabel(r'{Probability}')\n",
    "ax.legend(ncol=num_col,loc=legend_loc,framealpha=float(transparent)).get_frame().set_edgecolor('k')\n",
    "# plt.title('Histogram of IQ')\n",
    "# plt.text(60, .025, r'$\\mu=100,\\ \\sigma=15$')\n",
    "# plt.axis([40, 160, 0, 0.03])\n",
    "plt.grid(False)\n",
    "# plt.savefig('figures/PCA-GMM_64_Histogram_Train_Compare.png',transparent=True)     \n",
    "plt.show()"
   ]
  },
  {
   "cell_type": "code",
   "execution_count": 78,
   "metadata": {},
   "outputs": [
    {
     "data": {
      "image/png": "[encoded data removed]",
      "text/plain": [
       "<Figure size 864x288 with 1 Axes>"
      ]
     },
     "metadata": {
      "needs_background": "light"
     },
     "output_type": "display_data"
    }
   ],
   "source": [
    "\n",
    "num_col = 1\n",
    "legend_loc = 'upper left'\n",
    "transparent = False\n",
    "\n",
    "plt.figure(figsize=(12,4))\n",
    "ax = plt.gca()\n",
    "# the histogram of the data\n",
    "n, bins, patches = plt.hist(norm_train_gmm_healthy, 20, density=True, facecolor='b', alpha=0.90,label='Healthy')\n",
    "n, bins, patches = plt.hist(norm_train_gmm_unhealthy, 20, density=True, facecolor='r', alpha=0.90,label='Unhealthy')\n",
    "\n",
    "ax.spines['right'].set_color('none')\n",
    "ax.spines['top'].set_color('none')\n",
    "ax.xaxis.set_ticks_position('bottom')\n",
    "ax.yaxis.set_ticks_position('left')\n",
    "\n",
    "plt.xlabel(r'{Logarithmic Likelihood}')\n",
    "plt.ylabel(r'{Probability}')\n",
    "ax.legend(ncol=num_col,loc=legend_loc,framealpha=float(transparent)).get_frame().set_edgecolor('k')\n",
    "# plt.title('Histogram of IQ')\n",
    "# plt.text(60, .025, r'$\\mu=100,\\ \\sigma=15$')\n",
    "# plt.axis([40, 160, 0, 0.03])\n",
    "plt.grid(False)\n",
    "# plt.savefig('figures/PCA-GMM_64_Histogram_Train_Compare.png',transparent=True)     \n",
    "plt.show()\n"
   ]
  },
  {
   "cell_type": "code",
   "execution_count": null,
   "metadata": {},
   "outputs": [],
   "source": []
  }
 ],
 "metadata": {
  "kernelspec": {
   "display_name": "tf-gpu",
   "language": "python",
   "name": "tf-gpu"
  },
  "language_info": {
   "codemirror_mode": {
    "name": "ipython",
    "version": 3
   },
   "file_extension": ".py",
   "mimetype": "text/x-python",
   "name": "python",
   "nbconvert_exporter": "python",
   "pygments_lexer": "ipython3",
   "version": "3.6.8"
  }
 },
 "nbformat": 4,
 "nbformat_minor": 4
}
